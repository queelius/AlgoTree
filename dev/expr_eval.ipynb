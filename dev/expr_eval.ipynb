{
 "cells": [
  {
   "cell_type": "markdown",
   "metadata": {},
   "source": [
    "We are going to explore the idea of expression trees and how they relate to\n",
    "our tree structures, namely `TreeNode`, and to evaluate the expression trees\n",
    "by rewriting the nodes in post-order traversal.\n",
    "\n",
    "First, let's define our expression tree."
   ]
  },
  {
   "cell_type": "code",
   "execution_count": 1,
   "metadata": {},
   "outputs": [],
   "source": [
    "from AlgoTree.treenode import TreeNode\n",
    "import json\n",
    "\n",
    "expr = TreeNode(\n",
    "    {\n",
    "        \"value\": \"+\",\n",
    "        \"type\": \"op\",\n",
    "        \"children\": [\n",
    "            {\n",
    "                \"value\": \"max\",\n",
    "                \"type\": \"op\",\n",
    "                \"children\": [\n",
    "                    {\n",
    "                        \"value\": \"+\",\n",
    "                        \"type\": \"op\",\n",
    "                        \"children\": [\n",
    "                            {\"type\": \"var\", \"value\": \"x\"},\n",
    "                            {\"type\": \"const\", \"value\": 1},\n",
    "                        ],\n",
    "                    },\n",
    "                    {\"type\": \"const\", \"value\": 0},\n",
    "                ],\n",
    "            },\n",
    "            {\n",
    "                \"type\": \"op\",\n",
    "                \"value\": \"+\",\n",
    "                \"children\": [\n",
    "                    {\n",
    "                        \"type\": \"op\",\n",
    "                        \"value\": \"max\",\n",
    "                        \"children\": [\n",
    "                            {\"type\": \"var\", \"value\": \"x\"},\n",
    "                            {\"type\": \"var\", \"value\": \"y\"},\n",
    "                        ],\n",
    "                    },\n",
    "                    {\"type\": \"const\", \"value\": 3},\n",
    "                    {\"type\": \"var\", \"value\": \"y\"},\n",
    "                ],\n",
    "            },\n",
    "        ],\n",
    "    }\n",
    ")"
   ]
  },
  {
   "cell_type": "code",
   "execution_count": 2,
   "metadata": {},
   "outputs": [
    {
     "name": "stdout",
     "output_type": "stream",
     "text": [
      "{\n",
      "    \"value\": \"+\",\n",
      "    \"type\": \"op\",\n",
      "    \"children\": [\n",
      "        {\n",
      "            \"value\": \"max\",\n",
      "            \"type\": \"op\",\n",
      "            \"children\": [\n",
      "                {\n",
      "                    \"value\": \"+\",\n",
      "                    \"type\": \"op\",\n",
      "                    \"children\": [\n",
      "                        {\n",
      "                            \"type\": \"var\",\n",
      "                            \"value\": \"x\"\n",
      "                        },\n",
      "                        {\n",
      "                            \"type\": \"const\",\n",
      "                            \"value\": 1\n",
      "                        }\n",
      "                    ]\n",
      "                },\n",
      "                {\n",
      "                    \"type\": \"const\",\n",
      "                    \"value\": 0\n",
      "                }\n",
      "            ]\n",
      "        },\n",
      "        {\n",
      "            \"type\": \"op\",\n",
      "            \"value\": \"+\",\n",
      "            \"children\": [\n",
      "                {\n",
      "                    \"type\": \"op\",\n",
      "                    \"value\": \"max\",\n",
      "                    \"children\": [\n",
      "                        {\n",
      "                            \"type\": \"var\",\n",
      "                            \"value\": \"x\"\n",
      "                        },\n",
      "                        {\n",
      "                            \"type\": \"var\",\n",
      "                            \"value\": \"y\"\n",
      "                        }\n",
      "                    ]\n",
      "                },\n",
      "                {\n",
      "                    \"type\": \"const\",\n",
      "                    \"value\": 3\n",
      "                },\n",
      "                {\n",
      "                    \"type\": \"var\",\n",
      "                    \"value\": \"y\"\n",
      "                }\n",
      "            ]\n",
      "        }\n",
      "    ]\n",
      "}\n"
     ]
    }
   ],
   "source": [
    "print(json.dumps(expr, indent=4))"
   ]
  },
  {
   "cell_type": "code",
   "execution_count": 3,
   "metadata": {},
   "outputs": [],
   "source": [
    "from AlgoTree.tree_converter import TreeConverter\n",
    "from AlgoTree.tree_viz import TreeViz"
   ]
  },
  {
   "cell_type": "code",
   "execution_count": 4,
   "metadata": {},
   "outputs": [
    {
     "name": "stdout",
     "output_type": "stream",
     "text": [
      "+\n",
      "├── max\n",
      "│   ├── +\n",
      "│   │   ├── x\n",
      "│   │   └── 1\n",
      "│   └── 0\n",
      "└── +\n",
      "    ├── max\n",
      "    │   ├── x\n",
      "    │   └── y\n",
      "    ├── 3\n",
      "    └── y\n",
      "\n"
     ]
    }
   ],
   "source": [
    "print(TreeViz.text(expr, node_name=lambda x: x.value))"
   ]
  },
  {
   "cell_type": "markdown",
   "metadata": {},
   "source": [
    "Here is what that looks like in a more convenient form."
   ]
  },
  {
   "cell_type": "code",
   "execution_count": 5,
   "metadata": {},
   "outputs": [],
   "source": [
    "TreeViz.image(expr, node_name=lambda n: n.type + \": \" + str(n.value),\n",
    "              filename=\"./images/eval/tree-expr.png\")"
   ]
  },
  {
   "cell_type": "markdown",
   "metadata": {},
   "source": [
    "Here is an image of local tree-expr.png file just generated:\n",
    "\n",
    "![](./images/eval/tree-expr.png)\n"
   ]
  },
  {
   "cell_type": "markdown",
   "metadata": {},
   "source": [
    "As a tree structure, `TreeNode` implements an interface that permits\n",
    "tree traversal algorithms like depth_first pre-order and post-order traversals.\n",
    "\n",
    "We are going to implement a simple post-order traversal algorithm to permit\n",
    "computation of the exression tree we defined earlier, `expr`. We see that\n",
    "it contains 3 operator types, `+`, `*`, and `max`, numbers, and variables.\n",
    "\n",
    "We will provide a **closure** over all of these types so that when we evaluate\n",
    "expression in post-order, all of types are defined for the operations."
   ]
  },
  {
   "cell_type": "code",
   "execution_count": 6,
   "metadata": {},
   "outputs": [],
   "source": [
    "def postorder(node, fn, ctx):\n",
    "    \"\"\"\n",
    "    Applies function `fn` to the nodes in the tree using post-order traversal.\n",
    "    :param fn: Function to apply to each node. Should accept one argument: the node.\n",
    "    :return: The tree with the function `fn` applied to its nodes.\n",
    "    \"\"\"\n",
    "    results = []\n",
    "    for child in node.children:\n",
    "        result = postorder(child, fn, ctx)\n",
    "        if result is not None:\n",
    "            results.append(result)\n",
    "\n",
    "    node.children = results\n",
    "    return fn(node, ctx)"
   ]
  },
  {
   "cell_type": "markdown",
   "metadata": {},
   "source": [
    "The function `postorder` takes a tree node `node`, a function\n",
    "`fn : Node, Context -> Node`, and a context `ctx`, and returns a rewritten\n",
    "tree.\n",
    "\n",
    "At each node, `postorder` recursively calls `fn` on its children before applying\n",
    "`fn` to the node itself. This is the essence of post-order traversal.\n",
    "\n",
    "Post-order is useful for problems where the children need to be processed before\n",
    "the node itself. For example, **evaluating** an expression tree, where typicallyt\n",
    "he value of a node can only be computed after the values of its children are known.\n",
    "\n",
    "If we do a pre-order traversal of the tree, we apply `fn` to the node before\n",
    "applying it to the children. For example, if we need to rewrite\n",
    "the tree in a different form, for instance algebraic simplification, preorder\n",
    "may be useful."
   ]
  },
  {
   "cell_type": "markdown",
   "metadata": {},
   "source": [
    "In what follows, we design a simple expression tree evaluator, `Eval`."
   ]
  },
  {
   "cell_type": "code",
   "execution_count": 7,
   "metadata": {},
   "outputs": [],
   "source": [
    "from copy import deepcopy\n",
    "import uuid\n",
    "from AlgoTree.flattree_node import FlatTreeNode\n",
    "\n",
    "class Eval:\n",
    "    \"\"\"\n",
    "    An evaluator for a expressions defined by operations on types, respectively\n",
    "    defined by `Eval.Op`  and `Eval.Type`. The operations are a\n",
    "    dictionary where the keys are the operation names and the values are\n",
    "    functions that take a node and a context and return the value of the\n",
    "    operation in that context.\n",
    "    \"\"\"\n",
    "\n",
    "    Op = {\n",
    "        \"+\": lambda x: sum(x),\n",
    "        \"max\": lambda x: max(x),\n",
    "    }\n",
    "\n",
    "    Type = {\n",
    "        \"const\": lambda node, _: node[\"value\"],\n",
    "        \"var\": lambda node, ctx: ctx[node[\"value\"]],\n",
    "        \"op\": lambda node, _: Eval.Op[node[\"value\"]](\n",
    "            c[\"value\"] for c in node.children\n",
    "        ),\n",
    "    }\n",
    "\n",
    "    def __init__(self, debug=True):\n",
    "        \"\"\"\n",
    "        :param debug: If True, print debug information\n",
    "        \"\"\"\n",
    "        self.debug = debug\n",
    "\n",
    "    def __call__(self, expr, ctx):\n",
    "        NodeType = type(expr)\n",
    "        def _eval(node, ctx):\n",
    "            expr_type = node[\"type\"]\n",
    "            value = Eval.Type[expr_type](node, ctx)\n",
    "            result = NodeType(type=\"const\", value=value)\n",
    "            if self.debug:\n",
    "                print(f\"Eval({node.payload}) -> {result.payload}\")\n",
    "            return result\n",
    "\n",
    "        return postorder(deepcopy(expr), _eval, ctx)"
   ]
  },
  {
   "cell_type": "markdown",
   "metadata": {},
   "source": [
    "To evaluate an express tree, we need for the operations to be defined for all\n",
    "of the types when we do post-order (bottom-up) traversal. We can define a\n",
    "closure over all of the types, and then use that closure to evaluate the\n",
    "expression tree.\n",
    "\n",
    "We call this closure a context. Normally, the operations and other thingsar\n",
    "e also defined in the closure, but for simplicity we will just define the\n",
    "operations and provide closures over the variables."
   ]
  },
  {
   "cell_type": "code",
   "execution_count": 8,
   "metadata": {},
   "outputs": [
    {
     "name": "stdout",
     "output_type": "stream",
     "text": [
      "Eval({'type': 'var', 'value': 'x'}) -> {'type': 'const', 'value': 1}\n",
      "Eval({'type': 'const', 'value': 1}) -> {'type': 'const', 'value': 1}\n",
      "Eval({'value': '+', 'type': 'op'}) -> {'type': 'const', 'value': 2}\n",
      "Eval({'type': 'const', 'value': 0}) -> {'type': 'const', 'value': 0}\n",
      "Eval({'value': 'max', 'type': 'op'}) -> {'type': 'const', 'value': 2}\n",
      "Eval({'type': 'var', 'value': 'x'}) -> {'type': 'const', 'value': 1}\n",
      "Eval({'type': 'var', 'value': 'y'}) -> {'type': 'const', 'value': 2}\n",
      "Eval({'type': 'op', 'value': 'max'}) -> {'type': 'const', 'value': 2}\n",
      "Eval({'type': 'const', 'value': 3}) -> {'type': 'const', 'value': 3}\n",
      "Eval({'type': 'var', 'value': 'y'}) -> {'type': 'const', 'value': 2}\n",
      "Eval({'type': 'op', 'value': '+'}) -> {'type': 'const', 'value': 7}\n",
      "Eval({'value': '+', 'type': 'op'}) -> {'type': 'const', 'value': 9}\n"
     ]
    }
   ],
   "source": [
    "ctx = {\"x\": 1, \"y\": 2, \"z\": 3}\n",
    "result = Eval(debug=True)(expr, ctx)"
   ]
  },
  {
   "cell_type": "code",
   "execution_count": 9,
   "metadata": {},
   "outputs": [
    {
     "name": "stdout",
     "output_type": "stream",
     "text": [
      "TreeNode(, payload={'type': 'const', 'value': 9})\n"
     ]
    }
   ],
   "source": [
    "print(result)"
   ]
  },
  {
   "cell_type": "markdown",
   "metadata": {},
   "source": [
    "We see that we get the expected result, $20$. Note that it is still a tree, but\n",
    "it has been transformed into a so-called self-evaluating tree expression.\n",
    "In this case, a single node (no children)\n",
    "\n",
    "We can evaluate it again, and we see that it cannot be rewritten further. We\n",
    "call this state of affairs a **normal form**. Essentially, we can think of the\n",
    "tree as a program that computes a value, and the normal form is the result of\n",
    "running the program."
   ]
  },
  {
   "cell_type": "code",
   "execution_count": 10,
   "metadata": {},
   "outputs": [],
   "source": [
    "assert Eval(debug=False)(result, ctx).value == result.value"
   ]
  },
  {
   "cell_type": "markdown",
   "metadata": {},
   "source": [
    "Let's convert it to a `FlatTree` and do the same thing."
   ]
  },
  {
   "cell_type": "code",
   "execution_count": 11,
   "metadata": {},
   "outputs": [
    {
     "name": "stdout",
     "output_type": "stream",
     "text": [
      "{\n",
      "    \"139e8ed3-214a-4048-830c-f42b61317ed8\": {\n",
      "        \"value\": \"+\",\n",
      "        \"type\": \"op\"\n",
      "    },\n",
      "    \"6ddd2824-9cdb-4b30-8c9f-17963bd7e60d\": {\n",
      "        \"value\": \"max\",\n",
      "        \"type\": \"op\",\n",
      "        \"parent\": \"139e8ed3-214a-4048-830c-f42b61317ed8\"\n",
      "    },\n",
      "    \"3ff6b891-26db-4c82-889d-f6b7b154d36b\": {\n",
      "        \"value\": \"+\",\n",
      "        \"type\": \"op\",\n",
      "        \"parent\": \"6ddd2824-9cdb-4b30-8c9f-17963bd7e60d\"\n",
      "    },\n",
      "    \"f9207bd8-6826-4738-9dae-c53807d34089\": {\n",
      "        \"type\": \"var\",\n",
      "        \"value\": \"x\",\n",
      "        \"parent\": \"3ff6b891-26db-4c82-889d-f6b7b154d36b\"\n",
      "    },\n",
      "    \"917280f6-7590-437f-bbdb-cf58e8338ad8\": {\n",
      "        \"type\": \"const\",\n",
      "        \"value\": 1,\n",
      "        \"parent\": \"3ff6b891-26db-4c82-889d-f6b7b154d36b\"\n",
      "    },\n",
      "    \"02b4b59a-f4df-4574-bcca-53b5f4df1ef0\": {\n",
      "        \"type\": \"const\",\n",
      "        \"value\": 0,\n",
      "        \"parent\": \"6ddd2824-9cdb-4b30-8c9f-17963bd7e60d\"\n",
      "    },\n",
      "    \"c9c49895-e96a-414a-acc2-cc0aa680ec73\": {\n",
      "        \"type\": \"op\",\n",
      "        \"value\": \"+\",\n",
      "        \"parent\": \"139e8ed3-214a-4048-830c-f42b61317ed8\"\n",
      "    },\n",
      "    \"54641a77-0375-46ba-a7d6-ee399f2899a2\": {\n",
      "        \"type\": \"op\",\n",
      "        \"value\": \"max\",\n",
      "        \"parent\": \"c9c49895-e96a-414a-acc2-cc0aa680ec73\"\n",
      "    },\n",
      "    \"3b4e239b-83e7-4b54-ae95-8bca7fb8fdb6\": {\n",
      "        \"type\": \"var\",\n",
      "        \"value\": \"x\",\n",
      "        \"parent\": \"54641a77-0375-46ba-a7d6-ee399f2899a2\"\n",
      "    },\n",
      "    \"ffd5f2f8-83eb-4f05-9fbe-2e953bc584a7\": {\n",
      "        \"type\": \"var\",\n",
      "        \"value\": \"y\",\n",
      "        \"parent\": \"54641a77-0375-46ba-a7d6-ee399f2899a2\"\n",
      "    },\n",
      "    \"c81664fb-2f87-40c1-9d2c-85d8f1cbe525\": {\n",
      "        \"type\": \"const\",\n",
      "        \"value\": 3,\n",
      "        \"parent\": \"c9c49895-e96a-414a-acc2-cc0aa680ec73\"\n",
      "    },\n",
      "    \"12f32f19-e955-4f09-a973-05eff1e30c0b\": {\n",
      "        \"type\": \"var\",\n",
      "        \"value\": \"y\",\n",
      "        \"parent\": \"c9c49895-e96a-414a-acc2-cc0aa680ec73\"\n",
      "    }\n",
      "}\n"
     ]
    }
   ],
   "source": [
    "from AlgoTree.flattree_node import FlatTreeNode\n",
    "flat_expr = TreeConverter.convert(source_node=expr, target_type=FlatTreeNode, extract=lambda n: n.payload)\n",
    "print(json.dumps(flat_expr.tree, indent=4))"
   ]
  },
  {
   "cell_type": "code",
   "execution_count": 12,
   "metadata": {},
   "outputs": [
    {
     "name": "stdout",
     "output_type": "stream",
     "text": [
      "Eval({'type': 'var', 'value': 'x'}) -> {'type': 'const', 'value': 1}\n",
      "Eval({'type': 'const', 'value': 1}) -> {'type': 'const', 'value': 1}\n",
      "Eval({'value': '+', 'type': 'op'}) -> {'type': 'const', 'value': 2}\n",
      "Eval({'type': 'const', 'value': 0}) -> {'type': 'const', 'value': 0}\n",
      "Eval({'value': 'max', 'type': 'op'}) -> {'type': 'const', 'value': 2}\n",
      "Eval({'type': 'var', 'value': 'x'}) -> {'type': 'const', 'value': 1}\n",
      "Eval({'type': 'var', 'value': 'y'}) -> {'type': 'const', 'value': 2}\n",
      "Eval({'type': 'op', 'value': 'max'}) -> {'type': 'const', 'value': 2}\n",
      "Eval({'type': 'const', 'value': 3}) -> {'type': 'const', 'value': 3}\n",
      "Eval({'type': 'var', 'value': 'y'}) -> {'type': 'const', 'value': 2}\n",
      "Eval({'type': 'op', 'value': '+'}) -> {'type': 'const', 'value': 7}\n",
      "Eval({'value': '+', 'type': 'op'}) -> {'type': 'const', 'value': 9}\n",
      "FlatTreeNode(name=587d4318-a6fc-4ac2-84cc-1cc1532d309f, parent=None, payload={'type': 'const', 'value': 9})\n",
      "{\n",
      "    \"587d4318-a6fc-4ac2-84cc-1cc1532d309f\": {\n",
      "        \"type\": \"const\",\n",
      "        \"value\": 9\n",
      "    }\n",
      "}\n"
     ]
    }
   ],
   "source": [
    "result = Eval(debug=True)(flat_expr, ctx)\n",
    "print(result)\n",
    "print(json.dumps(result.tree, indent=4))"
   ]
  },
  {
   "cell_type": "markdown",
   "metadata": {},
   "source": [
    "The `FlatTree` structure is a different kind of tree structure that is more\n",
    "convenient for relatively flatter data, like conversation logs. It is a tree\n",
    "structure that is flattened into a dictionary of key-value pairs, where the\n",
    "value is also a dictionary. This value dictionary optionally contains the parent\n",
    "key, and if not then it is a child of a so-called logical root."
   ]
  },
  {
   "cell_type": "markdown",
   "metadata": {},
   "source": [
    "What happens when we change the context so that not every variable is defined?"
   ]
  },
  {
   "cell_type": "code",
   "execution_count": 13,
   "metadata": {},
   "outputs": [
    {
     "name": "stdout",
     "output_type": "stream",
     "text": [
      "Eval({'type': 'var', 'value': 'x'}) -> {'type': 'const', 'value': 1}\n",
      "Eval({'type': 'const', 'value': 1}) -> {'type': 'const', 'value': 1}\n",
      "Eval({'value': '+', 'type': 'op'}) -> {'type': 'const', 'value': 2}\n",
      "Eval({'type': 'const', 'value': 0}) -> {'type': 'const', 'value': 0}\n",
      "Eval({'value': 'max', 'type': 'op'}) -> {'type': 'const', 'value': 2}\n",
      "Eval({'type': 'var', 'value': 'x'}) -> {'type': 'const', 'value': 1}\n",
      "Error: 'y'\n"
     ]
    }
   ],
   "source": [
    "open_ctx = {\n",
    "    \"x\": 1,\n",
    "    #'y': 2,\n",
    "    \"z\": 3,\n",
    "}\n",
    "\n",
    "try:\n",
    "    Eval(debug=True)(expr, open_ctx)\n",
    "except KeyError as e:\n",
    "    print(f\"Error: {e}\")"
   ]
  },
  {
   "cell_type": "markdown",
   "metadata": {},
   "source": [
    "We see that we get an error. Our operations in `Eval.Op` are not defined over\n",
    "variables.\n",
    "\n",
    "We would run into a similar problem if we used pre-order traversal of post-orde\n",
    "In preorder traversal, we would try to evaluate the parent node (say, an operation)\n",
    "before we had evaluated its children, which would result in an error. Our\n",
    "defined operations only work over numbers (type `const`), so we need to\n",
    "evaluate the non-`const` expressions first in order for our operations to be\n",
    "defined for them."
   ]
  },
  {
   "cell_type": "markdown",
   "metadata": {},
   "source": [
    "Postorder traversal is good for things like evaluating expressions, where you\n",
    "need to evaluate the children before you can evaluate the parent.\n",
    "\n",
    "Preorder traversal is good for things like rewriting trees from the top down,\n",
    "but your rewrite rules need to be defined in terms of sub-expression trees.\n",
    "So, for example, you might have a complex expression and seek to rewrite it\n",
    "into a simpler form. This is an example of a **rewrite system**. A rewrite system\n",
    "is a set of rules that transform expressions into other expressions. For\n",
    "instance, suppose that we add a `0` to a variable `x` in the expression tree.\n",
    "We know that `x + 0` is the same as `x`, so we could add a rewrite rule that maps the\n",
    "sub-tree '(+ x 0)' to 'x'. We could add many rewrite rules to implement, for\n",
    "instance, algebraic simplification (`simplify`), or implement a compiler\n",
    "(`compile`) that translates the tree into a different form that could be\n",
    "evaluated by a different set of rewrite rules. Or, the compiler could be an\n",
    "optimizing compiler that rewrites the tree into a form that is more efficient\n",
    "to evaluate, like replacing a multiplication by a power of two with a shift\n",
    "or getting rid of no-op operations like adding zero."
   ]
  }
 ],
 "metadata": {
  "kernelspec": {
   "display_name": "env",
   "language": "python",
   "name": "python3"
  },
  "language_info": {
   "codemirror_mode": {
    "name": "ipython",
    "version": 3
   },
   "file_extension": ".py",
   "mimetype": "text/x-python",
   "name": "python",
   "nbconvert_exporter": "python",
   "pygments_lexer": "ipython3",
   "version": "3.10.12"
  }
 },
 "nbformat": 4,
 "nbformat_minor": 2
}
