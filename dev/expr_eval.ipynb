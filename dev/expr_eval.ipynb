{
 "cells": [
  {
   "cell_type": "markdown",
   "metadata": {},
   "source": [
    "We are going to explore the idea of expression trees and how they relate to\n",
    "our tree structures, namely `TreeNode`, and to evaluate the expression trees\n",
    "by rewriting the nodes in post-order traversal.\n",
    "\n",
    "First, let's define our expression tree."
   ]
  },
  {
   "cell_type": "code",
   "execution_count": 1,
   "metadata": {},
   "outputs": [],
   "source": [
    "from treekit.treenode import TreeNode\n",
    "import json\n",
    "expr = TreeNode({\n",
    "    \"value\": \"+\",\n",
    "    \"type\": \"op\",\n",
    "    \"children\": [\n",
    "        {\n",
    "            \"value\": \"max\",\n",
    "            \"type\": \"op\",\n",
    "            \"children\": [\n",
    "                {\n",
    "                    \"value\": \"+\", \n",
    "                    \"type\": \"op\",\n",
    "                    \"children\": [{\"type\": \"var\", \"value\": \"x\"},\n",
    "                                 {\"type\": \"const\", \"value\": 1}]\n",
    "                },\n",
    "                { \"type\": \"const\", \"value\": 0 }\n",
    "            ]\n",
    "        },\n",
    "        {\"type\": \"op\",\n",
    "         \"value\": \"+\",\n",
    "         \"children\": [\n",
    "             {\"type\": \"op\", \"value\": \"*\",\n",
    "              \"children\": [{\"type\": \"var\", \"value\": \"x\"},\n",
    "                           {\"type\": \"var\", \"value\": \"y\"}]},\n",
    "             {\"type\": \"const\", \"value\": 3}, \n",
    "             {\"type\": \"var\", \"value\": \"y\"}],\n",
    "        }\n",
    "    ]},\n",
    "    name_key=\"value\")"
   ]
  },
  {
   "cell_type": "code",
   "execution_count": 2,
   "metadata": {},
   "outputs": [
    {
     "name": "stdout",
     "output_type": "stream",
     "text": [
      "{\n",
      "    \"value\": \"+\",\n",
      "    \"type\": \"op\",\n",
      "    \"children\": [\n",
      "        {\n",
      "            \"value\": \"max\",\n",
      "            \"type\": \"op\",\n",
      "            \"children\": [\n",
      "                {\n",
      "                    \"value\": \"+\",\n",
      "                    \"type\": \"op\",\n",
      "                    \"children\": [\n",
      "                        {\n",
      "                            \"type\": \"var\",\n",
      "                            \"value\": \"x\"\n",
      "                        },\n",
      "                        {\n",
      "                            \"type\": \"const\",\n",
      "                            \"value\": 1\n",
      "                        }\n",
      "                    ]\n",
      "                },\n",
      "                {\n",
      "                    \"type\": \"const\",\n",
      "                    \"value\": 0\n",
      "                }\n",
      "            ]\n",
      "        },\n",
      "        {\n",
      "            \"type\": \"op\",\n",
      "            \"value\": \"+\",\n",
      "            \"children\": [\n",
      "                {\n",
      "                    \"type\": \"op\",\n",
      "                    \"value\": \"*\",\n",
      "                    \"children\": [\n",
      "                        {\n",
      "                            \"type\": \"var\",\n",
      "                            \"value\": \"x\"\n",
      "                        },\n",
      "                        {\n",
      "                            \"type\": \"var\",\n",
      "                            \"value\": \"y\"\n",
      "                        }\n",
      "                    ]\n",
      "                },\n",
      "                {\n",
      "                    \"type\": \"const\",\n",
      "                    \"value\": 3\n",
      "                },\n",
      "                {\n",
      "                    \"type\": \"var\",\n",
      "                    \"value\": \"y\"\n",
      "                }\n",
      "            ]\n",
      "        }\n",
      "    ]\n",
      "}\n"
     ]
    }
   ],
   "source": [
    "print(json.dumps(expr, indent=4))"
   ]
  },
  {
   "cell_type": "code",
   "execution_count": 3,
   "metadata": {},
   "outputs": [],
   "source": [
    "from treekit.tree_converter import TreeConverter\n",
    "from treekit.tree_viz import TreeViz\n"
   ]
  },
  {
   "cell_type": "code",
   "execution_count": 4,
   "metadata": {},
   "outputs": [
    {
     "name": "stdout",
     "output_type": "stream",
     "text": [
      "+\n",
      "├── max\n",
      "│   ├── +\n",
      "│   │   ├── x\n",
      "│   │   └── 1\n",
      "│   └── 0\n",
      "└── +\n",
      "    ├── *\n",
      "    │   ├── x\n",
      "    │   └── y\n",
      "    ├── 3\n",
      "    └── y\n",
      "\n"
     ]
    }
   ],
   "source": [
    "print(TreeViz.text(TreeConverter.to_anytree(expr, node_name=lambda n: n.value)))"
   ]
  },
  {
   "cell_type": "markdown",
   "metadata": {},
   "source": [
    "Here is what that looks like in a more convenient form."
   ]
  },
  {
   "cell_type": "code",
   "execution_count": 5,
   "metadata": {},
   "outputs": [],
   "source": [
    "TreeViz.image(TreeConverter.to_anytree(\n",
    "    expr,\n",
    "    node_name=lambda n: n.type + \": \" + str(n.value)),\n",
    "    \"tree-expr.png\")"
   ]
  },
  {
   "cell_type": "markdown",
   "metadata": {},
   "source": [
    "Here is an image of local tree-expr.png file just generated:\n",
    "\n",
    "![tree-expr.png](tree-expr.png)\n"
   ]
  },
  {
   "cell_type": "markdown",
   "metadata": {},
   "source": [
    "As a tree structure, `TreeNode` implements an interface that permits\n",
    "tree traversal algorithms like depth_first pre-order and post-order traversals.\n",
    "\n",
    "We are going to implement a simple post-order traversal algorithm to permit\n",
    "computation of the exression tree we defined earlier, `expr`. We see that\n",
    "it contains 3 operator types, `+`, `*`, and `max`, numbers, and variables.\n",
    "\n",
    "We will provide a **closure** over all of these types so that when we evaluate\n",
    "expression in post-order, all of types are defined for the operations."
   ]
  },
  {
   "cell_type": "code",
   "execution_count": 6,
   "metadata": {},
   "outputs": [],
   "source": [
    "def postorder2(node, fn, ctx):\n",
    "    \"\"\"\n",
    "    Applies function `fn` to the nodes in the tree using post-order traversal.\n",
    "    :param fn: Function to apply to each node. Should accept one argument: the node.\n",
    "    :return: The tree with the function `fn` applied to its nodes.\n",
    "    \"\"\"\n",
    "    node[node.children_key] = [postorder(child, fn, ctx) for child in node.children]\n",
    "    return fn(node, ctx)\n",
    "\n",
    "\n",
    "def postorder(node, fn, ctx):\n",
    "    \"\"\"\n",
    "    Applies function `fn` to the nodes in the tree using post-order traversal.\n",
    "    :param fn: Function to apply to each node. Should accept one argument: the node.\n",
    "    :return: The tree with the function `fn` applied to its nodes.\n",
    "    \"\"\"\n",
    "    results = []\n",
    "    for child in node.children:\n",
    "        result = postorder(child, fn, ctx)\n",
    "        if result is not None:\n",
    "            results.append(result)\n",
    "\n",
    "    node.remove_children()\n",
    "    for result in results:\n",
    "        node.add_child(result)    \n",
    "    return fn(node, ctx)\n"
   ]
  },
  {
   "cell_type": "markdown",
   "metadata": {},
   "source": [
    "The function `postorder` takes a tree node `node`, a function\n",
    "`fn : Node, Context -> Node`, and a context `ctx`, and returns a rewritten\n",
    "tree.\n",
    "\n",
    "At each node, `postorder` recursively calls `fn` on its children before applying\n",
    "`fn` to the node itself. This is the essence of post-order traversal.\n",
    "\n",
    "Post-order is useful for problems where the children need to be processed before\n",
    "the node itself. For example, **evaluating** an expression tree, where typicallyt\n",
    "he value of a node can only be computed after the values of its children are known.\n",
    "\n",
    "If we do a pre-order traversal of the tree, we apply `fn` to the node before\n",
    "applying it to the children. For example, if we need to rewrite\n",
    "the tree in a different form, for instance algebraic simplification, preorder\n",
    "may be useful."
   ]
  },
  {
   "cell_type": "markdown",
   "metadata": {},
   "source": [
    "In what follows, we design a simple expression tree evaluator, `Eval`."
   ]
  },
  {
   "cell_type": "code",
   "execution_count": 7,
   "metadata": {},
   "outputs": [],
   "source": [
    "from functools import reduce\n",
    "from copy import deepcopy\n",
    "\n",
    "class Eval:\n",
    "    \"\"\"\n",
    "    An evaluator for a expressions defined by operations on types, respectively\n",
    "    defined by `Eval.Op`  and `Eval.Type`. The operations are a\n",
    "    dictionary where the keys are the operation names and the values are\n",
    "    functions that take a node and a context and return the value of the\n",
    "    operation in that context.\n",
    "    \"\"\"\n",
    "\n",
    "    Op = {\n",
    "        '+': lambda x: sum(x),\n",
    "        '*': lambda x: reduce(lambda a, b: a*b, x),\n",
    "        'max': lambda x: max(x)\n",
    "    }\n",
    "\n",
    "    Type = {\n",
    "        'const': lambda node, _: node['value'],\n",
    "        'var': lambda node, ctx: ctx[node['value']],\n",
    "        'op': lambda node, _: Eval.Op[node['value']](c['value'] for c in node.children)\n",
    "    }\n",
    "\n",
    "    def __init__(self, debug=True):\n",
    "        \"\"\"\n",
    "        :param debug: If True, print debug information\n",
    "        \"\"\"\n",
    "        self.debug = debug\n",
    "    \n",
    "    def __call__(self, expr, ctx):\n",
    "        \n",
    "        def _eval(node, ctx):\n",
    "            node_type = node['type']\n",
    "            value = Eval.Type[node_type](node, ctx)\n",
    "            result = TreeNode(type='const', value=value)\n",
    "            if self.debug:\n",
    "                print(f\"Eval({node.payload}) -> {result.payload}\")\n",
    "            return result\n",
    "\n",
    "        return postorder(deepcopy(expr), _eval, ctx)\n"
   ]
  },
  {
   "cell_type": "markdown",
   "metadata": {},
   "source": [
    "To evaluate an express tree, we need for the operations to be defined for all\n",
    "of the types when we do post-order (bottom-up) traversal. We can define a\n",
    "closure over all of the types, and then use that closure to evaluate the\n",
    "expression tree.\n",
    "\n",
    "We call this closure a context. Normally, the operations and other thingsar\n",
    "e also defined in the closure, but for simplicity we will just define the\n",
    "operations and provide closures over the variables."
   ]
  },
  {
   "cell_type": "code",
   "execution_count": 8,
   "metadata": {},
   "outputs": [
    {
     "name": "stdout",
     "output_type": "stream",
     "text": [
      "Eval({'type': 'var', 'value': 'x'}) -> {'type': 'const', 'value': 1}\n",
      "Eval({'type': 'const', 'value': 1}) -> {'type': 'const', 'value': 1}\n",
      "Eval({'value': '+', 'type': 'op'}) -> {'type': 'const', 'value': 2}\n",
      "Eval({'type': 'const', 'value': 0}) -> {'type': 'const', 'value': 0}\n",
      "Eval({'value': 'max', 'type': 'op'}) -> {'type': 'const', 'value': 2}\n",
      "Eval({'type': 'var', 'value': 'x'}) -> {'type': 'const', 'value': 1}\n",
      "Eval({'type': 'var', 'value': 'y'}) -> {'type': 'const', 'value': 2}\n",
      "Eval({'type': 'op', 'value': '*'}) -> {'type': 'const', 'value': 2}\n",
      "Eval({'type': 'const', 'value': 3}) -> {'type': 'const', 'value': 3}\n",
      "Eval({'type': 'var', 'value': 'y'}) -> {'type': 'const', 'value': 2}\n",
      "Eval({'type': 'op', 'value': '+'}) -> {'type': 'const', 'value': 7}\n",
      "Eval({'value': '+', 'type': 'op'}) -> {'type': 'const', 'value': 9}\n"
     ]
    }
   ],
   "source": [
    "ctx = {\n",
    "    \"x\": 1,\n",
    "    \"y\": 2,\n",
    "    \"z\": 3  \n",
    "}\n",
    "result = Eval(debug=True)(expr, ctx)"
   ]
  },
  {
   "cell_type": "code",
   "execution_count": 9,
   "metadata": {},
   "outputs": [
    {
     "name": "stdout",
     "output_type": "stream",
     "text": [
      "TreeNode({'type': 'const', 'value': 9})\n"
     ]
    }
   ],
   "source": [
    "print(result)"
   ]
  },
  {
   "cell_type": "markdown",
   "metadata": {},
   "source": [
    "We see that we get the expected result, $20$. Note that it is still a tree, but\n",
    "it has been transformed into a so-called self-evaluating tree expression.\n",
    "In this case, a single node (no children)\n",
    "\n",
    "We can evaluate it again, and we see that it cannot be rewritten further. We\n",
    "call this state of affairs a **normal form**. Essentially, we can think of the\n",
    "tree as a program that computes a value, and the normal form is the result of\n",
    "running the program."
   ]
  },
  {
   "cell_type": "code",
   "execution_count": 10,
   "metadata": {},
   "outputs": [],
   "source": [
    "assert Eval(debug=False)(result, ctx) == result"
   ]
  },
  {
   "cell_type": "markdown",
   "metadata": {},
   "source": [
    "Let's convert it to a `FlatTree` and do the same thing."
   ]
  },
  {
   "cell_type": "code",
   "execution_count": 11,
   "metadata": {},
   "outputs": [
    {
     "name": "stdout",
     "output_type": "stream",
     "text": [
      "{\n",
      "    \"2159c308-34c4-4882-b264-ba398d28fff0\": {\n",
      "        \"value\": \"+\",\n",
      "        \"type\": \"op\"\n",
      "    },\n",
      "    \"e76998da-131c-4f59-b44d-ee4492f03222\": {\n",
      "        \"value\": \"max\",\n",
      "        \"type\": \"op\",\n",
      "        \"parent\": \"2159c308-34c4-4882-b264-ba398d28fff0\"\n",
      "    },\n",
      "    \"40edf871-f440-4899-a28b-b1ba0bf69fa3\": {\n",
      "        \"value\": \"+\",\n",
      "        \"type\": \"op\",\n",
      "        \"parent\": \"e76998da-131c-4f59-b44d-ee4492f03222\"\n",
      "    },\n",
      "    \"d3469aa8-65d7-4a03-9ed9-a40751238b62\": {\n",
      "        \"type\": \"var\",\n",
      "        \"value\": \"x\",\n",
      "        \"parent\": \"40edf871-f440-4899-a28b-b1ba0bf69fa3\"\n",
      "    },\n",
      "    \"aadfd09e-278b-41c8-8414-ede98a846e53\": {\n",
      "        \"type\": \"const\",\n",
      "        \"value\": 1,\n",
      "        \"parent\": \"40edf871-f440-4899-a28b-b1ba0bf69fa3\"\n",
      "    },\n",
      "    \"39643cbc-370b-491c-87b1-526b0c4624c1\": {\n",
      "        \"type\": \"const\",\n",
      "        \"value\": 0,\n",
      "        \"parent\": \"e76998da-131c-4f59-b44d-ee4492f03222\"\n",
      "    },\n",
      "    \"59872371-b801-4375-932b-672fec0e4c70\": {\n",
      "        \"type\": \"op\",\n",
      "        \"value\": \"+\",\n",
      "        \"parent\": \"2159c308-34c4-4882-b264-ba398d28fff0\"\n",
      "    },\n",
      "    \"27f8cf71-adb2-4672-ac0a-e7c32d7bf2aa\": {\n",
      "        \"type\": \"op\",\n",
      "        \"value\": \"*\",\n",
      "        \"parent\": \"59872371-b801-4375-932b-672fec0e4c70\"\n",
      "    },\n",
      "    \"2560a9f4-bfce-42fa-8561-59b455048a2a\": {\n",
      "        \"type\": \"var\",\n",
      "        \"value\": \"x\",\n",
      "        \"parent\": \"27f8cf71-adb2-4672-ac0a-e7c32d7bf2aa\"\n",
      "    },\n",
      "    \"d0df4f1f-2bc4-4265-bfa3-e82048b57e53\": {\n",
      "        \"type\": \"var\",\n",
      "        \"value\": \"y\",\n",
      "        \"parent\": \"27f8cf71-adb2-4672-ac0a-e7c32d7bf2aa\"\n",
      "    },\n",
      "    \"4903c258-cbd6-40d1-83b7-ba57282b1de7\": {\n",
      "        \"type\": \"const\",\n",
      "        \"value\": 3,\n",
      "        \"parent\": \"59872371-b801-4375-932b-672fec0e4c70\"\n",
      "    },\n",
      "    \"1ccc7b84-0eb0-4477-9848-17b2d252fc80\": {\n",
      "        \"type\": \"var\",\n",
      "        \"value\": \"y\",\n",
      "        \"parent\": \"59872371-b801-4375-932b-672fec0e4c70\"\n",
      "    }\n",
      "}\n"
     ]
    }
   ],
   "source": [
    "flat_expr = TreeConverter.to_flattree(expr, data_extractor=lambda n: n.payload)\n",
    "print(json.dumps(flat_expr, indent=4))\n"
   ]
  },
  {
   "cell_type": "code",
   "execution_count": 12,
   "metadata": {},
   "outputs": [
    {
     "name": "stdout",
     "output_type": "stream",
     "text": [
      "<class 'treekit.flattree.FlatTree.ProxyNode'>\n"
     ]
    }
   ],
   "source": [
    "true_root = flat_expr.root.children[0]\n",
    "print(type(true_root))"
   ]
  },
  {
   "cell_type": "code",
   "execution_count": 13,
   "metadata": {},
   "outputs": [
    {
     "name": "stdout",
     "output_type": "stream",
     "text": [
      "+\n",
      "├── max\n",
      "│   ├── +\n",
      "│   │   ├── x\n",
      "│   │   └── 1\n",
      "│   └── 0\n",
      "└── +\n",
      "    ├── *\n",
      "    │   ├── x\n",
      "    │   └── y\n",
      "    ├── 3\n",
      "    └── y\n",
      "\n"
     ]
    }
   ],
   "source": [
    "test = TreeConverter.to_anytree(true_root)\n",
    "print(TreeViz.text(test, node_name=lambda n: n.value))"
   ]
  },
  {
   "cell_type": "code",
   "execution_count": 14,
   "metadata": {},
   "outputs": [
    {
     "name": "stdout",
     "output_type": "stream",
     "text": [
      "+\n",
      "├── *\n",
      "│   ├── 2\n",
      "│   └── 3\n",
      "└── 1\n",
      "\n"
     ]
    }
   ],
   "source": [
    "from treekit.flattree import FlatTree\n",
    "\n",
    "flat = FlatTree()\n",
    "plus_op = flat.add_child(type='op', value='+')\n",
    "mul_op = plus_op.add_child(type='op', value='*')\n",
    "mul_op.add_child(type='const', value=2)\n",
    "mul_op.add_child(type='const', value=3)\n",
    "plus_op.add_child(type='const', value=1)\n",
    "flat.check_valid()\n",
    "print(TreeViz.text(TreeConverter.to_anytree(plus_op), node_name=lambda n: n.value))\n"
   ]
  },
  {
   "cell_type": "code",
   "execution_count": 15,
   "metadata": {},
   "outputs": [],
   "source": [
    "\n",
    "plus_op_2 = FlatTree.ProxyNode(flat.root, \"test\")\n",
    "#print(flat)\n",
    "#print(flat_node)\n",
    "\n"
   ]
  },
  {
   "cell_type": "markdown",
   "metadata": {},
   "source": [
    "The `FlatTree` structure is a different kind of tree structure that is more\n",
    "convenient for more database-like operations. It is a tree structure that is\n",
    "flattened into a dictionary of key-value pairs, where the value is also a\n",
    "dictionary. This value dictionary optionally contains the parent key, and\n",
    "if not then it is a child of a so-called logical root.\n",
    "\n",
    "We can convert the `TreeNode` to a `FlatTree` by invoking `TreeConverter.to_flattree`\n",
    "on a `TreeNode` object (also works for `FlatTree` objects and `anytree.Node` objects,\n",
    "and *any* tree structure that implements `children` and `add_child`).\n",
    "\n",
    "TODO: We plan on implementing a `TreeConverter.convert(from, to)` function that\n",
    "will convert between any two tree structures that implement the `children` and\n",
    "`add_child` methods, where `from` is a tree-like object and `to` is a type:\n",
    "\n",
    "For example:\n",
    "\n",
    "```python\n",
    "from anytree import Node\n",
    "from treekit.flattrie import FlatTree\n",
    "from treekit.tree_converter import TreeConverter\n",
    "\n",
    "node = Node(\"root\")\n",
    "node1 = Node(\"child1\", parent=node)\n",
    "node2 = Node(\"child2\", parent=node1)\n",
    "\n",
    "flattree = TreeConverter.convert(node, FlatTree.ProxyNode)\n",
    "\n",
    "# now we use FlatTree.ProxyNode for from and TreeNode to\n",
    "\n",
    "flat_node = FlatTree.ProxyNode(\"root\")\n",
    "flat_node1 = FlatTree.ProxyNode(\"child1\", parent=flat_node)\n",
    "flat_node2 = FlatTree.ProxyNode(\"child2\", parent=flat_node1)\n",
    "\n",
    "flattree2 = TreeConverter.convert(flattree, TreeNode)\n",
    "```\n",
    "\n",
    "\n",
    "\n"
   ]
  },
  {
   "cell_type": "code",
   "execution_count": 16,
   "metadata": {},
   "outputs": [],
   "source": [
    "\n",
    "class Eval2:\n",
    "    \"\"\"\n",
    "    An evaluator for a expressions defined by operations on types, respectively\n",
    "    defined by `Eval.Op`  and `Eval.Type`. The operations are a\n",
    "    dictionary where the keys are the operation names and the values are\n",
    "    functions that take a node and a context and return the value of the\n",
    "    operation in that context.\n",
    "    \"\"\"\n",
    "\n",
    "    Op = {\n",
    "        '+': lambda x: sum(x),\n",
    "        '*': lambda x: reduce(lambda a, b: a*b, x),\n",
    "        'max': lambda x: max(x)\n",
    "    }\n",
    "\n",
    "    Type = {\n",
    "        'const': lambda node, _: node['value'],\n",
    "        'var': lambda node, ctx: ctx[node['value']],\n",
    "        'op': lambda node, _: Eval.Op[node['value']](c['value'] for c in node.children)\n",
    "    }\n",
    "\n",
    "    def __init__(self, debug=True):\n",
    "        \"\"\"\n",
    "        :param debug: If True, print debug information\n",
    "        \"\"\"\n",
    "        self.debug = debug\n",
    "    \n",
    "    def __call__(self, expr, ctx):\n",
    "        \n",
    "        def _eval(node, ctx):\n",
    "            node_type = node['type']\n",
    "            value = Eval.Type[node_type](node, ctx)\n",
    "            result = FlatTree(type='const', value=value)\n",
    "            if self.debug:\n",
    "                print(f\"Eval({node.payload}) -> {result.payload}\")\n",
    "            return result\n",
    "\n",
    "        return postorder(deepcopy(expr), _eval, ctx)\n"
   ]
  },
  {
   "cell_type": "code",
   "execution_count": 17,
   "metadata": {},
   "outputs": [
    {
     "name": "stdout",
     "output_type": "stream",
     "text": [
      "Eval({'type': 'var', 'value': 'x', 'parent': '40edf871-f440-4899-a28b-b1ba0bf69fa3'}) -> {}\n",
      "Eval({'type': 'const', 'value': 1, 'parent': '40edf871-f440-4899-a28b-b1ba0bf69fa3'}) -> {}\n"
     ]
    },
    {
     "ename": "TypeError",
     "evalue": "unhashable type: 'FlatTree'",
     "output_type": "error",
     "traceback": [
      "\u001b[0;31m---------------------------------------------------------------------------\u001b[0m",
      "\u001b[0;31mTypeError\u001b[0m                                 Traceback (most recent call last)",
      "Cell \u001b[0;32mIn[17], line 1\u001b[0m\n\u001b[0;32m----> 1\u001b[0m flat_result \u001b[38;5;241m=\u001b[39m \u001b[43mEval2\u001b[49m\u001b[43m(\u001b[49m\u001b[43mdebug\u001b[49m\u001b[38;5;241;43m=\u001b[39;49m\u001b[38;5;28;43;01mTrue\u001b[39;49;00m\u001b[43m)\u001b[49m\u001b[43m(\u001b[49m\u001b[43mtrue_root\u001b[49m\u001b[43m,\u001b[49m\u001b[43m \u001b[49m\u001b[43mctx\u001b[49m\u001b[43m)\u001b[49m\n",
      "Cell \u001b[0;32mIn[16], line 38\u001b[0m, in \u001b[0;36mEval2.__call__\u001b[0;34m(self, expr, ctx)\u001b[0m\n\u001b[1;32m     35\u001b[0m         \u001b[38;5;28mprint\u001b[39m(\u001b[38;5;124mf\u001b[39m\u001b[38;5;124m\"\u001b[39m\u001b[38;5;124mEval(\u001b[39m\u001b[38;5;132;01m{\u001b[39;00mnode\u001b[38;5;241m.\u001b[39mpayload\u001b[38;5;132;01m}\u001b[39;00m\u001b[38;5;124m) -> \u001b[39m\u001b[38;5;132;01m{\u001b[39;00mresult\u001b[38;5;241m.\u001b[39mpayload\u001b[38;5;132;01m}\u001b[39;00m\u001b[38;5;124m\"\u001b[39m)\n\u001b[1;32m     36\u001b[0m     \u001b[38;5;28;01mreturn\u001b[39;00m result\n\u001b[0;32m---> 38\u001b[0m \u001b[38;5;28;01mreturn\u001b[39;00m \u001b[43mpostorder\u001b[49m\u001b[43m(\u001b[49m\u001b[43mdeepcopy\u001b[49m\u001b[43m(\u001b[49m\u001b[43mexpr\u001b[49m\u001b[43m)\u001b[49m\u001b[43m,\u001b[49m\u001b[43m \u001b[49m\u001b[43m_eval\u001b[49m\u001b[43m,\u001b[49m\u001b[43m \u001b[49m\u001b[43mctx\u001b[49m\u001b[43m)\u001b[49m\n",
      "Cell \u001b[0;32mIn[6], line 19\u001b[0m, in \u001b[0;36mpostorder\u001b[0;34m(node, fn, ctx)\u001b[0m\n\u001b[1;32m     17\u001b[0m results \u001b[38;5;241m=\u001b[39m []\n\u001b[1;32m     18\u001b[0m \u001b[38;5;28;01mfor\u001b[39;00m child \u001b[38;5;129;01min\u001b[39;00m node\u001b[38;5;241m.\u001b[39mchildren:\n\u001b[0;32m---> 19\u001b[0m     result \u001b[38;5;241m=\u001b[39m \u001b[43mpostorder\u001b[49m\u001b[43m(\u001b[49m\u001b[43mchild\u001b[49m\u001b[43m,\u001b[49m\u001b[43m \u001b[49m\u001b[43mfn\u001b[49m\u001b[43m,\u001b[49m\u001b[43m \u001b[49m\u001b[43mctx\u001b[49m\u001b[43m)\u001b[49m\n\u001b[1;32m     20\u001b[0m     \u001b[38;5;28;01mif\u001b[39;00m result \u001b[38;5;129;01mis\u001b[39;00m \u001b[38;5;129;01mnot\u001b[39;00m \u001b[38;5;28;01mNone\u001b[39;00m:\n\u001b[1;32m     21\u001b[0m         results\u001b[38;5;241m.\u001b[39mappend(result)\n",
      "Cell \u001b[0;32mIn[6], line 19\u001b[0m, in \u001b[0;36mpostorder\u001b[0;34m(node, fn, ctx)\u001b[0m\n\u001b[1;32m     17\u001b[0m results \u001b[38;5;241m=\u001b[39m []\n\u001b[1;32m     18\u001b[0m \u001b[38;5;28;01mfor\u001b[39;00m child \u001b[38;5;129;01min\u001b[39;00m node\u001b[38;5;241m.\u001b[39mchildren:\n\u001b[0;32m---> 19\u001b[0m     result \u001b[38;5;241m=\u001b[39m \u001b[43mpostorder\u001b[49m\u001b[43m(\u001b[49m\u001b[43mchild\u001b[49m\u001b[43m,\u001b[49m\u001b[43m \u001b[49m\u001b[43mfn\u001b[49m\u001b[43m,\u001b[49m\u001b[43m \u001b[49m\u001b[43mctx\u001b[49m\u001b[43m)\u001b[49m\n\u001b[1;32m     20\u001b[0m     \u001b[38;5;28;01mif\u001b[39;00m result \u001b[38;5;129;01mis\u001b[39;00m \u001b[38;5;129;01mnot\u001b[39;00m \u001b[38;5;28;01mNone\u001b[39;00m:\n\u001b[1;32m     21\u001b[0m         results\u001b[38;5;241m.\u001b[39mappend(result)\n",
      "Cell \u001b[0;32mIn[6], line 25\u001b[0m, in \u001b[0;36mpostorder\u001b[0;34m(node, fn, ctx)\u001b[0m\n\u001b[1;32m     23\u001b[0m node\u001b[38;5;241m.\u001b[39mremove_children()\n\u001b[1;32m     24\u001b[0m \u001b[38;5;28;01mfor\u001b[39;00m result \u001b[38;5;129;01min\u001b[39;00m results:\n\u001b[0;32m---> 25\u001b[0m     \u001b[43mnode\u001b[49m\u001b[38;5;241;43m.\u001b[39;49m\u001b[43madd_child\u001b[49m\u001b[43m(\u001b[49m\u001b[43mresult\u001b[49m\u001b[43m)\u001b[49m    \n\u001b[1;32m     26\u001b[0m \u001b[38;5;28;01mreturn\u001b[39;00m fn(node, ctx)\n",
      "File \u001b[0;32m~/github/treekit/treekit/flattree.py:108\u001b[0m, in \u001b[0;36mFlatTree.ProxyNode.add_child\u001b[0;34m(self, key, *args, **kwargs)\u001b[0m\n\u001b[1;32m    106\u001b[0m \u001b[38;5;28;01mif\u001b[39;00m key \u001b[38;5;129;01mis\u001b[39;00m \u001b[38;5;28;01mNone\u001b[39;00m:\n\u001b[1;32m    107\u001b[0m     key \u001b[38;5;241m=\u001b[39m \u001b[38;5;28mstr\u001b[39m(uuid\u001b[38;5;241m.\u001b[39muuid4())\n\u001b[0;32m--> 108\u001b[0m \u001b[38;5;28;01mif\u001b[39;00m \u001b[43mkey\u001b[49m\u001b[43m \u001b[49m\u001b[38;5;129;43;01min\u001b[39;49;00m\u001b[43m \u001b[49m\u001b[38;5;28;43mself\u001b[39;49m\u001b[38;5;241;43m.\u001b[39;49m\u001b[43m_tree\u001b[49m:\n\u001b[1;32m    109\u001b[0m     \u001b[38;5;28;01mraise\u001b[39;00m \u001b[38;5;167;01mKeyError\u001b[39;00m(\u001b[38;5;124m\"\u001b[39m\u001b[38;5;124mNode key already exists in the tree\u001b[39m\u001b[38;5;124m\"\u001b[39m)\n\u001b[1;32m    111\u001b[0m child \u001b[38;5;241m=\u001b[39m \u001b[38;5;28mdict\u001b[39m(\u001b[38;5;241m*\u001b[39margs, \u001b[38;5;241m*\u001b[39m\u001b[38;5;241m*\u001b[39mkwargs)\n",
      "\u001b[0;31mTypeError\u001b[0m: unhashable type: 'FlatTree'"
     ]
    }
   ],
   "source": [
    "flat_result = Eval2(debug=True)(true_root, ctx)"
   ]
  },
  {
   "cell_type": "markdown",
   "metadata": {},
   "source": [
    "What happens when we change the context so that not every variable is defined?"
   ]
  },
  {
   "cell_type": "code",
   "execution_count": null,
   "metadata": {},
   "outputs": [
    {
     "name": "stdout",
     "output_type": "stream",
     "text": [
      "Eval({'type': 'var', 'value': 'x'} -> {'type': 'const', 'value': 1})\n",
      "Eval({'type': 'const', 'value': 1} -> {'type': 'const', 'value': 1})\n",
      "Eval({'value': '+', 'type': 'op'} -> {'type': 'const', 'value': 2})\n",
      "Eval({'type': 'const', 'value': 0} -> {'type': 'const', 'value': 0})\n",
      "Eval({'value': 'max', 'type': 'op'} -> {'type': 'const', 'value': 2})\n",
      "Eval({'type': 'var', 'value': 'x'} -> {'type': 'const', 'value': 1})\n",
      "Error: 'y'\n"
     ]
    }
   ],
   "source": [
    "open_ctx = {\n",
    "    'x': 1,\n",
    "    #'y': 2,\n",
    "    'z': 3\n",
    "}\n",
    "\n",
    "try:\n",
    "    Eval(debug=True)(expr, open_ctx)\n",
    "except KeyError as e:\n",
    "    print(f'Error: {e}')"
   ]
  },
  {
   "cell_type": "markdown",
   "metadata": {},
   "source": [
    "We see that we get an error. Our operations in `Eval.Op` are not defined over\n",
    "variables.\n",
    "\n",
    "We would run into a similar problem if we used pre-order traversal of post-orde\n",
    "In preorder traversal, we would try to evaluate the parent node (say, an operation)\n",
    "before we had evaluated its children, which would result in an error. Our\n",
    "defined operations only work over numbers (type `const`), so we need to\n",
    "evaluate the non-`const` expressions first in order for our operations to be\n",
    "defined for them."
   ]
  },
  {
   "cell_type": "markdown",
   "metadata": {},
   "source": [
    "Postorder traversal is good for things like evaluating expressions, where you\n",
    "need to evaluate the children before you can evaluate the parent.\n",
    "\n",
    "Preorder traversal is good for things like rewriting trees from the top down,\n",
    "but your rewrite rules need to be defined in terms of sub-expression trees.\n",
    "So, for example, you might have a complex expression and seek to rewrite it\n",
    "into a simpler form. This is an example of a **rewrite system**. A rewrite system\n",
    "is a set of rules that transform expressions into other expressions. For\n",
    "instance, suppose that we add a `0` to a variable `x` in the expression tree.\n",
    "We know that `x + 0` is the same as `x`, so we could add a rewrite rule that maps the\n",
    "sub-tree '(+ x 0)' to 'x'. We could add many rewrite rules to implement, for\n",
    "instance, algebraic simplification (`simplify`), or implement a compiler\n",
    "(`compile`) that translates the tree into a different form that could be\n",
    "evaluated by a different set of rewrite rules. Or, the compiler could be an\n",
    "optimizing compiler that rewrites the tree into a form that is more efficient\n",
    "to evaluate, like replacing a multiplication by a power of two with a shift\n",
    "or getting rid of no-op operations like adding zero."
   ]
  }
 ],
 "metadata": {
  "kernelspec": {
   "display_name": "env",
   "language": "python",
   "name": "python3"
  },
  "language_info": {
   "codemirror_mode": {
    "name": "ipython",
    "version": 3
   },
   "file_extension": ".py",
   "mimetype": "text/x-python",
   "name": "python",
   "nbconvert_exporter": "python",
   "pygments_lexer": "ipython3",
   "version": "3.11.2"
  }
 },
 "nbformat": 4,
 "nbformat_minor": 2
}
