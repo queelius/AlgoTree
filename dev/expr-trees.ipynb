{
 "cells": [
  {
   "cell_type": "markdown",
   "metadata": {},
   "source": [
    "## Expression Trees and Evaluation\n",
    "\n",
    "We are going to explore the idea of expression trees and how they relate to\n",
    "our tree structures, namely `TreeNode`, and to evaluate the expression trees\n",
    "by rewriting the nodes in post-order traversal.\n",
    "\n",
    "First, let's define our expression tree."
   ]
  },
  {
   "cell_type": "code",
   "execution_count": 1,
   "metadata": {},
   "outputs": [],
   "source": [
    "from AlgoTree.treenode import TreeNode\n",
    "from copy import deepcopy\n",
    "import json\n",
    "\n",
    "# Define the expression tree\n",
    "expr = TreeNode.from_dict(\n",
    "    {\n",
    "        \"value\": \"+\",\n",
    "        \"type\": \"op\",\n",
    "        \"children\": [\n",
    "            {\n",
    "                \"value\": \"max\",\n",
    "                \"type\": \"op\",\n",
    "                \"children\": [\n",
    "                    {\n",
    "                        \"value\": \"+\",\n",
    "                        \"type\": \"op\",\n",
    "                        \"children\": [\n",
    "                            {\"type\": \"var\", \"value\": \"x\"},\n",
    "                            {\"type\": \"const\", \"value\": 1},\n",
    "                        ],\n",
    "                    },\n",
    "                    {\"type\": \"const\", \"value\": 0},\n",
    "                ],\n",
    "            },\n",
    "            {\n",
    "                \"type\": \"op\",\n",
    "                \"value\": \"+\",\n",
    "                \"children\": [\n",
    "                    {\n",
    "                        \"type\": \"op\",\n",
    "                        \"value\": \"max\",\n",
    "                        \"children\": [\n",
    "                            {\"type\": \"var\", \"value\": \"x\"},\n",
    "                            {\"type\": \"var\", \"value\": \"y\"},\n",
    "                        ],\n",
    "                    },\n",
    "                    {\"type\": \"const\", \"value\": 3},\n",
    "                    {\"type\": \"var\", \"value\": \"y\"},\n",
    "                ],\n",
    "            },\n",
    "        ],\n",
    "    }\n",
    ")"
   ]
  },
  {
   "cell_type": "code",
   "execution_count": 2,
   "metadata": {},
   "outputs": [
    {
     "name": "stdout",
     "output_type": "stream",
     "text": [
      "{\n",
      "    \"name\": \"0a5c451b-cad1-48e9-9852-aec46058acda\",\n",
      "    \"payload\": {\n",
      "        \"value\": \"+\",\n",
      "        \"type\": \"op\"\n",
      "    },\n",
      "    \"children\": [\n",
      "        {\n",
      "            \"name\": \"78baf6c2-afbd-4bb4-90a4-a08e5a3fc4e0\",\n",
      "            \"payload\": {\n",
      "                \"value\": \"max\",\n",
      "                \"type\": \"op\"\n",
      "            },\n",
      "            \"children\": [\n",
      "                {\n",
      "                    \"name\": \"fc106112-b614-467f-adff-c0c917ab03e5\",\n",
      "                    \"payload\": {\n",
      "                        \"value\": \"+\",\n",
      "                        \"type\": \"op\"\n",
      "                    },\n",
      "                    \"children\": [\n",
      "                        {\n",
      "                            \"name\": \"30a87f4c-b4be-4217-8a24-0f0d258b2a25\",\n",
      "                            \"payload\": {\n",
      "                                \"type\": \"var\",\n",
      "                                \"value\": \"x\"\n",
      "                            },\n",
      "                            \"children\": []\n",
      "                        },\n",
      "                        {\n",
      "                            \"name\": \"41d8adc8-1f73-409a-ab68-ea98d53a1c56\",\n",
      "                            \"payload\": {\n",
      "                                \"type\": \"const\",\n",
      "                                \"value\": 1\n",
      "                            },\n",
      "                            \"children\": []\n",
      "                        }\n",
      "                    ]\n",
      "                },\n",
      "                {\n",
      "                    \"name\": \"5a8df89c-c833-4aae-8749-5ce307424675\",\n",
      "                    \"payload\": {\n",
      "                        \"type\": \"const\",\n",
      "                        \"value\": 0\n",
      "                    },\n",
      "                    \"children\": []\n",
      "                }\n",
      "            ]\n",
      "        },\n",
      "        {\n",
      "            \"name\": \"1d223ec4-9daf-45f4-b2a8-9db394571b83\",\n",
      "            \"payload\": {\n",
      "                \"type\": \"op\",\n",
      "                \"value\": \"+\"\n",
      "            },\n",
      "            \"children\": [\n",
      "                {\n",
      "                    \"name\": \"dde50326-3af8-4544-9551-9aa8123ac2bd\",\n",
      "                    \"payload\": {\n",
      "                        \"type\": \"op\",\n",
      "                        \"value\": \"max\"\n",
      "                    },\n",
      "                    \"children\": [\n",
      "                        {\n",
      "                            \"name\": \"f4057e80-3e19-477d-9b38-137b3a08d31e\",\n",
      "                            \"payload\": {\n",
      "                                \"type\": \"var\",\n",
      "                                \"value\": \"x\"\n",
      "                            },\n",
      "                            \"children\": []\n",
      "                        },\n",
      "                        {\n",
      "                            \"name\": \"f633d8d3-2a2e-474c-a44d-5da441854dcb\",\n",
      "                            \"payload\": {\n",
      "                                \"type\": \"var\",\n",
      "                                \"value\": \"y\"\n",
      "                            },\n",
      "                            \"children\": []\n",
      "                        }\n",
      "                    ]\n",
      "                },\n",
      "                {\n",
      "                    \"name\": \"1549bcb8-2ad7-45eb-a8f1-eef6aa53bbec\",\n",
      "                    \"payload\": {\n",
      "                        \"type\": \"const\",\n",
      "                        \"value\": 3\n",
      "                    },\n",
      "                    \"children\": []\n",
      "                },\n",
      "                {\n",
      "                    \"name\": \"7dc9523b-2ab5-4fef-8424-5f189f2e85f2\",\n",
      "                    \"payload\": {\n",
      "                        \"type\": \"var\",\n",
      "                        \"value\": \"y\"\n",
      "                    },\n",
      "                    \"children\": []\n",
      "                }\n",
      "            ]\n",
      "        }\n",
      "    ]\n",
      "}\n"
     ]
    }
   ],
   "source": [
    "# Print the expression tree in JSON format\n",
    "print(json.dumps(expr.to_dict(), indent=4))"
   ]
  },
  {
   "cell_type": "markdown",
   "metadata": {},
   "source": [
    "### Visualizing the Tree Structure\n",
    "\n",
    "We can use the class `PrettyTree` (and a standalone `pretty_tree` function based on\n",
    "that class) to visualize the tree structure in a more human-readable way."
   ]
  },
  {
   "cell_type": "code",
   "execution_count": 3,
   "metadata": {},
   "outputs": [],
   "source": [
    "from AlgoTree.tree_converter import TreeConverter\n",
    "from AlgoTree.pretty_tree import pretty_tree"
   ]
  },
  {
   "cell_type": "code",
   "execution_count": 4,
   "metadata": {},
   "outputs": [
    {
     "name": "stdout",
     "output_type": "stream",
     "text": [
      "+\n",
      "├───── max\n",
      "│      ├───── +\n",
      "│      │      ├───── x\n",
      "│      │      └───── 1\n",
      "│      └───── 0\n",
      "└───── +\n",
      "       ├───── max\n",
      "       │      ├───── x\n",
      "       │      └───── y\n",
      "       ├───── 3\n",
      "       └───── y\n",
      "\n"
     ]
    }
   ],
   "source": [
    "print(pretty_tree(expr, node_name=lambda x: x.payload[\"value\"]))"
   ]
  },
  {
   "cell_type": "markdown",
   "metadata": {},
   "source": [
    "### Post-order Traversal\n",
    "\n",
    "As a tree structure, `TreeNode` implements an interface that permits\n",
    "tree traversal algorithms like depth-first pre-order and post-order traversals.\n",
    "\n",
    "We are going to implement a simple post-order traversal algorithm to permit\n",
    "computation of the expression tree we defined earlier, `expr`. We see that\n",
    "it contains three operator types, `+`, `*`, and `max`, as well as numbers and variables.\n",
    "\n",
    "We will provide a **closure** over all of these types so that when we evaluate\n",
    "the expression in post-order, all of the types are defined for the operations."
   ]
  },
  {
   "cell_type": "code",
   "execution_count": 5,
   "metadata": {},
   "outputs": [],
   "source": [
    "def postorder(node, fn, ctx):\n",
    "    \"\"\"\n",
    "    Applies function `fn` to the nodes in the tree using post-order traversal.\n",
    "    :param fn: Function to apply to each node. Should accept one argument: the node.\n",
    "    :param ctx: Context passed to the function.\n",
    "    :return: The tree with the function `fn` applied to its nodes.\n",
    "    \"\"\"\n",
    "    results = []\n",
    "    for child in node.children:\n",
    "        result = postorder(child, fn, ctx)\n",
    "        if result is not None:\n",
    "            results.append(result)\n",
    "\n",
    "    node.children = results\n",
    "    return fn(node, ctx)"
   ]
  },
  {
   "cell_type": "markdown",
   "metadata": {},
   "source": [
    "The function `postorder` takes a tree node `node`, a function `fn`, and a context `ctx`, and returns a rewritten tree.\n",
    "\n",
    "At each node, `postorder` recursively calls `fn` on its children before applying `fn` to the node itself. This is the essence of post-order traversal.\n",
    "\n",
    "Post-order is useful for problems where the children need to be processed before the node itself. For example, evaluating an expression tree, where typically the value of a node can only be computed after the values of its children are known.\n",
    "\n",
    "In contrast, pre-order traversal applies `fn` to the node before applying it to the children. Pre-order may be useful for tasks such as rewriting the tree in a different form, like algebraic simplification."
   ]
  },
  {
   "cell_type": "markdown",
   "metadata": {},
   "source": [
    "### Expression Tree Evaluator\n",
    "\n",
    "We will now design a simple expression tree evaluator, `Eval`."
   ]
  },
  {
   "cell_type": "code",
   "execution_count": 6,
   "metadata": {},
   "outputs": [],
   "source": [
    "class Eval:\n",
    "    \"\"\"\n",
    "    An evaluator for expressions defined by operations on types, respectively\n",
    "    defined by `Eval.Op` and `Eval.Type`. The operations are a\n",
    "    dictionary where the keys are the operation names and the values are\n",
    "    functions that take a node and a context and return the value of the\n",
    "    operation in that context.\n",
    "    \"\"\"\n",
    "\n",
    "    Op = {\n",
    "        \"+\": lambda x: sum(x),\n",
    "        \"max\": lambda x: max(x),\n",
    "    }\n",
    "\n",
    "    Type = {\n",
    "        \"const\": lambda node, _: node.payload[\"value\"],\n",
    "        \"var\": lambda node, ctx: ctx[node.payload[\"value\"]],\n",
    "        \"op\": lambda node, _: Eval.Op[node.payload[\"value\"]](\n",
    "            [c.payload[\"value\"] for c in node.children]\n",
    "        ),\n",
    "    }\n",
    "\n",
    "    def __init__(self, debug=True):\n",
    "        \"\"\"\n",
    "        :param debug: If True, print debug information\n",
    "        \"\"\"\n",
    "        self.debug = debug\n",
    "\n",
    "    def __call__(self, expr, ctx):\n",
    "        NodeType = type(expr)\n",
    "        def _eval(node, ctx):\n",
    "            expr_type = node.payload[\"type\"]\n",
    "            value = Eval.Type[expr_type](node, ctx)\n",
    "            result = NodeType(type=\"const\", value=value)\n",
    "            if self.debug:\n",
    "                print(f\"Eval({node.payload}) -> {result.payload}\")\n",
    "            return result\n",
    "\n",
    "        return postorder(deepcopy(expr), _eval, ctx)"
   ]
  },
  {
   "cell_type": "markdown",
   "metadata": {},
   "source": [
    "To evaluate an expression tree, we need the operations to be defined for all\n",
    "of the types during post-order (bottom-up) traversal. We can define a\n",
    "closure over all of the types, and then use that closure to evaluate the\n",
    "expression tree.\n",
    "\n",
    "We call this closure a context. Normally, the operations and other things\n",
    "are also defined in the closure, but for simplicity we will just define the\n",
    "operations and provide closures over the variables."
   ]
  },
  {
   "cell_type": "code",
   "execution_count": 7,
   "metadata": {},
   "outputs": [
    {
     "name": "stdout",
     "output_type": "stream",
     "text": [
      "Eval({'type': 'var', 'value': 'x'}) -> {'type': 'const', 'value': 1}\n",
      "Eval({'type': 'const', 'value': 1}) -> {'type': 'const', 'value': 1}\n",
      "Eval({'value': '+', 'type': 'op'}) -> {'type': 'const', 'value': 2}\n",
      "Eval({'type': 'const', 'value': 0}) -> {'type': 'const', 'value': 0}\n",
      "Eval({'value': 'max', 'type': 'op'}) -> {'type': 'const', 'value': 2}\n",
      "Eval({'type': 'var', 'value': 'x'}) -> {'type': 'const', 'value': 1}\n",
      "Eval({'type': 'var', 'value': 'y'}) -> {'type': 'const', 'value': 2}\n",
      "Eval({'type': 'op', 'value': 'max'}) -> {'type': 'const', 'value': 2}\n",
      "Eval({'type': 'const', 'value': 3}) -> {'type': 'const', 'value': 3}\n",
      "Eval({'type': 'var', 'value': 'y'}) -> {'type': 'const', 'value': 2}\n",
      "Eval({'type': 'op', 'value': '+'}) -> {'type': 'const', 'value': 7}\n",
      "Eval({'value': '+', 'type': 'op'}) -> {'type': 'const', 'value': 9}\n"
     ]
    }
   ],
   "source": [
    "# Define the context with variable values\n",
    "ctx = {\"x\": 1, \"y\": 2, \"z\": 3}\n",
    "\n",
    "# Evaluate the expression tree with the context\n",
    "result = Eval(debug=True)(expr, ctx)"
   ]
  },
  {
   "cell_type": "markdown",
   "metadata": {},
   "source": [
    "Let's print the final result of the evaluation of the expression tree."
   ]
  },
  {
   "cell_type": "code",
   "execution_count": 8,
   "metadata": {},
   "outputs": [
    {
     "name": "stdout",
     "output_type": "stream",
     "text": [
      "{'type': 'const', 'value': 9}\n"
     ]
    }
   ],
   "source": [
    "# Print the result of the evaluation\n",
    "print(result.payload)"
   ]
  },
  {
   "cell_type": "markdown",
   "metadata": {},
   "source": [
    "## Self-Evaluating Trees\n",
    "\n",
    "We see that we get the expected result, `9`. Note that it is still a tree, but\n",
    "it has been transformed into a so-called self-evaluating tree expression,\n",
    "which in this case is a single node with no children.\n",
    "\n",
    "We can evaluate it again, and we see that it cannot be rewritten further. We\n",
    "call this state a **normal form**. Essentially, we can think of the\n",
    "tree as a program that computes a value, and the normal form is the result of\n",
    "running the program."
   ]
  },
  {
   "cell_type": "code",
   "execution_count": 9,
   "metadata": {},
   "outputs": [],
   "source": [
    "# Ensure the evaluated result is in its normal form\n",
    "assert Eval(debug=False)(result, ctx).payload == result.payload"
   ]
  },
  {
   "cell_type": "markdown",
   "metadata": {},
   "source": [
    "### Converting to FlatForest\n",
    "\n",
    "Let's convert the tree to a `FlatForest` and perform the same evaluation."
   ]
  },
  {
   "cell_type": "code",
   "execution_count": 10,
   "metadata": {},
   "outputs": [
    {
     "name": "stdout",
     "output_type": "stream",
     "text": [
      "+\n",
      "├───── max\n",
      "│      ├───── +\n",
      "│      │      ├───── x\n",
      "│      │      └───── 1\n",
      "│      └───── 0\n",
      "└───── +\n",
      "       ├───── max\n",
      "       │      ├───── x\n",
      "       │      └───── y\n",
      "       ├───── 3\n",
      "       └───── y\n",
      "\n"
     ]
    }
   ],
   "source": [
    "from AlgoTree.flat_forest_node import FlatForestNode\n",
    "from AlgoTree.flat_forest import FlatForest\n",
    "flat_expr = TreeConverter.convert(source=expr, target_type=FlatForestNode, extract=lambda x: x.payload)\n",
    "print(pretty_tree(flat_expr, node_name=lambda x: x.payload[\"value\"]))\n"
   ]
  },
  {
   "cell_type": "markdown",
   "metadata": {},
   "source": [
    "Evaluate the flat forest expression"
   ]
  },
  {
   "cell_type": "code",
   "execution_count": 11,
   "metadata": {},
   "outputs": [
    {
     "name": "stdout",
     "output_type": "stream",
     "text": [
      "{'type': 'const', 'value': 9}\n"
     ]
    }
   ],
   "source": [
    "result = Eval(False)(flat_expr, ctx)\n",
    "print(result.payload)"
   ]
  },
  {
   "cell_type": "markdown",
   "metadata": {},
   "source": [
    "The `FlatForest` structure is a different kind of structure that is more\n",
    "convenient for relatively flatter data, like conversation logs. It is a forest\n",
    "structure that is flattened into a dictionary of key-value pairs, where the\n",
    "value is also a dictionary. This value dictionary optionally contains the parent\n",
    "key, and if not then it is a root node. If more than one root node is present,\n",
    "then it is a forest, but by default it exposes a single root node (preferred root)\n",
    "for convenience, which is by default the first root node encountered."
   ]
  },
  {
   "cell_type": "markdown",
   "metadata": {},
   "source": [
    "### Handling Undefined Variables\n",
    "\n",
    "What happens when we change the context so that not every variable is defined?"
   ]
  },
  {
   "cell_type": "code",
   "execution_count": 12,
   "metadata": {},
   "outputs": [
    {
     "name": "stdout",
     "output_type": "stream",
     "text": [
      "Eval({'type': 'var', 'value': 'x'}) -> {'type': 'const', 'value': 1}\n",
      "Eval({'type': 'const', 'value': 1}) -> {'type': 'const', 'value': 1}\n",
      "Eval({'value': '+', 'type': 'op'}) -> {'type': 'const', 'value': 2}\n",
      "Eval({'type': 'const', 'value': 0}) -> {'type': 'const', 'value': 0}\n",
      "Eval({'value': 'max', 'type': 'op'}) -> {'type': 'const', 'value': 2}\n",
      "Eval({'type': 'var', 'value': 'x'}) -> {'type': 'const', 'value': 1}\n",
      "Error: 'y'\n"
     ]
    }
   ],
   "source": [
    "# Define an incomplete context with missing variable values\n",
    "open_ctx = {\n",
    "    \"x\": 1,\n",
    "    # 'y': 2,  # 'y' is not defined in this context\n",
    "    \"z\": 3,\n",
    "}\n",
    "\n",
    "# Try evaluating the expression tree with the incomplete context\n",
    "try:\n",
    "    Eval(debug=True)(expr, open_ctx)\n",
    "except KeyError as e:\n",
    "    print(f\"Error: {e}\")"
   ]
  },
  {
   "cell_type": "markdown",
   "metadata": {},
   "source": [
    "We see that we get an error. Our operations in `Eval.Op` are not defined over\n",
    "undefined variables.\n",
    "\n",
    "We would run into a similar problem if we used pre-order traversal instead of post-order. In pre-order traversal, we would try to evaluate the parent node (say, an operation) before we had evaluated its children, which would result in an error. Our\n",
    "defined operations only work over numbers (type `const`), so we need to\n",
    "evaluate the non-`const` expressions first in order for our operations to be\n",
    "defined for them."
   ]
  },
  {
   "cell_type": "markdown",
   "metadata": {},
   "source": [
    "### Post-order vs. Pre-order Traversal\n",
    "\n",
    "Post-order traversal is good for things like evaluating expressions, where you\n",
    "need to evaluate the children before you can evaluate the parent.\n",
    "\n",
    "Pre-order traversal is good for things like rewriting trees from the top down,\n",
    "but your rewrite rules need to be defined in terms of sub-expression trees.\n",
    "So, for example, you might have a complex expression and seek to rewrite it\n",
    "into a simpler form. This is an example of a **rewrite system**. A rewrite system\n",
    "is a set of rules that transform expressions into other expressions. For\n",
    "instance, suppose that we add a `0` to a variable `x` in the expression tree.\n",
    "We know that `x + 0` is the same as `x`, so we could add a rewrite rule that maps the\n",
    "sub-tree `(+ x 0)` to `x`. We could add many rewrite rules to implement, for\n",
    "instance, algebraic simplification (`simplify`), or implement a compiler\n",
    "(`compile`) that translates the tree into a different form that could be\n",
    "evaluated by a different set of rewrite rules. Or, the compiler could be an\n",
    "optimizing compiler that rewrites the tree into a form that is more efficient\n",
    "to evaluate, like replacing a multiplication by a power of two with a shift\n",
    "or getting rid of no-op operations like adding zero."
   ]
  },
  {
   "cell_type": "markdown",
   "metadata": {},
   "source": [
    "## Alternative Way To Construct Expression Trees\n",
    "\n",
    "We imported from a `dict` (or JSON) representation of the expression tree. This\n",
    "is a common way to construct trees from data, and it is also a common way to\n",
    "serialize trees to disk or to send them over the network.\n",
    "\n",
    "Howerver, we can also construct the tree directly using the `TreeNode` class."
   ]
  },
  {
   "cell_type": "code",
   "execution_count": 13,
   "metadata": {},
   "outputs": [],
   "source": [
    "root = TreeNode(name=\"+\", value=\"+\", type=\"op\")\n",
    "root_1 = TreeNode(name=\"max\", value=\"max\", type=\"op\", parent=root)\n",
    "root_2 = TreeNode(name=\"+\", value=\"+\", type=\"op\", parent=root)\n",
    "root_1_1 = TreeNode(name=\"+\", value=\"+\", type=\"op\", parent=root_1)\n",
    "root_1_1_1 = TreeNode(name=\"var\", value=\"x\", type=\"var\", parent=root_1_1)\n",
    "root_1_1_2 = TreeNode(name=\"const\", value=1, type=\"const\", parent=root_1_1)\n",
    "root_2_1 = TreeNode(name=\"max\", value=\"max\", type=\"op\", parent=root_2)\n",
    "root_2_1_1 = TreeNode(name=\"var\", value=\"x\", type=\"var\", parent=root_2_1)\n",
    "root_2_1_2 = TreeNode(name=\"var\", value=\"y\", type=\"var\", parent=root_2_1)\n",
    "root_2_2 = TreeNode(name=\"const\", value=3, type=\"const\", parent=root_2)\n",
    "root_2_3 = TreeNode(name=\"var\", value=\"y\", type=\"var\", parent=root_2)"
   ]
  },
  {
   "cell_type": "markdown",
   "metadata": {},
   "source": [
    "Let's evaluate this tree to see if it gives the same result as the previous\n",
    "expression tree."
   ]
  },
  {
   "cell_type": "code",
   "execution_count": 14,
   "metadata": {},
   "outputs": [
    {
     "name": "stdout",
     "output_type": "stream",
     "text": [
      "{'type': 'const', 'value': 9}\n"
     ]
    }
   ],
   "source": [
    "result = Eval(False)(flat_expr, ctx)\n",
    "print(result.payload)"
   ]
  },
  {
   "cell_type": "markdown",
   "metadata": {},
   "source": [
    "## Conclusion\n",
    "\n",
    "We have explored the idea of expression trees and how they relate to our tree\n",
    "structures, namely `TreeNode` and `FlatForestNode`, and how to evaluate the\n",
    "expression trees by rewriting the nodes in post-order traversal.\n",
    "\n",
    "The `TreeNode` structure is a general-purpose tree structure that is fast and\n",
    "efficient for these kinds of operations. The `FlatForestNode` structure is\n",
    "a more specialized structure that is more convenient for relatively flatter\n",
    "data, like conversation logs."
   ]
  }
 ],
 "metadata": {
  "kernelspec": {
   "display_name": "env",
   "language": "python",
   "name": "python3"
  },
  "language_info": {
   "codemirror_mode": {
    "name": "ipython",
    "version": 3
   },
   "file_extension": ".py",
   "mimetype": "text/x-python",
   "name": "python",
   "nbconvert_exporter": "python",
   "pygments_lexer": "ipython3",
   "version": "3.12.3"
  }
 },
 "nbformat": 4,
 "nbformat_minor": 2
}
