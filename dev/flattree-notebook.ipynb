{
 "cells": [
  {
   "cell_type": "markdown",
   "metadata": {},
   "source": [
    "# `FlatTree Notebook`\n",
    "\n",
    "In this notebook, we explore the `FlatTree` data structure, which is a tree with a flat memory layout. This data structure is useful when we want to store a tree in a contiguous memory block. We will implement the `FlatTree` data structure and demonstrate how to perform various operations on it.\n",
    "\n",
    "We also demonstrate the `FlatTreeNode` proxy class, which allows us to access the nodes of the `FlatTree` using a tree-like interface."
   ]
  },
  {
   "cell_type": "markdown",
   "metadata": {},
   "source": [
    "Let's load the required libraries and create a `FlatTree` data structure\n",
    "using the node interface."
   ]
  },
  {
   "cell_type": "code",
   "execution_count": 1,
   "metadata": {},
   "outputs": [],
   "source": [
    "from AlgoTree.flattree_node import FlatTreeNode"
   ]
  },
  {
   "cell_type": "code",
   "execution_count": 2,
   "metadata": {},
   "outputs": [
    {
     "name": "stdout",
     "output_type": "stream",
     "text": [
      "root {'data': 0} None\n",
      "\n",
      "A {'data': 1} FlatTreeNode(name=root, parent=None, payload={'data': 0}, root=root, children=['A', 'B', 'C'])\n",
      "\n",
      "B {'data': 2} FlatTreeNode(name=root, parent=None, payload={'data': 0}, root=root, children=['A', 'B', 'C'])\n",
      "\n",
      "C {'data': 3} FlatTreeNode(name=root, parent=None, payload={'data': 0}, root=root, children=['A', 'B', 'C'])\n",
      "\n",
      "D {'data': 4} FlatTreeNode(name=C, parent=root, payload={'data': 3}, root=root, children=['D', 'E', 'F', 'G', 'H'])\n",
      "\n",
      "E {'data': 5} FlatTreeNode(name=C, parent=root, payload={'data': 3}, root=root, children=['D', 'E', 'F', 'G', 'H'])\n",
      "\n",
      "F {'data': 6} FlatTreeNode(name=C, parent=root, payload={'data': 3}, root=root, children=['D', 'E', 'F', 'G', 'H'])\n",
      "\n",
      "G {'data': 7} FlatTreeNode(name=C, parent=root, payload={'data': 3}, root=root, children=['D', 'E', 'F', 'G', 'H'])\n",
      "\n",
      "H {'data': 8} FlatTreeNode(name=C, parent=root, payload={'data': 3}, root=root, children=['D', 'E', 'F', 'G', 'H'])\n",
      "\n",
      "I {'data': 9} FlatTreeNode(name=F, parent=C, payload={'data': 6}, root=root, children=['I'])\n",
      "\n"
     ]
    }
   ],
   "source": [
    "from AlgoTree.tree_converter import TreeConverter\n",
    "from AlgoTree.flattree import FlatTree\n",
    "import json\n",
    "\n",
    "root = FlatTreeNode(name=\"root\", data=0)\n",
    "A = FlatTreeNode(name=\"A\", parent=root, data=1)\n",
    "B = FlatTreeNode(name=\"B\", parent=root, data=2)\n",
    "C = FlatTreeNode(name=\"C\", parent=root, data=3)\n",
    "D = FlatTreeNode(name=\"D\", parent=C, data=4)\n",
    "E = FlatTreeNode(name=\"E\", parent=C, data=5)\n",
    "F = FlatTreeNode(name=\"F\", parent=C, data=6)\n",
    "G = FlatTreeNode(name=\"G\", parent=C, data=7)\n",
    "H = FlatTreeNode(name=\"H\", parent=C, data=8)\n",
    "I = FlatTreeNode(name=\"I\", parent=F, data=9)\n",
    "tree = root._tree\n",
    "nodes = [\n",
    "    root,\n",
    "    A,\n",
    "    B,\n",
    "    C,\n",
    "    D,\n",
    "    E,\n",
    "    F,\n",
    "    G,\n",
    "    H,\n",
    "    I,\n",
    "]\n",
    "\n",
    "for node in nodes:\n",
    "    try:\n",
    "        print(node.name, node.payload, node.parent)\n",
    "    except ValueError as e:\n",
    "        print(f\"ValueError: {e}\")\n",
    "    except KeyError as e:\n",
    "        print(f\"KeyError: {e}\")\n",
    "    print()"
   ]
  },
  {
   "cell_type": "markdown",
   "metadata": {},
   "source": [
    "Let's do something similar, but using the `FlatTree`'s `dict` or `json`\n",
    "constructor. This is more direct and makes it explicit what data the tree\n",
    "is providing a *view* of. After all, the `FlatTree` is itself just a `dict`\n",
    "of a particular shape."
   ]
  },
  {
   "cell_type": "code",
   "execution_count": 3,
   "metadata": {},
   "outputs": [
    {
     "name": "stdout",
     "output_type": "stream",
     "text": [
      "{\n",
      "  \"A\": {\n",
      "    \"data\": \"Data for A\"\n",
      "  },\n",
      "  \"B\": {\n",
      "    \"parent\": \"A\",\n",
      "    \"data\": \"Data for B\"\n",
      "  },\n",
      "  \"C\": {\n",
      "    \"parent\": \"A\",\n",
      "    \"data\": \"Data for C\"\n",
      "  },\n",
      "  \"D\": {\n",
      "    \"parent\": \"C\",\n",
      "    \"data\": \"Data for D\"\n",
      "  },\n",
      "  \"E\": {\n",
      "    \"parent\": \"C\",\n",
      "    \"data\": \"Data for E\"\n",
      "  },\n",
      "  \"F\": {\n",
      "    \"parent\": \"E\",\n",
      "    \"data\": \"Data for F\"\n",
      "  },\n",
      "  \"G\": {\n",
      "    \"parent\": \"E\",\n",
      "    \"data\": \"Data for G\"\n",
      "  },\n",
      "  \"H\": {\n",
      "    \"parent\": \"B\",\n",
      "    \"data\": \"Data for H\"\n",
      "  },\n",
      "  \"I\": {\n",
      "    \"parent\": \"A\",\n",
      "    \"data\": \"Data for I\"\n",
      "  },\n",
      "  \"J\": {\n",
      "    \"parent\": \"I\",\n",
      "    \"data\": \"Data for J\"\n",
      "  },\n",
      "  \"K\": {\n",
      "    \"parent\": \"G\",\n",
      "    \"data\": \"Data for K\"\n",
      "  },\n",
      "  \"L\": {\n",
      "    \"parent\": \"G\",\n",
      "    \"data\": \"Data for L\"\n",
      "  },\n",
      "  \"M\": {\n",
      "    \"parent\": \"C\",\n",
      "    \"data\": \"Data for M\"\n",
      "  }\n",
      "}\n"
     ]
    }
   ],
   "source": [
    "tree_data = {\n",
    "    \"A\": { \"data\": \"Data for A\" },\n",
    "    \"B\": { \"parent\": \"A\", \"data\": \"Data for B\" },\n",
    "    \"C\": { \"parent\": \"A\", \"data\": \"Data for C\" },\n",
    "    \"D\": { \"parent\": \"C\", \"data\": \"Data for D\" },\n",
    "    \"E\": { \"parent\": \"C\", \"data\": \"Data for E\" },\n",
    "    \"F\": { \"parent\": \"E\", \"data\": \"Data for F\" },\n",
    "    \"G\": { \"parent\": \"E\", \"data\": \"Data for G\" },\n",
    "    \"H\": { \"parent\": \"B\", \"data\": \"Data for H\" },\n",
    "    \"I\": { \"parent\": \"A\", \"data\": \"Data for I\" },\n",
    "    \"J\": { \"parent\": \"I\", \"data\": \"Data for J\" },\n",
    "    \"K\": { \"parent\": \"G\", \"data\": \"Data for K\" },\n",
    "    \"L\": { \"parent\": \"G\", \"data\": \"Data for L\" },\n",
    "    \"M\": { \"parent\": \"C\", \"data\": \"Data for M\" },\n",
    "}\n",
    "print(json.dumps(tree_data, indent=2))"
   ]
  },
  {
   "cell_type": "code",
   "execution_count": 4,
   "metadata": {},
   "outputs": [
    {
     "name": "stdout",
     "output_type": "stream",
     "text": [
      "{\n",
      "  \"A\": {\n",
      "    \"data\": \"Data for A\"\n",
      "  },\n",
      "  \"B\": {\n",
      "    \"parent\": \"A\",\n",
      "    \"data\": \"Data for B\"\n",
      "  },\n",
      "  \"C\": {\n",
      "    \"parent\": \"A\",\n",
      "    \"data\": \"Data for C\"\n",
      "  },\n",
      "  \"D\": {\n",
      "    \"parent\": \"C\",\n",
      "    \"data\": \"Data for D\"\n",
      "  },\n",
      "  \"E\": {\n",
      "    \"parent\": \"C\",\n",
      "    \"data\": \"Data for E\"\n",
      "  },\n",
      "  \"F\": {\n",
      "    \"parent\": \"E\",\n",
      "    \"data\": \"Data for F\"\n",
      "  },\n",
      "  \"G\": {\n",
      "    \"parent\": \"E\",\n",
      "    \"data\": \"Data for G\"\n",
      "  },\n",
      "  \"H\": {\n",
      "    \"parent\": \"B\",\n",
      "    \"data\": \"Data for H\"\n",
      "  },\n",
      "  \"I\": {\n",
      "    \"parent\": \"A\",\n",
      "    \"data\": \"Data for I\"\n",
      "  },\n",
      "  \"J\": {\n",
      "    \"parent\": \"I\",\n",
      "    \"data\": \"Data for J\"\n",
      "  },\n",
      "  \"K\": {\n",
      "    \"parent\": \"G\",\n",
      "    \"data\": \"Data for K\"\n",
      "  },\n",
      "  \"L\": {\n",
      "    \"parent\": \"G\",\n",
      "    \"data\": \"Data for L\"\n",
      "  },\n",
      "  \"M\": {\n",
      "    \"parent\": \"C\",\n",
      "    \"data\": \"Data for M\"\n",
      "  }\n",
      "}\n"
     ]
    }
   ],
   "source": [
    "# load a tree from tree_data\n",
    "tree = FlatTree(tree_data)\n",
    "print(json.dumps(tree, indent=2))"
   ]
  },
  {
   "cell_type": "markdown",
   "metadata": {},
   "source": [
    "For visualizing trees, we can use the `PrettyTree` class and the `pretty_tree`\n",
    "function. The `PrettyTree` class is a simple tree data structure that can be\n",
    "used to visualize trees in pretty text format, optionally with the ability\n",
    "to mark nodes for highlighting."
   ]
  },
  {
   "cell_type": "code",
   "execution_count": 5,
   "metadata": {},
   "outputs": [
    {
     "data": {
      "text/markdown": [
       "<pre>A ◄ Data for A ⚪\n",
       "├───── B ◄ Data for B\n",
       "│      └───── H ◄ Data for H\n",
       "├───── C ◄ Data for C\n",
       "│      ├───── D ◄ Data for D\n",
       "│      ├───── E ◄ Data for E\n",
       "│      │      ├───── F ◄ Data for F\n",
       "│      │      └───── G ◄ Data for G 🟠\n",
       "│      │             ├───── K ◄ Data for K\n",
       "│      │             └───── L ◄ Data for L\n",
       "│      └───── M ◄ Data for M\n",
       "└───── I ◄ Data for I\n",
       "       └───── J ◄ Data for J\n",
       "</pre>"
      ],
      "text/plain": [
       "<IPython.core.display.Markdown object>"
      ]
     },
     "metadata": {},
     "output_type": "display_data"
    }
   ],
   "source": [
    "from IPython.display import display, Markdown\n",
    "from AlgoTree.pretty_tree import pretty_tree\n",
    "def monotext(txt):\n",
    "    display(Markdown(f\"<pre>{txt}</pre>\"))\n",
    "\n",
    "monotext(pretty_tree(tree.node(\"A\"), mark=[\"A\", \"G\"], node_details=lambda node: node.payload['data']))\n"
   ]
  },
  {
   "cell_type": "code",
   "execution_count": 6,
   "metadata": {},
   "outputs": [
    {
     "data": {
      "text/markdown": [
       "<pre>A\n",
       "├───── B\n",
       "│      └───── H ⚫\n",
       "├───── C\n",
       "│      ├───── D 🔵\n",
       "│      ├───── E\n",
       "│      │      ├───── F\n",
       "│      │      └───── G\n",
       "│      │             ├───── K\n",
       "│      │             └───── L\n",
       "│      └───── M\n",
       "└───── I\n",
       "       └───── J\n",
       "</pre>"
      ],
      "text/plain": [
       "<IPython.core.display.Markdown object>"
      ]
     },
     "metadata": {},
     "output_type": "display_data"
    }
   ],
   "source": [
    "monotext(pretty_tree(tree.node(\"A\"), mark=[\"H\", \"D\"]))"
   ]
  },
  {
   "cell_type": "code",
   "execution_count": 7,
   "metadata": {},
   "outputs": [
    {
     "name": "stdout",
     "output_type": "stream",
     "text": [
      "{'node_info': {'ancestors': ['A'],\n",
      "               'children': ['D', 'E', 'M'],\n",
      "               'depth': 1,\n",
      "               'descendants': ['D', 'E', 'F', 'G', 'K', 'L', 'M'],\n",
      "               'is_internal': True,\n",
      "               'is_leaf': False,\n",
      "               'is_root': False,\n",
      "               'leaves_under': ['D', 'F', 'K', 'L', 'M'],\n",
      "               'name': 'C',\n",
      "               'parent': 'A',\n",
      "               'path': ['A', 'C'],\n",
      "               'payload': {'data': 'Data for C'},\n",
      "               'root_distance': 1,\n",
      "               'siblings': ['B', 'I'],\n",
      "               'type': \"<class 'AlgoTree.flattree_node.FlatTreeNode'>\"},\n",
      " 'subtree_info': {'height': 3,\n",
      "                  'leaves': ['H', 'D', 'F', 'K', 'L', 'M', 'J'],\n",
      "                  'root': 'A',\n",
      "                  'size': 8}}\n"
     ]
    }
   ],
   "source": [
    "from pprint import pprint\n",
    "from AlgoTree import utils\n",
    "pprint(utils.node_stats(tree.node(\"C\")))"
   ]
  },
  {
   "cell_type": "markdown",
   "metadata": {},
   "source": [
    "The `FlatTree` class provides a **view** of a `dict` object as a tree. We do not modify\n",
    "the `dict` passed into it (and you can create a dict through the `FlatTree` API).\n",
    "\n",
    "The `FlatTree` class has a number of methods and properties to help you navigate the tree.\n",
    "A particular aspect of the `FlatTree` class is that it unifies any `dict` object into a tree\n",
    "structure. The keys are the node names and the values are the node values. If\n",
    "the value has no parent, it is a child of a `LOGICAL_ROOT` node that is computed\n",
    "lazily on demand (and is not a part of the actual underlying `dict` object).\n",
    "In this way, every dict is a tree, and every tree is a dict, with the exception\n",
    "that undefined behavior may result if the `dict` has keys that map to values\n",
    "in which a `parent` key is defined but results in a cycle or a node that is not\n",
    "in the `dict`. In this case, it will still try to work with it, but the behavior\n",
    "is undefined. You can call `FlatTree.check_valid` to check if the tree is in a\n",
    "valid state.\n",
    "\n",
    "Since it's just a view of a `dict` we have all the normal operations on it that\n",
    "we would have on a `dict` object."
   ]
  },
  {
   "cell_type": "markdown",
   "metadata": {},
   "source": [
    "We can also use the `FlatTree` class to visualize sub-trees rooted at some node.\n",
    "\n",
    "By default, the `FlatTree` conceptually represents as a whole the logical root\n",
    "of the tree. However, we have `FlatTree.ProxyNode` objects that can be used to\n",
    "represent any node in the tree, and supports the same API as the `FlatTree` class\n",
    "itself."
   ]
  },
  {
   "cell_type": "code",
   "execution_count": 8,
   "metadata": {},
   "outputs": [
    {
     "data": {
      "text/markdown": [
       "<pre>C ⚫\n",
       "├───── D\n",
       "├───── E\n",
       "│      ├───── F\n",
       "│      └───── G 🟠\n",
       "│             ├───── K\n",
       "│             └───── L\n",
       "└───── M\n",
       "</pre>"
      ],
      "text/plain": [
       "<IPython.core.display.Markdown object>"
      ]
     },
     "metadata": {},
     "output_type": "display_data"
    }
   ],
   "source": [
    "monotext(pretty_tree(tree.node(\"C\"), mark=[\"C\", \"G\"]))"
   ]
  },
  {
   "cell_type": "code",
   "execution_count": 9,
   "metadata": {},
   "outputs": [
    {
     "name": "stdout",
     "output_type": "stream",
     "text": [
      "{'parent': 'A', 'data': 'Data for B'}\n",
      "FlatTreeNode(name=C, parent=A, payload={'data': 'Data for C'}, root=A, children=['D', 'E', 'M'])\n",
      "A\n",
      "[FlatTreeNode(name=D, parent=C, payload={'data': 'Data for D'}, root=A, children=[]), FlatTreeNode(name=E, parent=C, payload={'data': 'Data for E'}, root=A, children=['F', 'G']), FlatTreeNode(name=M, parent=C, payload={'data': 'Data for M'}, root=A, children=[])]\n"
     ]
    }
   ],
   "source": [
    "print(tree[\"B\"])\n",
    "C = tree.node(\"C\")\n",
    "print(C)\n",
    "print(C[\"parent\"])\n",
    "print(C.children)"
   ]
  },
  {
   "cell_type": "markdown",
   "metadata": {},
   "source": [
    "We show that it's easy to regenerate any JSON files that may have been used\n",
    "to generate the FlatTree 'tree'. So, JSON is a good format for storing and\n",
    "transmitting trees. And, of course, `FlatTree` *is* a dictionary. Of course,\n",
    "if we store an object that has no serializable representation, it cannot be\n",
    "stored in JSON."
   ]
  },
  {
   "cell_type": "code",
   "execution_count": 10,
   "metadata": {},
   "outputs": [
    {
     "name": "stdout",
     "output_type": "stream",
     "text": [
      "True\n"
     ]
    }
   ],
   "source": [
    "print(json.dumps(tree, indent=2) == json.dumps(tree_data, indent=2))"
   ]
  },
  {
   "cell_type": "code",
   "execution_count": 11,
   "metadata": {},
   "outputs": [
    {
     "name": "stdout",
     "output_type": "stream",
     "text": [
      "FlatTreeNode(name=N, parent=A, payload={'data': 'Data for M'}, root=A, children=[])\n"
     ]
    },
    {
     "data": {
      "text/markdown": [
       "<pre>A\n",
       "├───── B\n",
       "│      └───── H\n",
       "├───── C\n",
       "│      ├───── D\n",
       "│      ├───── E\n",
       "│      │      ├───── F\n",
       "│      │      └───── G\n",
       "│      │             ├───── K\n",
       "│      │             └───── L\n",
       "│      └───── M\n",
       "├───── I\n",
       "│      └───── J\n",
       "├───── N\n",
       "└───── O ⚫\n",
       "</pre>"
      ],
      "text/plain": [
       "<IPython.core.display.Markdown object>"
      ]
     },
     "metadata": {},
     "output_type": "display_data"
    }
   ],
   "source": [
    "N = tree.root.add_child(name=\"N\", data=\"Data for M\")\n",
    "print(N)\n",
    "tree.node(\"A\").add_child(name=\"O\", data=\"Data for O\")\n",
    "monotext(pretty_tree(tree.root.node(\"A\"), mark=[\"O\"]))"
   ]
  },
  {
   "cell_type": "markdown",
   "metadata": {},
   "source": [
    "If we try too add a non-unique node key to the tree, we will get a `KeyError`."
   ]
  },
  {
   "cell_type": "code",
   "execution_count": 12,
   "metadata": {},
   "outputs": [
    {
     "name": "stdout",
     "output_type": "stream",
     "text": [
      "'key already exists in the tree: B'\n"
     ]
    }
   ],
   "source": [
    "try:\n",
    "    tree.node(\"A\").add_child(name=\"B\")\n",
    "except KeyError as e:\n",
    "    print(e)"
   ]
  },
  {
   "cell_type": "markdown",
   "metadata": {},
   "source": [
    "Let's add some more nodes."
   ]
  },
  {
   "cell_type": "code",
   "execution_count": 13,
   "metadata": {},
   "outputs": [
    {
     "data": {
      "text/markdown": [
       "<pre>A\n",
       "├───── B\n",
       "│      └───── H\n",
       "├───── C\n",
       "│      ├───── D\n",
       "│      ├───── E\n",
       "│      │      ├───── F\n",
       "│      │      └───── G\n",
       "│      │             ├───── K\n",
       "│      │             └───── L\n",
       "│      └───── M\n",
       "├───── I\n",
       "│      └───── J\n",
       "├───── N 🔘\n",
       "│      ├───── P 🟠\n",
       "│      │      └───── R 🟣\n",
       "│      │             └───── S 🟡\n",
       "│      └───── Q 🟡\n",
       "└───── O\n",
       "</pre>"
      ],
      "text/plain": [
       "<IPython.core.display.Markdown object>"
      ]
     },
     "metadata": {},
     "output_type": "display_data"
    },
    {
     "name": "stdout",
     "output_type": "stream",
     "text": [
      "FlatTreeNode(name=A, parent=None, payload={'data': 'Data for A'}, root=A, children=['B', 'C', 'I', 'N', 'O'])\n",
      "None\n"
     ]
    }
   ],
   "source": [
    "P = N.add_child(name=\"P\", data=\"Data for P\")\n",
    "N.add_child(name=\"Q\", data=\"Data for Q\")\n",
    "P.add_child(name=\"R\", data=\"Data for R\").add_child(\n",
    "    name=\"S\", data=\"Data for S\"\n",
    ")\n",
    "monotext(pretty_tree(tree.root, mark=[\"N\", \"P\", \"Q\", \"R\", \"S\"]))\n",
    "\n",
    "print(tree.root.node(\"A\"))\n",
    "print(tree.root.node(\"A\").parent)"
   ]
  },
  {
   "cell_type": "code",
   "execution_count": 14,
   "metadata": {},
   "outputs": [
    {
     "name": "stdout",
     "output_type": "stream",
     "text": [
      "['D', 'C', 'E', 'M', 'A', 'F', 'G', 'B', 'I', 'N', 'O', 'K', 'L', 'H', 'J', 'P', 'Q', 'R', 'S']\n"
     ]
    }
   ],
   "source": [
    "f_nodes = utils.breadth_first_undirected(tree.node(\"D\"), 10)\n",
    "print([n.name for n in f_nodes])"
   ]
  },
  {
   "cell_type": "code",
   "execution_count": 15,
   "metadata": {},
   "outputs": [],
   "source": [
    "root_A = utils.subtree_rooted_at(tree.node(\"A\"), 2)"
   ]
  },
  {
   "cell_type": "code",
   "execution_count": 16,
   "metadata": {},
   "outputs": [],
   "source": [
    "center_D = utils.subtree_centered_at(tree.node(\"D\"), 2)\n"
   ]
  },
  {
   "cell_type": "code",
   "execution_count": 17,
   "metadata": {},
   "outputs": [
    {
     "data": {
      "text/markdown": [
       "<pre>A ◄ Data for A ⚪\n",
       "└───── C ◄ Data for C\n",
       "       ├───── D ◄ Data for D 🔵\n",
       "       ├───── E ◄ Data for E\n",
       "       └───── M ◄ Data for M\n",
       "</pre>"
      ],
      "text/plain": [
       "<IPython.core.display.Markdown object>"
      ]
     },
     "metadata": {},
     "output_type": "display_data"
    }
   ],
   "source": [
    "monotext(pretty_tree(center_D, mark=[\"A\", \"D\"], node_details=lambda node: node.payload['data']))"
   ]
  },
  {
   "cell_type": "code",
   "execution_count": 18,
   "metadata": {},
   "outputs": [
    {
     "data": {
      "text/markdown": [
       "<pre>A ◄ Data for A ⚪\n",
       "├───── B ◄ Data for B\n",
       "│      └───── H ◄ Data for H\n",
       "├───── C ◄ Data for C\n",
       "│      ├───── D ◄ Data for D 🔵\n",
       "│      ├───── E ◄ Data for E\n",
       "│      └───── M ◄ Data for M\n",
       "├───── I ◄ Data for I\n",
       "│      └───── J ◄ Data for J\n",
       "├───── N ◄ Data for M\n",
       "│      ├───── P ◄ Data for P\n",
       "│      └───── Q ◄ Data for Q\n",
       "└───── O ◄ Data for O\n",
       "</pre>"
      ],
      "text/plain": [
       "<IPython.core.display.Markdown object>"
      ]
     },
     "metadata": {},
     "output_type": "display_data"
    }
   ],
   "source": [
    "monotext(pretty_tree(root_A, mark=[\"A\", \"D\"], node_details=lambda node: node.payload['data']))"
   ]
  },
  {
   "cell_type": "markdown",
   "metadata": {},
   "source": [
    "We also support conversions to and from `FlatTree`, `TreeNode`, and `anytree.Node` objects, or any other object which has an `__init__` method that takes arguments, or keyword arguments, and also has arguments for `parent` and `name`.\n",
    "\n",
    "The function is called `TreeConverter.copy_under` which accepts a `source` and `target` object, and copies the `source` object under the `target` object. The source is normally\n",
    "a node of some kind, and the target is another node, and the result is the tree\n",
    "structure under the source node is copied under the target node. The source node\n",
    "is not modified in any way."
   ]
  },
  {
   "cell_type": "code",
   "execution_count": 19,
   "metadata": {},
   "outputs": [
    {
     "data": {
      "text/markdown": [
       "<pre>A\n",
       "├───── B\n",
       "│      └───── H\n",
       "├───── C\n",
       "│      ├───── D\n",
       "│      ├───── E\n",
       "│      │      ├───── F\n",
       "│      │      └───── G\n",
       "│      │             ├───── K\n",
       "│      │             └───── L\n",
       "│      └───── M\n",
       "├───── I\n",
       "│      └───── J\n",
       "├───── N\n",
       "│      ├───── P\n",
       "│      │      └───── R\n",
       "│      │             └───── S\n",
       "│      └───── Q\n",
       "└───── O\n",
       "</pre>"
      ],
      "text/plain": [
       "<IPython.core.display.Markdown object>"
      ]
     },
     "metadata": {},
     "output_type": "display_data"
    },
    {
     "data": {
      "text/markdown": [
       "<pre>A\n",
       "├───── B\n",
       "│      └───── H\n",
       "├───── C\n",
       "│      ├───── D\n",
       "│      ├───── E\n",
       "│      │      ├───── F\n",
       "│      │      └───── G\n",
       "│      │             ├───── K\n",
       "│      │             └───── L\n",
       "│      └───── M\n",
       "├───── I\n",
       "│      └───── J\n",
       "├───── N\n",
       "│      ├───── P\n",
       "│      │      └───── R\n",
       "│      │             └───── S\n",
       "│      └───── Q\n",
       "└───── O\n",
       "</pre>"
      ],
      "text/plain": [
       "<IPython.core.display.Markdown object>"
      ]
     },
     "metadata": {},
     "output_type": "display_data"
    },
    {
     "data": {
      "text/markdown": [
       "<pre>A\n",
       "├───── B\n",
       "│      └───── H\n",
       "├───── C\n",
       "│      ├───── D\n",
       "│      ├───── E\n",
       "│      │      ├───── F\n",
       "│      │      └───── G\n",
       "│      │             ├───── K\n",
       "│      │             └───── L\n",
       "│      └───── M\n",
       "├───── I\n",
       "│      └───── J\n",
       "├───── N\n",
       "│      ├───── P\n",
       "│      │      └───── R\n",
       "│      │             └───── S\n",
       "│      └───── Q\n",
       "└───── O\n",
       "</pre>"
      ],
      "text/plain": [
       "<IPython.core.display.Markdown object>"
      ]
     },
     "metadata": {},
     "output_type": "display_data"
    },
    {
     "data": {
      "text/markdown": [
       "<pre>A ◄ Data for A\n",
       "├───── B ◄ Data for B\n",
       "│      └───── H ◄ Data for H\n",
       "├───── C ◄ Data for C\n",
       "│      ├───── D ◄ Data for D\n",
       "│      │      └───── E' ◄ Data for E\n",
       "│      │             ├───── F' ◄ Data for F\n",
       "│      │             └───── G' ◄ Data for G\n",
       "│      │                    ├───── K' ◄ Data for K\n",
       "│      │                    └───── L' ◄ Data for L\n",
       "│      ├───── E ◄ Data for E\n",
       "│      │      ├───── F ◄ Data for F\n",
       "│      │      └───── G ◄ Data for G\n",
       "│      │             ├───── K ◄ Data for K\n",
       "│      │             └───── L ◄ Data for L\n",
       "│      └───── M ◄ Data for M\n",
       "├───── I ◄ Data for I\n",
       "│      └───── J ◄ Data for J\n",
       "├───── N ◄ Data for M\n",
       "│      ├───── P ◄ Data for P\n",
       "│      │      └───── R ◄ Data for R\n",
       "│      │             └───── S ◄ Data for S\n",
       "│      └───── Q ◄ Data for Q\n",
       "└───── O ◄ Data for O\n",
       "</pre>"
      ],
      "text/plain": [
       "<IPython.core.display.Markdown object>"
      ]
     },
     "metadata": {},
     "output_type": "display_data"
    }
   ],
   "source": [
    "from AlgoTree.treenode import TreeNode\n",
    "from copy import deepcopy\n",
    "\n",
    "tree1 = TreeConverter.copy_under(tree.root, TreeNode(name=\"treenode\"))\n",
    "tree2 = TreeConverter.copy_under(tree.root, FlatTreeNode(name=\"flattreenode\"))\n",
    "tree3 = TreeConverter.copy_under(deepcopy(tree.node(\"E\")), deepcopy(tree.node(\"D\")), node_name=lambda node: f\"{node.name}'\")\n",
    "monotext(pretty_tree(tree.root))\n",
    "monotext(pretty_tree(tree1))\n",
    "monotext(pretty_tree(tree2))\n",
    "monotext(pretty_tree(tree3.root, node_details=lambda node: node.payload['data']))\n"
   ]
  },
  {
   "cell_type": "markdown",
   "metadata": {},
   "source": [
    "We can iterate over the items of the child and we can modify/delete its data."
   ]
  },
  {
   "cell_type": "code",
   "execution_count": 20,
   "metadata": {},
   "outputs": [
    {
     "name": "stdout",
     "output_type": "stream",
     "text": [
      "data <-- Data for M\n",
      "parent <-- A\n",
      "FlatTreeNode(name=N, parent=A, payload={'data': 'Data for M', 'new_data': 'Some new data for G'}, root=A, children=['P', 'Q'])\n",
      "FlatTreeNode(name=N, parent=A, payload={'data': 'Data for M', 'other_new_data': 'Some other data for G'}, root=A, children=['P', 'Q'])\n"
     ]
    }
   ],
   "source": [
    "for k, v in N.items():\n",
    "    print(k, \"<--\", v)\n",
    "\n",
    "N[\"new_data\"] = \"Some new data for G\"\n",
    "print(N)\n",
    "\n",
    "del N[\"new_data\"]\n",
    "N[\"other_new_data\"] = \"Some other data for G\"\n",
    "print(N)"
   ]
  },
  {
   "cell_type": "markdown",
   "metadata": {},
   "source": [
    "Let's create a tree from a dictionary that refers to a non-existent parent."
   ]
  },
  {
   "cell_type": "code",
   "execution_count": 21,
   "metadata": {},
   "outputs": [
    {
     "name": "stdout",
     "output_type": "stream",
     "text": [
      "\"Parent 'non_existent_parent' not in tree for node 'A'\"\n"
     ]
    }
   ],
   "source": [
    "try:\n",
    "    non_existent_parent_tree = FlatTree(\n",
    "        {\n",
    "            \"A\": {\n",
    "                \"parent\": \"non_existent_parent\",\n",
    "                \"data\": \"Data for A\",\n",
    "            }\n",
    "        }\n",
    "    )\n",
    "    FlatTree.check_valid(non_existent_parent_tree)\n",
    "except KeyError as e:\n",
    "    print(e)"
   ]
  },
  {
   "cell_type": "markdown",
   "metadata": {},
   "source": [
    "We see that the node is disconnected from the logical root, since it refers\n",
    "to a non-existent parent."
   ]
  },
  {
   "cell_type": "code",
   "execution_count": 22,
   "metadata": {},
   "outputs": [
    {
     "data": {
      "text/markdown": [
       "<pre>x\n",
       "└───── D\n",
       "</pre>"
      ],
      "text/plain": [
       "<IPython.core.display.Markdown object>"
      ]
     },
     "metadata": {},
     "output_type": "display_data"
    },
    {
     "name": "stdout",
     "output_type": "stream",
     "text": [
      "Cycle detected: {'B', 'C', 'A'}\n"
     ]
    }
   ],
   "source": [
    "try:\n",
    "    cycle_tree = FlatTree(\n",
    "        {\n",
    "            \"x\": {\"parent\": None, \"data\": \"Data for x\"},\n",
    "            \"A\": {\"parent\": \"C\", \"data\": \"Data for A\"},\n",
    "            \"B\": {\"parent\": \"A\", \"data\": \"Data for B\"},\n",
    "            \"C\": {\"parent\": \"B\", \"data\": \"Data for C\"},\n",
    "            \"D\": {\"parent\": \"x\", \"data\": \"Data for D\"},\n",
    "        }\n",
    "    )\n",
    "\n",
    "    monotext(pretty_tree(cycle_tree.root))\n",
    "    FlatTree.check_valid(cycle_tree)\n",
    "except ValueError as e:\n",
    "    print(e)"
   ]
  },
  {
   "cell_type": "markdown",
   "metadata": {},
   "source": [
    "We see that the tree was in an invalid state. In particular, nodes 1, 2, and 3\n",
    "are disconnected from the logical root and in a cycle. We can fix this by\n",
    "breaking the cycle and setting the parent of node 3 to, for instance, the\n",
    "logical root (by setting it to `None`)."
   ]
  },
  {
   "cell_type": "code",
   "execution_count": 23,
   "metadata": {},
   "outputs": [
    {
     "data": {
      "text/markdown": [
       "<pre>x\n",
       "├───── C ⚫\n",
       "│      └───── A\n",
       "│             └───── B\n",
       "└───── D\n",
       "</pre>"
      ],
      "text/plain": [
       "<IPython.core.display.Markdown object>"
      ]
     },
     "metadata": {},
     "output_type": "display_data"
    }
   ],
   "source": [
    "cycle_tree[\"C\"][\"parent\"] = \"x\"\n",
    "FlatTree.check_valid(cycle_tree)\n",
    "monotext(pretty_tree(cycle_tree.root, mark=[\"C\"]))"
   ]
  },
  {
   "cell_type": "markdown",
   "metadata": {},
   "source": [
    "Let's look at the tree again, and see about creating a cycle."
   ]
  },
  {
   "cell_type": "markdown",
   "metadata": {},
   "source": [
    "We will make node 1 the parent of node 5, to create a cycle:"
   ]
  },
  {
   "cell_type": "code",
   "execution_count": 24,
   "metadata": {},
   "outputs": [
    {
     "name": "stdout",
     "output_type": "stream",
     "text": [
      "Node 'data' does not have dictionary: value='Data for A'\n"
     ]
    }
   ],
   "source": [
    "try:\n",
    "    new_tree = deepcopy(tree.root)\n",
    "    new_tree.node(\"A\")[\"parent\"] = \"E\"\n",
    "    FlatTree.check_valid(new_tree)\n",
    "except ValueError as e:\n",
    "    print(e)"
   ]
  },
  {
   "cell_type": "markdown",
   "metadata": {},
   "source": [
    "Notice that we use `deepcopy` to avoid modifying the original tree with these\n",
    "invalid operations. We chose to do it this way so as to not incur the overhead\n",
    "of reverting the tree to a valid state after an invalid operation. This way,\n",
    "we can keep the tree in an invalid state for as long as we want, and only\n",
    "revert it to a valid state when we want to."
   ]
  },
  {
   "cell_type": "markdown",
   "metadata": {},
   "source": [
    "Each node is a key-value pair in the `FlatTree`. We have the  `FlatTree.ProxyNode`\n",
    "so that we can have an API focused on the nodes and not the underlying dictionary.\n",
    "However, we stiill permit access to the underlying dictionary. When you modify\n",
    "the tree in this way, we still maintain the integrity of the tree.\n",
    "\n",
    "Since the `FlatTree` represents nodes as key-value pairs, and the value may\n",
    "have a parent key, along with any other arbitrary data, each value for a node\n",
    "must be a dictionary.\n",
    "\n",
    "Below, we see that trying to add a `test` node with a non-dictionary value\n",
    "generates an error."
   ]
  },
  {
   "cell_type": "code",
   "execution_count": 25,
   "metadata": {},
   "outputs": [
    {
     "name": "stdout",
     "output_type": "stream",
     "text": [
      "Node 'test' does not have dictionary: value='Some test data'\n"
     ]
    }
   ],
   "source": [
    "try:\n",
    "    error_tree = deepcopy(tree)\n",
    "    # this will raise a ValueError because the node with key `test` maps to\n",
    "    # string instead of a dict.\n",
    "    error_tree[\"test\"] = \"Some test data\"\n",
    "    FlatTree.check_valid(error_tree)\n",
    "except ValueError as e:\n",
    "    print(e)"
   ]
  },
  {
   "cell_type": "markdown",
   "metadata": {},
   "source": [
    "Let's manipulate the tree a bit more using the `dict` API. We're just going to\n",
    "add a `new_node` with some data."
   ]
  },
  {
   "cell_type": "code",
   "execution_count": 26,
   "metadata": {},
   "outputs": [
    {
     "name": "stdout",
     "output_type": "stream",
     "text": [
      "FlatTreeNode(name=T, parent=A, payload={'data': 'Data for T'}, root=A, children=[])\n",
      "FlatTreeNode(name=A, parent=None, payload={'data': 'Data for A'}, root=A, children=['B', 'C', 'I', 'N', 'O', 'T'])\n"
     ]
    },
    {
     "data": {
      "text/markdown": [
       "<pre>0\n",
       "├───── 1\n",
       "└───── 2\n",
       "       └───── 3\n",
       "</pre>"
      ],
      "text/plain": [
       "<IPython.core.display.Markdown object>"
      ]
     },
     "metadata": {},
     "output_type": "display_data"
    }
   ],
   "source": [
    "tree[\"T\"] = {\n",
    "    \"parent\": \"A\",\n",
    "    \"data\": \"Data for T\"\n",
    "}\n",
    "\n",
    "print(tree.node(\"T\"))\n",
    "print(tree.root)\n",
    "\n",
    "node0 = FlatTreeNode(name=\"0\", data=0)\n",
    "node1 = FlatTreeNode(name=\"1\", data=1, parent=node0)\n",
    "node2 = FlatTreeNode(name=\"2\", data=2, parent=node0)\n",
    "node3 = FlatTreeNode(name=\"3\", data=3, parent=node2)\n",
    "\n",
    "result = TreeConverter.copy_under(node0, tree.node(\"B\"))\n",
    "\n",
    "result2 = TreeConverter.convert(node0.tree.root, FlatTreeNode)\n",
    "\n",
    "monotext(pretty_tree(result2))\n"
   ]
  },
  {
   "cell_type": "code",
   "execution_count": 27,
   "metadata": {},
   "outputs": [
    {
     "data": {
      "text/markdown": [
       "<pre>A\n",
       "├───── B\n",
       "│      ├───── H\n",
       "│      └───── 0\n",
       "│             ├───── 1\n",
       "│             └───── 2\n",
       "│                    └───── 3\n",
       "├───── C\n",
       "│      ├───── D\n",
       "│      ├───── E\n",
       "│      │      ├───── F\n",
       "│      │      └───── G\n",
       "│      │             ├───── K\n",
       "│      │             └───── L\n",
       "│      └───── M\n",
       "├───── I\n",
       "│      └───── J\n",
       "├───── N\n",
       "│      ├───── P\n",
       "│      │      └───── R\n",
       "│      │             └───── S\n",
       "│      └───── Q\n",
       "├───── O\n",
       "└───── T\n",
       "</pre>"
      ],
      "text/plain": [
       "<IPython.core.display.Markdown object>"
      ]
     },
     "metadata": {},
     "output_type": "display_data"
    }
   ],
   "source": [
    "monotext(pretty_tree(tree.node(\"A\")))"
   ]
  },
  {
   "cell_type": "code",
   "execution_count": 28,
   "metadata": {},
   "outputs": [
    {
     "name": "stdout",
     "output_type": "stream",
     "text": [
      "FlatTree({'A': {'data': 'Data for A'}, 'B': {'parent': 'A', 'data': 'Data for B'}, 'C': {'parent': 'A', 'data': 'Data for C'}, 'D': {'parent': 'C', 'data': 'Data for D'}, 'E': {'parent': 'C', 'data': 'Data for E'}, 'F': {'parent': 'E', 'data': 'Data for F'}, 'G': {'parent': 'E', 'data': 'Data for G'}, 'H': {'parent': 'B', 'data': 'Data for H'}, 'I': {'parent': 'A', 'data': 'Data for I'}, 'J': {'parent': 'I', 'data': 'Data for J'}, 'K': {'parent': 'G', 'data': 'Data for K'}, 'L': {'parent': 'G', 'data': 'Data for L'}, 'M': {'parent': 'C', 'data': 'Data for M'}, 'N': {'data': 'Data for M', 'parent': 'A', 'other_new_data': 'Some other data for G'}, 'O': {'data': 'Data for O', 'parent': 'A'}, 'P': {'data': 'Data for P', 'parent': 'N'}, 'Q': {'data': 'Data for Q', 'parent': 'N'}, 'R': {'data': 'Data for R', 'parent': 'P'}, 'S': {'data': 'Data for S', 'parent': 'R'}, 'T': {'parent': 'A', 'data': 'Data for T'}, '0': {'data': 0, 'parent': 'B'}, '1': {'data': 1, 'parent': '0'}, '2': {'data': 2, 'parent': '0'}, '3': {'data': 3, 'parent': '2'}})\n"
     ]
    }
   ],
   "source": [
    "pprint(tree)"
   ]
  },
  {
   "cell_type": "markdown",
   "metadata": {},
   "source": [
    "The logical root node is not a part of the underlying dictionary, so we can't\n",
    "access it through the `dict` API. It's non-children data are also immutable\n",
    "through the `FlatTreeNode` API."
   ]
  },
  {
   "cell_type": "code",
   "execution_count": 29,
   "metadata": {},
   "outputs": [],
   "source": [
    "try:\n",
    "    tree.root[\"data\"] = \"Some new data for root node\"\n",
    "except TypeError as e:\n",
    "    print(e)\n",
    "\n",
    "try:\n",
    "    tree.root[\"parent\"] = None\n",
    "except TypeError as e:\n",
    "    print(e)"
   ]
  },
  {
   "cell_type": "markdown",
   "metadata": {},
   "source": [
    "We can *detach* nodes. Let's first view the full tree, pre-detachment."
   ]
  },
  {
   "cell_type": "code",
   "execution_count": 30,
   "metadata": {},
   "outputs": [
    {
     "data": {
      "text/markdown": [
       "<pre>A\n",
       "├───── B\n",
       "│      ├───── H\n",
       "│      └───── 0\n",
       "│             ├───── 1\n",
       "│             └───── 2\n",
       "│                    └───── 3\n",
       "├───── C\n",
       "│      ├───── D\n",
       "│      ├───── E\n",
       "│      │      ├───── F\n",
       "│      │      └───── G\n",
       "│      │             ├───── K\n",
       "│      │             └───── L\n",
       "│      └───── M\n",
       "├───── I\n",
       "│      └───── J\n",
       "├───── N\n",
       "│      ├───── P\n",
       "│      │      └───── R\n",
       "│      │             └───── S\n",
       "│      └───── Q\n",
       "├───── O\n",
       "└───── T\n",
       "</pre>"
      ],
      "text/plain": [
       "<IPython.core.display.Markdown object>"
      ]
     },
     "metadata": {},
     "output_type": "display_data"
    }
   ],
   "source": [
    "monotext(pretty_tree(tree.root))"
   ]
  },
  {
   "cell_type": "code",
   "execution_count": 31,
   "metadata": {},
   "outputs": [
    {
     "data": {
      "text/markdown": [
       "<pre>A\n",
       "├───── I\n",
       "│      └───── J\n",
       "├───── N\n",
       "│      ├───── P\n",
       "│      │      └───── R\n",
       "│      │             └───── S\n",
       "│      └───── Q\n",
       "├───── O\n",
       "└───── T\n",
       "</pre>"
      ],
      "text/plain": [
       "<IPython.core.display.Markdown object>"
      ]
     },
     "metadata": {},
     "output_type": "display_data"
    }
   ],
   "source": [
    "tree.node(\"C\").detach()\n",
    "tree.detach(\"B\")\n",
    "monotext(pretty_tree(tree.root))\n"
   ]
  },
  {
   "cell_type": "markdown",
   "metadata": {},
   "source": [
    "Let's view the detached tree."
   ]
  },
  {
   "cell_type": "code",
   "execution_count": 32,
   "metadata": {},
   "outputs": [
    {
     "data": {
      "text/markdown": [
       "<pre>__DETACHED__\n",
       "├───── B 🟢\n",
       "│      ├───── H\n",
       "│      └───── 0\n",
       "│             ├───── 1\n",
       "│             └───── 2\n",
       "│                    └───── 3\n",
       "└───── C ⚫\n",
       "       ├───── D\n",
       "       ├───── E\n",
       "       │      ├───── F\n",
       "       │      └───── G\n",
       "       │             ├───── K\n",
       "       │             └───── L\n",
       "       └───── M\n",
       "</pre>"
      ],
      "text/plain": [
       "<IPython.core.display.Markdown object>"
      ]
     },
     "metadata": {},
     "output_type": "display_data"
    }
   ],
   "source": [
    "monotext(pretty_tree(tree.detached, mark=[\"B\", \"C\"]))\n"
   ]
  },
  {
   "cell_type": "markdown",
   "metadata": {},
   "source": [
    "We can prune (delete) nodes (and their descendants) from the tree with the\n",
    "`prune` method. The prune method takes either a node key or a `FlatTreeNode`\n",
    "object. Let's prune the detached nodes:"
   ]
  },
  {
   "cell_type": "code",
   "execution_count": 33,
   "metadata": {},
   "outputs": [
    {
     "name": "stdout",
     "output_type": "stream",
     "text": [
      "Pruned keys: ['B', 'H', '0', '1', '2', '3', 'C', 'D', 'E', 'F', 'G', 'K', 'L', 'M']\n",
      "\"Key not found: 'B'\"\n",
      "\"Key not found: 'H'\"\n",
      "\"Key not found: '0'\"\n",
      "\"Key not found: '1'\"\n",
      "\"Key not found: '2'\"\n",
      "\"Key not found: '3'\"\n",
      "\"Key not found: 'C'\"\n",
      "\"Key not found: 'D'\"\n",
      "\"Key not found: 'E'\"\n",
      "\"Key not found: 'F'\"\n",
      "\"Key not found: 'G'\"\n",
      "\"Key not found: 'K'\"\n",
      "\"Key not found: 'L'\"\n",
      "\"Key not found: 'M'\"\n",
      "FlatTree({'A': {'data': 'Some new data for root node', 'parent': None}, 'I': {'parent': 'A', 'data': 'Data for I'}, 'J': {'parent': 'I', 'data': 'Data for J'}, 'N': {'data': 'Data for M', 'parent': 'A', 'other_new_data': 'Some other data for G'}, 'O': {'data': 'Data for O', 'parent': 'A'}, 'P': {'data': 'Data for P', 'parent': 'N'}, 'Q': {'data': 'Data for Q', 'parent': 'N'}, 'R': {'data': 'Data for R', 'parent': 'P'}, 'S': {'data': 'Data for S', 'parent': 'R'}, 'T': {'parent': 'A', 'data': 'Data for T'}})\n"
     ]
    }
   ],
   "source": [
    "# tree.prune(\"__DETACHED__\")\n",
    "pruned_keys = tree.prune(tree.detached)\n",
    "print(f\"Pruned keys: {pruned_keys}\")\n",
    "for key in pruned_keys:\n",
    "    try:\n",
    "        print(tree.node(key))\n",
    "    except KeyError as e:\n",
    "        print(e)\n",
    "\n",
    "pprint(tree)"
   ]
  },
  {
   "cell_type": "markdown",
   "metadata": {},
   "source": [
    "We can prune any subtree from the tree. Let's prune the subtree rooted at\n",
    "node 3."
   ]
  },
  {
   "cell_type": "code",
   "execution_count": 34,
   "metadata": {},
   "outputs": [
    {
     "name": "stdout",
     "output_type": "stream",
     "text": [
      "pruned_keys=['P', 'R', 'S']\n",
      "\"Key not found: 'P'\"\n",
      "\"Key not found: 'R'\"\n",
      "\"Key not found: 'S'\"\n"
     ]
    },
    {
     "data": {
      "text/markdown": [
       "<pre>A\n",
       "├───── I\n",
       "│      └───── J\n",
       "├───── N\n",
       "│      └───── Q\n",
       "├───── O\n",
       "└───── T\n",
       "</pre>"
      ],
      "text/plain": [
       "<IPython.core.display.Markdown object>"
      ]
     },
     "metadata": {},
     "output_type": "display_data"
    }
   ],
   "source": [
    "pruned_keys = tree.prune(\"P\")\n",
    "print(f\"{pruned_keys=}\")\n",
    "for key in pruned_keys:\n",
    "    try:\n",
    "        print(tree.node(key))\n",
    "    except KeyError as e:\n",
    "        print(e)\n",
    "\n",
    "monotext(pretty_tree(tree.root))"
   ]
  },
  {
   "cell_type": "markdown",
   "metadata": {},
   "source": [
    "\n",
    "We have a fairly complete API for manipulating the tree. Let's explore some\n",
    "additional methods."
   ]
  },
  {
   "cell_type": "code",
   "execution_count": 35,
   "metadata": {},
   "outputs": [
    {
     "name": "stdout",
     "output_type": "stream",
     "text": [
      "{'new_data': 'Some new data for A', 'other_new_data': 'Some other data for A'}\n"
     ]
    }
   ],
   "source": [
    "tree.node(\"A\").clear()\n",
    "tree.node(\"A\")[\"new_data\"] = \"Some new data for A\"\n",
    "tree.node(\"A\")[\"other_new_data\"] = \"Some other data for A\"\n",
    "print(tree[\"A\"])"
   ]
  },
  {
   "cell_type": "markdown",
   "metadata": {},
   "source": [
    "This is fairly self-expalanatory. Let's add some more nodes without specifying\n",
    "a key name for them, since often we don't care about the key name and it's\n",
    "only for bookkeeping purposes."
   ]
  },
  {
   "cell_type": "code",
   "execution_count": 36,
   "metadata": {},
   "outputs": [
    {
     "data": {
      "text/markdown": [
       "<pre>A ◄ {'new_data': 'Some new data for A', 'other_new_data': 'Some other data for A'}\n",
       "├───── I ◄ {'data': 'Data for I'}\n",
       "│      ├───── J ◄ {'data': 'Data for J'}\n",
       "│      └───── 8b045cc5-a6fa-41f4-b2c5-587ae28378be ◄ {'whatever': 1000}\n",
       "├───── N ◄ {'data': 'Data for M', 'other_new_data': 'Some other data for G'}\n",
       "│      └───── Q ◄ {'data': 'Data for Q'}\n",
       "├───── O ◄ {'data': 'Data for O'}\n",
       "├───── T ◄ {'data': 'Data for T'}\n",
       "├───── ce3656d5-675a-4e7a-8293-6c31d0b04653 ◄ {'whatever': 3}\n",
       "│      └───── U ◄ {'whatever': 4} 🔴\n",
       "│             └───── 604f3b14-863e-4416-8fcd-57ebf9d568a7 ◄ {'whatever': 5}\n",
       "└───── W ◄ {'whatever': 200} 🔵\n",
       "       └───── V ◄ {'whatever': 2000} 🟡\n",
       "              └───── f3efaadc-6e5f-4ba7-937b-4cc93806fc85 ◄ {'whatever': 3000, 'more_data': 'yes'}\n",
       "</pre>"
      ],
      "text/plain": [
       "<IPython.core.display.Markdown object>"
      ]
     },
     "metadata": {},
     "output_type": "display_data"
    }
   ],
   "source": [
    "tree.root.add_child(whatever=3).add_child(\n",
    "    name=\"U\", whatever=4).add_child(whatever=5)\n",
    "FlatTreeNode(whatever=1000, parent=tree.root.children[0])\n",
    "FlatTreeNode(name=\"V\", whatever=2000, parent=tree.root.children[0].children[1])\n",
    "FlatTreeNode(whatever=3000, more_data=\"yes\", parent=tree.node(\"V\"))\n",
    "FlatTreeNode(name=\"W\", parent=tree.root, whatever=200)\n",
    "\n",
    "\n",
    "tree.node(\"V\").parent = tree.node(\"W\")\n",
    "\n",
    "monotext(pretty_tree(tree.root, mark=[\"U\", \"V\", \"W\"], node_details=lambda n: n.payload))\n",
    "\n"
   ]
  },
  {
   "cell_type": "markdown",
   "metadata": {},
   "source": [
    "Let's look at some tree conversions. We can convert between different tree\n",
    "representations and data structures."
   ]
  },
  {
   "cell_type": "code",
   "execution_count": 37,
   "metadata": {},
   "outputs": [
    {
     "name": "stdout",
     "output_type": "stream",
     "text": [
      "<class 'AlgoTree.treenode.TreeNode'>\n"
     ]
    }
   ],
   "source": [
    "new_tree = TreeConverter.convert(tree.root, TreeNode)\n",
    "print(type(new_tree))"
   ]
  },
  {
   "cell_type": "markdown",
   "metadata": {},
   "source": [
    "We see that it's a different type of tree, a `TreeNode`, which is a recursive\n",
    "data structure. Nowever, it's also a `dict`. Let's look at its representation."
   ]
  },
  {
   "cell_type": "code",
   "execution_count": 38,
   "metadata": {},
   "outputs": [
    {
     "name": "stdout",
     "output_type": "stream",
     "text": [
      "TreeNode({'new_data': 'Some new data for A', 'other_new_data': 'Some other data for A', '__name__': 'A', 'children': [{'data': 'Data for I', '__name__': 'I', 'children': [{'data': 'Data for J', '__name__': 'J'}, {'whatever': 1000, '__name__': '8b045cc5-a6fa-41f4-b2c5-587ae28378be'}]}, {'data': 'Data for M', 'other_new_data': 'Some other data for G', '__name__': 'N', 'children': [{'data': 'Data for Q', '__name__': 'Q'}]}, {'data': 'Data for O', '__name__': 'O'}, {'data': 'Data for T', '__name__': 'T'}, {'whatever': 3, '__name__': 'ce3656d5-675a-4e7a-8293-6c31d0b04653', 'children': [{'whatever': 4, '__name__': 'U', 'children': [{'whatever': 5, '__name__': '604f3b14-863e-4416-8fcd-57ebf9d568a7'}]}]}, {'whatever': 200, '__name__': 'W', 'children': [{'whatever': 2000, '__name__': 'V', 'children': [{'whatever': 3000, 'more_data': 'yes', '__name__': 'f3efaadc-6e5f-4ba7-937b-4cc93806fc85'}]}]}]})\n"
     ]
    }
   ],
   "source": [
    "pprint(new_tree)"
   ]
  },
  {
   "cell_type": "markdown",
   "metadata": {},
   "source": [
    "We see that it has a very different structure. However, when we pretty-print\n",
    "it using `TreeViz`, we see that it's the same tree."
   ]
  },
  {
   "cell_type": "code",
   "execution_count": 39,
   "metadata": {},
   "outputs": [
    {
     "data": {
      "text/markdown": [
       "<pre>A\n",
       "├───── I\n",
       "│      ├───── J\n",
       "│      └───── 8b045cc5-a6fa-41f4-b2c5-587ae28378be\n",
       "├───── N\n",
       "│      └───── Q\n",
       "├───── O\n",
       "├───── T\n",
       "├───── ce3656d5-675a-4e7a-8293-6c31d0b04653\n",
       "│      └───── U\n",
       "│             └───── 604f3b14-863e-4416-8fcd-57ebf9d568a7\n",
       "└───── W\n",
       "       └───── V\n",
       "              └───── f3efaadc-6e5f-4ba7-937b-4cc93806fc85\n",
       "</pre>"
      ],
      "text/plain": [
       "<IPython.core.display.Markdown object>"
      ]
     },
     "metadata": {},
     "output_type": "display_data"
    },
    {
     "data": {
      "text/markdown": [
       "<pre>A\n",
       "├───── I\n",
       "│      ├───── J\n",
       "│      └───── 8b045cc5-a6fa-41f4-b2c5-587ae28378be\n",
       "├───── N\n",
       "│      └───── Q\n",
       "├───── O\n",
       "├───── T\n",
       "├───── ce3656d5-675a-4e7a-8293-6c31d0b04653\n",
       "│      └───── U\n",
       "│             └───── 604f3b14-863e-4416-8fcd-57ebf9d568a7\n",
       "└───── W\n",
       "       └───── V\n",
       "              └───── f3efaadc-6e5f-4ba7-937b-4cc93806fc85\n",
       "</pre>"
      ],
      "text/plain": [
       "<IPython.core.display.Markdown object>"
      ]
     },
     "metadata": {},
     "output_type": "display_data"
    }
   ],
   "source": [
    "monotext(pretty_tree(tree.root))\n",
    "monotext(pretty_tree(new_tree))"
   ]
  },
  {
   "cell_type": "code",
   "execution_count": 40,
   "metadata": {},
   "outputs": [
    {
     "data": {
      "text/markdown": [
       "<pre>A\n",
       "├───── I\n",
       "│      ├───── J\n",
       "│      └───── 8b045cc5-a6fa-41f4-b2c5-587ae28378be\n",
       "├───── N\n",
       "│      └───── Q\n",
       "├───── O\n",
       "├───── T\n",
       "├───── ce3656d5-675a-4e7a-8293-6c31d0b04653\n",
       "│      └───── U\n",
       "│             └───── 604f3b14-863e-4416-8fcd-57ebf9d568a7\n",
       "└───── W\n",
       "       └───── V\n",
       "              └───── f3efaadc-6e5f-4ba7-937b-4cc93806fc85\n",
       "</pre>"
      ],
      "text/plain": [
       "<IPython.core.display.Markdown object>"
      ]
     },
     "metadata": {},
     "output_type": "display_data"
    },
    {
     "name": "stdout",
     "output_type": "stream",
     "text": [
      "<class 'AlgoTree.treenode.TreeNode'>\n"
     ]
    },
    {
     "data": {
      "text/markdown": [
       "<pre>None</pre>"
      ],
      "text/plain": [
       "<IPython.core.display.Markdown object>"
      ]
     },
     "metadata": {},
     "output_type": "display_data"
    },
    {
     "name": "stdout",
     "output_type": "stream",
     "text": [
      "<class 'AlgoTree.treenode.TreeNode'>\n"
     ]
    },
    {
     "data": {
      "text/markdown": [
       "<pre>None</pre>"
      ],
      "text/plain": [
       "<IPython.core.display.Markdown object>"
      ]
     },
     "metadata": {},
     "output_type": "display_data"
    },
    {
     "name": "stdout",
     "output_type": "stream",
     "text": [
      "<class 'AlgoTree.flattree_node.FlatTreeNode'>\n"
     ]
    },
    {
     "data": {
      "text/markdown": [
       "<pre>None</pre>"
      ],
      "text/plain": [
       "<IPython.core.display.Markdown object>"
      ]
     },
     "metadata": {},
     "output_type": "display_data"
    },
    {
     "data": {
      "text/markdown": [
       "<pre>A\n",
       "├───── I\n",
       "│      ├───── J\n",
       "│      └───── 8b045cc5-a6fa-41f4-b2c5-587ae28378be\n",
       "├───── N\n",
       "│      └───── Q\n",
       "├───── O\n",
       "├───── T\n",
       "├───── ce3656d5-675a-4e7a-8293-6c31d0b04653\n",
       "│      └───── U\n",
       "│             └───── 604f3b14-863e-4416-8fcd-57ebf9d568a7\n",
       "└───── W\n",
       "       └───── V\n",
       "              └───── f3efaadc-6e5f-4ba7-937b-4cc93806fc85\n",
       "</pre>"
      ],
      "text/plain": [
       "<IPython.core.display.Markdown object>"
      ]
     },
     "metadata": {},
     "output_type": "display_data"
    },
    {
     "data": {
      "text/plain": [
       "FlatTreeNode(name=C, parent=B, payload={}, root=copy_under, children=[])"
      ]
     },
     "execution_count": 40,
     "metadata": {},
     "output_type": "execute_result"
    }
   ],
   "source": [
    "result = TreeConverter.copy_under(new_tree, FlatTreeNode(name=\"new_root\"))\n",
    "monotext(pretty_tree(result))\n",
    "result2 = TreeConverter.copy_under(result, new_tree)\n",
    "monotext(print(type(new_tree)))\n",
    "monotext(print(type(result2)))\n",
    "monotext(print(type(result)))\n",
    "monotext(pretty_tree(result2))\n",
    "\n",
    "copyundernode = FlatTreeNode(name=\"copy_under\")\n",
    "FlatTreeNode(name=\"A\", parent=copyundernode)\n",
    "B = FlatTreeNode(name=\"B\", parent=copyundernode)\n",
    "FlatTreeNode(name=\"C\", parent=B)"
   ]
  },
  {
   "cell_type": "markdown",
   "metadata": {},
   "source": [
    "The `TreeNode` is a bit more useful for operations that require recursion, but\n",
    "any tree can support the sae operations. The `TreeNode` is a bit more specialized\n",
    "for this purpose, and the `FlatTree` is a bit more specialized for more general\n",
    "storage and manipulation of data that is tree-like, such as configuration data\n",
    "or log data. See `TreeNode.md` for more information on the `TreeNode` class."
   ]
  },
  {
   "cell_type": "code",
   "execution_count": 41,
   "metadata": {},
   "outputs": [
    {
     "ename": "RecursionError",
     "evalue": "maximum recursion depth exceeded",
     "output_type": "error",
     "traceback": [
      "\u001b[0;31m---------------------------------------------------------------------------\u001b[0m",
      "\u001b[0;31mRecursionError\u001b[0m                            Traceback (most recent call last)",
      "Cell \u001b[0;32mIn[41], line 22\u001b[0m\n\u001b[1;32m     12\u001b[0m I[\u001b[38;5;124m\"\u001b[39m\u001b[38;5;124mchildren\u001b[39m\u001b[38;5;124m\"\u001b[39m] \u001b[38;5;241m=\u001b[39m [\n\u001b[1;32m     13\u001b[0m     {\u001b[38;5;124m\"\u001b[39m\u001b[38;5;124mvalue\u001b[39m\u001b[38;5;124m\"\u001b[39m: \u001b[38;5;241m10\u001b[39m},\n\u001b[1;32m     14\u001b[0m     {\u001b[38;5;124m\"\u001b[39m\u001b[38;5;124m__name__\u001b[39m\u001b[38;5;124m\"\u001b[39m: \u001b[38;5;124m\"\u001b[39m\u001b[38;5;124mY\u001b[39m\u001b[38;5;124m\"\u001b[39m, \u001b[38;5;124m\"\u001b[39m\u001b[38;5;124mvalue\u001b[39m\u001b[38;5;124m\"\u001b[39m: \u001b[38;5;241m11\u001b[39m},\n\u001b[1;32m     15\u001b[0m     {\u001b[38;5;124m\"\u001b[39m\u001b[38;5;124mvalue\u001b[39m\u001b[38;5;124m\"\u001b[39m: \u001b[38;5;241m12\u001b[39m},\n\u001b[1;32m     16\u001b[0m ]\n\u001b[1;32m     18\u001b[0m H\u001b[38;5;241m.\u001b[39mchildren \u001b[38;5;241m=\u001b[39m [\n\u001b[1;32m     19\u001b[0m     TreeNode(name\u001b[38;5;241m=\u001b[39m\u001b[38;5;124m\"\u001b[39m\u001b[38;5;124mX\u001b[39m\u001b[38;5;124m\"\u001b[39m, value\u001b[38;5;241m=\u001b[39m\u001b[38;5;241m13\u001b[39m),\n\u001b[1;32m     20\u001b[0m     TreeNode(name\u001b[38;5;241m=\u001b[39m\u001b[38;5;124m\"\u001b[39m\u001b[38;5;124mZ\u001b[39m\u001b[38;5;124m\"\u001b[39m, value\u001b[38;5;241m=\u001b[39m\u001b[38;5;241m14\u001b[39m),\n\u001b[1;32m     21\u001b[0m ]\n\u001b[0;32m---> 22\u001b[0m \u001b[43mroot\u001b[49m\u001b[38;5;241;43m.\u001b[39;49m\u001b[43mnode\u001b[49m\u001b[43m(\u001b[49m\u001b[38;5;124;43m\"\u001b[39;49m\u001b[38;5;124;43mY\u001b[39;49m\u001b[38;5;124;43m\"\u001b[39;49m\u001b[43m)\u001b[49m\u001b[38;5;241m.\u001b[39mchildren \u001b[38;5;241m=\u001b[39m [TreeNode(name\u001b[38;5;241m=\u001b[39m\u001b[38;5;124m\"\u001b[39m\u001b[38;5;124mZ\u001b[39m\u001b[38;5;124m\"\u001b[39m, value\u001b[38;5;241m=\u001b[39m\u001b[38;5;241m15\u001b[39m),\n\u001b[1;32m     23\u001b[0m                            TreeNode(name\u001b[38;5;241m=\u001b[39m\u001b[38;5;124m\"\u001b[39m\u001b[38;5;124mXYZ\u001b[39m\u001b[38;5;124m\"\u001b[39m, value\u001b[38;5;241m=\u001b[39m\u001b[38;5;241m16\u001b[39m)]\n\u001b[1;32m     24\u001b[0m monotext(pretty_tree(root\u001b[38;5;241m.\u001b[39mnode(\u001b[38;5;124m\"\u001b[39m\u001b[38;5;124mA\u001b[39m\u001b[38;5;124m\"\u001b[39m)\u001b[38;5;241m.\u001b[39mroot))\n\u001b[1;32m     25\u001b[0m monotext(pretty_tree(root\u001b[38;5;241m.\u001b[39mnode(\u001b[38;5;124m\"\u001b[39m\u001b[38;5;124mY\u001b[39m\u001b[38;5;124m\"\u001b[39m)\u001b[38;5;241m.\u001b[39mroot))\n",
      "File \u001b[0;32m~/github/public/AlgoTree/AlgoTree/treenode.py:243\u001b[0m, in \u001b[0;36mTreeNode.node\u001b[0;34m(self, name)\u001b[0m\n\u001b[1;32m    234\u001b[0m \u001b[38;5;28;01mdef\u001b[39;00m \u001b[38;5;21mnode\u001b[39m(\u001b[38;5;28mself\u001b[39m, name: \u001b[38;5;28mstr\u001b[39m) \u001b[38;5;241m-\u001b[39m\u001b[38;5;241m>\u001b[39m \u001b[38;5;124m\"\u001b[39m\u001b[38;5;124mTreeNode\u001b[39m\u001b[38;5;124m\"\u001b[39m:\n\u001b[1;32m    235\u001b[0m \u001b[38;5;250m    \u001b[39m\u001b[38;5;124;03m\"\"\"\u001b[39;00m\n\u001b[1;32m    236\u001b[0m \u001b[38;5;124;03m    Get the node with the given name in the current sub-tree. The sub-tree\u001b[39;00m\n\u001b[1;32m    237\u001b[0m \u001b[38;5;124;03m    remains the same, we just change the current node position. If the name\u001b[39;00m\n\u001b[0;32m   (...)\u001b[0m\n\u001b[1;32m    241\u001b[0m \u001b[38;5;124;03m    :return: The node with the given name.\u001b[39;00m\n\u001b[1;32m    242\u001b[0m \u001b[38;5;124;03m    \"\"\"\u001b[39;00m\n\u001b[0;32m--> 243\u001b[0m     new_node \u001b[38;5;241m=\u001b[39m \u001b[43mfind_node\u001b[49m\u001b[43m(\u001b[49m\u001b[38;5;28;43mself\u001b[39;49m\u001b[43m,\u001b[49m\u001b[43m \u001b[49m\u001b[38;5;28;43;01mlambda\u001b[39;49;00m\u001b[43m \u001b[49m\u001b[43mn\u001b[49m\u001b[43m,\u001b[49m\u001b[43m \u001b[49m\u001b[38;5;241;43m*\u001b[39;49m\u001b[38;5;241;43m*\u001b[39;49m\u001b[43m_\u001b[49m\u001b[43m:\u001b[49m\u001b[43m \u001b[49m\u001b[43mn\u001b[49m\u001b[38;5;241;43m.\u001b[39;49m\u001b[43mname\u001b[49m\u001b[43m \u001b[49m\u001b[38;5;241;43m==\u001b[39;49m\u001b[43m \u001b[49m\u001b[43mname\u001b[49m\u001b[43m)\u001b[49m\n\u001b[1;32m    244\u001b[0m     \u001b[38;5;28;01mif\u001b[39;00m new_node \u001b[38;5;129;01mis\u001b[39;00m \u001b[38;5;28;01mNone\u001b[39;00m:\n\u001b[1;32m    245\u001b[0m         \u001b[38;5;28;01mraise\u001b[39;00m \u001b[38;5;167;01mKeyError\u001b[39;00m(\u001b[38;5;124mf\u001b[39m\u001b[38;5;124m\"\u001b[39m\u001b[38;5;124mNode not found: \u001b[39m\u001b[38;5;132;01m{\u001b[39;00mname\u001b[38;5;132;01m}\u001b[39;00m\u001b[38;5;124m\"\u001b[39m)\n",
      "File \u001b[0;32m~/github/public/AlgoTree/AlgoTree/utils.py:378\u001b[0m, in \u001b[0;36mfind_node\u001b[0;34m(node, pred, **kwargs)\u001b[0m\n\u001b[1;32m    375\u001b[0m     \u001b[38;5;28;01melse\u001b[39;00m:\n\u001b[1;32m    376\u001b[0m         \u001b[38;5;28;01mreturn\u001b[39;00m \u001b[38;5;28;01mFalse\u001b[39;00m\n\u001b[0;32m--> 378\u001b[0m \u001b[43mbreadth_first\u001b[49m\u001b[43m(\u001b[49m\u001b[43mnode\u001b[49m\u001b[43m,\u001b[49m\u001b[43m \u001b[49m\u001b[43m_func\u001b[49m\u001b[43m,\u001b[49m\u001b[43m \u001b[49m\u001b[38;5;241;43m*\u001b[39;49m\u001b[38;5;241;43m*\u001b[39;49m\u001b[43mkwargs\u001b[49m\u001b[43m)\u001b[49m\n\u001b[1;32m    379\u001b[0m \u001b[38;5;28;01mreturn\u001b[39;00m result\n",
      "File \u001b[0;32m~/github/public/AlgoTree/AlgoTree/utils.py:299\u001b[0m, in \u001b[0;36mbreadth_first\u001b[0;34m(node, func, max_lvl, **kwargs)\u001b[0m\n\u001b[1;32m    296\u001b[0m     \u001b[38;5;28;01mcontinue\u001b[39;00m\n\u001b[1;32m    298\u001b[0m kwargs[\u001b[38;5;124m\"\u001b[39m\u001b[38;5;124mlevel\u001b[39m\u001b[38;5;124m\"\u001b[39m] \u001b[38;5;241m=\u001b[39m lvl\n\u001b[0;32m--> 299\u001b[0m \u001b[38;5;28;01mif\u001b[39;00m \u001b[43mfunc\u001b[49m\u001b[43m(\u001b[49m\u001b[43mcur\u001b[49m\u001b[43m,\u001b[49m\u001b[43m \u001b[49m\u001b[38;5;241;43m*\u001b[39;49m\u001b[38;5;241;43m*\u001b[39;49m\u001b[43mkwargs\u001b[49m\u001b[43m)\u001b[49m:\n\u001b[1;32m    300\u001b[0m     \u001b[38;5;28;01mreturn\u001b[39;00m \u001b[38;5;28;01mTrue\u001b[39;00m\n\u001b[1;32m    302\u001b[0m \u001b[38;5;28;01mfor\u001b[39;00m child \u001b[38;5;129;01min\u001b[39;00m cur\u001b[38;5;241m.\u001b[39mchildren:\n",
      "File \u001b[0;32m~/github/public/AlgoTree/AlgoTree/utils.py:372\u001b[0m, in \u001b[0;36mfind_node.<locals>._func\u001b[0;34m(n, **kwargs)\u001b[0m\n\u001b[1;32m    370\u001b[0m \u001b[38;5;28;01mdef\u001b[39;00m \u001b[38;5;21m_func\u001b[39m(n, \u001b[38;5;241m*\u001b[39m\u001b[38;5;241m*\u001b[39mkwargs):\n\u001b[1;32m    371\u001b[0m     \u001b[38;5;28;01mnonlocal\u001b[39;00m result\n\u001b[0;32m--> 372\u001b[0m     \u001b[38;5;28;01mif\u001b[39;00m \u001b[43mpred\u001b[49m\u001b[43m(\u001b[49m\u001b[43mn\u001b[49m\u001b[43m,\u001b[49m\u001b[43m \u001b[49m\u001b[38;5;241;43m*\u001b[39;49m\u001b[38;5;241;43m*\u001b[39;49m\u001b[43mkwargs\u001b[49m\u001b[43m)\u001b[49m:\n\u001b[1;32m    373\u001b[0m         result \u001b[38;5;241m=\u001b[39m n\n\u001b[1;32m    374\u001b[0m         \u001b[38;5;28;01mreturn\u001b[39;00m \u001b[38;5;28;01mTrue\u001b[39;00m\n",
      "File \u001b[0;32m~/github/public/AlgoTree/AlgoTree/treenode.py:243\u001b[0m, in \u001b[0;36mTreeNode.node.<locals>.<lambda>\u001b[0;34m(n, **_)\u001b[0m\n\u001b[1;32m    234\u001b[0m \u001b[38;5;28;01mdef\u001b[39;00m \u001b[38;5;21mnode\u001b[39m(\u001b[38;5;28mself\u001b[39m, name: \u001b[38;5;28mstr\u001b[39m) \u001b[38;5;241m-\u001b[39m\u001b[38;5;241m>\u001b[39m \u001b[38;5;124m\"\u001b[39m\u001b[38;5;124mTreeNode\u001b[39m\u001b[38;5;124m\"\u001b[39m:\n\u001b[1;32m    235\u001b[0m \u001b[38;5;250m    \u001b[39m\u001b[38;5;124;03m\"\"\"\u001b[39;00m\n\u001b[1;32m    236\u001b[0m \u001b[38;5;124;03m    Get the node with the given name in the current sub-tree. The sub-tree\u001b[39;00m\n\u001b[1;32m    237\u001b[0m \u001b[38;5;124;03m    remains the same, we just change the current node position. If the name\u001b[39;00m\n\u001b[0;32m   (...)\u001b[0m\n\u001b[1;32m    241\u001b[0m \u001b[38;5;124;03m    :return: The node with the given name.\u001b[39;00m\n\u001b[1;32m    242\u001b[0m \u001b[38;5;124;03m    \"\"\"\u001b[39;00m\n\u001b[0;32m--> 243\u001b[0m     new_node \u001b[38;5;241m=\u001b[39m find_node(\u001b[38;5;28mself\u001b[39m, \u001b[38;5;28;01mlambda\u001b[39;00m n, \u001b[38;5;241m*\u001b[39m\u001b[38;5;241m*\u001b[39m_: \u001b[43mn\u001b[49m\u001b[38;5;241;43m.\u001b[39;49m\u001b[43mname\u001b[49m \u001b[38;5;241m==\u001b[39m name)\n\u001b[1;32m    244\u001b[0m     \u001b[38;5;28;01mif\u001b[39;00m new_node \u001b[38;5;129;01mis\u001b[39;00m \u001b[38;5;28;01mNone\u001b[39;00m:\n\u001b[1;32m    245\u001b[0m         \u001b[38;5;28;01mraise\u001b[39;00m \u001b[38;5;167;01mKeyError\u001b[39;00m(\u001b[38;5;124mf\u001b[39m\u001b[38;5;124m\"\u001b[39m\u001b[38;5;124mNode not found: \u001b[39m\u001b[38;5;132;01m{\u001b[39;00mname\u001b[38;5;132;01m}\u001b[39;00m\u001b[38;5;124m\"\u001b[39m)\n",
      "File \u001b[0;32m~/github/public/AlgoTree/AlgoTree/treenode.py:258\u001b[0m, in \u001b[0;36mTreeNode.name\u001b[0;34m(self)\u001b[0m\n\u001b[1;32m    255\u001b[0m \u001b[38;5;28;01mif\u001b[39;00m TreeNode\u001b[38;5;241m.\u001b[39mNAME_KEY \u001b[38;5;129;01min\u001b[39;00m \u001b[38;5;28mself\u001b[39m:\n\u001b[1;32m    256\u001b[0m     \u001b[38;5;28;01mreturn\u001b[39;00m \u001b[38;5;28mself\u001b[39m[TreeNode\u001b[38;5;241m.\u001b[39mNAME_KEY]\n\u001b[0;32m--> 258\u001b[0m \u001b[38;5;28;01mreturn\u001b[39;00m \u001b[38;5;28;43mself\u001b[39;49m\u001b[38;5;241;43m.\u001b[39;49m\u001b[38;5;21;43m__hash__\u001b[39;49m\u001b[43m(\u001b[49m\u001b[43m)\u001b[49m\n",
      "File \u001b[0;32m~/github/public/AlgoTree/AlgoTree/treenode.py:267\u001b[0m, in \u001b[0;36mTreeNode.__hash__\u001b[0;34m(self)\u001b[0m\n\u001b[1;32m    260\u001b[0m \u001b[38;5;28;01mdef\u001b[39;00m \u001b[38;5;21m__hash__\u001b[39m(\u001b[38;5;28mself\u001b[39m) \u001b[38;5;241m-\u001b[39m\u001b[38;5;241m>\u001b[39m \u001b[38;5;28mint\u001b[39m:\n\u001b[1;32m    261\u001b[0m \u001b[38;5;250m    \u001b[39m\u001b[38;5;124;03m\"\"\"\u001b[39;00m\n\u001b[1;32m    262\u001b[0m \u001b[38;5;124;03m    Get the hash of the node. The hash is based on the hash of the name\u001b[39;00m\n\u001b[1;32m    263\u001b[0m \u001b[38;5;124;03m    of the node.\u001b[39;00m\n\u001b[1;32m    264\u001b[0m \n\u001b[1;32m    265\u001b[0m \u001b[38;5;124;03m    :return: The hash of the node.\u001b[39;00m\n\u001b[1;32m    266\u001b[0m \u001b[38;5;124;03m    \"\"\"\u001b[39;00m\n\u001b[0;32m--> 267\u001b[0m     \u001b[38;5;28;01mreturn\u001b[39;00m \u001b[38;5;28;43mself\u001b[39;49m\u001b[38;5;241;43m.\u001b[39;49m\u001b[43m_hash_fn\u001b[49m\u001b[43m(\u001b[49m\u001b[38;5;28;43mself\u001b[39;49m\u001b[43m)\u001b[49m\n",
      "File \u001b[0;32m~/github/public/AlgoTree/AlgoTree/node_hash.py:128\u001b[0m, in \u001b[0;36mNodeHash.node_hash\u001b[0;34m(node)\u001b[0m\n\u001b[1;32m    113\u001b[0m \u001b[38;5;129m@staticmethod\u001b[39m\n\u001b[1;32m    114\u001b[0m \u001b[38;5;28;01mdef\u001b[39;00m \u001b[38;5;21mnode_hash\u001b[39m(node: Any) \u001b[38;5;241m-\u001b[39m\u001b[38;5;241m>\u001b[39m \u001b[38;5;28mint\u001b[39m:\n\u001b[1;32m    115\u001b[0m \u001b[38;5;250m    \u001b[39m\u001b[38;5;124;03m\"\"\"\u001b[39;00m\n\u001b[1;32m    116\u001b[0m \u001b[38;5;124;03m    Compute a hash based on the name and payload of the node.\u001b[39;00m\n\u001b[1;32m    117\u001b[0m \n\u001b[0;32m   (...)\u001b[0m\n\u001b[1;32m    126\u001b[0m \u001b[38;5;124;03m    - Checking if two nodes are equivalent in terms of both their name and the data they carry, without considering their location in the tree structure.\u001b[39;00m\n\u001b[1;32m    127\u001b[0m \u001b[38;5;124;03m    \"\"\"\u001b[39;00m\n\u001b[0;32m--> 128\u001b[0m     \u001b[38;5;28;01mif\u001b[39;00m node \u001b[38;5;129;01mis\u001b[39;00m \u001b[38;5;28;01mNone\u001b[39;00m \u001b[38;5;129;01mor\u001b[39;00m \u001b[38;5;129;01mnot\u001b[39;00m \u001b[38;5;28;43mhasattr\u001b[39;49m\u001b[43m(\u001b[49m\u001b[43mnode\u001b[49m\u001b[43m,\u001b[49m\u001b[43m \u001b[49m\u001b[38;5;124;43m'\u001b[39;49m\u001b[38;5;124;43mname\u001b[39;49m\u001b[38;5;124;43m'\u001b[39;49m\u001b[43m)\u001b[49m \u001b[38;5;129;01mor\u001b[39;00m \u001b[38;5;129;01mnot\u001b[39;00m \u001b[38;5;28mhasattr\u001b[39m(node, \u001b[38;5;124m'\u001b[39m\u001b[38;5;124mpayload\u001b[39m\u001b[38;5;124m'\u001b[39m):\n\u001b[1;32m    129\u001b[0m         \u001b[38;5;28;01mraise\u001b[39;00m \u001b[38;5;167;01mValueError\u001b[39;00m(\u001b[38;5;124m\"\u001b[39m\u001b[38;5;124mNode must have \u001b[39m\u001b[38;5;124m'\u001b[39m\u001b[38;5;124mname\u001b[39m\u001b[38;5;124m'\u001b[39m\u001b[38;5;124m and \u001b[39m\u001b[38;5;124m'\u001b[39m\u001b[38;5;124mpayload\u001b[39m\u001b[38;5;124m'\u001b[39m\u001b[38;5;124m attributes\u001b[39m\u001b[38;5;124m\"\u001b[39m)\n\u001b[1;32m    131\u001b[0m     \u001b[38;5;28;01mtry\u001b[39;00m:\n",
      "File \u001b[0;32m~/github/public/AlgoTree/AlgoTree/treenode.py:258\u001b[0m, in \u001b[0;36mTreeNode.name\u001b[0;34m(self)\u001b[0m\n\u001b[1;32m    255\u001b[0m \u001b[38;5;28;01mif\u001b[39;00m TreeNode\u001b[38;5;241m.\u001b[39mNAME_KEY \u001b[38;5;129;01min\u001b[39;00m \u001b[38;5;28mself\u001b[39m:\n\u001b[1;32m    256\u001b[0m     \u001b[38;5;28;01mreturn\u001b[39;00m \u001b[38;5;28mself\u001b[39m[TreeNode\u001b[38;5;241m.\u001b[39mNAME_KEY]\n\u001b[0;32m--> 258\u001b[0m \u001b[38;5;28;01mreturn\u001b[39;00m \u001b[38;5;28;43mself\u001b[39;49m\u001b[38;5;241;43m.\u001b[39;49m\u001b[38;5;21;43m__hash__\u001b[39;49m\u001b[43m(\u001b[49m\u001b[43m)\u001b[49m\n",
      "File \u001b[0;32m~/github/public/AlgoTree/AlgoTree/treenode.py:267\u001b[0m, in \u001b[0;36mTreeNode.__hash__\u001b[0;34m(self)\u001b[0m\n\u001b[1;32m    260\u001b[0m \u001b[38;5;28;01mdef\u001b[39;00m \u001b[38;5;21m__hash__\u001b[39m(\u001b[38;5;28mself\u001b[39m) \u001b[38;5;241m-\u001b[39m\u001b[38;5;241m>\u001b[39m \u001b[38;5;28mint\u001b[39m:\n\u001b[1;32m    261\u001b[0m \u001b[38;5;250m    \u001b[39m\u001b[38;5;124;03m\"\"\"\u001b[39;00m\n\u001b[1;32m    262\u001b[0m \u001b[38;5;124;03m    Get the hash of the node. The hash is based on the hash of the name\u001b[39;00m\n\u001b[1;32m    263\u001b[0m \u001b[38;5;124;03m    of the node.\u001b[39;00m\n\u001b[1;32m    264\u001b[0m \n\u001b[1;32m    265\u001b[0m \u001b[38;5;124;03m    :return: The hash of the node.\u001b[39;00m\n\u001b[1;32m    266\u001b[0m \u001b[38;5;124;03m    \"\"\"\u001b[39;00m\n\u001b[0;32m--> 267\u001b[0m     \u001b[38;5;28;01mreturn\u001b[39;00m \u001b[38;5;28;43mself\u001b[39;49m\u001b[38;5;241;43m.\u001b[39;49m\u001b[43m_hash_fn\u001b[49m\u001b[43m(\u001b[49m\u001b[38;5;28;43mself\u001b[39;49m\u001b[43m)\u001b[49m\n",
      "File \u001b[0;32m~/github/public/AlgoTree/AlgoTree/node_hash.py:128\u001b[0m, in \u001b[0;36mNodeHash.node_hash\u001b[0;34m(node)\u001b[0m\n\u001b[1;32m    113\u001b[0m \u001b[38;5;129m@staticmethod\u001b[39m\n\u001b[1;32m    114\u001b[0m \u001b[38;5;28;01mdef\u001b[39;00m \u001b[38;5;21mnode_hash\u001b[39m(node: Any) \u001b[38;5;241m-\u001b[39m\u001b[38;5;241m>\u001b[39m \u001b[38;5;28mint\u001b[39m:\n\u001b[1;32m    115\u001b[0m \u001b[38;5;250m    \u001b[39m\u001b[38;5;124;03m\"\"\"\u001b[39;00m\n\u001b[1;32m    116\u001b[0m \u001b[38;5;124;03m    Compute a hash based on the name and payload of the node.\u001b[39;00m\n\u001b[1;32m    117\u001b[0m \n\u001b[0;32m   (...)\u001b[0m\n\u001b[1;32m    126\u001b[0m \u001b[38;5;124;03m    - Checking if two nodes are equivalent in terms of both their name and the data they carry, without considering their location in the tree structure.\u001b[39;00m\n\u001b[1;32m    127\u001b[0m \u001b[38;5;124;03m    \"\"\"\u001b[39;00m\n\u001b[0;32m--> 128\u001b[0m     \u001b[38;5;28;01mif\u001b[39;00m node \u001b[38;5;129;01mis\u001b[39;00m \u001b[38;5;28;01mNone\u001b[39;00m \u001b[38;5;129;01mor\u001b[39;00m \u001b[38;5;129;01mnot\u001b[39;00m \u001b[38;5;28;43mhasattr\u001b[39;49m\u001b[43m(\u001b[49m\u001b[43mnode\u001b[49m\u001b[43m,\u001b[49m\u001b[43m \u001b[49m\u001b[38;5;124;43m'\u001b[39;49m\u001b[38;5;124;43mname\u001b[39;49m\u001b[38;5;124;43m'\u001b[39;49m\u001b[43m)\u001b[49m \u001b[38;5;129;01mor\u001b[39;00m \u001b[38;5;129;01mnot\u001b[39;00m \u001b[38;5;28mhasattr\u001b[39m(node, \u001b[38;5;124m'\u001b[39m\u001b[38;5;124mpayload\u001b[39m\u001b[38;5;124m'\u001b[39m):\n\u001b[1;32m    129\u001b[0m         \u001b[38;5;28;01mraise\u001b[39;00m \u001b[38;5;167;01mValueError\u001b[39;00m(\u001b[38;5;124m\"\u001b[39m\u001b[38;5;124mNode must have \u001b[39m\u001b[38;5;124m'\u001b[39m\u001b[38;5;124mname\u001b[39m\u001b[38;5;124m'\u001b[39m\u001b[38;5;124m and \u001b[39m\u001b[38;5;124m'\u001b[39m\u001b[38;5;124mpayload\u001b[39m\u001b[38;5;124m'\u001b[39m\u001b[38;5;124m attributes\u001b[39m\u001b[38;5;124m\"\u001b[39m)\n\u001b[1;32m    131\u001b[0m     \u001b[38;5;28;01mtry\u001b[39;00m:\n",
      "    \u001b[0;31m[... skipping similar frames: TreeNode.__hash__ at line 267 (988 times), TreeNode.name at line 258 (988 times), NodeHash.node_hash at line 128 (987 times)]\u001b[0m\n",
      "File \u001b[0;32m~/github/public/AlgoTree/AlgoTree/node_hash.py:128\u001b[0m, in \u001b[0;36mNodeHash.node_hash\u001b[0;34m(node)\u001b[0m\n\u001b[1;32m    113\u001b[0m \u001b[38;5;129m@staticmethod\u001b[39m\n\u001b[1;32m    114\u001b[0m \u001b[38;5;28;01mdef\u001b[39;00m \u001b[38;5;21mnode_hash\u001b[39m(node: Any) \u001b[38;5;241m-\u001b[39m\u001b[38;5;241m>\u001b[39m \u001b[38;5;28mint\u001b[39m:\n\u001b[1;32m    115\u001b[0m \u001b[38;5;250m    \u001b[39m\u001b[38;5;124;03m\"\"\"\u001b[39;00m\n\u001b[1;32m    116\u001b[0m \u001b[38;5;124;03m    Compute a hash based on the name and payload of the node.\u001b[39;00m\n\u001b[1;32m    117\u001b[0m \n\u001b[0;32m   (...)\u001b[0m\n\u001b[1;32m    126\u001b[0m \u001b[38;5;124;03m    - Checking if two nodes are equivalent in terms of both their name and the data they carry, without considering their location in the tree structure.\u001b[39;00m\n\u001b[1;32m    127\u001b[0m \u001b[38;5;124;03m    \"\"\"\u001b[39;00m\n\u001b[0;32m--> 128\u001b[0m     \u001b[38;5;28;01mif\u001b[39;00m node \u001b[38;5;129;01mis\u001b[39;00m \u001b[38;5;28;01mNone\u001b[39;00m \u001b[38;5;129;01mor\u001b[39;00m \u001b[38;5;129;01mnot\u001b[39;00m \u001b[38;5;28;43mhasattr\u001b[39;49m\u001b[43m(\u001b[49m\u001b[43mnode\u001b[49m\u001b[43m,\u001b[49m\u001b[43m \u001b[49m\u001b[38;5;124;43m'\u001b[39;49m\u001b[38;5;124;43mname\u001b[39;49m\u001b[38;5;124;43m'\u001b[39;49m\u001b[43m)\u001b[49m \u001b[38;5;129;01mor\u001b[39;00m \u001b[38;5;129;01mnot\u001b[39;00m \u001b[38;5;28mhasattr\u001b[39m(node, \u001b[38;5;124m'\u001b[39m\u001b[38;5;124mpayload\u001b[39m\u001b[38;5;124m'\u001b[39m):\n\u001b[1;32m    129\u001b[0m         \u001b[38;5;28;01mraise\u001b[39;00m \u001b[38;5;167;01mValueError\u001b[39;00m(\u001b[38;5;124m\"\u001b[39m\u001b[38;5;124mNode must have \u001b[39m\u001b[38;5;124m'\u001b[39m\u001b[38;5;124mname\u001b[39m\u001b[38;5;124m'\u001b[39m\u001b[38;5;124m and \u001b[39m\u001b[38;5;124m'\u001b[39m\u001b[38;5;124mpayload\u001b[39m\u001b[38;5;124m'\u001b[39m\u001b[38;5;124m attributes\u001b[39m\u001b[38;5;124m\"\u001b[39m)\n\u001b[1;32m    131\u001b[0m     \u001b[38;5;28;01mtry\u001b[39;00m:\n",
      "File \u001b[0;32m~/github/public/AlgoTree/AlgoTree/treenode.py:258\u001b[0m, in \u001b[0;36mTreeNode.name\u001b[0;34m(self)\u001b[0m\n\u001b[1;32m    255\u001b[0m \u001b[38;5;28;01mif\u001b[39;00m TreeNode\u001b[38;5;241m.\u001b[39mNAME_KEY \u001b[38;5;129;01min\u001b[39;00m \u001b[38;5;28mself\u001b[39m:\n\u001b[1;32m    256\u001b[0m     \u001b[38;5;28;01mreturn\u001b[39;00m \u001b[38;5;28mself\u001b[39m[TreeNode\u001b[38;5;241m.\u001b[39mNAME_KEY]\n\u001b[0;32m--> 258\u001b[0m \u001b[38;5;28;01mreturn\u001b[39;00m \u001b[38;5;28;43mself\u001b[39;49m\u001b[38;5;241;43m.\u001b[39;49m\u001b[38;5;21;43m__hash__\u001b[39;49m\u001b[43m(\u001b[49m\u001b[43m)\u001b[49m\n",
      "File \u001b[0;32m~/github/public/AlgoTree/AlgoTree/treenode.py:267\u001b[0m, in \u001b[0;36mTreeNode.__hash__\u001b[0;34m(self)\u001b[0m\n\u001b[1;32m    260\u001b[0m \u001b[38;5;28;01mdef\u001b[39;00m \u001b[38;5;21m__hash__\u001b[39m(\u001b[38;5;28mself\u001b[39m) \u001b[38;5;241m-\u001b[39m\u001b[38;5;241m>\u001b[39m \u001b[38;5;28mint\u001b[39m:\n\u001b[1;32m    261\u001b[0m \u001b[38;5;250m    \u001b[39m\u001b[38;5;124;03m\"\"\"\u001b[39;00m\n\u001b[1;32m    262\u001b[0m \u001b[38;5;124;03m    Get the hash of the node. The hash is based on the hash of the name\u001b[39;00m\n\u001b[1;32m    263\u001b[0m \u001b[38;5;124;03m    of the node.\u001b[39;00m\n\u001b[1;32m    264\u001b[0m \n\u001b[1;32m    265\u001b[0m \u001b[38;5;124;03m    :return: The hash of the node.\u001b[39;00m\n\u001b[1;32m    266\u001b[0m \u001b[38;5;124;03m    \"\"\"\u001b[39;00m\n\u001b[0;32m--> 267\u001b[0m     \u001b[38;5;28;01mreturn\u001b[39;00m \u001b[38;5;28;43mself\u001b[39;49m\u001b[38;5;241;43m.\u001b[39;49m\u001b[43m_hash_fn\u001b[49m\u001b[43m(\u001b[49m\u001b[38;5;28;43mself\u001b[39;49m\u001b[43m)\u001b[49m\n",
      "\u001b[0;31mRecursionError\u001b[0m: maximum recursion depth exceeded"
     ]
    }
   ],
   "source": [
    "root = TreeNode(name=\"root\", value=0)\n",
    "A = TreeNode(name=\"A\", parent=root, value=1)\n",
    "B = TreeNode(name=\"B\", parent=root, value=2)\n",
    "C = TreeNode(name=\"C\", parent=root, value=3)\n",
    "D = TreeNode(name=\"D\", parent=C, value=4)\n",
    "E = TreeNode(name=\"E\", parent=C, value=5)\n",
    "F = TreeNode(name=\"F\", parent=C, value=6)\n",
    "G = TreeNode(name=\"G\", parent=C, value=7)\n",
    "H = TreeNode(name=\"H\", parent=C, value=8)\n",
    "I = TreeNode(name=\"I\", parent=F, value=9)\n",
    "I[\"what\"] = \"Some data\"\n",
    "I[\"children\"] = [\n",
    "    {\"value\": 10},\n",
    "    {\"__name__\": \"Y\", \"value\": 11},\n",
    "    {\"value\": 12},\n",
    "]\n",
    "\n",
    "H.children = [\n",
    "    TreeNode(name=\"X\", value=13),\n",
    "    TreeNode(name=\"Z\", value=14),\n",
    "]\n",
    "root.node(\"Y\").children = [TreeNode(name=\"Z\", value=15),\n",
    "                           TreeNode(name=\"XYZ\", value=16)]\n",
    "monotext(pretty_tree(root.node(\"A\").root))\n",
    "monotext(pretty_tree(root.node(\"Y\").root))\n",
    "monotext(pretty_tree(root.node(\"Y\")))"
   ]
  },
  {
   "cell_type": "markdown",
   "metadata": {},
   "source": [
    "Algorithm Examples\n",
    "------------------\n",
    "\n",
    "Using utility algorithms with `FlatTree` and `FlatTreeNode`:\n",
    "\n",
    "Finding descendants of a node:\n"
   ]
  },
  {
   "cell_type": "code",
   "execution_count": null,
   "metadata": {},
   "outputs": [],
   "source": [
    "from AlgoTree.utils import *\n",
    "from pprint import pprint\n",
    "pprint(descendants(C))"
   ]
  },
  {
   "cell_type": "markdown",
   "metadata": {},
   "source": [
    "Finding ancestors of a node:"
   ]
  },
  {
   "cell_type": "code",
   "execution_count": null,
   "metadata": {},
   "outputs": [],
   "source": [
    "pprint(ancestors(I))"
   ]
  },
  {
   "cell_type": "markdown",
   "metadata": {},
   "source": [
    "Finding siblings of a node:"
   ]
  },
  {
   "cell_type": "code",
   "execution_count": null,
   "metadata": {},
   "outputs": [],
   "source": [
    "pprint(siblings(E))"
   ]
  },
  {
   "cell_type": "markdown",
   "metadata": {},
   "source": [
    "Finding leaves of a node:"
   ]
  },
  {
   "cell_type": "code",
   "execution_count": null,
   "metadata": {},
   "outputs": [],
   "source": [
    "pprint(leaves(root))"
   ]
  },
  {
   "cell_type": "markdown",
   "metadata": {},
   "source": [
    "Finding the height of a tree:"
   ]
  },
  {
   "cell_type": "code",
   "execution_count": null,
   "metadata": {},
   "outputs": [],
   "source": [
    "pprint(height(root))"
   ]
  },
  {
   "cell_type": "markdown",
   "metadata": {},
   "source": [
    "Finding the depth of a node:"
   ]
  },
  {
   "cell_type": "code",
   "execution_count": null,
   "metadata": {},
   "outputs": [],
   "source": [
    "pprint(depth(I))"
   ]
  },
  {
   "cell_type": "markdown",
   "metadata": {},
   "source": [
    "Breadth-first traversal:"
   ]
  },
  {
   "cell_type": "code",
   "execution_count": null,
   "metadata": {},
   "outputs": [],
   "source": [
    "def print_node(node, level):\n",
    "    print(f\"Level {level}: {node.name}\")\n",
    "    return False\n",
    "\n",
    "breadth_first(root, print_node)"
   ]
  },
  {
   "cell_type": "code",
   "execution_count": null,
   "metadata": {},
   "outputs": [],
   "source": [
    "myflatroot = FlatTreeNode(name=\"A\", value=1)\n",
    "FlatTreeNode(name=\"B\", parent=myflatroot, value=2)\n",
    "myflatc = FlatTreeNode(name=\"C\", parent=myflatroot, value=3)\n",
    "FlatTreeNode(name=\"D\", parent=myflatc, value=4)\n",
    "copy_myflatroot = deepcopy(myflatroot)\n"
   ]
  },
  {
   "cell_type": "code",
   "execution_count": null,
   "metadata": {},
   "outputs": [],
   "source": [
    "pprint(myflatroot.tree)"
   ]
  },
  {
   "cell_type": "code",
   "execution_count": null,
   "metadata": {},
   "outputs": [],
   "source": [
    "\n",
    "\n",
    "print(copy_myflatroot == myflatroot)\n",
    "copy_myflatroot._tree[\"E\"] = {\"value\": 5, \"parent\": \"C\"}\n",
    "monotext(pretty_tree(copy_myflatroot))\n"
   ]
  },
  {
   "cell_type": "code",
   "execution_count": null,
   "metadata": {},
   "outputs": [],
   "source": [
    "\n",
    "myroot = TreeNode(name=\"A\", value=1)\n",
    "TreeNode(name=\"B\", parent=myroot, value=2)\n",
    "myc = TreeNode(name=\"C\", parent=myroot, value=3)\n",
    "TreeNode(name=\"D\", parent=myc, value=4)\n",
    "monotext(pretty_tree(myroot))\n",
    "monotext(pretty_tree(myc))\n",
    "mytsroot = utils.node_stats(myroot)\n",
    "mytsc = utils.node_stats(myc)\n",
    "myflattsroot = utils.node_stats(myflatroot)\n",
    "myflattsc = utils.node_stats(myflatc)\n",
    "pprint(mytsroot)\n",
    "pprint(mytsc)\n",
    "print(myflattsroot == mytsroot)\n",
    "print(myflattsc == mytsc)\n",
    "print(pretty_tree(myroot) == pretty_tree(myflatroot))\n",
    "print(pretty_tree(myc) == pretty_tree(myflatc))\n"
   ]
  },
  {
   "cell_type": "markdown",
   "metadata": {},
   "source": [
    "Mapping a function over the nodes:"
   ]
  },
  {
   "cell_type": "code",
   "execution_count": null,
   "metadata": {},
   "outputs": [],
   "source": [
    "def add_prefix(node):\n",
    "    if node is None:\n",
    "        return None\n",
    "    elif node.name == \"root\":\n",
    "        node.name = \"X\"\n",
    "    elif node.name == \"B\":\n",
    "        node.children = [TreeNode(name=\"Y\", value=21),\n",
    "                         TreeNode(name=\"Z\", value=22)]\n",
    "    elif node.name == \"H\":\n",
    "        node.children = []\n",
    "    elif node.name == \"D\":\n",
    "        # add Q and R as children of D\n",
    "        node.add_child(name=\"Q\", value=41)\n",
    "        node.add_child(name=\"R\", value=42)\n",
    "    elif node.name == \"I\":\n",
    "        # delete I by returning None (i.e. don't add it to the new tree)\n",
    "        return None\n",
    "    return node\n",
    "\n",
    "root_mapped = map(deepcopy(root), add_prefix)\n",
    "\n",
    "monotext(pretty_tree(root_mapped))\n",
    "\n",
    "monotext(pretty_tree(root))"
   ]
  },
  {
   "cell_type": "markdown",
   "metadata": {},
   "source": [
    "Pruning nodes based on a predicate:"
   ]
  },
  {
   "cell_type": "code",
   "execution_count": null,
   "metadata": {},
   "outputs": [],
   "source": [
    "\n",
    "def should_prune(node):\n",
    "    # if digits in the node name, prune it\n",
    "    return any(c.isdigit() for c in str(node.name))\n",
    "\n",
    "pruned_tree = prune(root, should_prune)\n",
    "monotext(pretty_tree(pruned_tree))"
   ]
  },
  {
   "cell_type": "markdown",
   "metadata": {},
   "source": [
    "Finding root-to-leaf paths:"
   ]
  },
  {
   "cell_type": "code",
   "execution_count": null,
   "metadata": {},
   "outputs": [],
   "source": [
    "from pprint import pprint\n",
    "paths = node_to_leaf_paths(root)\n",
    "# print max path length from root to leaf\n",
    "pprint(max(paths, key=len))\n",
    "print(utils.height(root) == len(max(paths, key=len)) - 1)\n"
   ]
  },
  {
   "cell_type": "markdown",
   "metadata": {},
   "source": [
    "Converting paths to a tree:"
   ]
  },
  {
   "cell_type": "code",
   "execution_count": null,
   "metadata": {},
   "outputs": [],
   "source": [
    "\n",
    "rooter = paths_to_tree([[\"a\", \"b\", \"c\"], [\"a\", \"b\", \"d\"], [\"a\", \"e\", \"d\"],\n",
    "                        [\"a\", \"f\", \"d\"], [\"a\", \"e\", \"g\" ], [\"a\", \"e\", \"h\"],\n",
    "                        [\"a\", \"i\", \"j\", \"b\"], [\"a\", \"i\", \"j\", \"b\", \"m\"],\n",
    "                        [\"a\", \"i\", \"j\", \"l\", \"b\", \"b\", \"b\", \"b\", \"b\", \"b\", \"t\", \"u\", \"v\", \"w\", \"x\", \"y\", \"b\"]],\n",
    "                        TreeNode)\n",
    "monotext(pretty_tree(rooter))"
   ]
  },
  {
   "cell_type": "code",
   "execution_count": null,
   "metadata": {},
   "outputs": [],
   "source": [
    "rooter2 = paths_to_tree([[\"a\", \"b\", \"c\"], [\"a\", \"b\", \"d\"], [\"a\", \"e\", \"d\"],\n",
    "                        [\"a\", \"f\", \"d\"], [\"a\", \"e\", \"g\" ], [\"a\", \"e\", \"h\"],\n",
    "                        [\"a\", \"i\", \"j\", \"b\"], [\"a\", \"i\", \"j\", \"b\", \"m\"],\n",
    "                        [\"a\", \"i\", \"j\", \"l\", \"b\", \"b\", \"b\", \"b\", \"b\", \"b\", \"t\", \"u\", \"v\", \"w\", \"x\", \"y\", \"b\"]],\n",
    "                        FlatTreeNode)\n",
    "monotext(pretty_tree(rooter2))"
   ]
  },
  {
   "cell_type": "code",
   "execution_count": null,
   "metadata": {},
   "outputs": [],
   "source": [
    "from AlgoTree.utils import depth, path, ancestors, siblings, is_root\n",
    "A = tree.node(\"A\")\n",
    "pretty_tree(A)\n",
    "print(depth(A.children[0]))\n",
    "print([n.name for n in path(A.children[0].children[0])])\n",
    "print([n.name for n in ancestors(A.children[0].children[0])])\n",
    "print(siblings(A.children[0]))\n",
    "print(is_root(A))"
   ]
  },
  {
   "cell_type": "code",
   "execution_count": null,
   "metadata": {},
   "outputs": [],
   "source": [
    "treenode = TreeNode(name=\"A\", value=1)\n",
    "TreeNode(name=\"B\", parent=treenode, value=2)\n",
    "C = TreeNode(name=\"C\", parent=treenode, value=3)\n",
    "TreeNode(name=\"D\", parent=C, value=4)\n",
    "TreeNode(name=\"E\", parent=C, value=5)\n",
    "\n",
    "monotext(pretty_tree(treenode))"
   ]
  },
  {
   "cell_type": "code",
   "execution_count": null,
   "metadata": {},
   "outputs": [],
   "source": [
    "treenode_dict = {\n",
    "    \"__name__\": \"A\",\n",
    "    \"value\": 1,\n",
    "    \"children\": [\n",
    "        {\"__name__\": \"B\", \"value\": 2},\n",
    "        {\"__name__\": \"C\", \"value\": 3, \"children\": [\n",
    "            {\"__name__\": \"D\", \"value\": 4},\n",
    "            {\"__name__\": \"E\", \"value\": 5}\n",
    "        ]}\n",
    "    ]}\n",
    "\n",
    "print(treenode_dict == treenode)"
   ]
  },
  {
   "cell_type": "code",
   "execution_count": null,
   "metadata": {},
   "outputs": [],
   "source": [
    "treenode_from_dict = TreeNode(treenode_dict)\n",
    "monotext(pretty_tree(treenode_from_dict))\n",
    "print(treenode_from_dict == treenode)\n",
    "\n",
    "treenode_from_dict.add_child(name=\"F\", value=6)\n",
    "TreeNode(name=\"G\", parent=treenode_from_dict.node(\"C\"), value=7)\n",
    "monotext(pretty_tree(treenode_from_dict))\n"
   ]
  },
  {
   "cell_type": "markdown",
   "metadata": {},
   "source": [
    "\n",
    "Conclusion\n",
    "----------\n",
    "\n",
    "The `FlatTree` class provides a powerful and flexible way to work with tree-like data structures using a flat memory layout. It supports a wide range of operations, including node manipulation, tree traversal, detachment, pruning, and conversion between different tree representations.\n",
    "\n",
    "Explore the `AlgoTree` package further to discover more features and utilities for working with trees in Python.\n",
    "\n",
    "Happy coding!"
   ]
  }
 ],
 "metadata": {
  "kernelspec": {
   "display_name": "env",
   "language": "python",
   "name": "python3"
  },
  "language_info": {
   "codemirror_mode": {
    "name": "ipython",
    "version": 3
   },
   "file_extension": ".py",
   "mimetype": "text/x-python",
   "name": "python",
   "nbconvert_exporter": "python",
   "pygments_lexer": "ipython3",
   "version": "3.12.3"
  }
 },
 "nbformat": 4,
 "nbformat_minor": 2
}
