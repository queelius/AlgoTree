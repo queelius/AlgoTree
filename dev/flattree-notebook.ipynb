{
 "cells": [
  {
   "cell_type": "markdown",
   "metadata": {},
   "source": [
    "# `FlatTree Notebook`\n",
    "\n",
    "In this notebook, we explore the `FlatTree` data structure, which is a tree with a flat memory layout. This data structure is useful when we want to store a tree in a contiguous memory block. We will implement the `FlatTree` data structure and demonstrate how to perform various operations on it.\n",
    "\n",
    "We also demonstrate the `FlatTreeNode` proxy class, which allows us to access the nodes of the `FlatTree` using a tree-like interface."
   ]
  },
  {
   "cell_type": "markdown",
   "metadata": {},
   "source": [
    "Let's load the required libraries and create a `FlatTree` data structure\n",
    "using the node interface."
   ]
  },
  {
   "cell_type": "code",
   "execution_count": 117,
   "metadata": {},
   "outputs": [],
   "source": [
    "from AlgoTree.flattree_node import FlatTreeNode"
   ]
  },
  {
   "cell_type": "code",
   "execution_count": 118,
   "metadata": {},
   "outputs": [
    {
     "name": "stdout",
     "output_type": "stream",
     "text": [
      "__ROOT__ {} None\n",
      "\n",
      "root {'data': 0} None\n",
      "\n",
      "A {'data': 1} FlatTreeNode(name=root, parent=__ROOT__, payload={'data': 0}, root=root, children=['A', 'B', 'C'])\n",
      "\n",
      "B {'data': 2} FlatTreeNode(name=root, parent=__ROOT__, payload={'data': 0}, root=root, children=['A', 'B', 'C'])\n",
      "\n",
      "C {'data': 3} FlatTreeNode(name=root, parent=__ROOT__, payload={'data': 0}, root=root, children=['A', 'B', 'C'])\n",
      "\n",
      "D {'data': 4} FlatTreeNode(name=C, parent=root, payload={'data': 3}, root=root, children=['D', 'E', 'F', 'G', 'H'])\n",
      "\n",
      "E {'data': 5} FlatTreeNode(name=C, parent=root, payload={'data': 3}, root=root, children=['D', 'E', 'F', 'G', 'H'])\n",
      "\n",
      "F {'data': 6} FlatTreeNode(name=C, parent=root, payload={'data': 3}, root=root, children=['D', 'E', 'F', 'G', 'H'])\n",
      "\n",
      "G {'data': 7} FlatTreeNode(name=C, parent=root, payload={'data': 3}, root=root, children=['D', 'E', 'F', 'G', 'H'])\n",
      "\n",
      "H {'data': 8} FlatTreeNode(name=C, parent=root, payload={'data': 3}, root=root, children=['D', 'E', 'F', 'G', 'H'])\n",
      "\n",
      "I {'data': 9} FlatTreeNode(name=F, parent=C, payload={'data': 6}, root=root, children=['I'])\n",
      "\n"
     ]
    }
   ],
   "source": [
    "from AlgoTree.tree_converter import TreeConverter\n",
    "from AlgoTree.flattree import FlatTree\n",
    "import json\n",
    "\n",
    "root = FlatTreeNode(name=\"root\", data=0)\n",
    "A = FlatTreeNode(name=\"A\", parent=root, data=1)\n",
    "B = FlatTreeNode(name=\"B\", parent=root, data=2)\n",
    "C = FlatTreeNode(name=\"C\", parent=root, data=3)\n",
    "D = FlatTreeNode(name=\"D\", parent=C, data=4)\n",
    "E = FlatTreeNode(name=\"E\", parent=C, data=5)\n",
    "F = FlatTreeNode(name=\"F\", parent=C, data=6)\n",
    "G = FlatTreeNode(name=\"G\", parent=C, data=7)\n",
    "H = FlatTreeNode(name=\"H\", parent=C, data=8)\n",
    "I = FlatTreeNode(name=\"I\", parent=F, data=9)\n",
    "tree = root._tree\n",
    "nodes = [\n",
    "    tree.root,\n",
    "    root,\n",
    "    A,\n",
    "    B,\n",
    "    C,\n",
    "    D,\n",
    "    E,\n",
    "    F,\n",
    "    G,\n",
    "    H,\n",
    "    I,\n",
    "]\n",
    "\n",
    "for node in nodes:\n",
    "    try:\n",
    "        print(node.name, node.payload, node.parent)\n",
    "    except ValueError as e:\n",
    "        print(f\"ValueError: {e}\")\n",
    "    except KeyError as e:\n",
    "        print(f\"KeyError: {e}\")\n",
    "    print()"
   ]
  },
  {
   "cell_type": "markdown",
   "metadata": {},
   "source": [
    "Let's do something similar, but using the `FlatTree`'s `dict` or `json`\n",
    "constructor. This is more direct and makes it explicit what data the tree\n",
    "is providing a *view* of. After all, the `FlatTree` is itself just a `dict`\n",
    "of a particular shape."
   ]
  },
  {
   "cell_type": "code",
   "execution_count": 119,
   "metadata": {},
   "outputs": [
    {
     "name": "stdout",
     "output_type": "stream",
     "text": [
      "{\n",
      "  \"A\": {\n",
      "    \"data\": \"Data for A\"\n",
      "  },\n",
      "  \"B\": {\n",
      "    \"parent\": \"A\",\n",
      "    \"data\": \"Data for B\"\n",
      "  },\n",
      "  \"C\": {\n",
      "    \"parent\": \"A\",\n",
      "    \"data\": \"Data for C\"\n",
      "  },\n",
      "  \"D\": {\n",
      "    \"parent\": \"C\",\n",
      "    \"data\": \"Data for D\"\n",
      "  },\n",
      "  \"E\": {\n",
      "    \"parent\": \"C\",\n",
      "    \"data\": \"Data for E\"\n",
      "  },\n",
      "  \"F\": {\n",
      "    \"parent\": \"E\",\n",
      "    \"data\": \"Data for F\"\n",
      "  },\n",
      "  \"G\": {\n",
      "    \"parent\": \"E\",\n",
      "    \"data\": \"Data for G\"\n",
      "  },\n",
      "  \"H\": {\n",
      "    \"parent\": \"B\",\n",
      "    \"data\": \"Data for H\"\n",
      "  },\n",
      "  \"I\": {\n",
      "    \"parent\": \"A\",\n",
      "    \"data\": \"Data for I\"\n",
      "  },\n",
      "  \"J\": {\n",
      "    \"parent\": \"I\",\n",
      "    \"data\": \"Data for J\"\n",
      "  },\n",
      "  \"K\": {\n",
      "    \"parent\": \"G\",\n",
      "    \"data\": \"Data for K\"\n",
      "  },\n",
      "  \"L\": {\n",
      "    \"parent\": \"G\",\n",
      "    \"data\": \"Data for L\"\n",
      "  },\n",
      "  \"M\": {\n",
      "    \"parent\": \"C\",\n",
      "    \"data\": \"Data for M\"\n",
      "  }\n",
      "}\n"
     ]
    }
   ],
   "source": [
    "tree_data = {\n",
    "    \"A\": { \"data\": \"Data for A\" },\n",
    "    \"B\": { \"parent\": \"A\", \"data\": \"Data for B\" },\n",
    "    \"C\": { \"parent\": \"A\", \"data\": \"Data for C\" },\n",
    "    \"D\": { \"parent\": \"C\", \"data\": \"Data for D\" },\n",
    "    \"E\": { \"parent\": \"C\", \"data\": \"Data for E\" },\n",
    "    \"F\": { \"parent\": \"E\", \"data\": \"Data for F\" },\n",
    "    \"G\": { \"parent\": \"E\", \"data\": \"Data for G\" },\n",
    "    \"H\": { \"parent\": \"B\", \"data\": \"Data for H\" },\n",
    "    \"I\": { \"parent\": \"A\", \"data\": \"Data for I\" },\n",
    "    \"J\": { \"parent\": \"I\", \"data\": \"Data for J\" },\n",
    "    \"K\": { \"parent\": \"G\", \"data\": \"Data for K\" },\n",
    "    \"L\": { \"parent\": \"G\", \"data\": \"Data for L\" },\n",
    "    \"M\": { \"parent\": \"C\", \"data\": \"Data for M\" },\n",
    "}\n",
    "print(json.dumps(tree_data, indent=2))"
   ]
  },
  {
   "cell_type": "code",
   "execution_count": 120,
   "metadata": {},
   "outputs": [
    {
     "name": "stdout",
     "output_type": "stream",
     "text": [
      "{\n",
      "  \"A\": {\n",
      "    \"data\": \"Data for A\"\n",
      "  },\n",
      "  \"B\": {\n",
      "    \"parent\": \"A\",\n",
      "    \"data\": \"Data for B\"\n",
      "  },\n",
      "  \"C\": {\n",
      "    \"parent\": \"A\",\n",
      "    \"data\": \"Data for C\"\n",
      "  },\n",
      "  \"D\": {\n",
      "    \"parent\": \"C\",\n",
      "    \"data\": \"Data for D\"\n",
      "  },\n",
      "  \"E\": {\n",
      "    \"parent\": \"C\",\n",
      "    \"data\": \"Data for E\"\n",
      "  },\n",
      "  \"F\": {\n",
      "    \"parent\": \"E\",\n",
      "    \"data\": \"Data for F\"\n",
      "  },\n",
      "  \"G\": {\n",
      "    \"parent\": \"E\",\n",
      "    \"data\": \"Data for G\"\n",
      "  },\n",
      "  \"H\": {\n",
      "    \"parent\": \"B\",\n",
      "    \"data\": \"Data for H\"\n",
      "  },\n",
      "  \"I\": {\n",
      "    \"parent\": \"A\",\n",
      "    \"data\": \"Data for I\"\n",
      "  },\n",
      "  \"J\": {\n",
      "    \"parent\": \"I\",\n",
      "    \"data\": \"Data for J\"\n",
      "  },\n",
      "  \"K\": {\n",
      "    \"parent\": \"G\",\n",
      "    \"data\": \"Data for K\"\n",
      "  },\n",
      "  \"L\": {\n",
      "    \"parent\": \"G\",\n",
      "    \"data\": \"Data for L\"\n",
      "  },\n",
      "  \"M\": {\n",
      "    \"parent\": \"C\",\n",
      "    \"data\": \"Data for M\"\n",
      "  }\n",
      "}\n"
     ]
    }
   ],
   "source": [
    "# load a tree from tree_data\n",
    "tree = FlatTree(tree_data)\n",
    "print(json.dumps(tree, indent=2))"
   ]
  },
  {
   "cell_type": "markdown",
   "metadata": {},
   "source": [
    "For visualizing trees, we can use the `PrettyTree` class and the `pretty_tree`\n",
    "function. The `PrettyTree` class is a simple tree data structure that can be\n",
    "used to visualize trees in pretty text format, optionally with the ability\n",
    "to mark nodes for highlighting."
   ]
  },
  {
   "cell_type": "code",
   "execution_count": 121,
   "metadata": {},
   "outputs": [
    {
     "data": {
      "text/markdown": [
       "<pre>A ◄ Data for A ⚪\n",
       "├───── B ◄ Data for B\n",
       "│      └───── H ◄ Data for H\n",
       "├───── C ◄ Data for C\n",
       "│      ├───── D ◄ Data for D\n",
       "│      ├───── E ◄ Data for E\n",
       "│      │      ├───── F ◄ Data for F\n",
       "│      │      └───── G ◄ Data for G 🟡\n",
       "│      │             ├───── K ◄ Data for K\n",
       "│      │             └───── L ◄ Data for L\n",
       "│      └───── M ◄ Data for M\n",
       "└───── I ◄ Data for I\n",
       "       └───── J ◄ Data for J\n",
       "</pre>"
      ],
      "text/plain": [
       "<IPython.core.display.Markdown object>"
      ]
     },
     "metadata": {},
     "output_type": "display_data"
    }
   ],
   "source": [
    "from IPython.display import display, Markdown\n",
    "from AlgoTree.tree_print import pretty_tree\n",
    "def monotext(txt):\n",
    "    display(Markdown(f\"<pre>{txt}</pre>\"))\n",
    "\n",
    "monotext(pretty_tree(tree.node(\"A\"), mark=[\"A\", \"G\"], node_details=lambda node: node.payload['data']))\n"
   ]
  },
  {
   "cell_type": "code",
   "execution_count": 122,
   "metadata": {},
   "outputs": [
    {
     "data": {
      "text/markdown": [
       "<pre>A\n",
       "├───── B\n",
       "│      └───── H ⚪\n",
       "├───── C\n",
       "│      ├───── D 🔵\n",
       "│      ├───── E\n",
       "│      │      ├───── F\n",
       "│      │      └───── G\n",
       "│      │             ├───── K\n",
       "│      │             └───── L\n",
       "│      └───── M\n",
       "└───── I\n",
       "       └───── J\n",
       "</pre>"
      ],
      "text/plain": [
       "<IPython.core.display.Markdown object>"
      ]
     },
     "metadata": {},
     "output_type": "display_data"
    }
   ],
   "source": [
    "monotext(pretty_tree(tree.node(\"A\"), mark=[\"H\", \"D\"]))"
   ]
  },
  {
   "cell_type": "code",
   "execution_count": 123,
   "metadata": {},
   "outputs": [],
   "source": [
    "#from AlgoTree.treedot import TreeDot"
   ]
  },
  {
   "cell_type": "code",
   "execution_count": 124,
   "metadata": {},
   "outputs": [
    {
     "name": "stdout",
     "output_type": "stream",
     "text": [
      "{'node_info': {'ancestors': ['A', '__ROOT__'],\n",
      "               'children': ['D', 'E', 'M'],\n",
      "               'depth': 2,\n",
      "               'descendants': ['D', 'E', 'F', 'G', 'K', 'L', 'M'],\n",
      "               'is_internal': True,\n",
      "               'is_leaf': False,\n",
      "               'is_root': False,\n",
      "               'leaves_under': ['D', 'F', 'K', 'L', 'M'],\n",
      "               'name': 'C',\n",
      "               'parent': 'A',\n",
      "               'path': ['__ROOT__', 'A', 'C'],\n",
      "               'payload': {'data': 'Data for C'},\n",
      "               'root_distance': 2,\n",
      "               'siblings': ['B', 'I'],\n",
      "               'type': \"<class 'AlgoTree.flattree_node.FlatTreeNode'>\"},\n",
      " 'subtree_info': {'height': 3,\n",
      "                  'leaves': ['H', 'D', 'F', 'K', 'L', 'M', 'J'],\n",
      "                  'root': '__ROOT__',\n",
      "                  'size': 8}}\n"
     ]
    }
   ],
   "source": [
    "from pprint import pprint\n",
    "from AlgoTree import utils\n",
    "pprint(utils.node_stats(tree.node(\"C\")))"
   ]
  },
  {
   "cell_type": "markdown",
   "metadata": {},
   "source": [
    "The `FlatTree` class provides a **view** of a `dict` object as a tree. We do not modify\n",
    "the `dict` passed into it (and you can create a dict through the `FlatTree` API).\n",
    "\n",
    "The `FlatTree` class has a number of methods and properties to help you navigate the tree.\n",
    "A particular aspect of the `FlatTree` class is that it unifies any `dict` object into a tree\n",
    "structure. The keys are the node names and the values are the node values. If\n",
    "the value has no parent, it is a child of a `LOGICAL_ROOT` node that is computed\n",
    "lazily on demand (and is not a part of the actual underlying `dict` object).\n",
    "In this way, every dict is a tree, and every tree is a dict, with the exception\n",
    "that undefined behavior may result if the `dict` has keys that map to values\n",
    "in which a `parent` key is defined but results in a cycle or a node that is not\n",
    "in the `dict`. In this case, it will still try to work with it, but the behavior\n",
    "is undefined. You can call `FlatTree.check_valid` to check if the tree is in a\n",
    "valid state.\n",
    "\n",
    "Since it's just a view of a `dict` we have all the normal operations on it that\n",
    "we would have on a `dict` object."
   ]
  },
  {
   "cell_type": "markdown",
   "metadata": {},
   "source": [
    "We can also use the `FlatTree` class to visualize sub-trees rooted at some node.\n",
    "\n",
    "By default, the `FlatTree` conceptually represents as a whole the logical root\n",
    "of the tree. However, we have `FlatTree.ProxyNode` objects that can be used to\n",
    "represent any node in the tree, and supports the same API as the `FlatTree` class\n",
    "itself."
   ]
  },
  {
   "cell_type": "code",
   "execution_count": 125,
   "metadata": {},
   "outputs": [
    {
     "data": {
      "text/markdown": [
       "<pre>C 🔵\n",
       "├───── D\n",
       "├───── E\n",
       "│      ├───── F\n",
       "│      └───── G 🟡\n",
       "│             ├───── K\n",
       "│             └───── L\n",
       "└───── M\n",
       "</pre>"
      ],
      "text/plain": [
       "<IPython.core.display.Markdown object>"
      ]
     },
     "metadata": {},
     "output_type": "display_data"
    }
   ],
   "source": [
    "monotext(pretty_tree(tree.node(\"C\"), mark=[\"C\", \"G\"]))"
   ]
  },
  {
   "cell_type": "code",
   "execution_count": 126,
   "metadata": {},
   "outputs": [
    {
     "name": "stdout",
     "output_type": "stream",
     "text": [
      "{'parent': 'A', 'data': 'Data for B'}\n",
      "FlatTreeNode(name=C, parent=A, payload={'data': 'Data for C'}, root=__ROOT__, children=['D', 'E', 'M'])\n",
      "A\n",
      "[FlatTreeNode(name=D, parent=C, payload={'data': 'Data for D'}, root=__ROOT__, children=[]), FlatTreeNode(name=E, parent=C, payload={'data': 'Data for E'}, root=__ROOT__, children=['F', 'G']), FlatTreeNode(name=M, parent=C, payload={'data': 'Data for M'}, root=__ROOT__, children=[])]\n"
     ]
    }
   ],
   "source": [
    "print(tree[\"B\"])\n",
    "C = tree.node(\"C\")\n",
    "print(C)\n",
    "print(C[\"parent\"])\n",
    "print(C.children)"
   ]
  },
  {
   "cell_type": "markdown",
   "metadata": {},
   "source": [
    "We show that it's easy to regenerate any JSON files that may have been used\n",
    "to generate the FlatTree 'tree'. So, JSON is a good format for storing and\n",
    "transmitting trees. And, of course, `FlatTree` *is* a dictionary. Of course,\n",
    "if we store an object that has no serializable representation, it cannot be\n",
    "stored in JSON."
   ]
  },
  {
   "cell_type": "code",
   "execution_count": 127,
   "metadata": {},
   "outputs": [
    {
     "name": "stdout",
     "output_type": "stream",
     "text": [
      "True\n"
     ]
    }
   ],
   "source": [
    "print(json.dumps(tree, indent=2) == json.dumps(tree_data, indent=2))"
   ]
  },
  {
   "cell_type": "code",
   "execution_count": 128,
   "metadata": {},
   "outputs": [
    {
     "name": "stdout",
     "output_type": "stream",
     "text": [
      "FlatTreeNode(name=N, parent=__ROOT__, payload={'data': 'Data for M'}, root=__ROOT__, children=[])\n"
     ]
    },
    {
     "data": {
      "text/markdown": [
       "<pre>A\n",
       "├───── B\n",
       "│      └───── H\n",
       "├───── C\n",
       "│      ├───── D\n",
       "│      ├───── E\n",
       "│      │      ├───── F\n",
       "│      │      └───── G\n",
       "│      │             ├───── K\n",
       "│      │             └───── L\n",
       "│      └───── M\n",
       "├───── I\n",
       "│      └───── J\n",
       "└───── O 🔵\n",
       "</pre>"
      ],
      "text/plain": [
       "<IPython.core.display.Markdown object>"
      ]
     },
     "metadata": {},
     "output_type": "display_data"
    }
   ],
   "source": [
    "N = tree.root.add_child(name=\"N\", data=\"Data for M\")\n",
    "print(N)\n",
    "tree.node(\"A\").add_child(name=\"O\", data=\"Data for O\")\n",
    "monotext(pretty_tree(tree.root.node(\"A\"), mark=[\"O\"]))"
   ]
  },
  {
   "cell_type": "markdown",
   "metadata": {},
   "source": [
    "If we try too add a non-unique node key to the tree, we will get a `KeyError`."
   ]
  },
  {
   "cell_type": "code",
   "execution_count": 129,
   "metadata": {},
   "outputs": [
    {
     "name": "stdout",
     "output_type": "stream",
     "text": [
      "'key already exists in the tree: B'\n"
     ]
    }
   ],
   "source": [
    "try:\n",
    "    tree.node(\"A\").add_child(name=\"B\")\n",
    "except KeyError as e:\n",
    "    print(e)"
   ]
  },
  {
   "cell_type": "markdown",
   "metadata": {},
   "source": [
    "Let's add some more nodes."
   ]
  },
  {
   "cell_type": "code",
   "execution_count": 130,
   "metadata": {},
   "outputs": [
    {
     "data": {
      "text/markdown": [
       "<pre>__ROOT__\n",
       "├───── A\n",
       "│      ├───── B\n",
       "│      │      └───── H\n",
       "│      ├───── C\n",
       "│      │      ├───── D\n",
       "│      │      ├───── E\n",
       "│      │      │      ├───── F\n",
       "│      │      │      └───── G\n",
       "│      │      │             ├───── K\n",
       "│      │      │             └───── L\n",
       "│      │      └───── M\n",
       "│      ├───── I\n",
       "│      │      └───── J\n",
       "│      └───── O\n",
       "└───── N ⭕\n",
       "       ├───── P ⚫\n",
       "       │      └───── R 🔘\n",
       "       │             └───── S 🟣\n",
       "       └───── Q ⚪\n",
       "</pre>"
      ],
      "text/plain": [
       "<IPython.core.display.Markdown object>"
      ]
     },
     "metadata": {},
     "output_type": "display_data"
    },
    {
     "name": "stdout",
     "output_type": "stream",
     "text": [
      "FlatTreeNode(name=A, parent=__ROOT__, payload={'data': 'Data for A'}, root=__ROOT__, children=['B', 'C', 'I', 'O'])\n",
      "FlatTreeNode(name=__ROOT__, payload={}\n"
     ]
    }
   ],
   "source": [
    "P = N.add_child(name=\"P\", data=\"Data for P\")\n",
    "N.add_child(name=\"Q\", data=\"Data for Q\")\n",
    "P.add_child(name=\"R\", data=\"Data for R\").add_child(\n",
    "    name=\"S\", data=\"Data for S\"\n",
    ")\n",
    "monotext(pretty_tree(tree.root, mark=[\"N\", \"P\", \"Q\", \"R\", \"S\"]))\n",
    "\n",
    "print(tree.root.node(\"A\"))\n",
    "print(tree.root.node(\"A\").parent)"
   ]
  },
  {
   "cell_type": "code",
   "execution_count": 131,
   "metadata": {},
   "outputs": [
    {
     "name": "stdout",
     "output_type": "stream",
     "text": [
      "['D', 'C', 'E', 'M', 'A', 'F', 'G', 'B', 'I', 'O', '__ROOT__', 'K', 'L', 'H', 'J', 'N', 'P', 'Q', 'R', 'S']\n"
     ]
    }
   ],
   "source": [
    "f_nodes = utils.breadth_first_undirected(tree.node(\"D\"), 10)\n",
    "print([n.name for n in f_nodes])"
   ]
  },
  {
   "cell_type": "code",
   "execution_count": 132,
   "metadata": {},
   "outputs": [
    {
     "name": "stdout",
     "output_type": "stream",
     "text": [
      "Root:  FlatTreeNode(name=C, parent=A, payload={'data': 'Data for C'}, root=__ROOT__, children=['D', 'E', 'M'])\n",
      "Making FlatTreeNode(name=C, parent=A, payload={'data': 'Data for C'}, root=__ROOT__, children=['D', 'E', 'M']) the root\n",
      "Root:  FlatTreeNode(name=A, parent=__ROOT__, payload={'data': 'Data for A'}, root=__ROOT__, children=['B', 'C', 'I', 'O'])\n",
      "Making FlatTreeNode(name=A, parent=__ROOT__, payload={'data': 'Data for A'}, root=__ROOT__, children=['B', 'C', 'I', 'O']) the root\n",
      "Root:  FlatTreeNode(name=__ROOT__, payload={}\n",
      "Making FlatTreeNode(name=__ROOT__, payload={} the root\n",
      "Root: __ROOT__\n",
      "['D', 'C', 'E', 'M', 'A', 'F', 'G', 'B', 'I', 'O', '__ROOT__', 'K', 'L', 'H', 'J', 'N', 'P', 'Q', 'R', 'S']\n"
     ]
    }
   ],
   "source": [
    "center_f = utils.subtree_centered_at(tree.node(\"D\"), 10)\n",
    "#root_f = utils.subtree_rooted_at(tree.root, 5)\n"
   ]
  },
  {
   "cell_type": "code",
   "execution_count": 133,
   "metadata": {},
   "outputs": [
    {
     "name": "stdout",
     "output_type": "stream",
     "text": [
      "['D', 'E', 'M']\n",
      "['A', 'N']\n",
      "['A', 'N']\n",
      "['B', 'C', 'I', 'O']\n",
      "FlatTreeNode(name=__ROOT__, payload={}\n",
      "{'A': {'data': 'Data for A'}, 'B': {'parent': 'A', 'data': 'Data for B'}, 'C': {'parent': 'A', 'data': 'Data for C'}, 'D': {'parent': 'C', 'data': 'Data for D'}, 'E': {'parent': 'C', 'data': 'Data for E'}, 'F': {'parent': 'E', 'data': 'Data for F'}, 'G': {'parent': 'E', 'data': 'Data for G'}, 'H': {'parent': 'B', 'data': 'Data for H'}, 'I': {'parent': 'A', 'data': 'Data for I'}, 'J': {'parent': 'I', 'data': 'Data for J'}, 'K': {'parent': 'G', 'data': 'Data for K'}, 'L': {'parent': 'G', 'data': 'Data for L'}, 'M': {'parent': 'C', 'data': 'Data for M'}, 'N': {'data': 'Data for M'}, 'O': {'data': 'Data for O', 'parent': 'A'}, 'P': {'data': 'Data for P', 'parent': 'N'}, 'Q': {'data': 'Data for Q', 'parent': 'N'}, 'R': {'data': 'Data for R', 'parent': 'P'}, 'S': {'data': 'Data for S', 'parent': 'R'}}\n",
      "[FlatTreeNode(name=A, parent=__ROOT__, payload={'data': 'Data for A'}, root=__ROOT__, children=['B', 'C', 'I', 'O']), FlatTreeNode(name=N, parent=__ROOT__, payload={'data': 'Data for M'}, root=__ROOT__, children=['P', 'Q'])]\n",
      "[FlatTreeNode(name=A, parent=__ROOT__, payload={'data': 'Data for A'}, root=__ROOT__, children=['B', 'C', 'I', 'O']), FlatTreeNode(name=N, parent=__ROOT__, payload={'data': 'Data for M'}, root=__ROOT__, children=['P', 'Q'])]\n"
     ]
    }
   ],
   "source": [
    "print(tree.child_keys(\"C\"))\n",
    "print(tree.child_keys(FlatTree.LOGICAL_ROOT))\n",
    "print(tree.child_keys(None))\n",
    "print(tree.child_keys(\"A\"))\n",
    "\n",
    "print(tree.root)\n",
    "print(tree.children)\n",
    "print(tree.root.children)"
   ]
  },
  {
   "cell_type": "code",
   "execution_count": 134,
   "metadata": {},
   "outputs": [
    {
     "name": "stdout",
     "output_type": "stream",
     "text": [
      "FlatTreeNode(name=__ROOT__, payload={}\n"
     ]
    }
   ],
   "source": [
    "print(center_f)"
   ]
  },
  {
   "cell_type": "code",
   "execution_count": 135,
   "metadata": {},
   "outputs": [
    {
     "name": "stdout",
     "output_type": "stream",
     "text": [
      "FlatTreeNode(name=__ROOT__, payload={}\n",
      "FlatTreeNode(name=__ROOT__, payload={}\n",
      "None\n",
      "[FlatTreeNode(name=__ROOT__, payload={}, FlatTreeNode(name=A, parent=__ROOT__, payload={'payload': {'data': 'Data for A'}}, root=__ROOT__, children=['B', 'C', 'I', 'O']), FlatTreeNode(name=N, parent=__ROOT__, payload={'payload': {'data': 'Data for M'}}, root=__ROOT__, children=['P', 'Q'])]\n"
     ]
    }
   ],
   "source": [
    "print(center_f)\n",
    "print(center_f.root)\n",
    "print(center_f.parent)\n",
    "print(center_f.children)\n"
   ]
  },
  {
   "cell_type": "code",
   "execution_count": 136,
   "metadata": {},
   "outputs": [],
   "source": [
    "\n",
    "#monotext(pretty_tree(center_f))\n"
   ]
  },
  {
   "cell_type": "code",
   "execution_count": 137,
   "metadata": {},
   "outputs": [],
   "source": [
    "#monotext(pretty_tree(root_f, mark=[\"F\", \"D\"]))"
   ]
  },
  {
   "cell_type": "markdown",
   "metadata": {},
   "source": [
    "We also support conversions to and from `FlatTree`, `TreeNode`, and `anytree.Node` objects, or any other object which has an `__init__` method that takes arguments, or keyword arguments, and also has arguments for `parent` and `name`.\n",
    "\n",
    "The function is called `TreeConverter.copy_under` which accepts a `source` and `target` object, and copies the `source` object under the `target` object. The source is normally\n",
    "a node of some kind, and the target is another node, and the result is the tree\n",
    "structure under the source node is copied under the target node. The source node\n",
    "is not modified in any way."
   ]
  },
  {
   "cell_type": "code",
   "execution_count": 138,
   "metadata": {},
   "outputs": [
    {
     "data": {
      "text/markdown": [
       "<pre>__ROOT__\n",
       "├───── A\n",
       "│      ├───── B\n",
       "│      │      └───── H\n",
       "│      ├───── C\n",
       "│      │      ├───── D\n",
       "│      │      ├───── E\n",
       "│      │      │      ├───── F\n",
       "│      │      │      └───── G\n",
       "│      │      │             ├───── K\n",
       "│      │      │             └───── L\n",
       "│      │      └───── M\n",
       "│      ├───── I\n",
       "│      │      └───── J\n",
       "│      └───── O\n",
       "└───── N\n",
       "       ├───── P\n",
       "       │      └───── R\n",
       "       │             └───── S\n",
       "       └───── Q\n",
       "</pre>"
      ],
      "text/plain": [
       "<IPython.core.display.Markdown object>"
      ]
     },
     "metadata": {},
     "output_type": "display_data"
    },
    {
     "data": {
      "text/markdown": [
       "<pre>treenode\n",
       "├───── A\n",
       "│      ├───── B\n",
       "│      │      └───── H\n",
       "│      ├───── C\n",
       "│      │      ├───── D\n",
       "│      │      ├───── E\n",
       "│      │      │      ├───── F\n",
       "│      │      │      └───── G\n",
       "│      │      │             ├───── K\n",
       "│      │      │             └───── L\n",
       "│      │      └───── M\n",
       "│      ├───── I\n",
       "│      │      └───── J\n",
       "│      └───── O\n",
       "└───── N\n",
       "       ├───── P\n",
       "       │      └───── R\n",
       "       │             └───── S\n",
       "       └───── Q\n",
       "</pre>"
      ],
      "text/plain": [
       "<IPython.core.display.Markdown object>"
      ]
     },
     "metadata": {},
     "output_type": "display_data"
    },
    {
     "data": {
      "text/markdown": [
       "<pre>flattreenode\n",
       "├───── A\n",
       "│      ├───── B\n",
       "│      │      └───── H\n",
       "│      ├───── C\n",
       "│      │      ├───── D\n",
       "│      │      ├───── E\n",
       "│      │      │      ├───── F\n",
       "│      │      │      └───── G\n",
       "│      │      │             ├───── K\n",
       "│      │      │             └───── L\n",
       "│      │      └───── M\n",
       "│      ├───── I\n",
       "│      │      └───── J\n",
       "│      └───── O\n",
       "└───── N\n",
       "       ├───── P\n",
       "       │      └───── R\n",
       "       │             └───── S\n",
       "       └───── Q\n",
       "</pre>"
      ],
      "text/plain": [
       "<IPython.core.display.Markdown object>"
      ]
     },
     "metadata": {},
     "output_type": "display_data"
    }
   ],
   "source": [
    "from AlgoTree.treenode import TreeNode\n",
    "\n",
    "tree1 = TreeConverter.copy_under(tree.root, TreeNode(name=\"treenode\"))\n",
    "tree2 = TreeConverter.copy_under(tree.root, FlatTreeNode(name=\"flattreenode\"))\n",
    "#tree2 = TreeConverter.copy_under(tree.node(\"A\"), tree.node(\"D\"), node_name=lambda node: f\"{node.name}'\")\n",
    "monotext(pretty_tree(tree.root))\n",
    "monotext(pretty_tree(tree1))\n",
    "monotext(pretty_tree(tree2))\n"
   ]
  },
  {
   "cell_type": "markdown",
   "metadata": {},
   "source": [
    "We can iterate over the items of the child and we can modify/delete its data."
   ]
  },
  {
   "cell_type": "code",
   "execution_count": 139,
   "metadata": {},
   "outputs": [
    {
     "name": "stdout",
     "output_type": "stream",
     "text": [
      "data <-- Data for M\n",
      "FlatTreeNode(name=N, parent=__ROOT__, payload={'data': 'Data for M', 'new_data': 'Some new data for G'}, root=__ROOT__, children=['P', 'Q'])\n",
      "FlatTreeNode(name=N, parent=__ROOT__, payload={'data': 'Data for M', 'other_new_data': 'Some other data for G'}, root=__ROOT__, children=['P', 'Q'])\n"
     ]
    }
   ],
   "source": [
    "for k, v in N.items():\n",
    "    print(k, \"<--\", v)\n",
    "\n",
    "N[\"new_data\"] = \"Some new data for G\"\n",
    "print(N)\n",
    "\n",
    "del N[\"new_data\"]\n",
    "N[\"other_new_data\"] = \"Some other data for G\"\n",
    "print(N)"
   ]
  },
  {
   "cell_type": "markdown",
   "metadata": {},
   "source": [
    "Let's create a tree from a dictionary that refers to a non-existent parent."
   ]
  },
  {
   "cell_type": "code",
   "execution_count": 140,
   "metadata": {},
   "outputs": [
    {
     "data": {
      "text/markdown": [
       "<pre>__ROOT__\n",
       "</pre>"
      ],
      "text/plain": [
       "<IPython.core.display.Markdown object>"
      ]
     },
     "metadata": {},
     "output_type": "display_data"
    },
    {
     "name": "stdout",
     "output_type": "stream",
     "text": [
      "\"Parent 'non_existent_parent' not in tree for node 'A'\"\n"
     ]
    }
   ],
   "source": [
    "try:\n",
    "    non_existent_parent_tree = FlatTree(\n",
    "        {\n",
    "            \"A\": {\n",
    "                \"parent\": \"non_existent_parent\",\n",
    "                \"data\": \"Data for A\",\n",
    "            }\n",
    "        }\n",
    "    )\n",
    "    monotext(pretty_tree(non_existent_parent_tree))\n",
    "    FlatTree.check_valid(non_existent_parent_tree)\n",
    "except KeyError as e:\n",
    "    print(e)"
   ]
  },
  {
   "cell_type": "markdown",
   "metadata": {},
   "source": [
    "We see that the node is disconnected from the logical root, since it refers\n",
    "to a non-existent parent."
   ]
  },
  {
   "cell_type": "code",
   "execution_count": 141,
   "metadata": {},
   "outputs": [
    {
     "data": {
      "text/markdown": [
       "<pre>__ROOT__\n",
       "└───── x\n",
       "       └───── D\n",
       "</pre>"
      ],
      "text/plain": [
       "<IPython.core.display.Markdown object>"
      ]
     },
     "metadata": {},
     "output_type": "display_data"
    },
    {
     "name": "stdout",
     "output_type": "stream",
     "text": [
      "Cycle detected: {'B', 'C', 'A'}\n"
     ]
    }
   ],
   "source": [
    "try:\n",
    "    cycle_tree = FlatTree(\n",
    "        {\n",
    "            \"x\": {\"parent\": None, \"data\": \"Data for x\"},\n",
    "            \"A\": {\"parent\": \"C\", \"data\": \"Data for A\"},\n",
    "            \"B\": {\"parent\": \"A\", \"data\": \"Data for B\"},\n",
    "            \"C\": {\"parent\": \"B\", \"data\": \"Data for C\"},\n",
    "            \"D\": {\"parent\": \"x\", \"data\": \"Data for D\"},\n",
    "        }\n",
    "    )\n",
    "\n",
    "    monotext(pretty_tree(cycle_tree.root))\n",
    "    FlatTree.check_valid(cycle_tree)\n",
    "except ValueError as e:\n",
    "    print(e)"
   ]
  },
  {
   "cell_type": "markdown",
   "metadata": {},
   "source": [
    "We see that the tree was in an invalid state. In particular, nodes 1, 2, and 3\n",
    "are disconnected from the logical root and in a cycle. We can fix this by\n",
    "breaking the cycle and setting the parent of node 3 to, for instance, the\n",
    "logical root (by setting it to `None`)."
   ]
  },
  {
   "cell_type": "code",
   "execution_count": 142,
   "metadata": {},
   "outputs": [
    {
     "data": {
      "text/markdown": [
       "<pre>__ROOT__\n",
       "├───── x\n",
       "│      └───── D\n",
       "└───── C 🔵\n",
       "       └───── A\n",
       "              └───── B\n",
       "</pre>"
      ],
      "text/plain": [
       "<IPython.core.display.Markdown object>"
      ]
     },
     "metadata": {},
     "output_type": "display_data"
    }
   ],
   "source": [
    "cycle_tree[\"C\"][\"parent\"] = None\n",
    "FlatTree.check_valid(cycle_tree)\n",
    "monotext(pretty_tree(cycle_tree.root, mark=[\"C\"]))"
   ]
  },
  {
   "cell_type": "markdown",
   "metadata": {},
   "source": [
    "Let's look at the tree again, and see about creating a cycle."
   ]
  },
  {
   "cell_type": "markdown",
   "metadata": {},
   "source": [
    "We will make node 1 the parent of node 5, to create a cycle:"
   ]
  },
  {
   "cell_type": "code",
   "execution_count": 143,
   "metadata": {},
   "outputs": [],
   "source": [
    "from copy import deepcopy\n",
    "\n",
    "try:\n",
    "    new_tree = deepcopy(tree.root)\n",
    "    new_tree.node(\"A\")[\"parent\"] = \"E\"\n",
    "    FlatTree.check_valid(new_tree)\n",
    "except ValueError as e:\n",
    "    print(e)"
   ]
  },
  {
   "cell_type": "markdown",
   "metadata": {},
   "source": [
    "Notice that we use `deepcopy` to avoid modifying the original tree with these\n",
    "invalid operations. We chose to do it this way so as to not incur the overhead\n",
    "of reverting the tree to a valid state after an invalid operation. This way,\n",
    "we can keep the tree in an invalid state for as long as we want, and only\n",
    "revert it to a valid state when we want to."
   ]
  },
  {
   "cell_type": "markdown",
   "metadata": {},
   "source": [
    "Each node is a key-value pair in the `FlatTree`. We have the  `FlatTree.ProxyNode`\n",
    "so that we can have an API focused on the nodes and not the underlying dictionary.\n",
    "However, we stiill permit access to the underlying dictionary. When you modify\n",
    "the tree in this way, we still maintain the integrity of the tree.\n",
    "\n",
    "Since the `FlatTree` represents nodes as key-value pairs, and the value may\n",
    "have a parent key, along with any other arbitrary data, each value for a node\n",
    "must be a dictionary.\n",
    "\n",
    "Below, we see that trying to add a `test` node with a non-dictionary value\n",
    "generates an error."
   ]
  },
  {
   "cell_type": "code",
   "execution_count": 144,
   "metadata": {},
   "outputs": [
    {
     "name": "stdout",
     "output_type": "stream",
     "text": [
      "Node 'test' does not have dictionary: value='Some test data'\n"
     ]
    }
   ],
   "source": [
    "try:\n",
    "    error_tree = deepcopy(tree)\n",
    "    # this will raise a ValueError because the node with key `test` maps to\n",
    "    # string instead of a dict.\n",
    "    error_tree[\"test\"] = \"Some test data\"\n",
    "    FlatTree.check_valid(error_tree)\n",
    "except ValueError as e:\n",
    "    print(e)"
   ]
  },
  {
   "cell_type": "markdown",
   "metadata": {},
   "source": [
    "Let's manipulate the tree a bit more using the `dict` API. We're just going to\n",
    "add a `new_node` with some data."
   ]
  },
  {
   "cell_type": "code",
   "execution_count": 145,
   "metadata": {},
   "outputs": [
    {
     "name": "stdout",
     "output_type": "stream",
     "text": [
      "FlatTreeNode(name=T, parent=A, payload={'data': 'Data for T'}, root=__ROOT__, children=[])\n",
      "FlatTreeNode(name=__ROOT__, payload={}\n"
     ]
    },
    {
     "data": {
      "text/markdown": [
       "<pre>0\n",
       "├───── 1\n",
       "└───── 2\n",
       "       └───── 3\n",
       "</pre>"
      ],
      "text/plain": [
       "<IPython.core.display.Markdown object>"
      ]
     },
     "metadata": {},
     "output_type": "display_data"
    }
   ],
   "source": [
    "tree[\"T\"] = {\n",
    "    \"parent\": \"A\",\n",
    "    \"data\": \"Data for T\"\n",
    "}\n",
    "\n",
    "print(tree.node(\"T\"))\n",
    "print(tree.root)\n",
    "\n",
    "node0 = FlatTreeNode(name=\"0\", data=0)\n",
    "node1 = FlatTreeNode(name=\"1\", data=1, parent=node0)\n",
    "node2 = FlatTreeNode(name=\"2\", data=2, parent=node0)\n",
    "node3 = FlatTreeNode(name=\"3\", data=3, parent=node2)\n",
    "\n",
    "result = TreeConverter.copy_under(node0, tree.node(\"B\"))\n",
    "\n",
    "result2 = TreeConverter.convert(node0.tree.root, FlatTreeNode)\n",
    "\n",
    "monotext(pretty_tree(result2))\n"
   ]
  },
  {
   "cell_type": "code",
   "execution_count": 146,
   "metadata": {},
   "outputs": [
    {
     "data": {
      "text/markdown": [
       "<pre>A\n",
       "├───── B\n",
       "│      ├───── H\n",
       "│      └───── 0\n",
       "│             ├───── 1\n",
       "│             └───── 2\n",
       "│                    └───── 3\n",
       "├───── C\n",
       "│      ├───── D\n",
       "│      ├───── E\n",
       "│      │      ├───── F\n",
       "│      │      └───── G\n",
       "│      │             ├───── K\n",
       "│      │             └───── L\n",
       "│      └───── M\n",
       "├───── I\n",
       "│      └───── J\n",
       "├───── O\n",
       "└───── T\n",
       "</pre>"
      ],
      "text/plain": [
       "<IPython.core.display.Markdown object>"
      ]
     },
     "metadata": {},
     "output_type": "display_data"
    }
   ],
   "source": [
    "monotext(pretty_tree(tree.node(\"A\")))"
   ]
  },
  {
   "cell_type": "code",
   "execution_count": 147,
   "metadata": {},
   "outputs": [
    {
     "name": "stdout",
     "output_type": "stream",
     "text": [
      "{'0': {'data': 0, 'parent': 'B'},\n",
      " '1': {'data': 1, 'parent': '0'},\n",
      " '2': {'data': 2, 'parent': '0'},\n",
      " '3': {'data': 3, 'parent': '2'},\n",
      " 'A': {'data': 'Data for A'},\n",
      " 'B': {'data': 'Data for B', 'parent': 'A'},\n",
      " 'C': {'data': 'Data for C', 'parent': 'A'},\n",
      " 'D': {'data': 'Data for D', 'parent': 'C'},\n",
      " 'E': {'data': 'Data for E', 'parent': 'C'},\n",
      " 'F': {'data': 'Data for F', 'parent': 'E'},\n",
      " 'G': {'data': 'Data for G', 'parent': 'E'},\n",
      " 'H': {'data': 'Data for H', 'parent': 'B'},\n",
      " 'I': {'data': 'Data for I', 'parent': 'A'},\n",
      " 'J': {'data': 'Data for J', 'parent': 'I'},\n",
      " 'K': {'data': 'Data for K', 'parent': 'G'},\n",
      " 'L': {'data': 'Data for L', 'parent': 'G'},\n",
      " 'M': {'data': 'Data for M', 'parent': 'C'},\n",
      " 'N': {'data': 'Data for M', 'other_new_data': 'Some other data for G'},\n",
      " 'O': {'data': 'Data for O', 'parent': 'A'},\n",
      " 'P': {'data': 'Data for P', 'parent': 'N'},\n",
      " 'Q': {'data': 'Data for Q', 'parent': 'N'},\n",
      " 'R': {'data': 'Data for R', 'parent': 'P'},\n",
      " 'S': {'data': 'Data for S', 'parent': 'R'},\n",
      " 'T': {'data': 'Data for T', 'parent': 'A'}}\n"
     ]
    }
   ],
   "source": [
    "pprint(tree)"
   ]
  },
  {
   "cell_type": "markdown",
   "metadata": {},
   "source": [
    "The logical root node is not a part of the underlying dictionary, so we can't\n",
    "access it through the `dict` API. It's non-children data are also immutable\n",
    "through the `FlatTreeNode` API."
   ]
  },
  {
   "cell_type": "code",
   "execution_count": 148,
   "metadata": {},
   "outputs": [
    {
     "name": "stdout",
     "output_type": "stream",
     "text": [
      "__ROOT__ is an immutable logical root\n",
      "__ROOT__ is an immutable logical root\n"
     ]
    }
   ],
   "source": [
    "try:\n",
    "    tree.root[\"data\"] = \"Some new data for root node\"\n",
    "except TypeError as e:\n",
    "    print(e)\n",
    "\n",
    "try:\n",
    "    tree.root[\"parent\"] = None\n",
    "except TypeError as e:\n",
    "    print(e)"
   ]
  },
  {
   "cell_type": "markdown",
   "metadata": {},
   "source": [
    "We can *detach* nodes. Let's first view the full tree, pre-detachment."
   ]
  },
  {
   "cell_type": "code",
   "execution_count": 149,
   "metadata": {},
   "outputs": [
    {
     "data": {
      "text/markdown": [
       "<pre>__ROOT__\n",
       "├───── A\n",
       "│      ├───── B\n",
       "│      │      ├───── H\n",
       "│      │      └───── 0\n",
       "│      │             ├───── 1\n",
       "│      │             └───── 2\n",
       "│      │                    └───── 3\n",
       "│      ├───── C\n",
       "│      │      ├───── D\n",
       "│      │      ├───── E\n",
       "│      │      │      ├───── F\n",
       "│      │      │      └───── G\n",
       "│      │      │             ├───── K\n",
       "│      │      │             └───── L\n",
       "│      │      └───── M\n",
       "│      ├───── I\n",
       "│      │      └───── J\n",
       "│      ├───── O\n",
       "│      └───── T\n",
       "└───── N\n",
       "       ├───── P\n",
       "       │      └───── R\n",
       "       │             └───── S\n",
       "       └───── Q\n",
       "</pre>"
      ],
      "text/plain": [
       "<IPython.core.display.Markdown object>"
      ]
     },
     "metadata": {},
     "output_type": "display_data"
    }
   ],
   "source": [
    "monotext(pretty_tree(tree.root))"
   ]
  },
  {
   "cell_type": "code",
   "execution_count": 150,
   "metadata": {},
   "outputs": [
    {
     "data": {
      "text/markdown": [
       "<pre>__ROOT__\n",
       "├───── A\n",
       "│      ├───── I\n",
       "│      │      └───── J\n",
       "│      ├───── O\n",
       "│      └───── T\n",
       "└───── N\n",
       "       ├───── P\n",
       "       │      └───── R\n",
       "       │             └───── S\n",
       "       └───── Q\n",
       "</pre>"
      ],
      "text/plain": [
       "<IPython.core.display.Markdown object>"
      ]
     },
     "metadata": {},
     "output_type": "display_data"
    }
   ],
   "source": [
    "tree.node(\"C\").detach()\n",
    "tree.detach(\"B\")\n",
    "monotext(pretty_tree(tree.root))\n"
   ]
  },
  {
   "cell_type": "markdown",
   "metadata": {},
   "source": [
    "Let's view the detached tree."
   ]
  },
  {
   "cell_type": "code",
   "execution_count": 151,
   "metadata": {},
   "outputs": [
    {
     "data": {
      "text/markdown": [
       "<pre>__DETACHED__\n",
       "├───── B 🔴\n",
       "│      ├───── H\n",
       "│      └───── 0\n",
       "│             ├───── 1\n",
       "│             └───── 2\n",
       "│                    └───── 3\n",
       "└───── C 🔵\n",
       "       ├───── D\n",
       "       ├───── E\n",
       "       │      ├───── F\n",
       "       │      └───── G\n",
       "       │             ├───── K\n",
       "       │             └───── L\n",
       "       └───── M\n",
       "</pre>"
      ],
      "text/plain": [
       "<IPython.core.display.Markdown object>"
      ]
     },
     "metadata": {},
     "output_type": "display_data"
    }
   ],
   "source": [
    "monotext(pretty_tree(tree.detached, mark=[\"B\", \"C\"]))\n"
   ]
  },
  {
   "cell_type": "markdown",
   "metadata": {},
   "source": [
    "We can prune (delete) nodes (and their descendants) from the tree with the\n",
    "`prune` method. The prune method takes either a node key or a `FlatTreeNode`\n",
    "object. Let's prune the detached nodes:"
   ]
  },
  {
   "cell_type": "code",
   "execution_count": 152,
   "metadata": {},
   "outputs": [
    {
     "name": "stdout",
     "output_type": "stream",
     "text": [
      "Pruned keys: ['B', 'H', '0', '1', '2', '3', 'C', 'D', 'E', 'F', 'G', 'K', 'L', 'M']\n",
      "\"Key not found: 'B'\"\n",
      "\"Key not found: 'H'\"\n",
      "\"Key not found: '0'\"\n",
      "\"Key not found: '1'\"\n",
      "\"Key not found: '2'\"\n",
      "\"Key not found: '3'\"\n",
      "\"Key not found: 'C'\"\n",
      "\"Key not found: 'D'\"\n",
      "\"Key not found: 'E'\"\n",
      "\"Key not found: 'F'\"\n",
      "\"Key not found: 'G'\"\n",
      "\"Key not found: 'K'\"\n",
      "\"Key not found: 'L'\"\n",
      "\"Key not found: 'M'\"\n",
      "{'A': {'data': 'Data for A'},\n",
      " 'I': {'data': 'Data for I', 'parent': 'A'},\n",
      " 'J': {'data': 'Data for J', 'parent': 'I'},\n",
      " 'N': {'data': 'Data for M', 'other_new_data': 'Some other data for G'},\n",
      " 'O': {'data': 'Data for O', 'parent': 'A'},\n",
      " 'P': {'data': 'Data for P', 'parent': 'N'},\n",
      " 'Q': {'data': 'Data for Q', 'parent': 'N'},\n",
      " 'R': {'data': 'Data for R', 'parent': 'P'},\n",
      " 'S': {'data': 'Data for S', 'parent': 'R'},\n",
      " 'T': {'data': 'Data for T', 'parent': 'A'}}\n"
     ]
    }
   ],
   "source": [
    "# tree.prune(\"__DETACHED__\")\n",
    "pruned_keys = tree.prune(tree.detached)\n",
    "print(f\"Pruned keys: {pruned_keys}\")\n",
    "for key in pruned_keys:\n",
    "    try:\n",
    "        print(tree.node(key))\n",
    "    except KeyError as e:\n",
    "        print(e)\n",
    "\n",
    "pprint(tree)"
   ]
  },
  {
   "cell_type": "markdown",
   "metadata": {},
   "source": [
    "We can prune any subtree from the tree. Let's prune the subtree rooted at\n",
    "node 3."
   ]
  },
  {
   "cell_type": "code",
   "execution_count": 153,
   "metadata": {},
   "outputs": [
    {
     "name": "stdout",
     "output_type": "stream",
     "text": [
      "pruned_keys=['P', 'R', 'S']\n",
      "\"Key not found: 'P'\"\n",
      "\"Key not found: 'R'\"\n",
      "\"Key not found: 'S'\"\n"
     ]
    },
    {
     "data": {
      "text/markdown": [
       "<pre>__ROOT__\n",
       "├───── A\n",
       "│      ├───── I\n",
       "│      │      └───── J\n",
       "│      ├───── O\n",
       "│      └───── T\n",
       "└───── N\n",
       "       └───── Q\n",
       "</pre>"
      ],
      "text/plain": [
       "<IPython.core.display.Markdown object>"
      ]
     },
     "metadata": {},
     "output_type": "display_data"
    }
   ],
   "source": [
    "pruned_keys = tree.prune(\"P\")\n",
    "print(f\"{pruned_keys=}\")\n",
    "for key in pruned_keys:\n",
    "    try:\n",
    "        print(tree.node(key))\n",
    "    except KeyError as e:\n",
    "        print(e)\n",
    "\n",
    "monotext(pretty_tree(tree.root))"
   ]
  },
  {
   "cell_type": "markdown",
   "metadata": {},
   "source": [
    "\n",
    "Let's view the tree after pruning node 3.\n",
    "\n",
    "\n",
    "![post-prune-node-3](post-prune-node-3.png)\n",
    "\n",
    "We have a fairly complete API for manipulating the tree. Let's explore some\n",
    "additional methods."
   ]
  },
  {
   "cell_type": "code",
   "execution_count": 154,
   "metadata": {},
   "outputs": [
    {
     "name": "stdout",
     "output_type": "stream",
     "text": [
      "{'new_data': 'Some new data for A', 'other_new_data': 'Some other data for A'}\n"
     ]
    }
   ],
   "source": [
    "tree.node(\"A\").clear()\n",
    "tree.node(\"A\")[\"new_data\"] = \"Some new data for A\"\n",
    "tree.node(\"A\")[\"other_new_data\"] = \"Some other data for A\"\n",
    "print(tree[\"A\"])"
   ]
  },
  {
   "cell_type": "markdown",
   "metadata": {},
   "source": [
    "This is fairly self-expalanatory. Let's add some more nodes without specifying\n",
    "a key name for them, since often we don't care about the key name and it's\n",
    "only for bookkeeping purposes."
   ]
  },
  {
   "cell_type": "code",
   "execution_count": 155,
   "metadata": {},
   "outputs": [
    {
     "data": {
      "text/markdown": [
       "<pre>__ROOT__ ◄ {}\n",
       "├───── A ◄ {'new_data': 'Some new data for A', 'other_new_data': 'Some other data for A'}\n",
       "│      ├───── I ◄ {'data': 'Data for I'}\n",
       "│      │      └───── J ◄ {'data': 'Data for J'}\n",
       "│      ├───── O ◄ {'data': 'Data for O'}\n",
       "│      ├───── T ◄ {'data': 'Data for T'}\n",
       "│      └───── fae93353-0711-46ca-aa90-29937cf633eb ◄ {'whatever': 1000}\n",
       "├───── N ◄ {'data': 'Data for M', 'other_new_data': 'Some other data for G'}\n",
       "│      └───── Q ◄ {'data': 'Data for Q'}\n",
       "├───── 394e5a76-d943-44cb-9916-c6dabf920efa ◄ {'whatever': 3}\n",
       "│      └───── U ◄ {'whatever': 4} ⚫\n",
       "│             └───── 1f47f1b8-c69f-48b1-80c7-0a973e791db8 ◄ {'whatever': 5}\n",
       "└───── W ◄ {'whatever': 200} 🔵\n",
       "       └───── V ◄ {'whatever': 2000} 🔴\n",
       "              └───── 639885b9-1189-49e5-92d1-564431612222 ◄ {'whatever': 3000, 'more_data': 'yes'}\n",
       "</pre>"
      ],
      "text/plain": [
       "<IPython.core.display.Markdown object>"
      ]
     },
     "metadata": {},
     "output_type": "display_data"
    }
   ],
   "source": [
    "tree.root.add_child(whatever=3).add_child(\n",
    "    name=\"U\", whatever=4).add_child(whatever=5)\n",
    "FlatTreeNode(whatever=1000, parent=tree.root.children[0])\n",
    "FlatTreeNode(name=\"V\", whatever=2000, parent=tree.root.children[0].children[1])\n",
    "FlatTreeNode(whatever=3000, more_data=\"yes\", parent=tree.node(\"V\"))\n",
    "FlatTreeNode(name=\"W\", parent=tree.root, whatever=200)\n",
    "\n",
    "\n",
    "tree.node(\"V\").parent = tree.node(\"W\")\n",
    "\n",
    "monotext(pretty_tree(tree.root, mark=[\"U\", \"V\", \"W\"], node_details=lambda n: n.payload))\n",
    "\n"
   ]
  },
  {
   "cell_type": "markdown",
   "metadata": {},
   "source": [
    "Let's look at some tree conversions. We can convert between different tree\n",
    "representations and data structures."
   ]
  },
  {
   "cell_type": "code",
   "execution_count": 156,
   "metadata": {},
   "outputs": [
    {
     "name": "stdout",
     "output_type": "stream",
     "text": [
      "<class 'AlgoTree.treenode.TreeNode'>\n"
     ]
    }
   ],
   "source": [
    "new_tree = TreeConverter.convert(tree.root, TreeNode)\n",
    "print(type(new_tree))"
   ]
  },
  {
   "cell_type": "markdown",
   "metadata": {},
   "source": [
    "We see that it's a different type of tree, a `TreeNode`, which is a recursive\n",
    "data structure. Nowever, it's also a `dict`. Let's look at its representation."
   ]
  },
  {
   "cell_type": "code",
   "execution_count": 157,
   "metadata": {},
   "outputs": [
    {
     "name": "stdout",
     "output_type": "stream",
     "text": [
      "TreeNode(name=W, root=W, payload={'whatever': 200})\n"
     ]
    }
   ],
   "source": [
    "pprint(new_tree)"
   ]
  },
  {
   "cell_type": "markdown",
   "metadata": {},
   "source": [
    "We see that it has a very different structure. However, when we pretty-print\n",
    "it using `TreeViz`, we see that it's the same tree."
   ]
  },
  {
   "cell_type": "code",
   "execution_count": 158,
   "metadata": {},
   "outputs": [
    {
     "data": {
      "text/markdown": [
       "<pre>__ROOT__\n",
       "├───── A\n",
       "│      ├───── I\n",
       "│      │      └───── J\n",
       "│      ├───── O\n",
       "│      ├───── T\n",
       "│      └───── fae93353-0711-46ca-aa90-29937cf633eb\n",
       "├───── N\n",
       "│      └───── Q\n",
       "├───── 394e5a76-d943-44cb-9916-c6dabf920efa\n",
       "│      └───── U\n",
       "│             └───── 1f47f1b8-c69f-48b1-80c7-0a973e791db8\n",
       "└───── W\n",
       "       └───── V\n",
       "              └───── 639885b9-1189-49e5-92d1-564431612222\n",
       "</pre>"
      ],
      "text/plain": [
       "<IPython.core.display.Markdown object>"
      ]
     },
     "metadata": {},
     "output_type": "display_data"
    },
    {
     "data": {
      "text/markdown": [
       "<pre>W\n",
       "└───── V\n",
       "       └───── 639885b9-1189-49e5-92d1-564431612222\n",
       "</pre>"
      ],
      "text/plain": [
       "<IPython.core.display.Markdown object>"
      ]
     },
     "metadata": {},
     "output_type": "display_data"
    }
   ],
   "source": [
    "monotext(pretty_tree(tree.root))\n",
    "monotext(pretty_tree(new_tree))"
   ]
  },
  {
   "cell_type": "code",
   "execution_count": 159,
   "metadata": {},
   "outputs": [
    {
     "data": {
      "text/markdown": [
       "<pre>W\n",
       "└───── V\n",
       "       └───── 639885b9-1189-49e5-92d1-564431612222\n",
       "</pre>"
      ],
      "text/plain": [
       "<IPython.core.display.Markdown object>"
      ]
     },
     "metadata": {},
     "output_type": "display_data"
    },
    {
     "name": "stdout",
     "output_type": "stream",
     "text": [
      "<class 'AlgoTree.treenode.TreeNode'>\n"
     ]
    },
    {
     "data": {
      "text/markdown": [
       "<pre>None</pre>"
      ],
      "text/plain": [
       "<IPython.core.display.Markdown object>"
      ]
     },
     "metadata": {},
     "output_type": "display_data"
    },
    {
     "name": "stdout",
     "output_type": "stream",
     "text": [
      "<class 'AlgoTree.treenode.TreeNode'>\n"
     ]
    },
    {
     "data": {
      "text/markdown": [
       "<pre>None</pre>"
      ],
      "text/plain": [
       "<IPython.core.display.Markdown object>"
      ]
     },
     "metadata": {},
     "output_type": "display_data"
    },
    {
     "name": "stdout",
     "output_type": "stream",
     "text": [
      "<class 'AlgoTree.flattree_node.FlatTreeNode'>\n"
     ]
    },
    {
     "data": {
      "text/markdown": [
       "<pre>None</pre>"
      ],
      "text/plain": [
       "<IPython.core.display.Markdown object>"
      ]
     },
     "metadata": {},
     "output_type": "display_data"
    },
    {
     "data": {
      "text/markdown": [
       "<pre>W\n",
       "└───── V\n",
       "       └───── 639885b9-1189-49e5-92d1-564431612222\n",
       "</pre>"
      ],
      "text/plain": [
       "<IPython.core.display.Markdown object>"
      ]
     },
     "metadata": {},
     "output_type": "display_data"
    },
    {
     "data": {
      "text/plain": [
       "FlatTreeNode(name=C, parent=B, payload={}, root=copy_under, children=[])"
      ]
     },
     "execution_count": 159,
     "metadata": {},
     "output_type": "execute_result"
    }
   ],
   "source": [
    "result = TreeConverter.copy_under(new_tree, FlatTreeNode(name=\"new_root\"))\n",
    "monotext(pretty_tree(result))\n",
    "result2 = TreeConverter.copy_under(result, new_tree)\n",
    "monotext(print(type(new_tree)))\n",
    "monotext(print(type(result2)))\n",
    "monotext(print(type(result)))\n",
    "monotext(pretty_tree(result2))\n",
    "\n",
    "copyundernode = FlatTreeNode(name=\"copy_under\")\n",
    "FlatTreeNode(name=\"A\", parent=copyundernode)\n",
    "B = FlatTreeNode(name=\"B\", parent=copyundernode)\n",
    "FlatTreeNode(name=\"C\", parent=B)"
   ]
  },
  {
   "cell_type": "markdown",
   "metadata": {},
   "source": [
    "The `TreeNode` is a bit more useful for operations that require recursion, but\n",
    "any tree can support the sae operations. The `TreeNode` is a bit more specialized\n",
    "for this purpose, and the `FlatTree` is a bit more specialized for more general\n",
    "storage and manipulation of data that is tree-like, such as configuration data\n",
    "or log data. See `TreeNode.md` for more information on the `TreeNode` class."
   ]
  },
  {
   "cell_type": "code",
   "execution_count": 160,
   "metadata": {},
   "outputs": [
    {
     "data": {
      "text/markdown": [
       "<pre>root\n",
       "├───── A\n",
       "├───── B\n",
       "└───── C\n",
       "       ├───── D\n",
       "       ├───── E\n",
       "       ├───── F\n",
       "       │      └───── I\n",
       "       │             ├───── 5740354900026072187\n",
       "       │             ├───── Y\n",
       "       │             │      ├───── Z\n",
       "       │             │      └───── XYZ\n",
       "       │             └───── 5740354900026072187\n",
       "       ├───── G\n",
       "       └───── H\n",
       "              ├───── X\n",
       "              └───── Z\n",
       "</pre>"
      ],
      "text/plain": [
       "<IPython.core.display.Markdown object>"
      ]
     },
     "metadata": {},
     "output_type": "display_data"
    },
    {
     "data": {
      "text/markdown": [
       "<pre>Y\n",
       "├───── Z\n",
       "└───── XYZ\n",
       "</pre>"
      ],
      "text/plain": [
       "<IPython.core.display.Markdown object>"
      ]
     },
     "metadata": {},
     "output_type": "display_data"
    },
    {
     "data": {
      "text/markdown": [
       "<pre>Y\n",
       "├───── Z\n",
       "└───── XYZ\n",
       "</pre>"
      ],
      "text/plain": [
       "<IPython.core.display.Markdown object>"
      ]
     },
     "metadata": {},
     "output_type": "display_data"
    }
   ],
   "source": [
    "root = TreeNode(name=\"root\", value=0)\n",
    "A = TreeNode(name=\"A\", parent=root, value=1)\n",
    "B = TreeNode(name=\"B\", parent=root, value=2)\n",
    "C = TreeNode(name=\"C\", parent=root, value=3)\n",
    "D = TreeNode(name=\"D\", parent=C, value=4)\n",
    "E = TreeNode(name=\"E\", parent=C, value=5)\n",
    "F = TreeNode(name=\"F\", parent=C, value=6)\n",
    "G = TreeNode(name=\"G\", parent=C, value=7)\n",
    "H = TreeNode(name=\"H\", parent=C, value=8)\n",
    "I = TreeNode(name=\"I\", parent=F, value=9)\n",
    "I[\"what\"] = \"Some data\"\n",
    "I[\"children\"] = [\n",
    "    {\"value\": 10},\n",
    "    {\"__name__\": \"Y\", \"value\": 11},\n",
    "    {\"value\": 12},\n",
    "]\n",
    "\n",
    "H.children = [\n",
    "    TreeNode(name=\"X\", value=13),\n",
    "    TreeNode(name=\"Z\", value=14),\n",
    "]\n",
    "root.node(\"Y\").children = [TreeNode(name=\"Z\", value=15),\n",
    "                           TreeNode(name=\"XYZ\", value=16)]\n",
    "monotext(pretty_tree(root.node(\"A\").root))\n",
    "monotext(pretty_tree(root.node(\"Y\").root))\n",
    "monotext(pretty_tree(root.node(\"Y\")))"
   ]
  },
  {
   "cell_type": "markdown",
   "metadata": {},
   "source": [
    "Algorithm Examples\n",
    "------------------\n",
    "\n",
    "Using utility algorithms with `FlatTree` and `FlatTreeNode`:\n",
    "\n",
    "Finding descendants of a node:\n"
   ]
  },
  {
   "cell_type": "code",
   "execution_count": 161,
   "metadata": {},
   "outputs": [
    {
     "name": "stdout",
     "output_type": "stream",
     "text": [
      "[TreeNode(name=D, parent=C, root=root, payload={'value': 4}),\n",
      " TreeNode(name=E, parent=C, root=root, payload={'value': 5}),\n",
      " TreeNode(name=F, parent=C, root=root, payload={'value': 6}),\n",
      " TreeNode(name=I, parent=F, root=root, payload={'value': 9, 'what': 'Some data'}),\n",
      " TreeNode(name=5740354900026072187, root=5740354900026072187, payload={'value': 10}),\n",
      " TreeNode(name=Y, root=Y, payload={'value': 11}),\n",
      " TreeNode(name=Z, root=Z, payload={'value': 15}),\n",
      " TreeNode(name=XYZ, root=XYZ, payload={'value': 16}),\n",
      " TreeNode(name=5740354900026072187, root=5740354900026072187, payload={'value': 12}),\n",
      " TreeNode(name=G, parent=C, root=root, payload={'value': 7}),\n",
      " TreeNode(name=H, parent=C, root=root, payload={'value': 8}),\n",
      " TreeNode(name=X, root=X, payload={'value': 13}),\n",
      " TreeNode(name=Z, root=Z, payload={'value': 14})]\n"
     ]
    }
   ],
   "source": [
    "from AlgoTree.utils import *\n",
    "from pprint import pprint\n",
    "pprint(descendants(C))"
   ]
  },
  {
   "cell_type": "markdown",
   "metadata": {},
   "source": [
    "Finding ancestors of a node:"
   ]
  },
  {
   "cell_type": "code",
   "execution_count": 162,
   "metadata": {},
   "outputs": [
    {
     "name": "stdout",
     "output_type": "stream",
     "text": [
      "[TreeNode(name=F, parent=C, root=root, payload={'value': 6}),\n",
      " TreeNode(name=C, parent=root, root=root, payload={'value': 3}),\n",
      " TreeNode(name=root, root=root, payload={'value': 0})]\n"
     ]
    }
   ],
   "source": [
    "pprint(ancestors(I))"
   ]
  },
  {
   "cell_type": "markdown",
   "metadata": {},
   "source": [
    "Finding siblings of a node:"
   ]
  },
  {
   "cell_type": "code",
   "execution_count": 163,
   "metadata": {},
   "outputs": [
    {
     "name": "stdout",
     "output_type": "stream",
     "text": [
      "[TreeNode(name=D, parent=C, root=root, payload={'value': 4}),\n",
      " TreeNode(name=F, parent=C, root=root, payload={'value': 6}),\n",
      " TreeNode(name=G, parent=C, root=root, payload={'value': 7}),\n",
      " TreeNode(name=H, parent=C, root=root, payload={'value': 8})]\n"
     ]
    }
   ],
   "source": [
    "pprint(siblings(E))"
   ]
  },
  {
   "cell_type": "markdown",
   "metadata": {},
   "source": [
    "Finding leaves of a node:"
   ]
  },
  {
   "cell_type": "code",
   "execution_count": 164,
   "metadata": {},
   "outputs": [
    {
     "name": "stdout",
     "output_type": "stream",
     "text": [
      "[TreeNode(name=A, parent=root, root=root, payload={'value': 1}),\n",
      " TreeNode(name=B, parent=root, root=root, payload={'value': 2}),\n",
      " TreeNode(name=D, parent=C, root=root, payload={'value': 4}),\n",
      " TreeNode(name=E, parent=C, root=root, payload={'value': 5}),\n",
      " TreeNode(name=5740354900026072187, root=5740354900026072187, payload={'value': 10}),\n",
      " TreeNode(name=Z, root=Z, payload={'value': 15}),\n",
      " TreeNode(name=XYZ, root=XYZ, payload={'value': 16}),\n",
      " TreeNode(name=5740354900026072187, root=5740354900026072187, payload={'value': 12}),\n",
      " TreeNode(name=G, parent=C, root=root, payload={'value': 7}),\n",
      " TreeNode(name=X, root=X, payload={'value': 13}),\n",
      " TreeNode(name=Z, root=Z, payload={'value': 14})]\n"
     ]
    }
   ],
   "source": [
    "pprint(leaves(root))"
   ]
  },
  {
   "cell_type": "markdown",
   "metadata": {},
   "source": [
    "Finding the height of a tree:"
   ]
  },
  {
   "cell_type": "code",
   "execution_count": 165,
   "metadata": {},
   "outputs": [
    {
     "name": "stdout",
     "output_type": "stream",
     "text": [
      "5\n"
     ]
    }
   ],
   "source": [
    "pprint(height(root))"
   ]
  },
  {
   "cell_type": "markdown",
   "metadata": {},
   "source": [
    "Finding the depth of a node:"
   ]
  },
  {
   "cell_type": "code",
   "execution_count": 166,
   "metadata": {},
   "outputs": [
    {
     "name": "stdout",
     "output_type": "stream",
     "text": [
      "3\n"
     ]
    }
   ],
   "source": [
    "pprint(depth(I))"
   ]
  },
  {
   "cell_type": "markdown",
   "metadata": {},
   "source": [
    "Breadth-first traversal:"
   ]
  },
  {
   "cell_type": "code",
   "execution_count": 167,
   "metadata": {},
   "outputs": [
    {
     "name": "stdout",
     "output_type": "stream",
     "text": [
      "Level 0: root\n",
      "Level 1: A\n",
      "Level 1: B\n",
      "Level 1: C\n",
      "Level 2: D\n",
      "Level 2: E\n",
      "Level 2: F\n",
      "Level 2: G\n",
      "Level 2: H\n",
      "Level 3: I\n",
      "Level 3: X\n",
      "Level 3: Z\n",
      "Level 4: 5740354900026072187\n",
      "Level 4: Y\n",
      "Level 4: 5740354900026072187\n",
      "Level 5: Z\n",
      "Level 5: XYZ\n"
     ]
    },
    {
     "data": {
      "text/plain": [
       "False"
      ]
     },
     "execution_count": 167,
     "metadata": {},
     "output_type": "execute_result"
    }
   ],
   "source": [
    "def print_node(node, level):\n",
    "    print(f\"Level {level}: {node.name}\")\n",
    "    return False\n",
    "\n",
    "breadth_first(root, print_node)"
   ]
  },
  {
   "cell_type": "code",
   "execution_count": 168,
   "metadata": {},
   "outputs": [
    {
     "name": "stdout",
     "output_type": "stream",
     "text": [
      "True\n"
     ]
    },
    {
     "data": {
      "text/markdown": [
       "<pre>A\n",
       "├───── B\n",
       "└───── C\n",
       "       ├───── D\n",
       "       └───── E\n",
       "</pre>"
      ],
      "text/plain": [
       "<IPython.core.display.Markdown object>"
      ]
     },
     "metadata": {},
     "output_type": "display_data"
    }
   ],
   "source": [
    "myflatroot = FlatTreeNode(name=\"A\", value=1)\n",
    "FlatTreeNode(name=\"B\", parent=myflatroot, value=2)\n",
    "myflatc = FlatTreeNode(name=\"C\", parent=myflatroot, value=3)\n",
    "FlatTreeNode(name=\"D\", parent=myflatc, value=4)\n",
    "copy_myflatroot = deepcopy(myflatroot)\n",
    "print(copy_myflatroot == myflatroot)\n",
    "\n",
    "copy_myflatroot._tree[\"E\"] = {\"value\": 5, \"parent\": \"C\"}\n",
    "monotext(pretty_tree(copy_myflatroot))\n"
   ]
  },
  {
   "cell_type": "code",
   "execution_count": 169,
   "metadata": {},
   "outputs": [
    {
     "data": {
      "text/markdown": [
       "<pre>A\n",
       "├───── B\n",
       "└───── C\n",
       "       └───── D\n",
       "</pre>"
      ],
      "text/plain": [
       "<IPython.core.display.Markdown object>"
      ]
     },
     "metadata": {},
     "output_type": "display_data"
    },
    {
     "data": {
      "text/markdown": [
       "<pre>C\n",
       "└───── D\n",
       "</pre>"
      ],
      "text/plain": [
       "<IPython.core.display.Markdown object>"
      ]
     },
     "metadata": {},
     "output_type": "display_data"
    },
    {
     "name": "stdout",
     "output_type": "stream",
     "text": [
      "{'node_info': {'ancestors': [],\n",
      "               'children': ['B', 'C'],\n",
      "               'depth': 0,\n",
      "               'descendants': ['B', 'C', 'D'],\n",
      "               'is_internal': True,\n",
      "               'is_leaf': False,\n",
      "               'is_root': True,\n",
      "               'leaves_under': ['B', 'D'],\n",
      "               'name': 'A',\n",
      "               'parent': None,\n",
      "               'path': ['A'],\n",
      "               'payload': {'value': 1},\n",
      "               'root_distance': 0,\n",
      "               'siblings': [],\n",
      "               'type': \"<class 'AlgoTree.treenode.TreeNode'>\"},\n",
      " 'subtree_info': {'height': 2, 'leaves': ['B', 'D'], 'root': 'A', 'size': 4}}\n",
      "{'node_info': {'ancestors': ['A'],\n",
      "               'children': ['D'],\n",
      "               'depth': 1,\n",
      "               'descendants': ['D'],\n",
      "               'is_internal': True,\n",
      "               'is_leaf': False,\n",
      "               'is_root': False,\n",
      "               'leaves_under': ['D'],\n",
      "               'name': 'C',\n",
      "               'parent': 'A',\n",
      "               'path': ['A', 'C'],\n",
      "               'payload': {'value': 3},\n",
      "               'root_distance': 1,\n",
      "               'siblings': ['B'],\n",
      "               'type': \"<class 'AlgoTree.treenode.TreeNode'>\"},\n",
      " 'subtree_info': {'height': 1, 'leaves': ['B', 'D'], 'root': 'A', 'size': 2}}\n",
      "False\n",
      "False\n",
      "True\n",
      "True\n"
     ]
    }
   ],
   "source": [
    "\n",
    "myroot = TreeNode(name=\"A\", value=1)\n",
    "TreeNode(name=\"B\", parent=myroot, value=2)\n",
    "myc = TreeNode(name=\"C\", parent=myroot, value=3)\n",
    "TreeNode(name=\"D\", parent=myc, value=4)\n",
    "monotext(pretty_tree(myroot))\n",
    "monotext(pretty_tree(myc))\n",
    "mytsroot = utils.node_stats(myroot)\n",
    "mytsc = utils.node_stats(myc)\n",
    "myflattsroot = utils.node_stats(myflatroot)\n",
    "myflattsc = utils.node_stats(myflatc)\n",
    "pprint(mytsroot)\n",
    "pprint(mytsc)\n",
    "print(myflattsroot == mytsroot)\n",
    "print(myflattsc == mytsc)\n",
    "print(pretty_tree(myroot) == pretty_tree(myflatroot))\n",
    "print(pretty_tree(myc) == pretty_tree(myflatc))\n"
   ]
  },
  {
   "cell_type": "markdown",
   "metadata": {},
   "source": [
    "Mapping a function over the nodes:"
   ]
  },
  {
   "cell_type": "code",
   "execution_count": 170,
   "metadata": {},
   "outputs": [
    {
     "data": {
      "text/markdown": [
       "<pre>X\n",
       "├───── A\n",
       "├───── B\n",
       "│      ├───── Y\n",
       "│      └───── Z\n",
       "└───── C\n",
       "       ├───── D\n",
       "       │      ├───── Q\n",
       "       │      └───── R\n",
       "       ├───── E\n",
       "       ├───── F\n",
       "       ├───── G\n",
       "       └───── H\n",
       "</pre>"
      ],
      "text/plain": [
       "<IPython.core.display.Markdown object>"
      ]
     },
     "metadata": {},
     "output_type": "display_data"
    },
    {
     "data": {
      "text/markdown": [
       "<pre>root\n",
       "├───── A\n",
       "├───── B\n",
       "└───── C\n",
       "       ├───── D\n",
       "       ├───── E\n",
       "       ├───── F\n",
       "       │      └───── I\n",
       "       │             ├───── 5740354900026072187\n",
       "       │             ├───── Y\n",
       "       │             │      ├───── Z\n",
       "       │             │      └───── XYZ\n",
       "       │             └───── 5740354900026072187\n",
       "       ├───── G\n",
       "       └───── H\n",
       "              ├───── X\n",
       "              └───── Z\n",
       "</pre>"
      ],
      "text/plain": [
       "<IPython.core.display.Markdown object>"
      ]
     },
     "metadata": {},
     "output_type": "display_data"
    }
   ],
   "source": [
    "def add_prefix(node):\n",
    "    if node is None:\n",
    "        return None\n",
    "    elif node.name == \"root\":\n",
    "        node.name = \"X\"\n",
    "    elif node.name == \"B\":\n",
    "        node.children = [TreeNode(name=\"Y\", value=21),\n",
    "                         TreeNode(name=\"Z\", value=22)]\n",
    "    elif node.name == \"H\":\n",
    "        node.children = []\n",
    "    elif node.name == \"D\":\n",
    "        # add Q and R as children of D\n",
    "        node.add_child(name=\"Q\", value=41)\n",
    "        node.add_child(name=\"R\", value=42)\n",
    "    elif node.name == \"I\":\n",
    "        # delete I by returning None (i.e. don't add it to the new tree)\n",
    "        return None\n",
    "    return node\n",
    "\n",
    "root_mapped = map(deepcopy(root), add_prefix)\n",
    "\n",
    "monotext(pretty_tree(root_mapped))\n",
    "\n",
    "monotext(pretty_tree(root))"
   ]
  },
  {
   "cell_type": "markdown",
   "metadata": {},
   "source": [
    "Pruning nodes based on a predicate:"
   ]
  },
  {
   "cell_type": "code",
   "execution_count": 171,
   "metadata": {},
   "outputs": [
    {
     "data": {
      "text/markdown": [
       "<pre>root\n",
       "├───── A\n",
       "├───── B\n",
       "└───── C\n",
       "       ├───── D\n",
       "       ├───── E\n",
       "       ├───── F\n",
       "       │      └───── I\n",
       "       │             └───── Y\n",
       "       │                    ├───── Z\n",
       "       │                    └───── XYZ\n",
       "       ├───── G\n",
       "       └───── H\n",
       "              ├───── X\n",
       "              └───── Z\n",
       "</pre>"
      ],
      "text/plain": [
       "<IPython.core.display.Markdown object>"
      ]
     },
     "metadata": {},
     "output_type": "display_data"
    }
   ],
   "source": [
    "\n",
    "def should_prune(node):\n",
    "    # if digits in the node name, prune it\n",
    "    return any(c.isdigit() for c in str(node.name))\n",
    "\n",
    "pruned_tree = prune(root, should_prune)\n",
    "monotext(pretty_tree(pruned_tree))"
   ]
  },
  {
   "cell_type": "markdown",
   "metadata": {},
   "source": [
    "Finding root-to-leaf paths:"
   ]
  },
  {
   "cell_type": "code",
   "execution_count": 172,
   "metadata": {},
   "outputs": [
    {
     "name": "stdout",
     "output_type": "stream",
     "text": [
      "[TreeNode(name=root, root=root, payload={'value': 0}),\n",
      " TreeNode(name=C, parent=root, root=root, payload={'value': 3}),\n",
      " TreeNode(name=F, parent=C, root=root, payload={'value': 6}),\n",
      " TreeNode(name=I, parent=F, root=root, payload={'value': 9, 'what': 'Some data'}),\n",
      " TreeNode(name=Y, root=Y, payload={'value': 11}),\n",
      " TreeNode(name=Z, root=Z, payload={'value': 15})]\n",
      "True\n"
     ]
    }
   ],
   "source": [
    "from pprint import pprint\n",
    "paths = node_to_leaf_paths(root)\n",
    "# print max path length from root to leaf\n",
    "pprint(max(paths, key=len))\n",
    "print(utils.height(root) == len(max(paths, key=len)) - 1)\n"
   ]
  },
  {
   "cell_type": "markdown",
   "metadata": {},
   "source": [
    "Converting paths to a tree:"
   ]
  },
  {
   "cell_type": "code",
   "execution_count": 173,
   "metadata": {},
   "outputs": [
    {
     "data": {
      "text/markdown": [
       "<pre>a\n",
       "├───── b\n",
       "│      ├───── c\n",
       "│      └───── d\n",
       "├───── e\n",
       "│      ├───── d\n",
       "│      ├───── g\n",
       "│      └───── h\n",
       "├───── f\n",
       "│      └───── d\n",
       "└───── i\n",
       "       └───── j\n",
       "              ├───── b\n",
       "              │      └───── m\n",
       "              └───── l\n",
       "                     └───── b\n",
       "                            └───── b\n",
       "                                   └───── b\n",
       "                                          └───── b\n",
       "                                                 └───── b\n",
       "                                                        └───── b\n",
       "                                                               └───── t\n",
       "                                                                      └───── u\n",
       "                                                                             └───── v\n",
       "                                                                                    └───── w\n",
       "                                                                                           └───── x\n",
       "                                                                                                  └───── y\n",
       "                                                                                                         └───── b\n",
       "</pre>"
      ],
      "text/plain": [
       "<IPython.core.display.Markdown object>"
      ]
     },
     "metadata": {},
     "output_type": "display_data"
    }
   ],
   "source": [
    "\n",
    "rooter = paths_to_tree([[\"a\", \"b\", \"c\"], [\"a\", \"b\", \"d\"], [\"a\", \"e\", \"d\"],\n",
    "                        [\"a\", \"f\", \"d\"], [\"a\", \"e\", \"g\" ], [\"a\", \"e\", \"h\"],\n",
    "                        [\"a\", \"i\", \"j\", \"b\"], [\"a\", \"i\", \"j\", \"b\", \"m\"],\n",
    "                        [\"a\", \"i\", \"j\", \"l\", \"b\", \"b\", \"b\", \"b\", \"b\", \"b\", \"t\", \"u\", \"v\", \"w\", \"x\", \"y\", \"b\"]],\n",
    "                        TreeNode)\n",
    "monotext(pretty_tree(rooter))"
   ]
  },
  {
   "cell_type": "code",
   "execution_count": 174,
   "metadata": {},
   "outputs": [
    {
     "name": "stdout",
     "output_type": "stream",
     "text": [
      "2\n",
      "['__ROOT__', 'A', 'I', 'J']\n",
      "['I', 'A', '__ROOT__']\n",
      "[FlatTreeNode(name=O, parent=A, payload={'data': 'Data for O'}, root=__ROOT__, children=[]), FlatTreeNode(name=T, parent=A, payload={'data': 'Data for T'}, root=__ROOT__, children=[]), FlatTreeNode(name=fae93353-0711-46ca-aa90-29937cf633eb, parent=A, payload={'whatever': 1000}, root=__ROOT__, children=[])]\n",
      "False\n"
     ]
    }
   ],
   "source": [
    "from AlgoTree.utils import depth, path, ancestors, siblings, is_root\n",
    "A = tree.node(\"A\")\n",
    "pretty_tree(A)\n",
    "print(depth(A.children[0]))\n",
    "print([n.name for n in path(A.children[0].children[0])])\n",
    "print([n.name for n in ancestors(A.children[0].children[0])])\n",
    "print(siblings(A.children[0]))\n",
    "print(is_root(A))"
   ]
  },
  {
   "cell_type": "markdown",
   "metadata": {},
   "source": [
    "\n",
    "Conclusion\n",
    "----------\n",
    "\n",
    "The `FlatTree` class provides a powerful and flexible way to work with tree-like data structures using a flat memory layout. It supports a wide range of operations, including node manipulation, tree traversal, detachment, pruning, and conversion between different tree representations.\n",
    "\n",
    "Explore the `AlgoTree` package further to discover more features and utilities for working with trees in Python.\n",
    "\n",
    "Happy coding!"
   ]
  }
 ],
 "metadata": {
  "kernelspec": {
   "display_name": "env",
   "language": "python",
   "name": "python3"
  },
  "language_info": {
   "codemirror_mode": {
    "name": "ipython",
    "version": 3
   },
   "file_extension": ".py",
   "mimetype": "text/x-python",
   "name": "python",
   "nbconvert_exporter": "python",
   "pygments_lexer": "ipython3",
   "version": "3.12.3"
  }
 },
 "nbformat": 4,
 "nbformat_minor": 2
}
