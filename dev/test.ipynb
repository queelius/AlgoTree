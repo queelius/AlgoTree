{
 "cells": [
  {
   "cell_type": "code",
   "execution_count": 1,
   "metadata": {},
   "outputs": [
    {
     "name": "stdout",
     "output_type": "stream",
     "text": [
      "{\n",
      "  \"node1\": {\n",
      "    \"data\": \"Some data for node1\"\n",
      "  },\n",
      "  \"node2\": {\n",
      "    \"data\": \"Some data for node2\"\n",
      "  },\n",
      "  \"node3\": {\n",
      "    \"parent\": \"node1\",\n",
      "    \"data\": \"Some data for node3\"\n",
      "  },\n",
      "  \"node4\": {\n",
      "    \"parent\": \"node3\",\n",
      "    \"data\": \"Some data for node4\"\n",
      "  },\n",
      "  \"node5\": {\n",
      "    \"parent\": \"node3\",\n",
      "    \"data\": \"Some data for node5\"\n",
      "  }\n",
      "}\n"
     ]
    }
   ],
   "source": [
    "import json\n",
    "tree_data = {\n",
    "    \"node1\": {\n",
    "        #\"parent\": None,\n",
    "        \"data\": \"Some data for node1\"\n",
    "    },\n",
    "    \"node2\": {\n",
    "        #\"parent\": \"node1\",\n",
    "        \"data\": \"Some data for node2\"\n",
    "    },\n",
    "    \"node3\": {\n",
    "        \"parent\": \"node1\",\n",
    "        \"data\": \"Some data for node3\"\n",
    "    },\n",
    "    \"node4\": {\n",
    "        \"parent\": \"node3\",\n",
    "        \"data\": \"Some data for node4\"\n",
    "    },\n",
    "    \"node5\": {\n",
    "        \"parent\": \"node3\",\n",
    "        \"data\": \"Some data for node5\"\n",
    "    }\n",
    "}\n",
    "print(json.dumps(tree_data, indent=2))"
   ]
  },
  {
   "cell_type": "code",
   "execution_count": 2,
   "metadata": {},
   "outputs": [
    {
     "name": "stdout",
     "output_type": "stream",
     "text": [
      "{\n",
      "  \"node1\": {\n",
      "    \"data\": \"Some data for node1\"\n",
      "  },\n",
      "  \"node2\": {\n",
      "    \"data\": \"Some data for node2\"\n",
      "  },\n",
      "  \"node3\": {\n",
      "    \"parent\": \"node1\",\n",
      "    \"data\": \"Some data for node3\"\n",
      "  },\n",
      "  \"node4\": {\n",
      "    \"parent\": \"node3\",\n",
      "    \"data\": \"Some data for node4\"\n",
      "  },\n",
      "  \"node5\": {\n",
      "    \"parent\": \"node3\",\n",
      "    \"data\": \"Some data for node5\"\n",
      "  }\n",
      "}\n"
     ]
    }
   ],
   "source": [
    "import treekit as tk\n",
    "\n",
    "# load a tree from tree_data\n",
    "tree = tk.FlatTree(tree_data)\n",
    "print(json.dumps(tree, indent=2))\n"
   ]
  },
  {
   "cell_type": "markdown",
   "metadata": {},
   "source": [
    "For now on, when viewing trees, we use the `TreeViz` class to visualize the trees.\n",
    "It has a `text` and `image` method to display the tree in text and image format respectively."
   ]
  },
  {
   "cell_type": "code",
   "execution_count": 3,
   "metadata": {},
   "outputs": [
    {
     "name": "stdout",
     "output_type": "stream",
     "text": [
      "__ROOT__\n",
      "├── node1\n",
      "│   └── node3\n",
      "│       ├── node4\n",
      "│       └── node5\n",
      "└── node2\n",
      "\n"
     ]
    }
   ],
   "source": [
    "from treekit.tree_viz import TreeViz\n",
    "print(TreeViz.text(tree))"
   ]
  },
  {
   "cell_type": "code",
   "execution_count": 4,
   "metadata": {},
   "outputs": [],
   "source": [
    "TreeViz.image(tree, \"tree.png\")"
   ]
  },
  {
   "cell_type": "markdown",
   "metadata": {},
   "source": [
    "Here is the image (`tree.png` from above) of the tree:\n",
    "\n",
    "![tree](./tree.png)\n"
   ]
  },
  {
   "cell_type": "markdown",
   "metadata": {},
   "source": [
    "The `FlatTree` class provides a **view** of a `dict` object as a tree. We do not modify\n",
    "the `dict` passed into it (and you can create a dict through the `FlatTree` API).\n",
    "\n",
    "The `FlatTree` class has a number of methods and properties to help you navigate the tree.\n",
    "A particular aspect of the `FlatTree` class is that it unifies any `dict` object into a tree\n",
    "structure. The keys are the node names and the values are the node values. If\n",
    "the value has no parent, it is a child of a `LOGICAL_ROOT` node that is computed\n",
    "lazily on demand (and is not a part of the actual underlying `dict` object).\n",
    "In this way, every dict is a tree, and every tree is a dict, with the exception\n",
    "that undefined behavior may result if the `dict` has keys that map to values\n",
    "in which a `parent` key is defined but results in a cycle or a node that is not\n",
    "in the `dict`. In this case, it will still try to work with it, but the behavior\n",
    "is undefined. You can call `FlatTree.check_valid` to check if the tree is in a\n",
    "valid state.\n",
    "\n",
    "TODO: Let values be anything. Right now, they must themselves be `dict` objects,\n",
    "but this limitation will be removed in the future.\n",
    "\n",
    "Since it's just a view of a `dict` we have all the normal operations on it that\n",
    "we would have on a `dict` object."
   ]
  },
  {
   "cell_type": "markdown",
   "metadata": {},
   "source": [
    "We can also use the `FlatTree` class to visualize sub-trees rooted at some node.\n",
    "\n",
    "By default, the `FlatTree` conceptually represents as a whole the logical root\n",
    "of the tree. However, we have `FlatTree.ProxyNode` objects that can be used to\n",
    "represent any node in the tree, and supports the same API as the `FlatTree` class\n",
    "itself."
   ]
  },
  {
   "cell_type": "code",
   "execution_count": 5,
   "metadata": {},
   "outputs": [
    {
     "name": "stdout",
     "output_type": "stream",
     "text": [
      "node3\n",
      "├── node4\n",
      "└── node5\n",
      "\n"
     ]
    }
   ],
   "source": [
    "print(TreeViz.text(tree.get_node(\"node3\")))"
   ]
  },
  {
   "cell_type": "markdown",
   "metadata": {},
   "source": [
    "Indeed, we can reprint the logical root of the tree with:"
   ]
  },
  {
   "cell_type": "code",
   "execution_count": 6,
   "metadata": {},
   "outputs": [
    {
     "name": "stdout",
     "output_type": "stream",
     "text": [
      "__ROOT__\n",
      "├── node1\n",
      "│   └── node3\n",
      "│       ├── node4\n",
      "│       └── node5\n",
      "└── node2\n",
      "\n"
     ]
    }
   ],
   "source": [
    "print(TreeViz.text(tree.get_root()))"
   ]
  },
  {
   "cell_type": "markdown",
   "metadata": {},
   "source": [
    "If you want to see the full state of the tree, we can pass a function argument\n",
    "to `TreeViz.text` (and `TreeViz.image`) to print the nodes with their values,\n",
    "or any other information you want to print."
   ]
  },
  {
   "cell_type": "code",
   "execution_count": 7,
   "metadata": {},
   "outputs": [
    {
     "name": "stdout",
     "output_type": "stream",
     "text": [
      "Node('/node3', data='Some data for node3')\n",
      "├── Node('/node3/node4', data='Some data for node4')\n",
      "└── Node('/node3/node5', data='Some data for node5')\n",
      "\n"
     ]
    }
   ],
   "source": [
    "print(TreeViz.text(tree.get_node(\"node3\"), node_name=lambda n: n))"
   ]
  },
  {
   "cell_type": "code",
   "execution_count": 8,
   "metadata": {},
   "outputs": [
    {
     "name": "stdout",
     "output_type": "stream",
     "text": [
      "Some data for node3\n",
      "├── Some data for node4\n",
      "└── Some data for node5\n",
      "\n"
     ]
    }
   ],
   "source": [
    "print(TreeViz.text(tree.get_node(\"node3\"), node_name=lambda n: n.data))"
   ]
  },
  {
   "cell_type": "code",
   "execution_count": 9,
   "metadata": {},
   "outputs": [
    {
     "name": "stdout",
     "output_type": "stream",
     "text": [
      "{'data': 'Some data for node2'}\n",
      "ProxyNode(node3: {'parent': 'node1', 'data': 'Some data for node3'})\n",
      "node1\n",
      "[ProxyNode(node4: {'parent': 'node3', 'data': 'Some data for node4'}), ProxyNode(node5: {'parent': 'node3', 'data': 'Some data for node5'})]\n"
     ]
    }
   ],
   "source": [
    "print(tree[\"node2\"])\n",
    "node3 = tree.get_node(\"node3\")\n",
    "print(node3)\n",
    "print(node3['parent'])\n",
    "print(node3.children())"
   ]
  },
  {
   "cell_type": "code",
   "execution_count": 10,
   "metadata": {},
   "outputs": [
    {
     "name": "stdout",
     "output_type": "stream",
     "text": [
      "ProxyNode(__ROOT__: {})\n",
      "ProxyNode(node1: {'data': 'Some data for node1'})\n",
      "ProxyNode(node2: {'data': 'Some data for node2'})\n"
     ]
    }
   ],
   "source": [
    "print(tree.get_root())\n",
    "for child in tree.get_root().children():\n",
    "    print(child)"
   ]
  },
  {
   "cell_type": "markdown",
   "metadata": {},
   "source": [
    "We show that it's easy to regenerate any JSON files that may have been used\n",
    "to generate the FlatTree 'tree'. So, JSON is a good format for storing and\n",
    "transmitting trees. And, of course, `FlatTree` *is* a dictionary. Of course,\n",
    "if we store an object that has no serializable representation, it cannot be\n",
    "stored in JSON."
   ]
  },
  {
   "cell_type": "code",
   "execution_count": 11,
   "metadata": {},
   "outputs": [
    {
     "name": "stdout",
     "output_type": "stream",
     "text": [
      "True\n"
     ]
    }
   ],
   "source": [
    "print(json.dumps(tree,  indent=2) == json.dumps(tree_data, indent=2))"
   ]
  },
  {
   "cell_type": "code",
   "execution_count": 12,
   "metadata": {},
   "outputs": [
    {
     "name": "stdout",
     "output_type": "stream",
     "text": [
      "{'node1': {'data': <function <lambda> at 0x731b9dd4bba0>}}\n",
      "ProxyNode(__ROOT__: {})\n",
      "Object of type function is not JSON serializable\n"
     ]
    }
   ],
   "source": [
    "\n",
    "# let's create a tree from a dict that cannot be serialized to json\n",
    "non_serializable_tree_data = {\n",
    "    \"node1\": {\n",
    "        #\"parent\": None,\n",
    "        # data is a function that cannot be serialized to json\n",
    "        \"data\": lambda x: 2*x**3 + 3*x**2 + 4*x + 5\n",
    "    }\n",
    "}\n",
    "\n",
    "non_serializable_tree = tk.FlatTree(non_serializable_tree_data)\n",
    "print(non_serializable_tree)\n",
    "print(non_serializable_tree.get_root())\n",
    "\n",
    "try:\n",
    "    json.dumps(non_serializable_tree, indent=2)\n",
    "except TypeError as e:\n",
    "    print(e)"
   ]
  },
  {
   "cell_type": "code",
   "execution_count": 13,
   "metadata": {},
   "outputs": [
    {
     "name": "stdout",
     "output_type": "stream",
     "text": [
      "ProxyNode(node36: {'data': 'Some data for node36'})\n",
      "__ROOT__\n",
      "├── node1\n",
      "│   ├── node3\n",
      "│   │   ├── node4\n",
      "│   │   └── node5\n",
      "│   └── node15\n",
      "├── node2\n",
      "└── node36\n",
      "\n"
     ]
    }
   ],
   "source": [
    "child = tree.get_root().add_child(key=\"node36\", data=\"Some data for node36\")\n",
    "print(child)\n",
    "tree.get_node(\"node1\").add_child(key=\"node15\", data=\"Some data for node15\")\n",
    "print(TreeViz.text(tree))"
   ]
  },
  {
   "cell_type": "markdown",
   "metadata": {},
   "source": [
    "If we try too add a non-unique node key to the tree, we will get a `KeyError`."
   ]
  },
  {
   "cell_type": "code",
   "execution_count": 14,
   "metadata": {},
   "outputs": [
    {
     "name": "stdout",
     "output_type": "stream",
     "text": [
      "'Node key already exists in the tree'\n"
     ]
    }
   ],
   "source": [
    "try:\n",
    "    child2 = tree.get_node(\"node1\").add_child(key=\"node2\", data=\"Some data for node2!!!\")\n",
    "except KeyError as e:\n",
    "    print(e)"
   ]
  },
  {
   "cell_type": "markdown",
   "metadata": {},
   "source": [
    "Let's add some more nodes."
   ]
  },
  {
   "cell_type": "code",
   "execution_count": 15,
   "metadata": {},
   "outputs": [
    {
     "name": "stdout",
     "output_type": "stream",
     "text": [
      "Node('/node7', data='Some data for node7')\n",
      "├── Node('/node7/node17', data='Some data for node17')\n",
      "└── Node('/node7/node27', data='Some data for node27')\n",
      "    └── Node('/node7/node27/node37', data='Some data for node37')\n",
      "\n"
     ]
    }
   ],
   "source": [
    "\n",
    "child7 = child.add_child(key=\"node7\", data=\"Some data for node7\")\n",
    "child7.add_child(key=\"node17\", data=\"Some data for node17\")\n",
    "child7.add_child(key=\"node27\", data=\"Some data for node27\").add_child(key=\"node37\", data=\"Some data for node37\")\n",
    "print(TreeViz.text(child7, node_name=lambda n: n))"
   ]
  },
  {
   "cell_type": "markdown",
   "metadata": {},
   "source": [
    "Let's view the full tree with the `TreeViz.image` method."
   ]
  },
  {
   "cell_type": "code",
   "execution_count": 16,
   "metadata": {},
   "outputs": [
    {
     "data": {
      "image/png": "[encoded data removed]",
      "text/plain": [
       "<IPython.core.display.Image object>"
      ]
     },
     "execution_count": 16,
     "metadata": {},
     "output_type": "execute_result"
    }
   ],
   "source": [
    "TreeViz.image(tree, \"big_tree.png\")\n",
    "from IPython.display import Image\n",
    "Image(\"big_tree.png\")"
   ]
  },
  {
   "cell_type": "markdown",
   "metadata": {},
   "source": [
    "We can see that the underlying tree that the child is a member of has been\n",
    "appropriately modified:"
   ]
  },
  {
   "cell_type": "markdown",
   "metadata": {},
   "source": [
    "We can iterate over the items of the child and we can modify/delete its data."
   ]
  },
  {
   "cell_type": "code",
   "execution_count": 17,
   "metadata": {},
   "outputs": [
    {
     "name": "stdout",
     "output_type": "stream",
     "text": [
      "data\n",
      "parent\n",
      "ProxyNode(node7: {'data': 'Some data for node7', 'parent': 'node36', 'new_data': 'Some new data for node7'})\n",
      "ProxyNode(node7: {'data': 'Some data for node7', 'parent': 'node36'})\n"
     ]
    }
   ],
   "source": [
    "for k, v in child7.items():\n",
    "    print(k)\n",
    "\n",
    "child7[\"new_data\"] = \"Some new data for node7\"    \n",
    "print(child7)\n",
    "\n",
    "del child7[\"new_data\"]\n",
    "print(child7)\n",
    "\n",
    "child7[\"other_new_data\"] = \"Some other data for node7\"\n"
   ]
  },
  {
   "cell_type": "markdown",
   "metadata": {},
   "source": [
    "Let's create a tree from a dictionary that refers to a non-existent parent."
   ]
  },
  {
   "cell_type": "code",
   "execution_count": 18,
   "metadata": {},
   "outputs": [
    {
     "name": "stdout",
     "output_type": "stream",
     "text": [
      "Node('/__ROOT__')\n",
      "\n",
      "\"Parent node non-existent: 'non_existent_parent'\"\n"
     ]
    }
   ],
   "source": [
    "try:\n",
    "    non_existent_parent_tree = tk.FlatTree({\n",
    "        \"node1\": {\n",
    "            \"parent\": \"non_existent_parent\",\n",
    "            \"data\": \"Some data for node1\"\n",
    "        }})\n",
    "    print(TreeViz.text(non_existent_parent_tree, node_name=lambda n: n))\n",
    "    non_existent_parent_tree.check_valid()\n",
    "except KeyError as e:\n",
    "    print(e)\n",
    "\n"
   ]
  },
  {
   "cell_type": "markdown",
   "metadata": {},
   "source": [
    "We see that the node is disconnected from the logical root, since it refers\n",
    "to a non-existent parent."
   ]
  },
  {
   "cell_type": "code",
   "execution_count": 19,
   "metadata": {},
   "outputs": [
    {
     "name": "stdout",
     "output_type": "stream",
     "text": [
      "Node('/__ROOT__')\n",
      "└── Node('/__ROOT__/node0', data='Some data for node0')\n",
      "    └── Node('/__ROOT__/node0/node4', data='Some data for node4')\n",
      "\n",
      "Cycle detected: {'node3', 'node1', 'node2'}\n"
     ]
    }
   ],
   "source": [
    "\n",
    "try:\n",
    "    cycle_tree = tk.FlatTree({\n",
    "        \"node0\": {\n",
    "            \"parent\": None,\n",
    "            \"data\": \"Some data for node0\"\n",
    "        },\n",
    "        \"node1\": {\n",
    "            \"parent\": \"node2\",\n",
    "            \"data\": \"Some data for node1\"\n",
    "        },\n",
    "        \"node2\": {\n",
    "            \"parent\": \"node3\",\n",
    "            \"data\": \"Some data for node2\"\n",
    "        },\n",
    "        \"node3\": {\n",
    "            \"parent\": \"node1\",\n",
    "            \"data\": \"Some data for node3\"\n",
    "        },\n",
    "        \"node4\": {\n",
    "            \"parent\": \"node0\",\n",
    "            \"data\": \"Some data for node4\"\n",
    "        }\n",
    "    })\n",
    "\n",
    "    print(TreeViz.text(cycle_tree, node_name=lambda n: n))\n",
    "    cycle_tree.check_valid()\n",
    "except ValueError as e:\n",
    "    print(e)"
   ]
  },
  {
   "cell_type": "markdown",
   "metadata": {},
   "source": [
    "We see that the tree was in an invalid state. In particular, nodes 1, 2, and 3\n",
    "are disconnected from the logical root and in a cycle. We can fix this by\n",
    "breaking the cycle and setting the parent of node 3 to, for instance, the\n",
    "logical root (by setting it to `None`)."
   ]
  },
  {
   "cell_type": "code",
   "execution_count": 20,
   "metadata": {},
   "outputs": [
    {
     "name": "stdout",
     "output_type": "stream",
     "text": [
      "Node('/__ROOT__')\n",
      "├── Node('/__ROOT__/node0', data='Some data for node0')\n",
      "│   └── Node('/__ROOT__/node0/node4', data='Some data for node4')\n",
      "└── Node('/__ROOT__/node3', data='Some data for node3')\n",
      "    └── Node('/__ROOT__/node3/node2', data='Some data for node2')\n",
      "        └── Node('/__ROOT__/node3/node2/node1', data='Some data for node1')\n",
      "\n"
     ]
    }
   ],
   "source": [
    "cycle_tree['node3']['parent'] = None\n",
    "print(TreeViz.text(cycle_tree, node_name=lambda n: n))"
   ]
  },
  {
   "cell_type": "markdown",
   "metadata": {},
   "source": [
    "If you modify the tree structure using the `FlatTree` API, not the `dict` API,\n",
    "we actually do enforce the tree structure. For example, if we try to set the\n",
    "parent of a node to a non-existent node, we will get a `KeyError`."
   ]
  },
  {
   "cell_type": "code",
   "execution_count": 21,
   "metadata": {},
   "outputs": [
    {
     "name": "stdout",
     "output_type": "stream",
     "text": [
      "\"Parent node non-existent: 'node14994'\"\n"
     ]
    }
   ],
   "source": [
    "from copy import deepcopy\n",
    "try:\n",
    "    deepcopy(tree).get_node(\"node2\")['parent'] = 'node14994'\n",
    "except KeyError as e:\n",
    "    print(e)\n"
   ]
  },
  {
   "cell_type": "markdown",
   "metadata": {},
   "source": [
    "Let's look at the tree again, and see about creating a cycle."
   ]
  },
  {
   "cell_type": "code",
   "execution_count": 22,
   "metadata": {},
   "outputs": [
    {
     "name": "stdout",
     "output_type": "stream",
     "text": [
      "__ROOT__\n",
      "├── node1\n",
      "│   ├── node3\n",
      "│   │   ├── node4\n",
      "│   │   └── node5\n",
      "│   └── node15\n",
      "├── node2\n",
      "└── node36\n",
      "    └── node7\n",
      "        ├── node17\n",
      "        └── node27\n",
      "            └── node37\n",
      "\n"
     ]
    }
   ],
   "source": [
    "print(TreeViz.text(tree))"
   ]
  },
  {
   "cell_type": "markdown",
   "metadata": {},
   "source": [
    "We will make node 1 the parent of node 5, to create a cycle:"
   ]
  },
  {
   "cell_type": "code",
   "execution_count": 23,
   "metadata": {},
   "outputs": [
    {
     "name": "stdout",
     "output_type": "stream",
     "text": [
      "Cycle detected: {'node1', 'node5', 'node3'}\n"
     ]
    }
   ],
   "source": [
    "try:\n",
    "    deepcopy(tree).get_node(\"node1\")['parent'] = 'node5'\n",
    "except ValueError as e:\n",
    "    print(e)"
   ]
  },
  {
   "cell_type": "markdown",
   "metadata": {},
   "source": [
    "Notice that we use `deepcopy` to avoid modifying the original tree with these\n",
    "invalid operations. We chose to do it this way so as to not incur the overhead\n",
    "of reverting the tree to a valid state after an invalid operation. This way,\n",
    "we can keep the tree in an invalid state for as long as we want, and only\n",
    "revert it to a valid state when we want to."
   ]
  },
  {
   "cell_type": "markdown",
   "metadata": {},
   "source": [
    "Each node is a key-value pair in the `FlatTree`. We have the  `FlatTree.ProxyNode`\n",
    "so that we can have an API focused on the nodes and not the underlying dictionary.\n",
    "However, we stiill permit access to the underlying dictionary. When you modify\n",
    "the tree in this way, we still maintain the integrity of the tree.\n",
    "\n",
    "Since the `FlatTree` represents nodes as key-value pairs, and the value may\n",
    "have a parent key, along with any other arbitrary data, each value for a node\n",
    "must be a dictionary.\n",
    "\n",
    "TODO: We are changing this so that the value can be anything, not just a dictionary.\n",
    "\n",
    "Below, we see that trying to add a `test` node with a non-dictionary value\n",
    "generates an error."
   ]
  },
  {
   "cell_type": "code",
   "execution_count": 24,
   "metadata": {},
   "outputs": [
    {
     "name": "stdout",
     "output_type": "stream",
     "text": [
      "Node test's value must be a dictionary: value='Some test data'\n"
     ]
    }
   ],
   "source": [
    "try:\n",
    "    error_tree = deepcopy(tree)\n",
    "    error_tree['test'] = \"Some test data\"\n",
    "    error_tree.check_valid()\n",
    "except ValueError as e:\n",
    "    print(e)\n"
   ]
  },
  {
   "cell_type": "markdown",
   "metadata": {},
   "source": [
    "Let's manipulate the tree a bit more using the `dict` API. We're just going to\n",
    "add a `new_node` with some data."
   ]
  },
  {
   "cell_type": "code",
   "execution_count": 25,
   "metadata": {},
   "outputs": [
    {
     "name": "stdout",
     "output_type": "stream",
     "text": [
      "__ROOT__\n",
      "├── node1\n",
      "│   ├── node3\n",
      "│   │   ├── node4\n",
      "│   │   └── node5\n",
      "│   ├── node15\n",
      "│   └── new_node\n",
      "├── node2\n",
      "└── node36\n",
      "    └── node7\n",
      "        ├── node17\n",
      "        └── node27\n",
      "            └── node37\n",
      "\n"
     ]
    }
   ],
   "source": [
    "\n",
    "tree['new_node'] = {'parent': 'node1', 'data': 'Some new data'}\n",
    "print(TreeViz.text(tree))"
   ]
  },
  {
   "cell_type": "code",
   "execution_count": 26,
   "metadata": {},
   "outputs": [
    {
     "name": "stdout",
     "output_type": "stream",
     "text": [
      "{\n",
      "  \"node1\": {\n",
      "    \"data\": \"Some data for node1\"\n",
      "  },\n",
      "  \"node2\": {\n",
      "    \"data\": \"Some data for node2\"\n",
      "  },\n",
      "  \"node3\": {\n",
      "    \"parent\": \"node1\",\n",
      "    \"data\": \"Some data for node3\"\n",
      "  },\n",
      "  \"node4\": {\n",
      "    \"parent\": \"node3\",\n",
      "    \"data\": \"Some data for node4\"\n",
      "  },\n",
      "  \"node5\": {\n",
      "    \"parent\": \"node3\",\n",
      "    \"data\": \"Some data for node5\"\n",
      "  },\n",
      "  \"node36\": {\n",
      "    \"data\": \"Some data for node36\"\n",
      "  },\n",
      "  \"node15\": {\n",
      "    \"data\": \"Some data for node15\",\n",
      "    \"parent\": \"node1\"\n",
      "  },\n",
      "  \"node7\": {\n",
      "    \"data\": \"Some data for node7\",\n",
      "    \"parent\": \"node36\",\n",
      "    \"other_new_data\": \"Some other data for node7\"\n",
      "  },\n",
      "  \"node17\": {\n",
      "    \"data\": \"Some data for node17\",\n",
      "    \"parent\": \"node7\"\n",
      "  },\n",
      "  \"node27\": {\n",
      "    \"data\": \"Some data for node27\",\n",
      "    \"parent\": \"node7\"\n",
      "  },\n",
      "  \"node37\": {\n",
      "    \"data\": \"Some data for node37\",\n",
      "    \"parent\": \"node27\"\n",
      "  },\n",
      "  \"new_node\": {\n",
      "    \"parent\": \"node1\",\n",
      "    \"data\": \"Some new data\"\n",
      "  }\n",
      "}\n"
     ]
    }
   ],
   "source": [
    "print(json.dumps(tree, indent=2))\n"
   ]
  },
  {
   "cell_type": "markdown",
   "metadata": {},
   "source": [
    "The logical root node is not a part of the underlying dictionary, so we can't\n",
    "access it through the `dict` API. It's non-children data are also immutable\n",
    "through the `FlatTree` API."
   ]
  },
  {
   "cell_type": "code",
   "execution_count": 27,
   "metadata": {},
   "outputs": [
    {
     "name": "stdout",
     "output_type": "stream",
     "text": [
      "ProxyNode(__ROOT__: {})\n",
      "ProxyNode(__ROOT__: {}) is immutable\n",
      "ProxyNode(__ROOT__: {}) is immutable\n"
     ]
    }
   ],
   "source": [
    "root_node = tree.get_root()\n",
    "print(root_node)\n",
    "\n",
    "try:\n",
    "    root_node['data'] = \"Some new data for root node\"\n",
    "except TypeError as e:\n",
    "    print(e)\n",
    "\n",
    "try:\n",
    "    root_node['parent'] = None\n",
    "except TypeError as e:\n",
    "    print(e)\n",
    "\n",
    "try:\n",
    "    root_node.clear()\n",
    "except TypeError as e:\n",
    "    print(e)\n"
   ]
  },
  {
   "cell_type": "markdown",
   "metadata": {},
   "source": [
    "We can *detach* nodes. Let's first view the full tree, pre-detachment. We'll\n",
    "also make a copy of it so we can come back to it later."
   ]
  },
  {
   "cell_type": "code",
   "execution_count": 28,
   "metadata": {},
   "outputs": [
    {
     "data": {
      "image/png": "[encoded data removed]",
      "text/plain": [
       "<IPython.core.display.Image object>"
      ]
     },
     "execution_count": 28,
     "metadata": {},
     "output_type": "execute_result"
    }
   ],
   "source": [
    "tree_copy = deepcopy(tree)\n",
    "TreeViz.image(tree, \"full-tree-pre-detach-or-prune.png\")\n",
    "Image(\"full-tree-pre-detach-or-prune.png\")\n"
   ]
  },
  {
   "cell_type": "markdown",
   "metadata": {},
   "source": [
    "Let's detach node 36 and see the tree."
   ]
  },
  {
   "cell_type": "code",
   "execution_count": 29,
   "metadata": {},
   "outputs": [
    {
     "data": {
      "image/png": "[encoded data removed]",
      "text/plain": [
       "<IPython.core.display.Image object>"
      ]
     },
     "execution_count": 29,
     "metadata": {},
     "output_type": "execute_result"
    }
   ],
   "source": [
    "tree.get_node(\"node36\").detach()\n",
    "TreeViz.image(tree, \"full-tree-post-detach-node-36.png\")\n",
    "Image(\"full-tree-post-detach-node-36.png\")"
   ]
  },
  {
   "cell_type": "markdown",
   "metadata": {},
   "source": [
    "We see that node 36 (and any of its children) are no longer attached to the logical root, which represents the root of the tree.\n",
    "However, it's not gone -- it's detached. We can view it with:"
   ]
  },
  {
   "cell_type": "code",
   "execution_count": 30,
   "metadata": {},
   "outputs": [
    {
     "data": {
      "image/png": "[encoded data removed]",
      "text/plain": [
       "<IPython.core.display.Image object>"
      ]
     },
     "execution_count": 30,
     "metadata": {},
     "output_type": "execute_result"
    }
   ],
   "source": [
    "node36 = tree.get_node(\"node36\")\n",
    "TreeViz.image(node36, \"node-36-pre-prune.png\")\n",
    "Image(\"node-36-pre-prune.png\")"
   ]
  },
  {
   "cell_type": "markdown",
   "metadata": {},
   "source": [
    "We can *prune* any detached nodes. Let's prune node 36."
   ]
  },
  {
   "cell_type": "code",
   "execution_count": 32,
   "metadata": {},
   "outputs": [
    {
     "name": "stdout",
     "output_type": "stream",
     "text": [
      "node=ProxyNode(node1: {'data': 'Some data for node1'})\n",
      "node=ProxyNode(node3: {'parent': 'node1', 'data': 'Some data for node3'})\n",
      "node=ProxyNode(node4: {'parent': 'node3', 'data': 'Some data for node4'})\n",
      "Deleting node._key='node3'\n",
      "node=ProxyNode(node5: {'parent': 'node3', 'data': 'Some data for node5'})\n",
      "Deleting node._key='node1'\n",
      "node=ProxyNode(node15: {'data': 'Some data for node15', 'parent': 'node1'})\n",
      "node=ProxyNode(new_node: {'parent': 'node1', 'data': 'Some new data'})\n",
      "__ROOT__\n",
      "└── node2\n",
      "\n"
     ]
    }
   ],
   "source": [
    "tree.prune(\"node36\")\n",
    "print(json.dumps(tree, indent=2)) "
   ]
  },
  {
   "cell_type": "markdown",
   "metadata": {},
   "source": [
    "So, after detaching node 36 and pruning node 1, we only have node 2 left in the tree.\n",
    "We can prune the detached nodes with the `prune_detached` method."
   ]
  },
  {
   "cell_type": "code",
   "execution_count": 33,
   "metadata": {},
   "outputs": [
    {
     "name": "stdout",
     "output_type": "stream",
     "text": [
      "key='node2'\n",
      "key='node4'\n",
      "key='node5'\n",
      "key='node36'\n",
      "Pruning detached key='node36'\n",
      "node=ProxyNode(node36: {'data': 'Some data for node36', 'parent': '__DETACHED__'})\n",
      "node=ProxyNode(node7: {'data': 'Some data for node7', 'parent': 'node36', 'other_new_data': 'Some other data for node7'})\n",
      "node=ProxyNode(node17: {'data': 'Some data for node17', 'parent': 'node7'})\n",
      "Deleting node._key='node7'\n",
      "node=ProxyNode(node27: {'data': 'Some data for node27', 'parent': 'node7'})\n",
      "node=ProxyNode(node37: {'data': 'Some data for node37', 'parent': 'node27'})\n",
      "Deleting node._key='node27'\n",
      "Deleting node._key='node36'\n",
      "key='node15'\n",
      "key='node7'\n",
      "key='node17'\n",
      "key='node27'\n",
      "key='node37'\n",
      "key='new_node'\n",
      "{\n",
      "  \"node2\": {\n",
      "    \"data\": \"Some data for node2\"\n",
      "  },\n",
      "  \"node4\": {\n",
      "    \"parent\": \"node3\",\n",
      "    \"data\": \"Some data for node4\"\n",
      "  },\n",
      "  \"node5\": {\n",
      "    \"parent\": \"node3\",\n",
      "    \"data\": \"Some data for node5\"\n",
      "  },\n",
      "  \"node15\": {\n",
      "    \"data\": \"Some data for node15\",\n",
      "    \"parent\": \"node1\"\n",
      "  },\n",
      "  \"node17\": {\n",
      "    \"data\": \"Some data for node17\",\n",
      "    \"parent\": \"node7\"\n",
      "  },\n",
      "  \"node37\": {\n",
      "    \"data\": \"Some data for node37\",\n",
      "    \"parent\": \"node27\"\n",
      "  },\n",
      "  \"new_node\": {\n",
      "    \"parent\": \"node1\",\n",
      "    \"data\": \"Some new data\"\n",
      "  }\n",
      "}\n",
      "__ROOT__\n",
      "└── node2\n",
      "\n"
     ]
    }
   ],
   "source": [
    "tree.prune_detached()\n",
    "print(json.dumps(tree, indent=2))\n",
    "print(TreeViz.text(tree)) "
   ]
  },
  {
   "cell_type": "markdown",
   "metadata": {},
   "source": [
    "Of course, we can mutate any other nodes:"
   ]
  },
  {
   "cell_type": "code",
   "execution_count": 34,
   "metadata": {},
   "outputs": [
    {
     "name": "stdout",
     "output_type": "stream",
     "text": [
      "ProxyNode(node7: {})\n",
      "{\n",
      "  \"node1\": {\n",
      "    \"data\": \"Some data for node1\"\n",
      "  },\n",
      "  \"node2\": {\n",
      "    \"data\": \"Some data for node2\"\n",
      "  },\n",
      "  \"node3\": {\n",
      "    \"parent\": \"node1\",\n",
      "    \"data\": \"Some data for node3\"\n",
      "  },\n",
      "  \"node4\": {\n",
      "    \"parent\": \"node3\",\n",
      "    \"data\": \"Some data for node4\"\n",
      "  },\n",
      "  \"node5\": {\n",
      "    \"parent\": \"node3\",\n",
      "    \"data\": \"Some data for node5\"\n",
      "  },\n",
      "  \"node36\": {\n",
      "    \"data\": \"Some data for node36\"\n",
      "  },\n",
      "  \"node15\": {\n",
      "    \"data\": \"Some data for node15\",\n",
      "    \"parent\": \"node1\"\n",
      "  },\n",
      "  \"node7\": {\n",
      "    \"new_data\": \"Some new data for node7\",\n",
      "    \"other_new_data\": \"Some other data for node7\"\n",
      "  },\n",
      "  \"node17\": {\n",
      "    \"data\": \"Some data for node17\",\n",
      "    \"parent\": \"node7\"\n",
      "  },\n",
      "  \"node27\": {\n",
      "    \"data\": \"Some data for node27\",\n",
      "    \"parent\": \"node7\"\n",
      "  },\n",
      "  \"node37\": {\n",
      "    \"data\": \"Some data for node37\",\n",
      "    \"parent\": \"node27\"\n",
      "  },\n",
      "  \"new_node\": {\n",
      "    \"parent\": \"node1\",\n",
      "    \"data\": \"Some new data\"\n",
      "  },\n",
      "  \"node77\": {\n",
      "    \"data\": \"Some data for node77\",\n",
      "    \"parent\": \"node7\"\n",
      "  }\n",
      "}\n"
     ]
    }
   ],
   "source": [
    "tree = tree_copy\n",
    "tree.get_node(\"node7\").clear()\n",
    "print(tree.get_node(\"node7\"))\n",
    "tree.get_node(\"node7\")['new_data'] = \"Some new data for node7\"\n",
    "tree.get_node(\"node7\")['other_new_data'] = \"Some other data for node7\"\n",
    "tree.get_node(\"node7\").add_child(key=\"node77\", data=\"Some data for node77\")\n",
    "\n",
    "\n",
    "print(json.dumps(tree, indent=2))\n",
    "#print(TreeViz.text(tree, node_name=lambda n: n))"
   ]
  },
  {
   "cell_type": "markdown",
   "metadata": {},
   "source": [
    "The above only cleans its \"cargo\" data but it still has the same children."
   ]
  },
  {
   "cell_type": "code",
   "execution_count": 35,
   "metadata": {},
   "outputs": [
    {
     "name": "stdout",
     "output_type": "stream",
     "text": [
      "{\n",
      "  \"node1\": {\n",
      "    \"data\": \"Some data for node1\"\n",
      "  },\n",
      "  \"node2\": {\n",
      "    \"data\": \"Some data for node2\"\n",
      "  },\n",
      "  \"node3\": {\n",
      "    \"parent\": \"node1\",\n",
      "    \"data\": \"Some data for node3\"\n",
      "  },\n",
      "  \"node4\": {\n",
      "    \"parent\": \"node3\",\n",
      "    \"data\": \"Some data for node4\"\n",
      "  },\n",
      "  \"node5\": {\n",
      "    \"parent\": \"node3\",\n",
      "    \"data\": \"Some data for node5\"\n",
      "  },\n",
      "  \"node36\": {\n",
      "    \"data\": \"Some data for node36\"\n",
      "  },\n",
      "  \"node15\": {\n",
      "    \"data\": \"Some data for node15\",\n",
      "    \"parent\": \"node1\"\n",
      "  },\n",
      "  \"node7\": {\n",
      "    \"new_data\": \"Some new data for node7\",\n",
      "    \"other_new_data\": \"Some other data for node7\"\n",
      "  },\n",
      "  \"node17\": {\n",
      "    \"data\": \"Some data for node17\",\n",
      "    \"parent\": \"node7\"\n",
      "  },\n",
      "  \"node27\": {\n",
      "    \"data\": \"Some data for node27\",\n",
      "    \"parent\": \"node7\"\n",
      "  },\n",
      "  \"node37\": {\n",
      "    \"data\": \"Some data for node37\",\n",
      "    \"parent\": \"node27\"\n",
      "  },\n",
      "  \"new_node\": {\n",
      "    \"parent\": \"node1\",\n",
      "    \"data\": \"Some new data\"\n",
      "  },\n",
      "  \"node77\": {\n",
      "    \"data\": \"Some data for node77\",\n",
      "    \"parent\": \"node7\"\n",
      "  },\n",
      "  \"afd84b8e-0b5f-4936-b7c6-d96b7fb0c484\": {\n",
      "    \"whatever\": 3\n",
      "  },\n",
      "  \"07de7d37-4b27-4ec6-81fe-f7d2ffff5d7a\": {\n",
      "    \"whatever\": 4,\n",
      "    \"parent\": \"afd84b8e-0b5f-4936-b7c6-d96b7fb0c484\"\n",
      "  },\n",
      "  \"34d3bec1-06e5-43c9-b9e0-ec7634d9bb9e\": {\n",
      "    \"whatever\": 5,\n",
      "    \"parent\": \"07de7d37-4b27-4ec6-81fe-f7d2ffff5d7a\"\n",
      "  }\n",
      "}\n"
     ]
    }
   ],
   "source": [
    "tree.get_root().add_child(whatever=3).add_child(whatever=4).add_child(whatever=5)\n",
    "print(json.dumps(tree, indent=2))"
   ]
  },
  {
   "cell_type": "code",
   "execution_count": 36,
   "metadata": {},
   "outputs": [
    {
     "name": "stdout",
     "output_type": "stream",
     "text": [
      "{\n",
      "  \"root\": {\n",
      "    \"data\": \"Some data for root\"\n",
      "  },\n",
      "  \"child1\": {\n",
      "    \"data\": \"Some data for child1\",\n",
      "    \"parent\": \"root\"\n",
      "  },\n",
      "  \"child2\": {\n",
      "    \"data\": \"Some data for child2\",\n",
      "    \"parent\": \"root\"\n",
      "  },\n",
      "  \"child3\": {\n",
      "    \"data\": \"Some data for child3\",\n",
      "    \"parent\": \"child1\"\n",
      "  }\n",
      "}\n"
     ]
    }
   ],
   "source": [
    "simple_tree = tk.FlatTree({\n",
    "    \"root\": {\n",
    "        \"data\": \"Some data for root\",\n",
    "        #\"parent\": None\n",
    "    },\n",
    "    \"child1\": {\n",
    "        \"data\": \"Some data for child1\",\n",
    "        \"parent\": \"root\"\n",
    "    },\n",
    "    \"child2\": {\n",
    "        \"data\": \"Some data for child2\",\n",
    "        \"parent\": \"root\"\n",
    "    },\n",
    "    \"child3\": {\n",
    "        \"data\": \"Some data for child3\",\n",
    "        \"parent\": \"child1\"\n",
    "    }\n",
    "})\n",
    "print(json.dumps(simple_tree, indent=2))  "
   ]
  },
  {
   "cell_type": "code",
   "execution_count": 37,
   "metadata": {},
   "outputs": [
    {
     "name": "stdout",
     "output_type": "stream",
     "text": [
      "ProxyNode(__ROOT__: {})\n",
      "ProxyNode(root: {'data': 'Some data for root'})\n",
      "ProxyNode(__ROOT__: {})\n",
      "None\n"
     ]
    }
   ],
   "source": [
    "print(simple_tree.get_root())\n",
    "print(simple_tree.get_node(\"child3\").get_parent().get_parent())\n",
    "print(simple_tree.get_node(\"child3\").get_parent().get_parent().get_parent())\n",
    "print(simple_tree.get_node(\"child3\").get_parent().get_parent().get_parent().get_parent())"
   ]
  },
  {
   "cell_type": "code",
   "execution_count": 38,
   "metadata": {},
   "outputs": [
    {
     "name": "stdout",
     "output_type": "stream",
     "text": [
      "{\n",
      "  \"__name__\": \"__ROOT__\",\n",
      "  \"children\": [\n",
      "    {\n",
      "      \"__name__\": \"root\",\n",
      "      \"data\": \"Some data for root\",\n",
      "      \"children\": [\n",
      "        {\n",
      "          \"__name__\": \"child1\",\n",
      "          \"data\": \"Some data for child1\",\n",
      "          \"parent\": \"root\",\n",
      "          \"children\": [\n",
      "            {\n",
      "              \"__name__\": \"child3\",\n",
      "              \"data\": \"Some data for child3\",\n",
      "              \"parent\": \"child1\",\n",
      "              \"children\": []\n",
      "            }\n",
      "          ]\n",
      "        },\n",
      "        {\n",
      "          \"__name__\": \"child2\",\n",
      "          \"data\": \"Some data for child2\",\n",
      "          \"parent\": \"root\",\n",
      "          \"children\": []\n",
      "        }\n",
      "      ]\n",
      "    }\n",
      "  ]\n",
      "}\n"
     ]
    }
   ],
   "source": [
    "import treekit.tree_converter as tc\n",
    "new_tree = tc.TreeConverter.to_treenode(simple_tree.get_root())\n",
    "\n",
    "print(json.dumps(new_tree, indent=2))"
   ]
  },
  {
   "cell_type": "markdown",
   "metadata": {},
   "source": [
    "Let's get the meaningful actual root of the tree and map that to a `TreeNode`.\n",
    "The actual root we labled as `root` is the meaningful root of the tree, the\n",
    "logical root is just a device used by `FlatTree` to make a forest of trees\n",
    "look like a single tree. It is the parent of all nodes that have had no parent\n",
    "assigned to them. In this case, the logical root is the parent of the only\n",
    "node that has no parent assigned to it -- the node labeled `root`."
   ]
  },
  {
   "cell_type": "code",
   "execution_count": 39,
   "metadata": {},
   "outputs": [
    {
     "name": "stdout",
     "output_type": "stream",
     "text": [
      "{\n",
      "  \"__name__\": \"root\",\n",
      "  \"data\": \"Some data for root\",\n",
      "  \"children\": [\n",
      "    {\n",
      "      \"__name__\": \"child1\",\n",
      "      \"data\": \"Some data for child1\",\n",
      "      \"parent\": \"root\",\n",
      "      \"children\": [\n",
      "        {\n",
      "          \"__name__\": \"child3\",\n",
      "          \"data\": \"Some data for child3\",\n",
      "          \"parent\": \"child1\",\n",
      "          \"children\": []\n",
      "        }\n",
      "      ]\n",
      "    },\n",
      "    {\n",
      "      \"__name__\": \"child2\",\n",
      "      \"data\": \"Some data for child2\",\n",
      "      \"parent\": \"root\",\n",
      "      \"children\": []\n",
      "    }\n",
      "  ]\n",
      "}\n"
     ]
    }
   ],
   "source": [
    "print(json.dumps(tc.TreeConverter.to_treenode(simple_tree.get_node(\"root\")), indent=2))"
   ]
  },
  {
   "cell_type": "code",
   "execution_count": 40,
   "metadata": {},
   "outputs": [
    {
     "name": "stdout",
     "output_type": "stream",
     "text": [
      "{\n",
      "  \"child1\": {\n",
      "    \"data\": \"Some data for child1\"\n",
      "  }\n",
      "}\n",
      "ProxyNode(__ROOT__: {})\n"
     ]
    }
   ],
   "source": [
    "testtree = tk.FlatTree()\n",
    "testtree.get_root()\n",
    "testtree.get_root().add_child(key=\"child1\", data=\"Some data for child1\")\n",
    "print(json.dumps(testtree, indent=2))\n",
    "# when we add a child to the empty root node, the node is turned into the root.\n",
    "# if we add another child\n",
    "print(testtree.get_root())"
   ]
  },
  {
   "cell_type": "code",
   "execution_count": 41,
   "metadata": {},
   "outputs": [
    {
     "name": "stdout",
     "output_type": "stream",
     "text": [
      "{'data': 'Some data for root', 'children': [{'data': 'Some data for child1', 'children': [{'data': 'Some data for child3', 'children': []}]}, {'data': 'Some data for child2', 'children': []}]}\n",
      "\n"
     ]
    }
   ],
   "source": [
    "tree_node = tk.TreeNode({\n",
    "    \"data\": \"Some data for root\",\n",
    "    \"children\": [\n",
    "        {\n",
    "            \"data\": \"Some data for child1\",\n",
    "            \"children\": [\n",
    "                {\n",
    "                    \"data\": \"Some data for child3\",\n",
    "                    \"children\": []\n",
    "                }\n",
    "            ]\n",
    "        },\n",
    "        {\n",
    "            \"data\": \"Some data for child2\",\n",
    "            \"children\": []\n",
    "        }\n",
    "    ]\n",
    "    })\n",
    "print(TreeViz.text(tree_node.get_root()))"
   ]
  },
  {
   "cell_type": "markdown",
   "metadata": {},
   "source": [
    "We see that when we print the node of a `TreeNode`, we get the entire subtree.\n",
    "If you just want the node:"
   ]
  },
  {
   "cell_type": "code",
   "execution_count": 42,
   "metadata": {},
   "outputs": [
    {
     "name": "stdout",
     "output_type": "stream",
     "text": [
      "{'__name__': {'data': 'Some data for root', 'children': [{'data': 'Some data for child1', 'children': [{'data': 'Some data for child3', 'children': []}]}, {'data': 'Some data for child2', 'children': []}]}}\n"
     ]
    }
   ],
   "source": [
    "print(tree_node.get_data())"
   ]
  },
  {
   "cell_type": "code",
   "execution_count": 43,
   "metadata": {},
   "outputs": [
    {
     "name": "stdout",
     "output_type": "stream",
     "text": [
      "{'cargo': 'root', 'more': 4}\n"
     ]
    }
   ],
   "source": [
    "root = tk.TreeNode(data={ \"cargo\":\"root\", \"more\": 4 })\n",
    "node1 = root.add_child(data={\"data\": \"node1 - child of root\"})\n",
    "node2 = root.add_child(data={\"data\": \"node2 - child of root\"})\n",
    "node3 = node2.add_child(data={\"data\": \"node3 - child of node2\"})\n",
    "#print(json.dumps(root, indent=2))\n",
    "print(root.name)"
   ]
  },
  {
   "cell_type": "code",
   "execution_count": 44,
   "metadata": {},
   "outputs": [
    {
     "name": "stdout",
     "output_type": "stream",
     "text": [
      "{\n",
      "  \"{'cargo': 'root', 'more': 4}\": {\n",
      "    \"data\": {\n",
      "      \"cargo\": \"root\",\n",
      "      \"more\": 4\n",
      "    }\n",
      "  },\n",
      "  \"{'data': 'node1 - child of root'}\": {\n",
      "    \"data\": {\n",
      "      \"data\": \"node1 - child of root\"\n",
      "    },\n",
      "    \"parent\": \"{'cargo': 'root', 'more': 4}\"\n",
      "  },\n",
      "  \"{'data': 'node2 - child of root'}\": {\n",
      "    \"data\": {\n",
      "      \"data\": \"node2 - child of root\"\n",
      "    },\n",
      "    \"parent\": \"{'cargo': 'root', 'more': 4}\"\n",
      "  },\n",
      "  \"{'data': 'node3 - child of node2'}\": {\n",
      "    \"data\": {\n",
      "      \"data\": \"node3 - child of node2\"\n",
      "    },\n",
      "    \"parent\": \"{'data': 'node2 - child of root'}\"\n",
      "  }\n",
      "}\n"
     ]
    }
   ],
   "source": [
    "flat = tc.TreeConverter.to_flattree\n",
    "nest = tc.TreeConverter.to_treenode\n",
    "print(json.dumps(flat(root), indent=2))"
   ]
  },
  {
   "cell_type": "markdown",
   "metadata": {},
   "source": [
    "We note that the `TreeNode` class does not need to store a unique key for each\n",
    "node. It just represents a tree as a recursive data structure, with the\n",
    "`children` attribute being a list of `TreeNode` objects.\n",
    "\n",
    "When we convert a `TreeNode` object to a `FlatTree` object, we need to assign\n",
    "a unique key to each node. By default, it just randomly assigns a key using\n",
    "UUIDs. If you want a more meaningful key, you can use the `node_name` function\n",
    "parameter that takes in a `TreeNode` object and returns a string that will be\n",
    "used as the key.\n",
    "\n",
    "We know that in the data of the `TreeNode` object, we have a `data` attribute\n",
    "whose value is a string containing the name of the node concatenated with the\n",
    "`child of <parent>` string. We can use this to generate a more meaningful key."
   ]
  },
  {
   "cell_type": "code",
   "execution_count": 45,
   "metadata": {},
   "outputs": [],
   "source": [
    "node_name=lambda node: node['data'].split()[0] if 'data' in node else None"
   ]
  },
  {
   "cell_type": "code",
   "execution_count": 46,
   "metadata": {},
   "outputs": [
    {
     "name": "stdout",
     "output_type": "stream",
     "text": [
      "{\n",
      "  \"5f5c2775-41db-4a07-8820-22d0388313d3\": {\n",
      "    \"data\": {\n",
      "      \"cargo\": \"root\",\n",
      "      \"more\": 4\n",
      "    }\n",
      "  },\n",
      "  \"node1\": {\n",
      "    \"data\": {\n",
      "      \"data\": \"node1 - child of root\"\n",
      "    },\n",
      "    \"parent\": \"5f5c2775-41db-4a07-8820-22d0388313d3\"\n",
      "  },\n",
      "  \"node2\": {\n",
      "    \"data\": {\n",
      "      \"data\": \"node2 - child of root\"\n",
      "    },\n",
      "    \"parent\": \"5f5c2775-41db-4a07-8820-22d0388313d3\"\n",
      "  },\n",
      "  \"node3\": {\n",
      "    \"data\": {\n",
      "      \"data\": \"node3 - child of node2\"\n",
      "    },\n",
      "    \"parent\": \"node2\"\n",
      "  }\n",
      "}\n"
     ]
    }
   ],
   "source": [
    "\n",
    "flat_tree = flat(root, node_name)\n",
    "print(json.dumps(flat_tree, indent=2))"
   ]
  },
  {
   "cell_type": "markdown",
   "metadata": {},
   "source": [
    "Now let's convert it back to a `TreeNode` object and print it."
   ]
  },
  {
   "cell_type": "code",
   "execution_count": 47,
   "metadata": {},
   "outputs": [
    {
     "ename": "KeyError",
     "evalue": "\"Node not found: 'root'\"",
     "output_type": "error",
     "traceback": [
      "\u001b[0;31m---------------------------------------------------------------------------\u001b[0m",
      "\u001b[0;31mKeyError\u001b[0m                                  Traceback (most recent call last)",
      "Cell \u001b[0;32mIn[47], line 1\u001b[0m\n\u001b[0;32m----> 1\u001b[0m root_2 \u001b[38;5;241m=\u001b[39m nest(\u001b[43mflat_tree\u001b[49m\u001b[38;5;241;43m.\u001b[39;49m\u001b[43mget_node\u001b[49m\u001b[43m(\u001b[49m\u001b[38;5;124;43m\"\u001b[39;49m\u001b[38;5;124;43mroot\u001b[39;49m\u001b[38;5;124;43m\"\u001b[39;49m\u001b[43m)\u001b[49m)\n\u001b[1;32m      2\u001b[0m \u001b[38;5;28mprint\u001b[39m(json\u001b[38;5;241m.\u001b[39mdumps(root_2, indent\u001b[38;5;241m=\u001b[39m\u001b[38;5;241m2\u001b[39m))\n",
      "File \u001b[0;32m~/github/treekit/treekit/flattree.py:288\u001b[0m, in \u001b[0;36mFlatTree.get_node\u001b[0;34m(self, key)\u001b[0m\n\u001b[1;32m    281\u001b[0m \u001b[38;5;250m\u001b[39m\u001b[38;5;124;03m\"\"\"\u001b[39;00m\n\u001b[1;32m    282\u001b[0m \u001b[38;5;124;03mGet a node from the tree.\u001b[39;00m\n\u001b[1;32m    283\u001b[0m \n\u001b[1;32m    284\u001b[0m \u001b[38;5;124;03m:param key: The unique key of the node.\u001b[39;00m\n\u001b[1;32m    285\u001b[0m \u001b[38;5;124;03m:return: ProxyNode representing the node.\u001b[39;00m\n\u001b[1;32m    286\u001b[0m \u001b[38;5;124;03m\"\"\"\u001b[39;00m\n\u001b[1;32m    287\u001b[0m \u001b[38;5;28;01mif\u001b[39;00m key \u001b[38;5;129;01mnot\u001b[39;00m \u001b[38;5;129;01min\u001b[39;00m \u001b[38;5;28mself\u001b[39m:\n\u001b[0;32m--> 288\u001b[0m     \u001b[38;5;28;01mraise\u001b[39;00m \u001b[38;5;167;01mKeyError\u001b[39;00m(\u001b[38;5;124mf\u001b[39m\u001b[38;5;124m\"\u001b[39m\u001b[38;5;124mNode not found: \u001b[39m\u001b[38;5;132;01m{\u001b[39;00mkey\u001b[38;5;132;01m!r}\u001b[39;00m\u001b[38;5;124m\"\u001b[39m)\n\u001b[1;32m    289\u001b[0m \u001b[38;5;28;01mreturn\u001b[39;00m FlatTree\u001b[38;5;241m.\u001b[39mProxyNode(\u001b[38;5;28mself\u001b[39m, key)\n",
      "\u001b[0;31mKeyError\u001b[0m: \"Node not found: 'root'\""
     ]
    }
   ],
   "source": [
    "root_2 = nest(flat_tree.get_node(\"root\"))\n",
    "print(json.dumps(root_2, indent=2))\n"
   ]
  },
  {
   "cell_type": "markdown",
   "metadata": {},
   "source": [
    "We see that each node has an additional `parent` key that was not present in the\n",
    "original tree. This is because the `FlatTree` object needs to store the parent\n",
    "of each node so that it can regenerate the tree structure. This is not a problem\n",
    "because the `TreeNode` object does not use this key to represent the tree structure.\n",
    "It uses the recursive `children` list. They may be removed, if desired, but\n",
    "otherwise do not cause any harm."
   ]
  },
  {
   "cell_type": "code",
   "execution_count": null,
   "metadata": {},
   "outputs": [
    {
     "name": "stdout",
     "output_type": "stream",
     "text": [
      "{\n",
      "  \"root\": {\n",
      "    \"data\": {\n",
      "      \"__name__\": \"root\",\n",
      "      \"data\": {\n",
      "        \"data\": \"root\"\n",
      "      }\n",
      "    },\n",
      "    \"parent\": null\n",
      "  },\n",
      "  \"node1\": {\n",
      "    \"data\": {\n",
      "      \"__name__\": \"node1\",\n",
      "      \"data\": {\n",
      "        \"data\": \"node1 - child of root\"\n",
      "      }\n",
      "    },\n",
      "    \"parent\": \"root\"\n",
      "  },\n",
      "  \"node2\": {\n",
      "    \"data\": {\n",
      "      \"__name__\": \"node2\",\n",
      "      \"data\": {\n",
      "        \"data\": \"node2 - child of root\"\n",
      "      }\n",
      "    },\n",
      "    \"parent\": \"root\"\n",
      "  },\n",
      "  \"node3\": {\n",
      "    \"data\": {\n",
      "      \"__name__\": \"node3\",\n",
      "      \"data\": {\n",
      "        \"data\": \"node3 - child of node2\"\n",
      "      }\n",
      "    },\n",
      "    \"parent\": \"node2\"\n",
      "  }\n",
      "}\n"
     ]
    }
   ],
   "source": [
    "root_3 = flat(root_2)\n",
    "print(json.dumps(root_3, indent=2))\n"
   ]
  },
  {
   "cell_type": "code",
   "execution_count": null,
   "metadata": {},
   "outputs": [
    {
     "ename": "AttributeError",
     "evalue": "'dict' object has no attribute 'split'",
     "output_type": "error",
     "traceback": [
      "\u001b[0;31m---------------------------------------------------------------------------\u001b[0m",
      "\u001b[0;31mAttributeError\u001b[0m                            Traceback (most recent call last)",
      "Cell \u001b[0;32mIn[35], line 1\u001b[0m\n\u001b[0;32m----> 1\u001b[0m \u001b[38;5;28mprint\u001b[39m(\u001b[43mnode_name\u001b[49m\u001b[43m(\u001b[49m\u001b[43mflat_tree\u001b[49m\u001b[38;5;241;43m.\u001b[39;49m\u001b[43mget_node\u001b[49m\u001b[43m(\u001b[49m\u001b[38;5;124;43m\"\u001b[39;49m\u001b[38;5;124;43mroot\u001b[39;49m\u001b[38;5;124;43m\"\u001b[39;49m\u001b[43m)\u001b[49m\u001b[43m)\u001b[49m)\n\u001b[1;32m      2\u001b[0m \u001b[38;5;28mprint\u001b[39m(node_name(flat_tree\u001b[38;5;241m.\u001b[39mget_node(\u001b[38;5;124m\"\u001b[39m\u001b[38;5;124mnode1\u001b[39m\u001b[38;5;124m\"\u001b[39m)))\n",
      "Cell \u001b[0;32mIn[31], line 1\u001b[0m, in \u001b[0;36m<lambda>\u001b[0;34m(node)\u001b[0m\n\u001b[0;32m----> 1\u001b[0m node_name\u001b[38;5;241m=\u001b[39m\u001b[38;5;28;01mlambda\u001b[39;00m node: \u001b[43mnode\u001b[49m\u001b[43m[\u001b[49m\u001b[38;5;124;43m'\u001b[39;49m\u001b[38;5;124;43mdata\u001b[39;49m\u001b[38;5;124;43m'\u001b[39;49m\u001b[43m]\u001b[49m\u001b[38;5;241;43m.\u001b[39;49m\u001b[43msplit\u001b[49m()[\u001b[38;5;241m0\u001b[39m] \u001b[38;5;28;01mif\u001b[39;00m \u001b[38;5;124m'\u001b[39m\u001b[38;5;124mdata\u001b[39m\u001b[38;5;124m'\u001b[39m \u001b[38;5;129;01min\u001b[39;00m node \u001b[38;5;28;01melse\u001b[39;00m \u001b[38;5;28;01mNone\u001b[39;00m\n",
      "\u001b[0;31mAttributeError\u001b[0m: 'dict' object has no attribute 'split'"
     ]
    }
   ],
   "source": [
    "print(node_name(flat_tree.get_node(\"root\")))\n",
    "print(node_name(flat_tree.get_node(\"node1\")))"
   ]
  },
  {
   "cell_type": "code",
   "execution_count": null,
   "metadata": {},
   "outputs": [],
   "source": [
    "anytree = tc.TreeConverter.to_anytree(flat_tree.get_node(\"root\"))\n"
   ]
  },
  {
   "cell_type": "code",
   "execution_count": null,
   "metadata": {},
   "outputs": [
    {
     "name": "stdout",
     "output_type": "stream",
     "text": [
      "Node('/root', data='root')\n",
      "├── Node('/root/node1', data='node1 - child of root')\n",
      "└── Node('/root/node2', data='node2 - child of root')\n",
      "    └── Node('/root/node2/node3', data='node3 - child of node2')\n",
      "\n",
      "Node('/root', data='root')\n",
      "├── Node('/root/node1', data='node1 - child of root')\n",
      "└── Node('/root/node2', data='node2 - child of root')\n",
      "    └── Node('/root/node2/node3', data='node3 - child of node2')\n",
      "\n",
      "root\n",
      "├── node1\n",
      "└── node2\n",
      "    └── node3\n",
      "\n"
     ]
    }
   ],
   "source": [
    "\n",
    "# let's pretty-print the anytree node\n",
    "print(tv.text(anytree, node_name=lambda node: node))\n",
    "print(tv.text(flat_tree.get_node(\"root\"),\n",
    "              node_name=lambda node: node))\n",
    "print(tv.text(flat_tree.get_node(\"root\")))\n",
    "              "
   ]
  },
  {
   "cell_type": "code",
   "execution_count": null,
   "metadata": {},
   "outputs": [],
   "source": [
    "tv.image(anytree,\n",
    "         filename=\"anytree.png\")\n",
    "tv.image(flat_tree.get_node(\"root\"),\n",
    "         filename=\"flattree.png\", maxlevel=2)\n",
    "tv.image(root,\n",
    "         filename=\"treenode.png\",\n",
    "         node_name=lambda n: n.data)\n",
    "tv.image(root,\n",
    "         filename=\"treenode2.png\")\n",
    "\n",
    "tv.image(root, filename=\"treenode.dot\", node_name=lambda n: n.data)"
   ]
  }
 ],
 "metadata": {
  "kernelspec": {
   "display_name": "env",
   "language": "python",
   "name": "python3"
  },
  "language_info": {
   "codemirror_mode": {
    "name": "ipython",
    "version": 3
   },
   "file_extension": ".py",
   "mimetype": "text/x-python",
   "name": "python",
   "nbconvert_exporter": "python",
   "pygments_lexer": "ipython3",
   "version": "3.11.2"
  }
 },
 "nbformat": 4,
 "nbformat_minor": 2
}
