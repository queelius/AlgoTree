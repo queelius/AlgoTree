{
 "cells": [
  {
   "cell_type": "code",
   "execution_count": 1,
   "metadata": {},
   "outputs": [
    {
     "name": "stdout",
     "output_type": "stream",
     "text": [
      "{\n",
      "  \"node1\": {\n",
      "    \"data\": \"Some data for node1\"\n",
      "  },\n",
      "  \"node2\": {\n",
      "    \"data\": \"Some data for node2\"\n",
      "  },\n",
      "  \"node3\": {\n",
      "    \"parent\": \"node1\",\n",
      "    \"data\": \"Some data for node3\"\n",
      "  },\n",
      "  \"node4\": {\n",
      "    \"parent\": \"node3\",\n",
      "    \"data\": \"Some data for node4\"\n",
      "  },\n",
      "  \"node5\": {\n",
      "    \"parent\": \"node3\",\n",
      "    \"data\": \"Some data for node5\"\n",
      "  }\n",
      "}\n"
     ]
    }
   ],
   "source": [
    "import json\n",
    "tree_data = {\n",
    "    \"node1\": {\n",
    "        #\"parent\": None,\n",
    "        \"data\": \"Some data for node1\"\n",
    "    },\n",
    "    \"node2\": {\n",
    "        #\"parent\": \"node1\",\n",
    "        \"data\": \"Some data for node2\"\n",
    "    },\n",
    "    \"node3\": {\n",
    "        \"parent\": \"node1\",\n",
    "        \"data\": \"Some data for node3\"\n",
    "    },\n",
    "    \"node4\": {\n",
    "        \"parent\": \"node3\",\n",
    "        \"data\": \"Some data for node4\"\n",
    "    },\n",
    "    \"node5\": {\n",
    "        \"parent\": \"node3\",\n",
    "        \"data\": \"Some data for node5\"\n",
    "    }\n",
    "}\n",
    "print(json.dumps(tree_data, indent=2))"
   ]
  },
  {
   "cell_type": "code",
   "execution_count": 2,
   "metadata": {},
   "outputs": [
    {
     "name": "stdout",
     "output_type": "stream",
     "text": [
      "{\n",
      "  \"node1\": {\n",
      "    \"data\": \"Some data for node1\"\n",
      "  },\n",
      "  \"node2\": {\n",
      "    \"data\": \"Some data for node2\"\n",
      "  },\n",
      "  \"node3\": {\n",
      "    \"parent\": \"node1\",\n",
      "    \"data\": \"Some data for node3\"\n",
      "  },\n",
      "  \"node4\": {\n",
      "    \"parent\": \"node3\",\n",
      "    \"data\": \"Some data for node4\"\n",
      "  },\n",
      "  \"node5\": {\n",
      "    \"parent\": \"node3\",\n",
      "    \"data\": \"Some data for node5\"\n",
      "  }\n",
      "}\n"
     ]
    }
   ],
   "source": [
    "import treekit as tk\n",
    "\n",
    "# load a tree from tree_data\n",
    "tree = tk.FlatTree(tree_data)\n",
    "print(json.dumps(tree, indent=2))\n"
   ]
  },
  {
   "cell_type": "code",
   "execution_count": 3,
   "metadata": {},
   "outputs": [
    {
     "name": "stdout",
     "output_type": "stream",
     "text": [
      "{'parent': 'node1', 'data': 'Some data for node3'}\n",
      "ProxyNode(node3: {'parent': 'node1', 'data': 'Some data for node3'})\n",
      "node1\n",
      "[ProxyNode(node4: {'parent': 'node3', 'data': 'Some data for node4'}), ProxyNode(node5: {'parent': 'node3', 'data': 'Some data for node5'})]\n"
     ]
    }
   ],
   "source": [
    "print(tree[\"node3\"])\n",
    "node3 = tree.get_node(\"node3\")\n",
    "print(node3)\n",
    "print(node3['parent'])\n",
    "print(node3.children())"
   ]
  },
  {
   "cell_type": "code",
   "execution_count": 4,
   "metadata": {},
   "outputs": [
    {
     "name": "stdout",
     "output_type": "stream",
     "text": [
      "ProxyNode(key=__logical_root__)\n",
      "ProxyNode(node1: {'data': 'Some data for node1'})\n",
      "ProxyNode(node2: {'data': 'Some data for node2'})\n"
     ]
    }
   ],
   "source": [
    "print(tree.get_root())\n",
    "for child in tree.get_root().children():\n",
    "    print(child)"
   ]
  },
  {
   "cell_type": "markdown",
   "metadata": {},
   "source": [
    "We show that it's easy to regenerate any JSON files that may have been used\n",
    "to generate the FlatTree 'tree'. So, JSON is a good format for storing and\n",
    "transmitting trees. And, of course, `FlatTree` *is* a dictionary. Of course,\n",
    "if we store an object that has no serializable representation, it cannot be\n",
    "stored in JSON."
   ]
  },
  {
   "cell_type": "code",
   "execution_count": 5,
   "metadata": {},
   "outputs": [
    {
     "name": "stdout",
     "output_type": "stream",
     "text": [
      "True\n"
     ]
    }
   ],
   "source": [
    "print(json.dumps(tree,  indent=2) == json.dumps(tree_data, indent=2))"
   ]
  },
  {
   "cell_type": "code",
   "execution_count": 6,
   "metadata": {},
   "outputs": [
    {
     "name": "stdout",
     "output_type": "stream",
     "text": [
      "{'node1': {'data': <function <lambda> at 0x7f3c5b2bbd80>}}\n",
      "ProxyNode(node1: {'data': <function <lambda> at 0x7f3c5b2bbd80>})\n",
      "Object of type function is not JSON serializable\n"
     ]
    }
   ],
   "source": [
    "\n",
    "# let's create a tree from a dict that cannot be serialized to json\n",
    "non_serializable_tree_data = {\n",
    "    \"node1\": {\n",
    "        #\"parent\": None,\n",
    "        # data is a function that cannot be serialized to json\n",
    "        \"data\": lambda x: 2*x**3 + 3*x**2 + 4*x + 5\n",
    "    }\n",
    "}\n",
    "\n",
    "non_serializable_tree = tk.FlatTree(non_serializable_tree_data)\n",
    "print(non_serializable_tree)\n",
    "print(non_serializable_tree.get_root())\n",
    "\n",
    "try:\n",
    "    json.dumps(non_serializable_tree, indent=2)\n",
    "except TypeError as e:\n",
    "    print(e)"
   ]
  },
  {
   "cell_type": "code",
   "execution_count": 7,
   "metadata": {},
   "outputs": [
    {
     "name": "stdout",
     "output_type": "stream",
     "text": [
      "{\n",
      "  \"node1\": {\n",
      "    \"data\": \"Some data for node1\"\n",
      "  },\n",
      "  \"node2\": {\n",
      "    \"data\": \"Some data for node2\"\n",
      "  },\n",
      "  \"node3\": {\n",
      "    \"parent\": \"node1\",\n",
      "    \"data\": \"Some data for node3\"\n",
      "  },\n",
      "  \"node4\": {\n",
      "    \"parent\": \"node3\",\n",
      "    \"data\": \"Some data for node4\"\n",
      "  },\n",
      "  \"node5\": {\n",
      "    \"parent\": \"node3\",\n",
      "    \"data\": \"Some data for node5\"\n",
      "  },\n",
      "  \"node36\": {\n",
      "    \"data\": \"Some data for node6\",\n",
      "    \"parent\": \"node1\"\n",
      "  }\n",
      "}\n",
      "ProxyNode(node36: {'data': 'Some data for node6', 'parent': 'node1'})\n"
     ]
    }
   ],
   "source": [
    "child = tree.get_node(\"node1\").add_child(key=\"node36\", data=\"Some data for node6\")\n",
    "print(json.dumps(tree, indent=2))\n",
    "print(child)\n",
    "#print(tree.get_root())"
   ]
  },
  {
   "cell_type": "markdown",
   "metadata": {},
   "source": [
    "If we try too add a non-unique node key to the tree, we will get a `KeyError`."
   ]
  },
  {
   "cell_type": "code",
   "execution_count": 8,
   "metadata": {},
   "outputs": [
    {
     "name": "stdout",
     "output_type": "stream",
     "text": [
      "'Node key already exists'\n",
      "{\n",
      "  \"node1\": {\n",
      "    \"data\": \"Some data for node1\"\n",
      "  },\n",
      "  \"node2\": {\n",
      "    \"data\": \"Some data for node2\"\n",
      "  },\n",
      "  \"node3\": {\n",
      "    \"parent\": \"node1\",\n",
      "    \"data\": \"Some data for node3\"\n",
      "  },\n",
      "  \"node4\": {\n",
      "    \"parent\": \"node3\",\n",
      "    \"data\": \"Some data for node4\"\n",
      "  },\n",
      "  \"node5\": {\n",
      "    \"parent\": \"node3\",\n",
      "    \"data\": \"Some data for node5\"\n",
      "  },\n",
      "  \"node36\": {\n",
      "    \"data\": \"Some data for node6\",\n",
      "    \"parent\": \"node1\"\n",
      "  },\n",
      "  \"node7\": {\n",
      "    \"data\": \"Some data for node7\",\n",
      "    \"parent\": \"node36\"\n",
      "  }\n",
      "}\n",
      "ProxyNode(node7: {'data': 'Some data for node7', 'parent': 'node36'})\n"
     ]
    }
   ],
   "source": [
    "try:\n",
    "    child2 = tree.get_node(\"node1\").add_child(key=\"node2\", data=\"Some data for node6!!!\")\n",
    "except KeyError as e:\n",
    "    print(e)\n",
    "\n",
    "child7 = child.add_child(key=\"node7\", data=\"Some data for node7\")\n",
    "print(json.dumps(tree, indent=2))\n",
    "print(child7)"
   ]
  },
  {
   "cell_type": "code",
   "execution_count": 9,
   "metadata": {},
   "outputs": [
    {
     "name": "stdout",
     "output_type": "stream",
     "text": [
      "data\n",
      "parent\n",
      "ProxyNode(node7: {'data': 'Some data for node7', 'parent': 'node36', 'new_data': 'Some new data for node7'})\n",
      "{'node1': {'data': 'Some data for node1'}, 'node2': {'data': 'Some data for node2'}, 'node3': {'parent': 'node1', 'data': 'Some data for node3'}, 'node4': {'parent': 'node3', 'data': 'Some data for node4'}, 'node5': {'parent': 'node3', 'data': 'Some data for node5'}, 'node36': {'data': 'Some data for node6', 'parent': 'node1'}, 'node7': {'data': 'Some data for node7', 'parent': 'node36', 'new_data': 'Some new data for node7'}}\n",
      "ProxyNode(node7: {'data': 'Some data for node7', 'parent': 'node36'})\n",
      "[ProxyNode(node1: {'data': 'Some data for node1'}), ProxyNode(node2: {'data': 'Some data for node2'})]\n"
     ]
    }
   ],
   "source": [
    "#child7.new_data = \"Some new data for node7\"\n",
    "#print(child7)\n",
    "#del child7.new_data\n",
    "#print(child7)\n",
    "\n",
    "for k, v in child7.items():\n",
    "    print(k)\n",
    "\n",
    "child7[\"new_data\"] = \"Some new data for node7\"    \n",
    "print(child7)\n",
    "print(tree)\n",
    "\n",
    "del child7[\"new_data\"]\n",
    "print(child7)\n",
    "\n",
    "print(tree.get_root().children())"
   ]
  },
  {
   "cell_type": "code",
   "execution_count": 10,
   "metadata": {},
   "outputs": [
    {
     "name": "stdout",
     "output_type": "stream",
     "text": [
      "{'node1': {'data': 'Some data for node1'}, 'node2': {'data': 'Some data for node2'}, 'node3': {'parent': 'node1', 'data': 'Some data for node3'}, 'node4': {'parent': 'node3', 'data': 'Some data for node4'}, 'node5': {'parent': 'node3', 'data': 'Some data for node5'}, 'node36': {'data': 'Some data for node6', 'parent': 'node1'}, 'node7': {'data': 'Some data for node7', 'parent': 'node36'}}\n"
     ]
    }
   ],
   "source": [
    "print(tree)"
   ]
  },
  {
   "cell_type": "code",
   "execution_count": null,
   "metadata": {},
   "outputs": [],
   "source": []
  },
  {
   "cell_type": "markdown",
   "metadata": {},
   "source": [
    "Let's modify the payload of child7."
   ]
  },
  {
   "cell_type": "code",
   "execution_count": 11,
   "metadata": {},
   "outputs": [
    {
     "name": "stdout",
     "output_type": "stream",
     "text": [
      "{\n",
      "  \"node1\": {\n",
      "    \"data\": \"Some data for node1\"\n",
      "  },\n",
      "  \"node2\": {\n",
      "    \"data\": \"Some data for node2\"\n",
      "  },\n",
      "  \"node3\": {\n",
      "    \"parent\": \"node1\",\n",
      "    \"data\": \"Some data for node3\"\n",
      "  },\n",
      "  \"node4\": {\n",
      "    \"parent\": \"node3\",\n",
      "    \"data\": \"Some data for node4\"\n",
      "  },\n",
      "  \"node5\": {\n",
      "    \"parent\": \"node3\",\n",
      "    \"data\": \"Some data for node5\"\n",
      "  },\n",
      "  \"node36\": {\n",
      "    \"data\": \"Some data for node6\",\n",
      "    \"parent\": \"node1\"\n",
      "  },\n",
      "  \"node7\": {\n",
      "    \"data\": \"Some data for node7\",\n",
      "    \"parent\": \"node36\"\n",
      "  }\n",
      "}\n"
     ]
    }
   ],
   "source": [
    "#child7.parent\n",
    "#print(child7.data)\n",
    "print(json.dumps(tree, indent=2))"
   ]
  },
  {
   "cell_type": "code",
   "execution_count": 12,
   "metadata": {},
   "outputs": [
    {
     "name": "stdout",
     "output_type": "stream",
     "text": [
      "[ProxyNode(node1: {'data': 'Some data for node1'}), ProxyNode(node2: {'data': 'Some data for node2'})]\n"
     ]
    }
   ],
   "source": [
    "print(tree.get_root().children())"
   ]
  },
  {
   "cell_type": "code",
   "execution_count": 13,
   "metadata": {},
   "outputs": [
    {
     "name": "stdout",
     "output_type": "stream",
     "text": [
      "ProxyNode(node0: {'data': 'Some data for node0', 'parent': None})\n"
     ]
    }
   ],
   "source": [
    "child_of_log_root = tree.get_root().add_child(key=\"node0\", data=\"Some data for node0\")\n",
    "print(child_of_log_root)"
   ]
  },
  {
   "cell_type": "code",
   "execution_count": 14,
   "metadata": {},
   "outputs": [
    {
     "name": "stdout",
     "output_type": "stream",
     "text": [
      "ProxyNode(node0: {'data': 'Some data for node0', 'parent': None, 'other': 'Some other data for node0'})\n"
     ]
    }
   ],
   "source": [
    "child_of_log_root['other'] = \"Some other data for node0\"\n",
    "print(child_of_log_root)"
   ]
  },
  {
   "cell_type": "code",
   "execution_count": 15,
   "metadata": {},
   "outputs": [
    {
     "name": "stdout",
     "output_type": "stream",
     "text": [
      "{\n",
      "  \"node1\": {\n",
      "    \"data\": \"Some data for node1\"\n",
      "  },\n",
      "  \"node2\": {\n",
      "    \"data\": \"Some data for node2\"\n",
      "  },\n",
      "  \"node3\": {\n",
      "    \"parent\": \"node1\",\n",
      "    \"data\": \"Some data for node3\"\n",
      "  },\n",
      "  \"node4\": {\n",
      "    \"parent\": \"node3\",\n",
      "    \"data\": \"Some data for node4\"\n",
      "  },\n",
      "  \"node5\": {\n",
      "    \"parent\": \"node3\",\n",
      "    \"data\": \"Some data for node5\"\n",
      "  },\n",
      "  \"node36\": {\n",
      "    \"data\": \"Some data for node6\",\n",
      "    \"parent\": \"node1\"\n",
      "  },\n",
      "  \"node7\": {\n",
      "    \"data\": \"Some data for node7\",\n",
      "    \"parent\": \"node36\"\n",
      "  },\n",
      "  \"node0\": {\n",
      "    \"data\": \"Some data for node0\",\n",
      "    \"parent\": \"node1\",\n",
      "    \"other\": \"Some other data for node0\"\n",
      "  }\n",
      "}\n"
     ]
    }
   ],
   "source": [
    "child_of_log_root['parent'] = 'node1'\n",
    "print(json.dumps(tree, indent=2))"
   ]
  },
  {
   "cell_type": "code",
   "execution_count": 16,
   "metadata": {},
   "outputs": [
    {
     "data": {
      "text/plain": [
       "True"
      ]
     },
     "execution_count": 16,
     "metadata": {},
     "output_type": "execute_result"
    }
   ],
   "source": [
    "\"node1\" in tree"
   ]
  },
  {
   "cell_type": "code",
   "execution_count": 17,
   "metadata": {},
   "outputs": [
    {
     "name": "stdout",
     "output_type": "stream",
     "text": [
      "ProxyNode(key=__logical_root__)\n",
      "__logical_root__ is immutable\n",
      "__logical_root__ is immutable\n",
      "ProxyNode(node7: {'data': 'Some data for node7', 'parent': 'node36'})\n",
      "{'node1': {'data': 'Some data for node1'}, 'node2': {'data': 'Some data for node2'}, 'node3': {'parent': 'node1', 'data': 'Some data for node3'}, 'node4': {'parent': 'node3', 'data': 'Some data for node4'}, 'node5': {'parent': 'node3', 'data': 'Some data for node5'}, 'node36': {'data': 'Some data for node6', 'parent': 'node1'}, 'node7': {}, 'node0': {'data': 'Some data for node0', 'parent': 'node1', 'other': 'Some other data for node0'}}\n"
     ]
    }
   ],
   "source": [
    "root_node = tree.get_root()\n",
    "print(root_node)\n",
    "\n",
    "try:\n",
    "    root_node['data'] = \"Some new data for root node\"\n",
    "except TypeError as e:\n",
    "    print(e)\n",
    "\n",
    "try:\n",
    "    root_node['parent'] = None\n",
    "except TypeError as e:\n",
    "    print(e)\n",
    "\n",
    "try:\n",
    "    root_node.clear()\n",
    "except TypeError as e:\n",
    "    print(e)\n",
    "\n",
    "\n",
    "print(child7)\n",
    "child7.clear()\n",
    "\n",
    "print(tree)"
   ]
  },
  {
   "cell_type": "code",
   "execution_count": 18,
   "metadata": {},
   "outputs": [
    {
     "name": "stdout",
     "output_type": "stream",
     "text": [
      "{\n",
      "  \"node1\": {\n",
      "    \"data\": \"Some data for node1\"\n",
      "  },\n",
      "  \"node2\": {\n",
      "    \"data\": \"Some data for node2\"\n",
      "  },\n",
      "  \"node3\": {\n",
      "    \"parent\": \"node1\",\n",
      "    \"data\": \"Some data for node3\"\n",
      "  },\n",
      "  \"node4\": {\n",
      "    \"parent\": \"node3\",\n",
      "    \"data\": \"Some data for node4\"\n",
      "  },\n",
      "  \"node5\": {\n",
      "    \"parent\": \"node3\",\n",
      "    \"data\": \"Some data for node5\"\n",
      "  },\n",
      "  \"node36\": {\n",
      "    \"data\": \"Some data for node6\",\n",
      "    \"parent\": \"node1\"\n",
      "  },\n",
      "  \"node7\": {},\n",
      "  \"node0\": {\n",
      "    \"data\": \"Some data for node0\",\n",
      "    \"parent\": \"node1\",\n",
      "    \"other\": \"Some other data for node0\"\n",
      "  },\n",
      "  \"157591a2-cf12-4881-aca3-44f50f6b8aca\": {\n",
      "    \"whatever\": 3,\n",
      "    \"parent\": null\n",
      "  },\n",
      "  \"c8609c5e-b147-43d8-bd51-aad2a686642b\": {\n",
      "    \"whatever\": 4,\n",
      "    \"parent\": \"157591a2-cf12-4881-aca3-44f50f6b8aca\"\n",
      "  },\n",
      "  \"81fead5f-997c-48a5-85c6-d0917ae1b593\": {\n",
      "    \"whatever\": 5,\n",
      "    \"parent\": \"c8609c5e-b147-43d8-bd51-aad2a686642b\"\n",
      "  }\n",
      "}\n"
     ]
    }
   ],
   "source": [
    "tree.get_root().add_child(whatever=3).add_child(whatever=4).add_child(whatever=5)\n",
    "print(json.dumps(tree, indent=2))"
   ]
  },
  {
   "cell_type": "code",
   "execution_count": 19,
   "metadata": {},
   "outputs": [
    {
     "name": "stdout",
     "output_type": "stream",
     "text": [
      "{\n",
      "  \"root\": {\n",
      "    \"data\": \"Some data for root\"\n",
      "  },\n",
      "  \"child1\": {\n",
      "    \"data\": \"Some data for child1\",\n",
      "    \"parent\": \"root\"\n",
      "  },\n",
      "  \"child2\": {\n",
      "    \"data\": \"Some data for child2\",\n",
      "    \"parent\": \"root\"\n",
      "  },\n",
      "  \"child3\": {\n",
      "    \"data\": \"Some data for child3\",\n",
      "    \"parent\": \"child1\"\n",
      "  }\n",
      "}\n"
     ]
    }
   ],
   "source": [
    "simple_tree = tk.FlatTree({\n",
    "    \"root\": {\n",
    "        \"data\": \"Some data for root\",\n",
    "#        \"parent\": None\n",
    "    },\n",
    "    \"child1\": {\n",
    "        \"data\": \"Some data for child1\",\n",
    "        \"parent\": \"root\"\n",
    "    },\n",
    "    \"child2\": {\n",
    "        \"data\": \"Some data for child2\",\n",
    "        \"parent\": \"root\"\n",
    "    },\n",
    "    \"child3\": {\n",
    "        \"data\": \"Some data for child3\",\n",
    "        \"parent\": \"child1\"\n",
    "    }\n",
    "})\n",
    "print(json.dumps(simple_tree, indent=2))  "
   ]
  },
  {
   "cell_type": "code",
   "execution_count": 28,
   "metadata": {},
   "outputs": [
    {
     "name": "stdout",
     "output_type": "stream",
     "text": [
      "ProxyNode(root: {'data': 'Some data for root'})\n",
      "None\n",
      "ProxyNode(child1: {'data': 'Some data for child1', 'parent': 'root'})\n"
     ]
    }
   ],
   "source": [
    "print(simple_tree.get_root())\n",
    "\n",
    "print(simple_tree.get_root().get_parent())\n",
    "print(simple_tree.get_node(\"child3\").get_parent())"
   ]
  },
  {
   "cell_type": "code",
   "execution_count": 21,
   "metadata": {},
   "outputs": [
    {
     "name": "stdout",
     "output_type": "stream",
     "text": [
      "{\n",
      "  \"children\": [\n",
      "    {\n",
      "      \"children\": [\n",
      "        {\n",
      "          \"children\": [],\n",
      "          \"__name__\": \"child3\",\n",
      "          \"data\": \"Some data for child3\",\n",
      "          \"parent\": \"child1\"\n",
      "        }\n",
      "      ],\n",
      "      \"__name__\": \"child1\",\n",
      "      \"data\": \"Some data for child1\",\n",
      "      \"parent\": \"root\"\n",
      "    },\n",
      "    {\n",
      "      \"children\": [],\n",
      "      \"__name__\": \"child2\",\n",
      "      \"data\": \"Some data for child2\",\n",
      "      \"parent\": \"root\"\n",
      "    }\n",
      "  ],\n",
      "  \"__name__\": \"root\",\n",
      "  \"data\": \"Some data for root\"\n",
      "}\n"
     ]
    }
   ],
   "source": [
    "import treekit.tree_converter as tc\n",
    "new_tree = tc.TreeConverter.to_treenode(simple_tree)\n",
    "\n",
    "print(json.dumps(new_tree, indent=2))"
   ]
  },
  {
   "cell_type": "code",
   "execution_count": 33,
   "metadata": {},
   "outputs": [
    {
     "name": "stdout",
     "output_type": "stream",
     "text": [
      "{'data': 'Some data for child1', 'children': [{'data': 'Some data for child3', 'children': []}]}\n"
     ]
    }
   ],
   "source": [
    "testtree = tk.FlatTree()\n",
    "testtree.get_root()\n",
    "\n",
    "treen = tk.TreeNode({\n",
    "    \"data\": \"Some data for root\",\n",
    "    \"children\": [\n",
    "        {\n",
    "            \"data\": \"Some data for child1\",\n",
    "            \"children\": [\n",
    "                {\n",
    "                    \"data\": \"Some data for child3\",\n",
    "                    \"children\": []\n",
    "                }\n",
    "            ]\n",
    "        },\n",
    "        {\n",
    "            \"data\": \"Some data for child2\",\n",
    "            \"children\": []\n",
    "        }\n",
    "    ]\n",
    "    })\n",
    "#print(json.dumps(treen, indent=2))\n",
    "\n",
    "treen.name()\n",
    "\n",
    "child_of_treen = treen.children()[0]\n",
    "print(child_of_treen)\n",
    "print(child_of_treen.get_parent())\n"
   ]
  },
  {
   "cell_type": "code",
   "execution_count": 27,
   "metadata": {},
   "outputs": [
    {
     "ename": "TypeError",
     "evalue": "'NoneType' object is not callable",
     "output_type": "error",
     "traceback": [
      "\u001b[0;31m---------------------------------------------------------------------------\u001b[0m",
      "\u001b[0;31mTypeError\u001b[0m                                 Traceback (most recent call last)",
      "Cell \u001b[0;32mIn[27], line 1\u001b[0m\n\u001b[0;32m----> 1\u001b[0m new_flat_tree \u001b[38;5;241m=\u001b[39m \u001b[43mtc\u001b[49m\u001b[38;5;241;43m.\u001b[39;49m\u001b[43mTreeConverter\u001b[49m\u001b[38;5;241;43m.\u001b[39;49m\u001b[43mto_flattree\u001b[49m\u001b[43m(\u001b[49m\u001b[43mnew_tree\u001b[49m\u001b[43m)\u001b[49m\n",
      "File \u001b[0;32m~/github/treekit/treekit/tree_converter.py:34\u001b[0m, in \u001b[0;36mTreeConverter.to_flattree\u001b[0;34m(tree, node_name)\u001b[0m\n\u001b[1;32m     32\u001b[0m     \u001b[38;5;28;01mfor\u001b[39;00m child \u001b[38;5;129;01min\u001b[39;00m node\u001b[38;5;241m.\u001b[39mchildren():\n\u001b[1;32m     33\u001b[0m         _build(child)\n\u001b[0;32m---> 34\u001b[0m \u001b[43m_build\u001b[49m\u001b[43m(\u001b[49m\u001b[43mtree\u001b[49m\u001b[38;5;241;43m.\u001b[39;49m\u001b[43mget_root\u001b[49m\u001b[43m(\u001b[49m\u001b[43m)\u001b[49m\u001b[43m)\u001b[49m\n\u001b[1;32m     35\u001b[0m \u001b[38;5;28;01mreturn\u001b[39;00m tree\n",
      "File \u001b[0;32m~/github/treekit/treekit/tree_converter.py:30\u001b[0m, in \u001b[0;36mTreeConverter.to_flattree.<locals>._build\u001b[0;34m(node)\u001b[0m\n\u001b[1;32m     28\u001b[0m \u001b[38;5;28;01mimport\u001b[39;00m \u001b[38;5;21;01muuid\u001b[39;00m\n\u001b[1;32m     29\u001b[0m key \u001b[38;5;241m=\u001b[39m uuid\u001b[38;5;241m.\u001b[39muuid4()\n\u001b[0;32m---> 30\u001b[0m tree[key] \u001b[38;5;241m=\u001b[39m {\u001b[38;5;124m'\u001b[39m\u001b[38;5;124mparent\u001b[39m\u001b[38;5;124m'\u001b[39m: \u001b[43mnode_name\u001b[49m\u001b[43m(\u001b[49m\u001b[43mnode\u001b[49m\u001b[38;5;241;43m.\u001b[39;49m\u001b[43mget_parent\u001b[49m\u001b[43m(\u001b[49m\u001b[43m)\u001b[49m\u001b[43m)\u001b[49m,\n\u001b[1;32m     31\u001b[0m              \u001b[38;5;241m*\u001b[39m\u001b[38;5;241m*\u001b[39m{k: v \u001b[38;5;28;01mfor\u001b[39;00m k, v \u001b[38;5;129;01min\u001b[39;00m node\u001b[38;5;241m.\u001b[39mitems() }}\n\u001b[1;32m     32\u001b[0m \u001b[38;5;28;01mfor\u001b[39;00m child \u001b[38;5;129;01min\u001b[39;00m node\u001b[38;5;241m.\u001b[39mchildren():\n\u001b[1;32m     33\u001b[0m     _build(child)\n",
      "\u001b[0;31mTypeError\u001b[0m: 'NoneType' object is not callable"
     ]
    }
   ],
   "source": [
    "new_flat_tree = tc.TreeConverter.to_flattree(new_tree)"
   ]
  }
 ],
 "metadata": {
  "kernelspec": {
   "display_name": "env",
   "language": "python",
   "name": "python3"
  },
  "language_info": {
   "codemirror_mode": {
    "name": "ipython",
    "version": 3
   },
   "file_extension": ".py",
   "mimetype": "text/x-python",
   "name": "python",
   "nbconvert_exporter": "python",
   "pygments_lexer": "ipython3",
   "version": "3.11.2"
  }
 },
 "nbformat": 4,
 "nbformat_minor": 2
}
