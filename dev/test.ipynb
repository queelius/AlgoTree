{
 "cells": [
  {
   "cell_type": "code",
   "execution_count": 1,
   "metadata": {},
   "outputs": [
    {
     "name": "stdout",
     "output_type": "stream",
     "text": [
      "{\n",
      "  \"node1\": {\n",
      "    \"data\": \"Some data for node1\"\n",
      "  },\n",
      "  \"node2\": {\n",
      "    \"data\": \"Some data for node2\"\n",
      "  },\n",
      "  \"node3\": {\n",
      "    \"parent\": \"node1\",\n",
      "    \"data\": \"Some data for node3\"\n",
      "  },\n",
      "  \"node4\": {\n",
      "    \"parent\": \"node3\",\n",
      "    \"data\": \"Some data for node4\"\n",
      "  },\n",
      "  \"node5\": {\n",
      "    \"parent\": \"node3\",\n",
      "    \"data\": \"Some data for node5\"\n",
      "  }\n",
      "}\n"
     ]
    }
   ],
   "source": [
    "import json\n",
    "tree_data = {\n",
    "    \"node1\": {\n",
    "        #\"parent\": None,\n",
    "        \"data\": \"Some data for node1\"\n",
    "    },\n",
    "    \"node2\": {\n",
    "        #\"parent\": \"node1\",\n",
    "        \"data\": \"Some data for node2\"\n",
    "    },\n",
    "    \"node3\": {\n",
    "        \"parent\": \"node1\",\n",
    "        \"data\": \"Some data for node3\"\n",
    "    },\n",
    "    \"node4\": {\n",
    "        \"parent\": \"node3\",\n",
    "        \"data\": \"Some data for node4\"\n",
    "    },\n",
    "    \"node5\": {\n",
    "        \"parent\": \"node3\",\n",
    "        \"data\": \"Some data for node5\"\n",
    "    }\n",
    "}\n",
    "print(json.dumps(tree_data, indent=2))"
   ]
  },
  {
   "cell_type": "code",
   "execution_count": 2,
   "metadata": {},
   "outputs": [
    {
     "name": "stdout",
     "output_type": "stream",
     "text": [
      "{\n",
      "  \"node1\": {\n",
      "    \"data\": \"Some data for node1\"\n",
      "  },\n",
      "  \"node2\": {\n",
      "    \"data\": \"Some data for node2\"\n",
      "  },\n",
      "  \"node3\": {\n",
      "    \"parent\": \"node1\",\n",
      "    \"data\": \"Some data for node3\"\n",
      "  },\n",
      "  \"node4\": {\n",
      "    \"parent\": \"node3\",\n",
      "    \"data\": \"Some data for node4\"\n",
      "  },\n",
      "  \"node5\": {\n",
      "    \"parent\": \"node3\",\n",
      "    \"data\": \"Some data for node5\"\n",
      "  }\n",
      "}\n"
     ]
    }
   ],
   "source": [
    "import treekit as tk\n",
    "\n",
    "# load a tree from tree_data\n",
    "tree = tk.FlatTree(tree_data)\n",
    "print(json.dumps(tree, indent=2))\n"
   ]
  },
  {
   "cell_type": "code",
   "execution_count": 3,
   "metadata": {},
   "outputs": [
    {
     "name": "stdout",
     "output_type": "stream",
     "text": [
      "{'parent': 'node1', 'data': 'Some data for node3'}\n",
      "ProxyNode(node3: {'parent': 'node1', 'data': 'Some data for node3'})\n",
      "node1\n",
      "[ProxyNode(node4: {'parent': 'node3', 'data': 'Some data for node4'}), ProxyNode(node5: {'parent': 'node3', 'data': 'Some data for node5'})]\n"
     ]
    }
   ],
   "source": [
    "print(tree[\"node3\"])\n",
    "node3 = tree.get_node(\"node3\")\n",
    "print(node3)\n",
    "print(node3['parent'])\n",
    "print(node3.children())"
   ]
  },
  {
   "cell_type": "code",
   "execution_count": 4,
   "metadata": {},
   "outputs": [
    {
     "name": "stdout",
     "output_type": "stream",
     "text": [
      "ProxyNode(__logical_root__)\n",
      "ProxyNode(node1: {'data': 'Some data for node1'})\n",
      "ProxyNode(node2: {'data': 'Some data for node2'})\n"
     ]
    }
   ],
   "source": [
    "print(tree.get_root())\n",
    "for child in tree.get_root().children():\n",
    "    print(child)"
   ]
  },
  {
   "cell_type": "markdown",
   "metadata": {},
   "source": [
    "We show that it's easy to regenerate any JSON files that may have been used\n",
    "to generate the FlatTree 'tree'. So, JSON is a good format for storing and\n",
    "transmitting trees. And, of course, `FlatTree` *is* a dictionary. Of course,\n",
    "if we store an object that has no serializable representation, it cannot be\n",
    "stored in JSON."
   ]
  },
  {
   "cell_type": "code",
   "execution_count": 5,
   "metadata": {},
   "outputs": [
    {
     "name": "stdout",
     "output_type": "stream",
     "text": [
      "True\n"
     ]
    }
   ],
   "source": [
    "print(json.dumps(tree,  indent=2) == json.dumps(tree_data, indent=2))"
   ]
  },
  {
   "cell_type": "code",
   "execution_count": 6,
   "metadata": {},
   "outputs": [
    {
     "name": "stdout",
     "output_type": "stream",
     "text": [
      "{'node1': {'data': <function <lambda> at 0x734e9d53efc0>}}\n",
      "ProxyNode(__logical_root__)\n",
      "Object of type function is not JSON serializable\n"
     ]
    }
   ],
   "source": [
    "\n",
    "# let's create a tree from a dict that cannot be serialized to json\n",
    "non_serializable_tree_data = {\n",
    "    \"node1\": {\n",
    "        #\"parent\": None,\n",
    "        # data is a function that cannot be serialized to json\n",
    "        \"data\": lambda x: 2*x**3 + 3*x**2 + 4*x + 5\n",
    "    }\n",
    "}\n",
    "\n",
    "non_serializable_tree = tk.FlatTree(non_serializable_tree_data)\n",
    "print(non_serializable_tree)\n",
    "print(non_serializable_tree.get_root())\n",
    "\n",
    "try:\n",
    "    json.dumps(non_serializable_tree, indent=2)\n",
    "except TypeError as e:\n",
    "    print(e)"
   ]
  },
  {
   "cell_type": "code",
   "execution_count": 7,
   "metadata": {},
   "outputs": [
    {
     "name": "stdout",
     "output_type": "stream",
     "text": [
      "{\n",
      "  \"node1\": {\n",
      "    \"data\": \"Some data for node1\"\n",
      "  },\n",
      "  \"node2\": {\n",
      "    \"data\": \"Some data for node2\"\n",
      "  },\n",
      "  \"node3\": {\n",
      "    \"parent\": \"node1\",\n",
      "    \"data\": \"Some data for node3\"\n",
      "  },\n",
      "  \"node4\": {\n",
      "    \"parent\": \"node3\",\n",
      "    \"data\": \"Some data for node4\"\n",
      "  },\n",
      "  \"node5\": {\n",
      "    \"parent\": \"node3\",\n",
      "    \"data\": \"Some data for node5\"\n",
      "  },\n",
      "  \"node36\": {\n",
      "    \"data\": \"Some data for node6\",\n",
      "    \"parent\": \"node1\"\n",
      "  }\n",
      "}\n",
      "ProxyNode(node36: {'data': 'Some data for node6', 'parent': 'node1'})\n"
     ]
    }
   ],
   "source": [
    "child = tree.get_node(\"node1\").add_child(key=\"node36\", data=\"Some data for node6\")\n",
    "print(json.dumps(tree, indent=2))\n",
    "print(child)\n",
    "#print(tree.get_root())"
   ]
  },
  {
   "cell_type": "markdown",
   "metadata": {},
   "source": [
    "If we try too add a non-unique node key to the tree, we will get a `KeyError`."
   ]
  },
  {
   "cell_type": "code",
   "execution_count": 8,
   "metadata": {},
   "outputs": [
    {
     "name": "stdout",
     "output_type": "stream",
     "text": [
      "'Node key already exists'\n",
      "{\n",
      "  \"node1\": {\n",
      "    \"data\": \"Some data for node1\"\n",
      "  },\n",
      "  \"node2\": {\n",
      "    \"data\": \"Some data for node2\"\n",
      "  },\n",
      "  \"node3\": {\n",
      "    \"parent\": \"node1\",\n",
      "    \"data\": \"Some data for node3\"\n",
      "  },\n",
      "  \"node4\": {\n",
      "    \"parent\": \"node3\",\n",
      "    \"data\": \"Some data for node4\"\n",
      "  },\n",
      "  \"node5\": {\n",
      "    \"parent\": \"node3\",\n",
      "    \"data\": \"Some data for node5\"\n",
      "  },\n",
      "  \"node36\": {\n",
      "    \"data\": \"Some data for node6\",\n",
      "    \"parent\": \"node1\"\n",
      "  },\n",
      "  \"node7\": {\n",
      "    \"data\": \"Some data for node7\",\n",
      "    \"parent\": \"node36\"\n",
      "  }\n",
      "}\n",
      "ProxyNode(node7: {'data': 'Some data for node7', 'parent': 'node36'})\n"
     ]
    }
   ],
   "source": [
    "try:\n",
    "    child2 = tree.get_node(\"node1\").add_child(key=\"node2\", data=\"Some data for node6!!!\")\n",
    "except KeyError as e:\n",
    "    print(e)\n",
    "\n",
    "child7 = child.add_child(key=\"node7\", data=\"Some data for node7\")\n",
    "print(json.dumps(tree, indent=2))\n",
    "print(child7)"
   ]
  },
  {
   "cell_type": "code",
   "execution_count": 9,
   "metadata": {},
   "outputs": [
    {
     "name": "stdout",
     "output_type": "stream",
     "text": [
      "data\n",
      "parent\n",
      "ProxyNode(node7: {'data': 'Some data for node7', 'parent': 'node36', 'new_data': 'Some new data for node7'})\n",
      "{'node1': {'data': 'Some data for node1'}, 'node2': {'data': 'Some data for node2'}, 'node3': {'parent': 'node1', 'data': 'Some data for node3'}, 'node4': {'parent': 'node3', 'data': 'Some data for node4'}, 'node5': {'parent': 'node3', 'data': 'Some data for node5'}, 'node36': {'data': 'Some data for node6', 'parent': 'node1'}, 'node7': {'data': 'Some data for node7', 'parent': 'node36', 'new_data': 'Some new data for node7'}}\n",
      "ProxyNode(node7: {'data': 'Some data for node7', 'parent': 'node36'})\n",
      "[ProxyNode(node1: {'data': 'Some data for node1'}), ProxyNode(node2: {'data': 'Some data for node2'})]\n"
     ]
    }
   ],
   "source": [
    "#child7.new_data = \"Some new data for node7\"\n",
    "#print(child7)\n",
    "#del child7.new_data\n",
    "#print(child7)\n",
    "\n",
    "for k, v in child7.items():\n",
    "    print(k)\n",
    "\n",
    "child7[\"new_data\"] = \"Some new data for node7\"    \n",
    "print(child7)\n",
    "print(tree)\n",
    "\n",
    "del child7[\"new_data\"]\n",
    "print(child7)\n",
    "\n",
    "print(tree.get_root().children())"
   ]
  },
  {
   "cell_type": "code",
   "execution_count": 10,
   "metadata": {},
   "outputs": [
    {
     "name": "stdout",
     "output_type": "stream",
     "text": [
      "{'node1': {'data': 'Some data for node1'}, 'node2': {'data': 'Some data for node2'}, 'node3': {'parent': 'node1', 'data': 'Some data for node3'}, 'node4': {'parent': 'node3', 'data': 'Some data for node4'}, 'node5': {'parent': 'node3', 'data': 'Some data for node5'}, 'node36': {'data': 'Some data for node6', 'parent': 'node1'}, 'node7': {'data': 'Some data for node7', 'parent': 'node36'}}\n"
     ]
    }
   ],
   "source": [
    "print(tree)"
   ]
  },
  {
   "cell_type": "code",
   "execution_count": null,
   "metadata": {},
   "outputs": [],
   "source": []
  },
  {
   "cell_type": "markdown",
   "metadata": {},
   "source": [
    "Let's modify the payload of child7."
   ]
  },
  {
   "cell_type": "code",
   "execution_count": 11,
   "metadata": {},
   "outputs": [
    {
     "name": "stdout",
     "output_type": "stream",
     "text": [
      "{\n",
      "  \"node1\": {\n",
      "    \"data\": \"Some data for node1\"\n",
      "  },\n",
      "  \"node2\": {\n",
      "    \"data\": \"Some data for node2\"\n",
      "  },\n",
      "  \"node3\": {\n",
      "    \"parent\": \"node1\",\n",
      "    \"data\": \"Some data for node3\"\n",
      "  },\n",
      "  \"node4\": {\n",
      "    \"parent\": \"node3\",\n",
      "    \"data\": \"Some data for node4\"\n",
      "  },\n",
      "  \"node5\": {\n",
      "    \"parent\": \"node3\",\n",
      "    \"data\": \"Some data for node5\"\n",
      "  },\n",
      "  \"node36\": {\n",
      "    \"data\": \"Some data for node6\",\n",
      "    \"parent\": \"node1\"\n",
      "  },\n",
      "  \"node7\": {\n",
      "    \"data\": \"Some data for node7\",\n",
      "    \"parent\": \"node36\"\n",
      "  }\n",
      "}\n"
     ]
    }
   ],
   "source": [
    "#child7.parent\n",
    "#print(child7.data)\n",
    "print(json.dumps(tree, indent=2))"
   ]
  },
  {
   "cell_type": "code",
   "execution_count": 12,
   "metadata": {},
   "outputs": [
    {
     "name": "stdout",
     "output_type": "stream",
     "text": [
      "[ProxyNode(node1: {'data': 'Some data for node1'}), ProxyNode(node2: {'data': 'Some data for node2'})]\n"
     ]
    }
   ],
   "source": [
    "print(tree.get_root().children())"
   ]
  },
  {
   "cell_type": "code",
   "execution_count": 13,
   "metadata": {},
   "outputs": [
    {
     "name": "stdout",
     "output_type": "stream",
     "text": [
      "ProxyNode(node0: {'data': 'Some data for node0', 'parent': None})\n"
     ]
    }
   ],
   "source": [
    "child_of_log_root = tree.get_root().add_child(key=\"node0\", data=\"Some data for node0\")\n",
    "print(child_of_log_root)"
   ]
  },
  {
   "cell_type": "code",
   "execution_count": 14,
   "metadata": {},
   "outputs": [
    {
     "name": "stdout",
     "output_type": "stream",
     "text": [
      "ProxyNode(node0: {'data': 'Some data for node0', 'parent': None, 'other': 'Some other data for node0'})\n"
     ]
    }
   ],
   "source": [
    "child_of_log_root['other'] = \"Some other data for node0\"\n",
    "print(child_of_log_root)"
   ]
  },
  {
   "cell_type": "code",
   "execution_count": 15,
   "metadata": {},
   "outputs": [
    {
     "name": "stdout",
     "output_type": "stream",
     "text": [
      "{\n",
      "  \"node1\": {\n",
      "    \"data\": \"Some data for node1\"\n",
      "  },\n",
      "  \"node2\": {\n",
      "    \"data\": \"Some data for node2\"\n",
      "  },\n",
      "  \"node3\": {\n",
      "    \"parent\": \"node1\",\n",
      "    \"data\": \"Some data for node3\"\n",
      "  },\n",
      "  \"node4\": {\n",
      "    \"parent\": \"node3\",\n",
      "    \"data\": \"Some data for node4\"\n",
      "  },\n",
      "  \"node5\": {\n",
      "    \"parent\": \"node3\",\n",
      "    \"data\": \"Some data for node5\"\n",
      "  },\n",
      "  \"node36\": {\n",
      "    \"data\": \"Some data for node6\",\n",
      "    \"parent\": \"node1\"\n",
      "  },\n",
      "  \"node7\": {\n",
      "    \"data\": \"Some data for node7\",\n",
      "    \"parent\": \"node36\"\n",
      "  },\n",
      "  \"node0\": {\n",
      "    \"data\": \"Some data for node0\",\n",
      "    \"parent\": \"node1\",\n",
      "    \"other\": \"Some other data for node0\"\n",
      "  }\n",
      "}\n",
      "parent\n"
     ]
    }
   ],
   "source": [
    "child_of_log_root['parent'] = 'node1'\n",
    "print(json.dumps(tree, indent=2))\n",
    "\n",
    "print(tree.PARENT_KEY)"
   ]
  },
  {
   "cell_type": "code",
   "execution_count": 16,
   "metadata": {},
   "outputs": [
    {
     "data": {
      "text/plain": [
       "True"
      ]
     },
     "execution_count": 16,
     "metadata": {},
     "output_type": "execute_result"
    }
   ],
   "source": [
    "\"node1\" in tree"
   ]
  },
  {
   "cell_type": "code",
   "execution_count": 17,
   "metadata": {},
   "outputs": [
    {
     "name": "stdout",
     "output_type": "stream",
     "text": [
      "ProxyNode(node1: {'data': 'Some data for node1'})\n",
      "ProxyNode(node2: {'data': 'Some data for node2'})\n",
      "----------\n",
      "node1 {'data': 'Some data for node1'}\n",
      "node2 {'data': 'Some data for node2'}\n",
      "node3 {'parent': 'node1', 'data': 'Some data for node3'}\n",
      "node4 {'parent': 'node3', 'data': 'Some data for node4'}\n",
      "node5 {'parent': 'node3', 'data': 'Some data for node5'}\n",
      "node36 {'data': 'Some data for node6', 'parent': 'node1'}\n",
      "node7 {'data': 'Some data for node7', 'parent': 'node36'}\n",
      "node0 {'data': 'Some data for node0', 'parent': 'node1', 'other': 'Some other data for node0'}\n",
      "----------\n",
      "{'node1': {'data': 'Some data for node1'}, 'node2': {'data': 'Some data for node2'}, 'node3': {'parent': 'node1', 'data': 'Some data for node3'}, 'node4': {'parent': 'node3', 'data': 'Some data for node4'}, 'node5': {'parent': 'node3', 'data': 'Some data for node5'}, 'node36': {'data': 'Some data for node6', 'parent': 'node1'}, 'node7': {'data': 'Some data for node7', 'parent': 'node36'}, 'node0': {'data': 'Some data for node0', 'parent': 'node1', 'other': 'Some other data for node0'}, 'test': 'Some test data'}\n",
      "----------\n",
      "{\n",
      "  \"node1\": {\n",
      "    \"data\": \"Some data for node1\"\n",
      "  },\n",
      "  \"node2\": {\n",
      "    \"data\": \"Some data for node2\"\n",
      "  },\n",
      "  \"node3\": {\n",
      "    \"parent\": \"node1\",\n",
      "    \"data\": \"Some data for node3\"\n",
      "  },\n",
      "  \"node4\": {\n",
      "    \"parent\": \"node3\",\n",
      "    \"data\": \"Some data for node4\"\n",
      "  },\n",
      "  \"node5\": {\n",
      "    \"parent\": \"node3\",\n",
      "    \"data\": \"Some data for node5\"\n",
      "  },\n",
      "  \"node36\": {\n",
      "    \"data\": \"Some data for node6\",\n",
      "    \"parent\": \"node1\"\n",
      "  },\n",
      "  \"node7\": {\n",
      "    \"data\": \"Some data for node7\",\n",
      "    \"parent\": \"node36\"\n",
      "  },\n",
      "  \"node0\": {\n",
      "    \"data\": \"Some data for node0\",\n",
      "    \"parent\": \"node1\",\n",
      "    \"other\": \"Some other data for node0\"\n",
      "  },\n",
      "  \"test\": \"Some test data\",\n",
      "  \"new_key\": {\n",
      "    \"parent\": \"node1\",\n",
      "    \"data\": \"Some new data\"\n",
      "  }\n",
      "}\n"
     ]
    }
   ],
   "source": [
    "for child in tree.get_root().children():\n",
    "    print(child)\n",
    "print(\"-\"*10)\n",
    "for k, v in tree.items():\n",
    "    print(k, v)\n",
    "\n",
    "tree['test'] = \"Some test data\"\n",
    "print('-'*10)\n",
    "print(tree)\n",
    "\n",
    "tree['new_key'] = {'parent': 'node1', 'data': 'Some new data'}\n",
    "print('-'*10)\n",
    "print(json.dumps(tree, indent=2))"
   ]
  },
  {
   "cell_type": "code",
   "execution_count": 18,
   "metadata": {},
   "outputs": [
    {
     "name": "stdout",
     "output_type": "stream",
     "text": [
      "ProxyNode(new_key: {'parent': 'node1', 'data': 'Some new data'})\n",
      "<class 'treekit.flattree.FlatTree.ProxyNode'>\n",
      "{'parent': 'node1', 'data': 'Some new data'}\n",
      "<class 'dict'>\n"
     ]
    }
   ],
   "source": [
    "print(tree.get_node('new_key'))\n",
    "print(type(tree.get_node('new_key')))\n",
    "print(tree['new_key'])\n",
    "print(type(tree['new_key']))\n"
   ]
  },
  {
   "cell_type": "code",
   "execution_count": 19,
   "metadata": {},
   "outputs": [
    {
     "name": "stdout",
     "output_type": "stream",
     "text": [
      "ProxyNode(__logical_root__)\n",
      "ProxyNode(__logical_root__) is immutable\n",
      "ProxyNode(__logical_root__) is immutable\n",
      "----------\n",
      "ProxyNode(node7: {'data': 'Some data for node7', 'parent': 'node36'})\n",
      "{\n",
      "  \"node1\": {\n",
      "    \"data\": \"Some data for node1\"\n",
      "  },\n",
      "  \"node2\": {\n",
      "    \"data\": \"Some data for node2\"\n",
      "  },\n",
      "  \"node3\": {\n",
      "    \"parent\": \"node1\",\n",
      "    \"data\": \"Some data for node3\"\n",
      "  },\n",
      "  \"node4\": {\n",
      "    \"parent\": \"node3\",\n",
      "    \"data\": \"Some data for node4\"\n",
      "  },\n",
      "  \"node5\": {\n",
      "    \"parent\": \"node3\",\n",
      "    \"data\": \"Some data for node5\"\n",
      "  },\n",
      "  \"node36\": {\n",
      "    \"data\": \"Some data for node6\",\n",
      "    \"parent\": \"node1\"\n",
      "  },\n",
      "  \"node7\": {},\n",
      "  \"node0\": {\n",
      "    \"data\": \"Some data for node0\",\n",
      "    \"parent\": \"node1\",\n",
      "    \"other\": \"Some other data for node0\"\n",
      "  },\n",
      "  \"test\": \"Some test data\",\n",
      "  \"new_key\": {\n",
      "    \"parent\": \"node1\",\n",
      "    \"data\": \"Some new data\"\n",
      "  }\n",
      "}\n"
     ]
    }
   ],
   "source": [
    "root_node = tree.get_root()\n",
    "print(root_node)\n",
    "\n",
    "try:\n",
    "    root_node['data'] = \"Some new data for root node\"\n",
    "except TypeError as e:\n",
    "    print(e)\n",
    "\n",
    "try:\n",
    "    root_node['parent'] = None\n",
    "except TypeError as e:\n",
    "    print(e)\n",
    "\n",
    "try:\n",
    "    root_node.clear()\n",
    "except TypeError as e:\n",
    "    print(e)\n",
    "\n",
    "print('-'*10)\n",
    "print(child7)\n",
    "child7.clear()\n",
    "\n",
    "print(json.dumps(tree, indent=2))"
   ]
  },
  {
   "cell_type": "code",
   "execution_count": 20,
   "metadata": {},
   "outputs": [
    {
     "name": "stdout",
     "output_type": "stream",
     "text": [
      "{\n",
      "  \"node1\": {\n",
      "    \"data\": \"Some data for node1\"\n",
      "  },\n",
      "  \"node2\": {\n",
      "    \"data\": \"Some data for node2\"\n",
      "  },\n",
      "  \"node3\": {\n",
      "    \"parent\": \"node1\",\n",
      "    \"data\": \"Some data for node3\"\n",
      "  },\n",
      "  \"node4\": {\n",
      "    \"parent\": \"node3\",\n",
      "    \"data\": \"Some data for node4\"\n",
      "  },\n",
      "  \"node5\": {\n",
      "    \"parent\": \"node3\",\n",
      "    \"data\": \"Some data for node5\"\n",
      "  },\n",
      "  \"node36\": {\n",
      "    \"data\": \"Some data for node6\",\n",
      "    \"parent\": \"node1\"\n",
      "  },\n",
      "  \"node7\": {},\n",
      "  \"node0\": {\n",
      "    \"data\": \"Some data for node0\",\n",
      "    \"parent\": \"node1\",\n",
      "    \"other\": \"Some other data for node0\"\n",
      "  },\n",
      "  \"test\": \"Some test data\",\n",
      "  \"new_key\": {\n",
      "    \"parent\": \"node1\",\n",
      "    \"data\": \"Some new data\"\n",
      "  },\n",
      "  \"f4677df8-7d2c-40a4-86da-1734eacaf0db\": {\n",
      "    \"whatever\": 3,\n",
      "    \"parent\": null\n",
      "  },\n",
      "  \"c8f80304-6686-4d63-87e1-f95b90e52e76\": {\n",
      "    \"whatever\": 4,\n",
      "    \"parent\": \"f4677df8-7d2c-40a4-86da-1734eacaf0db\"\n",
      "  },\n",
      "  \"ddaad9dd-444b-4172-a2ac-fd903ff22c7b\": {\n",
      "    \"whatever\": 5,\n",
      "    \"parent\": \"c8f80304-6686-4d63-87e1-f95b90e52e76\"\n",
      "  }\n",
      "}\n"
     ]
    }
   ],
   "source": [
    "tree.get_root().add_child(whatever=3).add_child(whatever=4).add_child(whatever=5)\n",
    "print(json.dumps(tree, indent=2))"
   ]
  },
  {
   "cell_type": "code",
   "execution_count": 21,
   "metadata": {},
   "outputs": [
    {
     "name": "stdout",
     "output_type": "stream",
     "text": [
      "{\n",
      "  \"root\": {\n",
      "    \"data\": \"Some data for root\"\n",
      "  },\n",
      "  \"child1\": {\n",
      "    \"data\": \"Some data for child1\",\n",
      "    \"parent\": \"root\"\n",
      "  },\n",
      "  \"child2\": {\n",
      "    \"data\": \"Some data for child2\",\n",
      "    \"parent\": \"root\"\n",
      "  },\n",
      "  \"child3\": {\n",
      "    \"data\": \"Some data for child3\",\n",
      "    \"parent\": \"child1\"\n",
      "  }\n",
      "}\n"
     ]
    }
   ],
   "source": [
    "simple_tree = tk.FlatTree({\n",
    "    \"root\": {\n",
    "        \"data\": \"Some data for root\",\n",
    "#        \"parent\": None\n",
    "    },\n",
    "    \"child1\": {\n",
    "        \"data\": \"Some data for child1\",\n",
    "        \"parent\": \"root\"\n",
    "    },\n",
    "    \"child2\": {\n",
    "        \"data\": \"Some data for child2\",\n",
    "        \"parent\": \"root\"\n",
    "    },\n",
    "    \"child3\": {\n",
    "        \"data\": \"Some data for child3\",\n",
    "        \"parent\": \"child1\"\n",
    "    }\n",
    "})\n",
    "print(json.dumps(simple_tree, indent=2))  "
   ]
  },
  {
   "cell_type": "code",
   "execution_count": 22,
   "metadata": {},
   "outputs": [
    {
     "name": "stdout",
     "output_type": "stream",
     "text": [
      "ProxyNode(__logical_root__)\n",
      "None\n",
      "ProxyNode(child1: {'data': 'Some data for child1', 'parent': 'root'})\n"
     ]
    }
   ],
   "source": [
    "print(simple_tree.get_root())\n",
    "\n",
    "print(simple_tree.get_root().get_parent())\n",
    "print(simple_tree.get_node(\"child3\").get_parent())"
   ]
  },
  {
   "cell_type": "code",
   "execution_count": 23,
   "metadata": {},
   "outputs": [
    {
     "name": "stdout",
     "output_type": "stream",
     "text": [
      "{\n",
      "  \"children\": [\n",
      "    {\n",
      "      \"data\": \"Some data for root\",\n",
      "      \"children\": [\n",
      "        {\n",
      "          \"data\": \"Some data for child1\",\n",
      "          \"parent\": \"root\",\n",
      "          \"children\": [\n",
      "            {\n",
      "              \"data\": \"Some data for child3\",\n",
      "              \"parent\": \"child1\",\n",
      "              \"children\": []\n",
      "            }\n",
      "          ]\n",
      "        },\n",
      "        {\n",
      "          \"data\": \"Some data for child2\",\n",
      "          \"parent\": \"root\",\n",
      "          \"children\": []\n",
      "        }\n",
      "      ]\n",
      "    }\n",
      "  ]\n",
      "}\n"
     ]
    }
   ],
   "source": [
    "import treekit.tree_converter as tc\n",
    "new_tree = tc.TreeConverter.to_treenode(simple_tree)\n",
    "\n",
    "print(json.dumps(new_tree, indent=2))"
   ]
  },
  {
   "cell_type": "code",
   "execution_count": 24,
   "metadata": {},
   "outputs": [
    {
     "name": "stdout",
     "output_type": "stream",
     "text": [
      "{\n",
      "  \"child1\": {\n",
      "    \"data\": \"Some data for child1\",\n",
      "    \"parent\": null\n",
      "  }\n",
      "}\n",
      "ProxyNode(__logical_root__)\n"
     ]
    }
   ],
   "source": [
    "testtree = tk.FlatTree()\n",
    "testtree.get_root()\n",
    "testtree.get_root().add_child(key=\"child1\", data=\"Some data for child1\")\n",
    "print(json.dumps(testtree, indent=2))\n",
    "# when we add a child to the empty root node, the node is turned into the root.\n",
    "# if we add another child\n",
    "print(testtree.get_root())"
   ]
  },
  {
   "cell_type": "code",
   "execution_count": 25,
   "metadata": {},
   "outputs": [
    {
     "name": "stdout",
     "output_type": "stream",
     "text": [
      "{\n",
      "  \"data\": \"Some data for root\",\n",
      "  \"children\": [\n",
      "    {\n",
      "      \"data\": \"Some data for child1\",\n",
      "      \"children\": [\n",
      "        {\n",
      "          \"data\": \"Some data for child3\",\n",
      "          \"children\": []\n",
      "        }\n",
      "      ]\n",
      "    },\n",
      "    {\n",
      "      \"data\": \"Some data for child2\",\n",
      "      \"children\": []\n",
      "    }\n",
      "  ]\n",
      "}\n",
      "--------------------------------------------------------------------------------\n",
      "[\n",
      "  {\n",
      "    \"data\": \"Some data for child1\",\n",
      "    \"children\": [\n",
      "      {\n",
      "        \"data\": \"Some data for child3\",\n",
      "        \"children\": []\n",
      "      }\n",
      "    ]\n",
      "  },\n",
      "  {\n",
      "    \"data\": \"Some data for child2\",\n",
      "    \"children\": []\n",
      "  }\n",
      "]\n"
     ]
    }
   ],
   "source": [
    "\n",
    "\n",
    "treen = tk.TreeNode({\n",
    "    \"data\": \"Some data for root\",\n",
    "    \"children\": [\n",
    "        {\n",
    "            \"data\": \"Some data for child1\",\n",
    "            \"children\": [\n",
    "                {\n",
    "                    \"data\": \"Some data for child3\",\n",
    "                    \"children\": []\n",
    "                }\n",
    "            ]\n",
    "        },\n",
    "        {\n",
    "            \"data\": \"Some data for child2\",\n",
    "            \"children\": []\n",
    "        }\n",
    "    ]\n",
    "    })\n",
    "print(json.dumps(treen, indent=2))\n",
    "\n",
    "#print(treen.name())\n",
    "print('-'*80)\n",
    "child_of_treen = treen.children()\n",
    "print(json.dumps(child_of_treen, indent=2))\n",
    "#print(child_of_treen.get_parent())\n"
   ]
  },
  {
   "cell_type": "code",
   "execution_count": 26,
   "metadata": {},
   "outputs": [
    {
     "name": "stdout",
     "output_type": "stream",
     "text": [
      "{\n",
      "  \"data\": \"root\",\n",
      "  \"children\": [\n",
      "    {\n",
      "      \"data\": \"node1 - child of root\"\n",
      "    },\n",
      "    {\n",
      "      \"data\": \"node2 - child of root\",\n",
      "      \"children\": [\n",
      "        {\n",
      "          \"data\": \"node3 - child of node2\"\n",
      "        }\n",
      "      ]\n",
      "    }\n",
      "  ]\n",
      "}\n"
     ]
    }
   ],
   "source": [
    "from copy import deepcopy\n",
    "\n",
    "root = tk.TreeNode(data=\"root\")\n",
    "node1 = root.add_child(data=\"node1 - child of root\")\n",
    "node2 = root.add_child(data=\"node2 - child of root\")\n",
    "node3 = node2.add_child(data=\"node3 - child of node2\")\n",
    "print(json.dumps(root, indent=2))"
   ]
  },
  {
   "cell_type": "code",
   "execution_count": 30,
   "metadata": {},
   "outputs": [
    {
     "name": "stdout",
     "output_type": "stream",
     "text": [
      "{\n",
      "  \"root\": {\n",
      "    \"data\": \"root\",\n",
      "    \"parent\": null\n",
      "  },\n",
      "  \"node1 - child of root\": {\n",
      "    \"data\": \"node1 - child of root\",\n",
      "    \"parent\": \"root\"\n",
      "  },\n",
      "  \"node2 - child of root\": {\n",
      "    \"data\": \"node2 - child of root\",\n",
      "    \"parent\": \"root\"\n",
      "  },\n",
      "  \"node3 - child of node2\": {\n",
      "    \"data\": \"node3 - child of node2\",\n",
      "    \"parent\": \"node2 - child of root\"\n",
      "  }\n",
      "}\n"
     ]
    }
   ],
   "source": [
    "flat_tree = tc.TreeConverter.to_flattree(deepcopy(root), node_name=lambda node: node['data'].split()[0])\n",
    "print(json.dumps(flat_tree, indent=2))"
   ]
  },
  {
   "cell_type": "code",
   "execution_count": 28,
   "metadata": {},
   "outputs": [
    {
     "name": "stdout",
     "output_type": "stream",
     "text": [
      "{\n",
      "  \"children\": [\n",
      "    {\n",
      "      \"data\": \"root\",\n",
      "      \"parent\": null,\n",
      "      \"children\": [\n",
      "        {\n",
      "          \"data\": \"node1 - child of root\",\n",
      "          \"parent\": \"40be763a-c6e3-45bf-8d06-5b2c86308d13\",\n",
      "          \"children\": []\n",
      "        },\n",
      "        {\n",
      "          \"data\": \"node2 - child of root\",\n",
      "          \"parent\": \"40be763a-c6e3-45bf-8d06-5b2c86308d13\",\n",
      "          \"children\": [\n",
      "            {\n",
      "              \"data\": \"node3 - child of node2\",\n",
      "              \"parent\": \"4f534837-b60a-4e3b-9276-7f1a9e256f3f\",\n",
      "              \"children\": []\n",
      "            }\n",
      "          ]\n",
      "        }\n",
      "      ]\n",
      "    }\n",
      "  ]\n",
      "}\n"
     ]
    }
   ],
   "source": [
    "root_2 = tc.TreeConverter.to_treenode(deepcopy(flat_tree))\n",
    "print(json.dumps(root_2, indent=2))\n"
   ]
  }
 ],
 "metadata": {
  "kernelspec": {
   "display_name": "env",
   "language": "python",
   "name": "python3"
  },
  "language_info": {
   "codemirror_mode": {
    "name": "ipython",
    "version": 3
   },
   "file_extension": ".py",
   "mimetype": "text/x-python",
   "name": "python",
   "nbconvert_exporter": "python",
   "pygments_lexer": "ipython3",
   "version": "3.11.2"
  }
 },
 "nbformat": 4,
 "nbformat_minor": 2
}
