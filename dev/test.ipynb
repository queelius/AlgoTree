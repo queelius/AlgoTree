{
 "cells": [
  {
   "cell_type": "code",
   "execution_count": 1,
   "metadata": {},
   "outputs": [
    {
     "name": "stdout",
     "output_type": "stream",
     "text": [
      "{\n",
      "  \"node1\": {\n",
      "    \"data\": \"Some data for node1\"\n",
      "  },\n",
      "  \"node2\": {\n",
      "    \"data\": \"Some data for node2\"\n",
      "  },\n",
      "  \"node3\": {\n",
      "    \"parent\": \"node1\",\n",
      "    \"data\": \"Some data for node3\"\n",
      "  },\n",
      "  \"node4\": {\n",
      "    \"parent\": \"node3\",\n",
      "    \"data\": \"Some data for node4\"\n",
      "  },\n",
      "  \"node5\": {\n",
      "    \"parent\": \"node3\",\n",
      "    \"data\": \"Some data for node5\"\n",
      "  }\n",
      "}\n"
     ]
    }
   ],
   "source": [
    "import json\n",
    "tree_data = {\n",
    "    \"node1\": {\n",
    "        #\"parent\": None,\n",
    "        \"data\": \"Some data for node1\"\n",
    "    },\n",
    "    \"node2\": {\n",
    "        #\"parent\": \"node1\",\n",
    "        \"data\": \"Some data for node2\"\n",
    "    },\n",
    "    \"node3\": {\n",
    "        \"parent\": \"node1\",\n",
    "        \"data\": \"Some data for node3\"\n",
    "    },\n",
    "    \"node4\": {\n",
    "        \"parent\": \"node3\",\n",
    "        \"data\": \"Some data for node4\"\n",
    "    },\n",
    "    \"node5\": {\n",
    "        \"parent\": \"node3\",\n",
    "        \"data\": \"Some data for node5\"\n",
    "    }\n",
    "}\n",
    "print(json.dumps(tree_data, indent=2))"
   ]
  },
  {
   "cell_type": "code",
   "execution_count": 2,
   "metadata": {},
   "outputs": [
    {
     "name": "stdout",
     "output_type": "stream",
     "text": [
      "{\n",
      "  \"node1\": {\n",
      "    \"data\": \"Some data for node1\"\n",
      "  },\n",
      "  \"node2\": {\n",
      "    \"data\": \"Some data for node2\"\n",
      "  },\n",
      "  \"node3\": {\n",
      "    \"parent\": \"node1\",\n",
      "    \"data\": \"Some data for node3\"\n",
      "  },\n",
      "  \"node4\": {\n",
      "    \"parent\": \"node3\",\n",
      "    \"data\": \"Some data for node4\"\n",
      "  },\n",
      "  \"node5\": {\n",
      "    \"parent\": \"node3\",\n",
      "    \"data\": \"Some data for node5\"\n",
      "  }\n",
      "}\n"
     ]
    }
   ],
   "source": [
    "import treekit as tk\n",
    "\n",
    "# load a tree from tree_data\n",
    "tree = tk.FlatTree(tree_data)\n",
    "print(json.dumps(tree, indent=2))\n"
   ]
  },
  {
   "cell_type": "code",
   "execution_count": 3,
   "metadata": {},
   "outputs": [
    {
     "name": "stdout",
     "output_type": "stream",
     "text": [
      "{'parent': 'node1', 'data': 'Some data for node3'}\n",
      "ProxyNode(node3: {'parent': 'node1', 'data': 'Some data for node3'})\n",
      "node1\n",
      "[ProxyNode(node4: {'parent': 'node3', 'data': 'Some data for node4'}), ProxyNode(node5: {'parent': 'node3', 'data': 'Some data for node5'})]\n"
     ]
    }
   ],
   "source": [
    "print(tree[\"node3\"])\n",
    "node3 = tree.get_node(\"node3\")\n",
    "print(node3)\n",
    "print(node3['parent'])\n",
    "print(node3.children())"
   ]
  },
  {
   "cell_type": "code",
   "execution_count": 4,
   "metadata": {},
   "outputs": [
    {
     "name": "stdout",
     "output_type": "stream",
     "text": [
      "ProxyNode(__logical_root__)\n",
      "ProxyNode(node1: {'data': 'Some data for node1'})\n",
      "ProxyNode(node2: {'data': 'Some data for node2'})\n"
     ]
    }
   ],
   "source": [
    "print(tree.get_root())\n",
    "for child in tree.get_root().children():\n",
    "    print(child)"
   ]
  },
  {
   "cell_type": "markdown",
   "metadata": {},
   "source": [
    "We show that it's easy to regenerate any JSON files that may have been used\n",
    "to generate the FlatTree 'tree'. So, JSON is a good format for storing and\n",
    "transmitting trees. And, of course, `FlatTree` *is* a dictionary. Of course,\n",
    "if we store an object that has no serializable representation, it cannot be\n",
    "stored in JSON."
   ]
  },
  {
   "cell_type": "code",
   "execution_count": 5,
   "metadata": {},
   "outputs": [
    {
     "name": "stdout",
     "output_type": "stream",
     "text": [
      "True\n"
     ]
    }
   ],
   "source": [
    "print(json.dumps(tree,  indent=2) == json.dumps(tree_data, indent=2))"
   ]
  },
  {
   "cell_type": "code",
   "execution_count": 6,
   "metadata": {},
   "outputs": [
    {
     "name": "stdout",
     "output_type": "stream",
     "text": [
      "{'node1': {'data': <function <lambda> at 0x7f72d16336a0>}}\n",
      "ProxyNode(__logical_root__)\n",
      "Object of type function is not JSON serializable\n"
     ]
    }
   ],
   "source": [
    "\n",
    "# let's create a tree from a dict that cannot be serialized to json\n",
    "non_serializable_tree_data = {\n",
    "    \"node1\": {\n",
    "        #\"parent\": None,\n",
    "        # data is a function that cannot be serialized to json\n",
    "        \"data\": lambda x: 2*x**3 + 3*x**2 + 4*x + 5\n",
    "    }\n",
    "}\n",
    "\n",
    "non_serializable_tree = tk.FlatTree(non_serializable_tree_data)\n",
    "print(non_serializable_tree)\n",
    "print(non_serializable_tree.get_root())\n",
    "\n",
    "try:\n",
    "    json.dumps(non_serializable_tree, indent=2)\n",
    "except TypeError as e:\n",
    "    print(e)"
   ]
  },
  {
   "cell_type": "code",
   "execution_count": 7,
   "metadata": {},
   "outputs": [
    {
     "name": "stdout",
     "output_type": "stream",
     "text": [
      "{\n",
      "  \"node1\": {\n",
      "    \"data\": \"Some data for node1\"\n",
      "  },\n",
      "  \"node2\": {\n",
      "    \"data\": \"Some data for node2\"\n",
      "  },\n",
      "  \"node3\": {\n",
      "    \"parent\": \"node1\",\n",
      "    \"data\": \"Some data for node3\"\n",
      "  },\n",
      "  \"node4\": {\n",
      "    \"parent\": \"node3\",\n",
      "    \"data\": \"Some data for node4\"\n",
      "  },\n",
      "  \"node5\": {\n",
      "    \"parent\": \"node3\",\n",
      "    \"data\": \"Some data for node5\"\n",
      "  },\n",
      "  \"node36\": {\n",
      "    \"data\": \"Some data for node6\",\n",
      "    \"parent\": \"node1\"\n",
      "  }\n",
      "}\n",
      "ProxyNode(node36: {'data': 'Some data for node6', 'parent': 'node1'})\n"
     ]
    }
   ],
   "source": [
    "child = tree.get_node(\"node1\").add_child(key=\"node36\", data=\"Some data for node6\")\n",
    "print(json.dumps(tree, indent=2))\n",
    "print(child)\n",
    "#print(tree.get_root())"
   ]
  },
  {
   "cell_type": "markdown",
   "metadata": {},
   "source": [
    "If we try too add a non-unique node key to the tree, we will get a `KeyError`."
   ]
  },
  {
   "cell_type": "code",
   "execution_count": 8,
   "metadata": {},
   "outputs": [
    {
     "name": "stdout",
     "output_type": "stream",
     "text": [
      "'Node key already exists'\n",
      "{\n",
      "  \"node1\": {\n",
      "    \"data\": \"Some data for node1\"\n",
      "  },\n",
      "  \"node2\": {\n",
      "    \"data\": \"Some data for node2\"\n",
      "  },\n",
      "  \"node3\": {\n",
      "    \"parent\": \"node1\",\n",
      "    \"data\": \"Some data for node3\"\n",
      "  },\n",
      "  \"node4\": {\n",
      "    \"parent\": \"node3\",\n",
      "    \"data\": \"Some data for node4\"\n",
      "  },\n",
      "  \"node5\": {\n",
      "    \"parent\": \"node3\",\n",
      "    \"data\": \"Some data for node5\"\n",
      "  },\n",
      "  \"node36\": {\n",
      "    \"data\": \"Some data for node6\",\n",
      "    \"parent\": \"node1\"\n",
      "  },\n",
      "  \"node7\": {\n",
      "    \"data\": \"Some data for node7\",\n",
      "    \"parent\": \"node36\"\n",
      "  }\n",
      "}\n",
      "ProxyNode(node7: {'data': 'Some data for node7', 'parent': 'node36'})\n"
     ]
    }
   ],
   "source": [
    "try:\n",
    "    child2 = tree.get_node(\"node1\").add_child(key=\"node2\", data=\"Some data for node6!!!\")\n",
    "except KeyError as e:\n",
    "    print(e)\n",
    "\n",
    "child7 = child.add_child(key=\"node7\", data=\"Some data for node7\")\n",
    "print(json.dumps(tree, indent=2))\n",
    "print(child7)"
   ]
  },
  {
   "cell_type": "code",
   "execution_count": 9,
   "metadata": {},
   "outputs": [
    {
     "name": "stdout",
     "output_type": "stream",
     "text": [
      "data\n",
      "parent\n",
      "ProxyNode(node7: {'data': 'Some data for node7', 'parent': 'node36', 'new_data': 'Some new data for node7'})\n",
      "{'node1': {'data': 'Some data for node1'}, 'node2': {'data': 'Some data for node2'}, 'node3': {'parent': 'node1', 'data': 'Some data for node3'}, 'node4': {'parent': 'node3', 'data': 'Some data for node4'}, 'node5': {'parent': 'node3', 'data': 'Some data for node5'}, 'node36': {'data': 'Some data for node6', 'parent': 'node1'}, 'node7': {'data': 'Some data for node7', 'parent': 'node36', 'new_data': 'Some new data for node7'}}\n",
      "ProxyNode(node7: {'data': 'Some data for node7', 'parent': 'node36'})\n",
      "[ProxyNode(node1: {'data': 'Some data for node1'}), ProxyNode(node2: {'data': 'Some data for node2'})]\n"
     ]
    }
   ],
   "source": [
    "#child7.new_data = \"Some new data for node7\"\n",
    "#print(child7)\n",
    "#del child7.new_data\n",
    "#print(child7)\n",
    "\n",
    "for k, v in child7.items():\n",
    "    print(k)\n",
    "\n",
    "child7[\"new_data\"] = \"Some new data for node7\"    \n",
    "print(child7)\n",
    "print(tree)\n",
    "\n",
    "del child7[\"new_data\"]\n",
    "print(child7)\n",
    "\n",
    "print(tree.get_root().children())"
   ]
  },
  {
   "cell_type": "code",
   "execution_count": 10,
   "metadata": {},
   "outputs": [
    {
     "name": "stdout",
     "output_type": "stream",
     "text": [
      "{'node1': {'data': 'Some data for node1'}, 'node2': {'data': 'Some data for node2'}, 'node3': {'parent': 'node1', 'data': 'Some data for node3'}, 'node4': {'parent': 'node3', 'data': 'Some data for node4'}, 'node5': {'parent': 'node3', 'data': 'Some data for node5'}, 'node36': {'data': 'Some data for node6', 'parent': 'node1'}, 'node7': {'data': 'Some data for node7', 'parent': 'node36'}}\n"
     ]
    }
   ],
   "source": [
    "print(tree)"
   ]
  },
  {
   "cell_type": "code",
   "execution_count": null,
   "metadata": {},
   "outputs": [],
   "source": []
  },
  {
   "cell_type": "markdown",
   "metadata": {},
   "source": [
    "Let's modify the payload of child7."
   ]
  },
  {
   "cell_type": "code",
   "execution_count": 11,
   "metadata": {},
   "outputs": [
    {
     "name": "stdout",
     "output_type": "stream",
     "text": [
      "{\n",
      "  \"node1\": {\n",
      "    \"data\": \"Some data for node1\"\n",
      "  },\n",
      "  \"node2\": {\n",
      "    \"data\": \"Some data for node2\"\n",
      "  },\n",
      "  \"node3\": {\n",
      "    \"parent\": \"node1\",\n",
      "    \"data\": \"Some data for node3\"\n",
      "  },\n",
      "  \"node4\": {\n",
      "    \"parent\": \"node3\",\n",
      "    \"data\": \"Some data for node4\"\n",
      "  },\n",
      "  \"node5\": {\n",
      "    \"parent\": \"node3\",\n",
      "    \"data\": \"Some data for node5\"\n",
      "  },\n",
      "  \"node36\": {\n",
      "    \"data\": \"Some data for node6\",\n",
      "    \"parent\": \"node1\"\n",
      "  },\n",
      "  \"node7\": {\n",
      "    \"data\": \"Some data for node7\",\n",
      "    \"parent\": \"node36\"\n",
      "  }\n",
      "}\n"
     ]
    }
   ],
   "source": [
    "#child7.parent\n",
    "#print(child7.data)\n",
    "print(json.dumps(tree, indent=2))"
   ]
  },
  {
   "cell_type": "code",
   "execution_count": 12,
   "metadata": {},
   "outputs": [
    {
     "name": "stdout",
     "output_type": "stream",
     "text": [
      "[ProxyNode(node1: {'data': 'Some data for node1'}), ProxyNode(node2: {'data': 'Some data for node2'})]\n"
     ]
    }
   ],
   "source": [
    "print(tree.get_root().children())"
   ]
  },
  {
   "cell_type": "code",
   "execution_count": 13,
   "metadata": {},
   "outputs": [
    {
     "name": "stdout",
     "output_type": "stream",
     "text": [
      "ProxyNode(node0: {'data': 'Some data for node0', 'parent': None})\n"
     ]
    }
   ],
   "source": [
    "child_of_log_root = tree.get_root().add_child(key=\"node0\", data=\"Some data for node0\")\n",
    "print(child_of_log_root)"
   ]
  },
  {
   "cell_type": "code",
   "execution_count": 14,
   "metadata": {},
   "outputs": [
    {
     "name": "stdout",
     "output_type": "stream",
     "text": [
      "ProxyNode(node0: {'data': 'Some data for node0', 'parent': None, 'other': 'Some other data for node0'})\n"
     ]
    }
   ],
   "source": [
    "child_of_log_root['other'] = \"Some other data for node0\"\n",
    "print(child_of_log_root)"
   ]
  },
  {
   "cell_type": "code",
   "execution_count": 15,
   "metadata": {},
   "outputs": [
    {
     "name": "stdout",
     "output_type": "stream",
     "text": [
      "{\n",
      "  \"node1\": {\n",
      "    \"data\": \"Some data for node1\"\n",
      "  },\n",
      "  \"node2\": {\n",
      "    \"data\": \"Some data for node2\"\n",
      "  },\n",
      "  \"node3\": {\n",
      "    \"parent\": \"node1\",\n",
      "    \"data\": \"Some data for node3\"\n",
      "  },\n",
      "  \"node4\": {\n",
      "    \"parent\": \"node3\",\n",
      "    \"data\": \"Some data for node4\"\n",
      "  },\n",
      "  \"node5\": {\n",
      "    \"parent\": \"node3\",\n",
      "    \"data\": \"Some data for node5\"\n",
      "  },\n",
      "  \"node36\": {\n",
      "    \"data\": \"Some data for node6\",\n",
      "    \"parent\": \"node1\"\n",
      "  },\n",
      "  \"node7\": {\n",
      "    \"data\": \"Some data for node7\",\n",
      "    \"parent\": \"node36\"\n",
      "  },\n",
      "  \"node0\": {\n",
      "    \"data\": \"Some data for node0\",\n",
      "    \"parent\": \"node1\",\n",
      "    \"other\": \"Some other data for node0\"\n",
      "  }\n",
      "}\n"
     ]
    }
   ],
   "source": [
    "child_of_log_root['parent'] = 'node1'\n",
    "print(json.dumps(tree, indent=2))"
   ]
  },
  {
   "cell_type": "code",
   "execution_count": 16,
   "metadata": {},
   "outputs": [
    {
     "data": {
      "text/plain": [
       "True"
      ]
     },
     "execution_count": 16,
     "metadata": {},
     "output_type": "execute_result"
    }
   ],
   "source": [
    "\"node1\" in tree"
   ]
  },
  {
   "cell_type": "code",
   "execution_count": 17,
   "metadata": {},
   "outputs": [
    {
     "name": "stdout",
     "output_type": "stream",
     "text": [
      "ProxyNode(node1: {'data': 'Some data for node1'})\n",
      "ProxyNode(node2: {'data': 'Some data for node2'})\n",
      "----------\n",
      "node1 {'data': 'Some data for node1'}\n",
      "node2 {'data': 'Some data for node2'}\n",
      "node3 {'parent': 'node1', 'data': 'Some data for node3'}\n",
      "node4 {'parent': 'node3', 'data': 'Some data for node4'}\n",
      "node5 {'parent': 'node3', 'data': 'Some data for node5'}\n",
      "node36 {'data': 'Some data for node6', 'parent': 'node1'}\n",
      "node7 {'data': 'Some data for node7', 'parent': 'node36'}\n",
      "node0 {'data': 'Some data for node0', 'parent': 'node1', 'other': 'Some other data for node0'}\n",
      "----------\n",
      "{'node1': {'data': 'Some data for node1'}, 'node2': {'data': 'Some data for node2'}, 'node3': {'parent': 'node1', 'data': 'Some data for node3'}, 'node4': {'parent': 'node3', 'data': 'Some data for node4'}, 'node5': {'parent': 'node3', 'data': 'Some data for node5'}, 'node36': {'data': 'Some data for node6', 'parent': 'node1'}, 'node7': {'data': 'Some data for node7', 'parent': 'node36'}, 'node0': {'data': 'Some data for node0', 'parent': 'node1', 'other': 'Some other data for node0'}, 'test': 'Some test data'}\n",
      "----------\n",
      "{\n",
      "  \"node1\": {\n",
      "    \"data\": \"Some data for node1\"\n",
      "  },\n",
      "  \"node2\": {\n",
      "    \"data\": \"Some data for node2\"\n",
      "  },\n",
      "  \"node3\": {\n",
      "    \"parent\": \"node1\",\n",
      "    \"data\": \"Some data for node3\"\n",
      "  },\n",
      "  \"node4\": {\n",
      "    \"parent\": \"node3\",\n",
      "    \"data\": \"Some data for node4\"\n",
      "  },\n",
      "  \"node5\": {\n",
      "    \"parent\": \"node3\",\n",
      "    \"data\": \"Some data for node5\"\n",
      "  },\n",
      "  \"node36\": {\n",
      "    \"data\": \"Some data for node6\",\n",
      "    \"parent\": \"node1\"\n",
      "  },\n",
      "  \"node7\": {\n",
      "    \"data\": \"Some data for node7\",\n",
      "    \"parent\": \"node36\"\n",
      "  },\n",
      "  \"node0\": {\n",
      "    \"data\": \"Some data for node0\",\n",
      "    \"parent\": \"node1\",\n",
      "    \"other\": \"Some other data for node0\"\n",
      "  },\n",
      "  \"test\": \"Some test data\",\n",
      "  \"new_key\": {\n",
      "    \"parent\": \"node1\",\n",
      "    \"data\": \"Some new data\"\n",
      "  }\n",
      "}\n"
     ]
    }
   ],
   "source": [
    "for child in tree.get_root().children():\n",
    "    print(child)\n",
    "print(\"-\"*10)\n",
    "for k, v in tree.items():\n",
    "    print(k, v)\n",
    "\n",
    "tree['test'] = \"Some test data\"\n",
    "print('-'*10)\n",
    "print(tree)\n",
    "\n",
    "tree['new_key'] = {'parent': 'node1', 'data': 'Some new data'}\n",
    "print('-'*10)\n",
    "print(json.dumps(tree, indent=2))"
   ]
  },
  {
   "cell_type": "code",
   "execution_count": 18,
   "metadata": {},
   "outputs": [
    {
     "name": "stdout",
     "output_type": "stream",
     "text": [
      "ProxyNode(new_key: {'parent': 'node1', 'data': 'Some new data'})\n",
      "<class 'treekit.flattree.FlatTree.ProxyNode'>\n",
      "{'parent': 'node1', 'data': 'Some new data'}\n",
      "<class 'dict'>\n"
     ]
    }
   ],
   "source": [
    "print(tree.get_node('new_key'))\n",
    "print(type(tree.get_node('new_key')))\n",
    "print(tree['new_key'])\n",
    "print(type(tree['new_key']))\n"
   ]
  },
  {
   "cell_type": "code",
   "execution_count": 19,
   "metadata": {},
   "outputs": [
    {
     "name": "stdout",
     "output_type": "stream",
     "text": [
      "ProxyNode(__logical_root__)\n",
      "ProxyNode(__logical_root__) is immutable\n",
      "ProxyNode(__logical_root__) is immutable\n",
      "----------\n",
      "ProxyNode(node7: {'data': 'Some data for node7', 'parent': 'node36'})\n",
      "{\n",
      "  \"node1\": {\n",
      "    \"data\": \"Some data for node1\"\n",
      "  },\n",
      "  \"node2\": {\n",
      "    \"data\": \"Some data for node2\"\n",
      "  },\n",
      "  \"node3\": {\n",
      "    \"parent\": \"node1\",\n",
      "    \"data\": \"Some data for node3\"\n",
      "  },\n",
      "  \"node4\": {\n",
      "    \"parent\": \"node3\",\n",
      "    \"data\": \"Some data for node4\"\n",
      "  },\n",
      "  \"node5\": {\n",
      "    \"parent\": \"node3\",\n",
      "    \"data\": \"Some data for node5\"\n",
      "  },\n",
      "  \"node36\": {\n",
      "    \"data\": \"Some data for node6\",\n",
      "    \"parent\": \"node1\"\n",
      "  },\n",
      "  \"node7\": {},\n",
      "  \"node0\": {\n",
      "    \"data\": \"Some data for node0\",\n",
      "    \"parent\": \"node1\",\n",
      "    \"other\": \"Some other data for node0\"\n",
      "  },\n",
      "  \"test\": \"Some test data\",\n",
      "  \"new_key\": {\n",
      "    \"parent\": \"node1\",\n",
      "    \"data\": \"Some new data\"\n",
      "  }\n",
      "}\n"
     ]
    }
   ],
   "source": [
    "root_node = tree.get_root()\n",
    "print(root_node)\n",
    "\n",
    "try:\n",
    "    root_node['data'] = \"Some new data for root node\"\n",
    "except TypeError as e:\n",
    "    print(e)\n",
    "\n",
    "try:\n",
    "    root_node['parent'] = None\n",
    "except TypeError as e:\n",
    "    print(e)\n",
    "\n",
    "try:\n",
    "    root_node.clear()\n",
    "except TypeError as e:\n",
    "    print(e)\n",
    "\n",
    "print('-'*10)\n",
    "print(child7)\n",
    "child7.clear()\n",
    "\n",
    "print(json.dumps(tree, indent=2))"
   ]
  },
  {
   "cell_type": "code",
   "execution_count": 20,
   "metadata": {},
   "outputs": [
    {
     "name": "stdout",
     "output_type": "stream",
     "text": [
      "{\n",
      "  \"node1\": {\n",
      "    \"data\": \"Some data for node1\"\n",
      "  },\n",
      "  \"node2\": {\n",
      "    \"data\": \"Some data for node2\"\n",
      "  },\n",
      "  \"node3\": {\n",
      "    \"parent\": \"node1\",\n",
      "    \"data\": \"Some data for node3\"\n",
      "  },\n",
      "  \"node4\": {\n",
      "    \"parent\": \"node3\",\n",
      "    \"data\": \"Some data for node4\"\n",
      "  },\n",
      "  \"node5\": {\n",
      "    \"parent\": \"node3\",\n",
      "    \"data\": \"Some data for node5\"\n",
      "  },\n",
      "  \"node36\": {\n",
      "    \"data\": \"Some data for node6\",\n",
      "    \"parent\": \"node1\"\n",
      "  },\n",
      "  \"node7\": {},\n",
      "  \"node0\": {\n",
      "    \"data\": \"Some data for node0\",\n",
      "    \"parent\": \"node1\",\n",
      "    \"other\": \"Some other data for node0\"\n",
      "  },\n",
      "  \"test\": \"Some test data\",\n",
      "  \"new_key\": {\n",
      "    \"parent\": \"node1\",\n",
      "    \"data\": \"Some new data\"\n",
      "  },\n",
      "  \"65e693ed-e9c8-4a20-bce7-c845fa233b45\": {\n",
      "    \"whatever\": 3,\n",
      "    \"parent\": null\n",
      "  },\n",
      "  \"5c6a6227-a9a8-46aa-ab83-8517e9eddb65\": {\n",
      "    \"whatever\": 4,\n",
      "    \"parent\": \"65e693ed-e9c8-4a20-bce7-c845fa233b45\"\n",
      "  },\n",
      "  \"f5c29842-8846-4151-a1a4-106f07eff6db\": {\n",
      "    \"whatever\": 5,\n",
      "    \"parent\": \"5c6a6227-a9a8-46aa-ab83-8517e9eddb65\"\n",
      "  }\n",
      "}\n"
     ]
    }
   ],
   "source": [
    "tree.get_root().add_child(whatever=3).add_child(whatever=4).add_child(whatever=5)\n",
    "print(json.dumps(tree, indent=2))"
   ]
  },
  {
   "cell_type": "code",
   "execution_count": 21,
   "metadata": {},
   "outputs": [
    {
     "name": "stdout",
     "output_type": "stream",
     "text": [
      "{\n",
      "  \"root\": {\n",
      "    \"data\": \"Some data for root\"\n",
      "  },\n",
      "  \"child1\": {\n",
      "    \"data\": \"Some data for child1\",\n",
      "    \"parent\": \"root\"\n",
      "  },\n",
      "  \"child2\": {\n",
      "    \"data\": \"Some data for child2\",\n",
      "    \"parent\": \"root\"\n",
      "  },\n",
      "  \"child3\": {\n",
      "    \"data\": \"Some data for child3\",\n",
      "    \"parent\": \"child1\"\n",
      "  }\n",
      "}\n"
     ]
    }
   ],
   "source": [
    "simple_tree = tk.FlatTree({\n",
    "    \"root\": {\n",
    "        \"data\": \"Some data for root\",\n",
    "        #\"parent\": None\n",
    "    },\n",
    "    \"child1\": {\n",
    "        \"data\": \"Some data for child1\",\n",
    "        \"parent\": \"root\"\n",
    "    },\n",
    "    \"child2\": {\n",
    "        \"data\": \"Some data for child2\",\n",
    "        \"parent\": \"root\"\n",
    "    },\n",
    "    \"child3\": {\n",
    "        \"data\": \"Some data for child3\",\n",
    "        \"parent\": \"child1\"\n",
    "    }\n",
    "})\n",
    "print(json.dumps(simple_tree, indent=2))  "
   ]
  },
  {
   "cell_type": "code",
   "execution_count": 22,
   "metadata": {},
   "outputs": [
    {
     "name": "stdout",
     "output_type": "stream",
     "text": [
      "ProxyNode(__logical_root__)\n",
      "ProxyNode(root: {'data': 'Some data for root'})\n",
      "ProxyNode(__logical_root__)\n",
      "None\n"
     ]
    }
   ],
   "source": [
    "print(simple_tree.get_root())\n",
    "print(simple_tree.get_node(\"child3\").get_parent().get_parent())\n",
    "print(simple_tree.get_node(\"child3\").get_parent().get_parent().get_parent())\n",
    "print(simple_tree.get_node(\"child3\").get_parent().get_parent().get_parent().get_parent())"
   ]
  },
  {
   "cell_type": "code",
   "execution_count": 23,
   "metadata": {},
   "outputs": [
    {
     "name": "stdout",
     "output_type": "stream",
     "text": [
      "{\n",
      "  \"__name__\": \"__logical_root__\",\n",
      "  \"children\": [\n",
      "    {\n",
      "      \"__name__\": \"root\",\n",
      "      \"data\": \"Some data for root\",\n",
      "      \"children\": [\n",
      "        {\n",
      "          \"__name__\": \"child1\",\n",
      "          \"data\": \"Some data for child1\",\n",
      "          \"parent\": \"root\",\n",
      "          \"children\": [\n",
      "            {\n",
      "              \"__name__\": \"child3\",\n",
      "              \"data\": \"Some data for child3\",\n",
      "              \"parent\": \"child1\",\n",
      "              \"children\": []\n",
      "            }\n",
      "          ]\n",
      "        },\n",
      "        {\n",
      "          \"__name__\": \"child2\",\n",
      "          \"data\": \"Some data for child2\",\n",
      "          \"parent\": \"root\",\n",
      "          \"children\": []\n",
      "        }\n",
      "      ]\n",
      "    }\n",
      "  ]\n",
      "}\n"
     ]
    }
   ],
   "source": [
    "import treekit.tree_converter as tc\n",
    "new_tree = tc.TreeConverter.to_treenode(simple_tree.get_root())\n",
    "\n",
    "print(json.dumps(new_tree, indent=2))"
   ]
  },
  {
   "cell_type": "markdown",
   "metadata": {},
   "source": [
    "Let's get the meaningful actual root of the tree and map that to a `TreeNode`.\n",
    "The actual root we labled as `root` is the meaningful root of the tree, the\n",
    "logical root is just a device used by `FlatTree` to make a forest of trees\n",
    "look like a single tree. It is the parent of all nodes that have had no parent\n",
    "assigned to them. In this case, the logical root is the parent of the only\n",
    "node that has no parent assigned to it -- the node labeled `root`."
   ]
  },
  {
   "cell_type": "code",
   "execution_count": 24,
   "metadata": {},
   "outputs": [
    {
     "name": "stdout",
     "output_type": "stream",
     "text": [
      "{\n",
      "  \"__name__\": \"root\",\n",
      "  \"data\": \"Some data for root\",\n",
      "  \"children\": [\n",
      "    {\n",
      "      \"__name__\": \"child1\",\n",
      "      \"data\": \"Some data for child1\",\n",
      "      \"parent\": \"root\",\n",
      "      \"children\": [\n",
      "        {\n",
      "          \"__name__\": \"child3\",\n",
      "          \"data\": \"Some data for child3\",\n",
      "          \"parent\": \"child1\",\n",
      "          \"children\": []\n",
      "        }\n",
      "      ]\n",
      "    },\n",
      "    {\n",
      "      \"__name__\": \"child2\",\n",
      "      \"data\": \"Some data for child2\",\n",
      "      \"parent\": \"root\",\n",
      "      \"children\": []\n",
      "    }\n",
      "  ]\n",
      "}\n"
     ]
    }
   ],
   "source": [
    "print(json.dumps(tc.TreeConverter.to_treenode(simple_tree.get_node(\"root\")), indent=2))"
   ]
  },
  {
   "cell_type": "code",
   "execution_count": 25,
   "metadata": {},
   "outputs": [
    {
     "name": "stdout",
     "output_type": "stream",
     "text": [
      "{\n",
      "  \"child1\": {\n",
      "    \"data\": \"Some data for child1\",\n",
      "    \"parent\": null\n",
      "  }\n",
      "}\n",
      "ProxyNode(__logical_root__)\n"
     ]
    }
   ],
   "source": [
    "testtree = tk.FlatTree()\n",
    "testtree.get_root()\n",
    "testtree.get_root().add_child(key=\"child1\", data=\"Some data for child1\")\n",
    "print(json.dumps(testtree, indent=2))\n",
    "# when we add a child to the empty root node, the node is turned into the root.\n",
    "# if we add another child\n",
    "print(testtree.get_root())"
   ]
  },
  {
   "cell_type": "code",
   "execution_count": 26,
   "metadata": {},
   "outputs": [
    {
     "name": "stdout",
     "output_type": "stream",
     "text": [
      "TreeNode({'data': 'Some data for root', 'children': [TreeNode({'data': 'Some data for child1', 'children': [TreeNode({'data': 'Some data for child3', 'children': []})]}), TreeNode({'data': 'Some data for child2', 'children': []})]})\n"
     ]
    }
   ],
   "source": [
    "tree_node = tk.TreeNode({\n",
    "    \"data\": \"Some data for root\",\n",
    "    \"children\": [\n",
    "        {\n",
    "            \"data\": \"Some data for child1\",\n",
    "            \"children\": [\n",
    "                {\n",
    "                    \"data\": \"Some data for child3\",\n",
    "                    \"children\": []\n",
    "                }\n",
    "            ]\n",
    "        },\n",
    "        {\n",
    "            \"data\": \"Some data for child2\",\n",
    "            \"children\": []\n",
    "        }\n",
    "    ]\n",
    "    })\n",
    "print(tree_node.get_root())"
   ]
  },
  {
   "cell_type": "markdown",
   "metadata": {},
   "source": [
    "We see that when we print the node of a `TreeNode`, we get the entire subtree.\n",
    "If you just want the node:"
   ]
  },
  {
   "cell_type": "code",
   "execution_count": 27,
   "metadata": {},
   "outputs": [
    {
     "name": "stdout",
     "output_type": "stream",
     "text": [
      "{'data': 'Some data for root'}\n"
     ]
    }
   ],
   "source": [
    "print(tree_node.get_data())"
   ]
  },
  {
   "cell_type": "code",
   "execution_count": 28,
   "metadata": {},
   "outputs": [
    {
     "ename": "AttributeError",
     "evalue": "'str' object has no attribute 'update'",
     "output_type": "error",
     "traceback": [
      "\u001b[0;31m---------------------------------------------------------------------------\u001b[0m",
      "\u001b[0;31mAttributeError\u001b[0m                            Traceback (most recent call last)",
      "Cell \u001b[0;32mIn[28], line 1\u001b[0m\n\u001b[0;32m----> 1\u001b[0m root \u001b[38;5;241m=\u001b[39m \u001b[43mtk\u001b[49m\u001b[38;5;241;43m.\u001b[39;49m\u001b[43mTreeNode\u001b[49m\u001b[43m(\u001b[49m\u001b[43mdata\u001b[49m\u001b[38;5;241;43m=\u001b[39;49m\u001b[38;5;124;43m\"\u001b[39;49m\u001b[38;5;124;43mroot\u001b[39;49m\u001b[38;5;124;43m\"\u001b[39;49m\u001b[43m)\u001b[49m\n\u001b[1;32m      2\u001b[0m node1 \u001b[38;5;241m=\u001b[39m root\u001b[38;5;241m.\u001b[39madd_child(data\u001b[38;5;241m=\u001b[39m\u001b[38;5;124m\"\u001b[39m\u001b[38;5;124mnode1 - child of root\u001b[39m\u001b[38;5;124m\"\u001b[39m)\n\u001b[1;32m      3\u001b[0m node2 \u001b[38;5;241m=\u001b[39m root\u001b[38;5;241m.\u001b[39madd_child(data\u001b[38;5;241m=\u001b[39m\u001b[38;5;124m\"\u001b[39m\u001b[38;5;124mnode2 - child of root\u001b[39m\u001b[38;5;124m\"\u001b[39m)\n",
      "File \u001b[0;32m~/github/treekit/treekit/treenode.py:30\u001b[0m, in \u001b[0;36mTreeNode.__init__\u001b[0;34m(self, data, **kwargs)\u001b[0m\n\u001b[1;32m     28\u001b[0m \u001b[38;5;28;01mif\u001b[39;00m data \u001b[38;5;129;01mis\u001b[39;00m \u001b[38;5;28;01mNone\u001b[39;00m:\n\u001b[1;32m     29\u001b[0m     data \u001b[38;5;241m=\u001b[39m {}\n\u001b[0;32m---> 30\u001b[0m \u001b[43mdata\u001b[49m\u001b[38;5;241;43m.\u001b[39;49m\u001b[43mupdate\u001b[49m(kwargs)\n\u001b[1;32m     32\u001b[0m \u001b[38;5;66;03m# Extract children from data if present\u001b[39;00m\n\u001b[1;32m     33\u001b[0m children \u001b[38;5;241m=\u001b[39m data\u001b[38;5;241m.\u001b[39mpop(\u001b[38;5;28mself\u001b[39m\u001b[38;5;241m.\u001b[39mCHILDREN_KEY, \u001b[38;5;28;01mNone\u001b[39;00m)\n",
      "\u001b[0;31mAttributeError\u001b[0m: 'str' object has no attribute 'update'"
     ]
    }
   ],
   "source": [
    "root = tk.TreeNode({ \"data\":\"root\" })\n",
    "node1 = root.add_child(data=\"node1 - child of root\")\n",
    "node2 = root.add_child(data=\"node2 - child of root\")\n",
    "node3 = node2.add_child(data=\"node3 - child of node2\")\n",
    "print(json.dumps(root, indent=2))\n",
    "\n",
    "print(root.name)"
   ]
  },
  {
   "cell_type": "code",
   "execution_count": null,
   "metadata": {},
   "outputs": [
    {
     "name": "stdout",
     "output_type": "stream",
     "text": [
      "{\n",
      "  \"TreeNode({'data': 'root', 'children': [TreeNode({'data': 'node1 - child of root'}), TreeNode({'data': 'node2 - child of root', 'children': [TreeNode({'data': 'node3 - child of node2'})]})]})\": {\n",
      "    \"data\": \"root\",\n",
      "    \"parent\": null\n",
      "  },\n",
      "  \"TreeNode({'data': 'node1 - child of root'})\": {\n",
      "    \"data\": \"node1 - child of root\",\n",
      "    \"parent\": \"TreeNode({'data': 'root', 'children': [TreeNode({'data': 'node1 - child of root'}), TreeNode({'data': 'node2 - child of root', 'children': [TreeNode({'data': 'node3 - child of node2'})]})]})\"\n",
      "  },\n",
      "  \"TreeNode({'data': 'node2 - child of root', 'children': [TreeNode({'data': 'node3 - child of node2'})]})\": {\n",
      "    \"data\": \"node2 - child of root\",\n",
      "    \"parent\": \"TreeNode({'data': 'root', 'children': [TreeNode({'data': 'node1 - child of root'}), TreeNode({'data': 'node2 - child of root', 'children': [TreeNode({'data': 'node3 - child of node2'})]})]})\"\n",
      "  },\n",
      "  \"TreeNode({'data': 'node3 - child of node2'})\": {\n",
      "    \"data\": \"node3 - child of node2\",\n",
      "    \"parent\": \"TreeNode({'data': 'node2 - child of root', 'children': [TreeNode({'data': 'node3 - child of node2'})]})\"\n",
      "  }\n",
      "}\n",
      "{\"TreeNode({'data': 'root', 'children': [TreeNode({'data': 'node1 - child of root'}), TreeNode({'data': 'node2 - child of root', 'children': [TreeNode({'data': 'node3 - child of node2'})]})]})\": {'data': 'root', 'parent': None}, \"TreeNode({'data': 'node1 - child of root'})\": {'data': 'node1 - child of root', 'parent': \"TreeNode({'data': 'root', 'children': [TreeNode({'data': 'node1 - child of root'}), TreeNode({'data': 'node2 - child of root', 'children': [TreeNode({'data': 'node3 - child of node2'})]})]})\"}, \"TreeNode({'data': 'node2 - child of root', 'children': [TreeNode({'data': 'node3 - child of node2'})]})\": {'data': 'node2 - child of root', 'parent': \"TreeNode({'data': 'root', 'children': [TreeNode({'data': 'node1 - child of root'}), TreeNode({'data': 'node2 - child of root', 'children': [TreeNode({'data': 'node3 - child of node2'})]})]})\"}, \"TreeNode({'data': 'node3 - child of node2'})\": {'data': 'node3 - child of node2', 'parent': \"TreeNode({'data': 'node2 - child of root', 'children': [TreeNode({'data': 'node3 - child of node2'})]})\"}}\n"
     ]
    }
   ],
   "source": [
    "flat = tc.TreeConverter.to_flattree\n",
    "nest = tc.TreeConverter.to_treenode\n",
    "print(json.dumps(flat(root), indent=2))\n",
    "print(flat(root))"
   ]
  },
  {
   "cell_type": "markdown",
   "metadata": {},
   "source": [
    "We note that the `TreeNode` class does not need to store a unique key for each\n",
    "node. It just represents a tree as a recursive data structure, with the\n",
    "`children` attribute being a list of `TreeNode` objects.\n",
    "\n",
    "When we convert a `TreeNode` object to a `FlatTree` object, we need to assign\n",
    "a unique key to each node. By default, it just randomly assigns a key using\n",
    "UUIDs. If you want a more meaningful key, you can use the `node_name` function\n",
    "parameter that takes in a `TreeNode` object and returns a string that will be\n",
    "used as the key.\n",
    "\n",
    "We know that in the data of the `TreeNode` object, we have a `data` attribute\n",
    "whose value is a string containing the name of the node concatenated with the\n",
    "`child of <parent>` string. We can use this to generate a more meaningful key."
   ]
  },
  {
   "cell_type": "code",
   "execution_count": null,
   "metadata": {},
   "outputs": [],
   "source": [
    "node_name=lambda node: node['data'].split()[0] if 'data' in node else None"
   ]
  },
  {
   "cell_type": "code",
   "execution_count": null,
   "metadata": {},
   "outputs": [
    {
     "name": "stdout",
     "output_type": "stream",
     "text": [
      "{\n",
      "  \"root\": {\n",
      "    \"data\": \"root\",\n",
      "    \"parent\": null\n",
      "  },\n",
      "  \"node1\": {\n",
      "    \"data\": \"node1 - child of root\",\n",
      "    \"parent\": \"root\"\n",
      "  },\n",
      "  \"node2\": {\n",
      "    \"data\": \"node2 - child of root\",\n",
      "    \"parent\": \"root\"\n",
      "  },\n",
      "  \"node3\": {\n",
      "    \"data\": \"node3 - child of node2\",\n",
      "    \"parent\": \"node2\"\n",
      "  }\n",
      "}\n"
     ]
    }
   ],
   "source": [
    "\n",
    "flat_tree = flat(root, node_name)\n",
    "print(json.dumps(flat_tree, indent=2))"
   ]
  },
  {
   "cell_type": "markdown",
   "metadata": {},
   "source": [
    "Now let's convert it back to a `TreeNode` object and print it."
   ]
  },
  {
   "cell_type": "code",
   "execution_count": null,
   "metadata": {},
   "outputs": [
    {
     "name": "stdout",
     "output_type": "stream",
     "text": [
      "children=None)\n",
      "children=None)\n",
      "children=None)\n",
      "children=None)\n",
      "{\n",
      "  \"__name__\": \"root\",\n",
      "  \"data\": \"root\",\n",
      "  \"parent\": null,\n",
      "  \"children\": [\n",
      "    {\n",
      "      \"__name__\": \"node1\",\n",
      "      \"data\": \"node1 - child of root\",\n",
      "      \"parent\": \"root\",\n",
      "      \"children\": []\n",
      "    },\n",
      "    {\n",
      "      \"__name__\": \"node2\",\n",
      "      \"data\": \"node2 - child of root\",\n",
      "      \"parent\": \"root\",\n",
      "      \"children\": [\n",
      "        {\n",
      "          \"__name__\": \"node3\",\n",
      "          \"data\": \"node3 - child of node2\",\n",
      "          \"parent\": \"node2\",\n",
      "          \"children\": []\n",
      "        }\n",
      "      ]\n",
      "    }\n",
      "  ]\n",
      "}\n"
     ]
    }
   ],
   "source": [
    "root_2 = nest(flat_tree.get_node(\"root\"))\n",
    "print(json.dumps(root_2, indent=2))\n"
   ]
  },
  {
   "cell_type": "markdown",
   "metadata": {},
   "source": [
    "We see that each node has an additional `parent` key that was not present in the\n",
    "original tree. This is because the `FlatTree` object needs to store the parent\n",
    "of each node so that it can regenerate the tree structure. This is not a problem\n",
    "because the `TreeNode` object does not use this key to represent the tree structure.\n",
    "It uses the recursive `children` list. They may be removed, if desired, but\n",
    "otherwise do not cause any harm."
   ]
  },
  {
   "cell_type": "code",
   "execution_count": null,
   "metadata": {},
   "outputs": [
    {
     "name": "stdout",
     "output_type": "stream",
     "text": [
      "{\n",
      "  \"root\": {\n",
      "    \"__name__\": \"root\",\n",
      "    \"data\": \"root\",\n",
      "    \"parent\": null\n",
      "  },\n",
      "  \"node1\": {\n",
      "    \"__name__\": \"node1\",\n",
      "    \"data\": \"node1 - child of root\",\n",
      "    \"parent\": \"root\"\n",
      "  },\n",
      "  \"node2\": {\n",
      "    \"__name__\": \"node2\",\n",
      "    \"data\": \"node2 - child of root\",\n",
      "    \"parent\": \"root\"\n",
      "  },\n",
      "  \"node3\": {\n",
      "    \"__name__\": \"node3\",\n",
      "    \"data\": \"node3 - child of node2\",\n",
      "    \"parent\": \"node2\"\n",
      "  }\n",
      "}\n"
     ]
    }
   ],
   "source": [
    "root_3 = flat(root_2, node_name)\n",
    "print(json.dumps(root_3, indent=2))\n"
   ]
  },
  {
   "cell_type": "code",
   "execution_count": null,
   "metadata": {},
   "outputs": [
    {
     "name": "stdout",
     "output_type": "stream",
     "text": [
      "root\n",
      "node1\n"
     ]
    }
   ],
   "source": [
    "print(node_name(flat_tree.get_node(\"root\")))\n",
    "print(node_name(flat_tree.get_node(\"node1\")))"
   ]
  },
  {
   "cell_type": "code",
   "execution_count": null,
   "metadata": {},
   "outputs": [],
   "source": [
    "anytree = tc.TreeConverter.to_anytree(flat_tree.get_node(\"root\"))\n"
   ]
  },
  {
   "cell_type": "code",
   "execution_count": null,
   "metadata": {},
   "outputs": [
    {
     "name": "stdout",
     "output_type": "stream",
     "text": [
      "Node('/root', data='root')\n",
      "├── Node('/root/node1', data='node1 - child of root')\n",
      "└── Node('/root/node2', data='node2 - child of root')\n",
      "    └── Node('/root/node2/node3', data='node3 - child of node2')\n",
      "\n",
      "Node('/root', data='root')\n",
      "├── Node('/root/node1', data='node1 - child of root')\n",
      "└── Node('/root/node2', data='node2 - child of root')\n",
      "    └── Node('/root/node2/node3', data='node3 - child of node2')\n",
      "\n",
      "root\n",
      "├── node1\n",
      "└── node2\n",
      "    └── node3\n",
      "\n"
     ]
    }
   ],
   "source": [
    "\n",
    "# let's pretty-print the anytree node\n",
    "from treekit.tree_viz import TreeViz as tv\n",
    "print(tv.text(anytree, node_name=lambda node: node))\n",
    "print(tv.text(flat_tree.get_node(\"root\"),\n",
    "              node_name=lambda node: node))\n",
    "print(tv.text(flat_tree.get_node(\"root\")))\n",
    "              "
   ]
  },
  {
   "cell_type": "code",
   "execution_count": null,
   "metadata": {},
   "outputs": [],
   "source": [
    "tv.image(anytree,\n",
    "         filename=\"anytree.png\")\n",
    "tv.image(flat_tree.get_node(\"root\"),\n",
    "         filename=\"flattree.png\", maxlevel=2)\n",
    "tv.image(root,\n",
    "         filename=\"treenode.png\",\n",
    "         node_name=lambda n: n.data)\n",
    "tv.image(root,\n",
    "         filename=\"treenode2.png\")\n",
    "\n",
    "tv.image(root, filename=\"treenode.dot\", node_name=lambda n: n.data)"
   ]
  }
 ],
 "metadata": {
  "kernelspec": {
   "display_name": "env",
   "language": "python",
   "name": "python3"
  },
  "language_info": {
   "codemirror_mode": {
    "name": "ipython",
    "version": 3
   },
   "file_extension": ".py",
   "mimetype": "text/x-python",
   "name": "python",
   "nbconvert_exporter": "python",
   "pygments_lexer": "ipython3",
   "version": "3.11.2"
  }
 },
 "nbformat": 4,
 "nbformat_minor": 2
}
