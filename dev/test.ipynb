{
 "cells": [
  {
   "cell_type": "markdown",
   "metadata": {},
   "source": [
    "## Expression Trees and Evaluation\n",
    "\n",
    "We are going to explore the idea of expression trees and how they relate to\n",
    "our tree structures, namely `TreeNode`, and to evaluate the expression trees\n",
    "by rewriting the nodes in post-order traversal.\n",
    "\n",
    "First, let's define our expression tree."
   ]
  },
  {
   "cell_type": "code",
   "execution_count": 5,
   "metadata": {},
   "outputs": [],
   "source": [
    "from AlgoTree.treenode import TreeNode\n",
    "import json\n",
    "\n",
    "# Define the expression tree\n",
    "root = TreeNode(name=\"+\", value=\"+\", type=\"op\")\n",
    "root_1 = TreeNode(name=\"max\", value=\"max\", type=\"op\", parent=root)\n",
    "root_2 = TreeNode(name=\"+\", value=\"+\", type=\"op\", parent=root)\n",
    "root_1_1 = TreeNode(name=\"+\", value=\"+\", type=\"op\", parent=root_1)\n",
    "root_1_1_1 = TreeNode(name=\"var\", value=\"x\", type=\"var\", parent=root_1_1)\n",
    "root_1_1_2 = TreeNode(name=\"const\", value=1, type=\"const\", parent=root_1_1)\n",
    "root_2_1 = TreeNode(name=\"max\", value=\"max\", type=\"op\", parent=root_2)\n",
    "root_2_1_1 = TreeNode(name=\"var\", value=\"x\", type=\"var\", parent=root_2_1)\n",
    "root_2_1_2 = TreeNode(name=\"var\", value=\"y\", type=\"var\", parent=root_2_1)\n",
    "root_2_2 = TreeNode(name=\"const\", value=3, type=\"const\", parent=root_2)\n",
    "root_2_3 = TreeNode(name=\"var\", value=\"y\", type=\"var\", parent=root_2)\n",
    "\n",
    "json_tree = \"\"\"\n",
    "    {\n",
    "    \"value\": \"+\",\n",
    "    \"type\": \"op\",\n",
    "    \"children\": [\n",
    "        {\n",
    "            \"value\": \"max\",\n",
    "            \"type\": \"op\",\n",
    "            \"children\": [\n",
    "                {\n",
    "                    \"value\": \"+\",\n",
    "                    \"type\": \"op\",\n",
    "                    \"children\": [\n",
    "                        {\"type\": \"var\", \"value\": \"x\"},\n",
    "                        {\"type\": \"const\", \"value\": 1},\n",
    "                    ],\n",
    "                },\n",
    "                {\"type\": \"const\", \"value\": 0},\n",
    "            ],\n",
    "        },\n",
    "        {\n",
    "            \"type\": \"op\",\n",
    "            \"value\": \"+\",\n",
    "            \"children\": [\n",
    "                {\n",
    "                    \"type\": \"op\",\n",
    "                    \"value\": \"max\",\n",
    "                    \"children\": [\n",
    "                        {\"type\": \"var\", \"value\": \"x\"},\n",
    "                        {\"type\": \"var\", \"value\": \"y\"},\n",
    "                    ],\n",
    "                },\n",
    "                {\"type\": \"const\", \"value\": 3},\n",
    "                {\"type\": \"var\", \"value\": \"y\"},\n",
    "            ],\n",
    "        },\n",
    "    ],\n",
    "}\n",
    "\"\"\""
   ]
  },
  {
   "cell_type": "code",
   "execution_count": 6,
   "metadata": {},
   "outputs": [
    {
     "name": "stdout",
     "output_type": "stream",
     "text": [
      "{\n",
      "  \"value\": \"+\",\n",
      "  \"type\": \"op\",\n",
      "  \"__name__\": \"+\",\n",
      "  \"children\": [\n",
      "    {\n",
      "      \"value\": \"max\",\n",
      "      \"type\": \"op\",\n",
      "      \"__name__\": \"max\",\n",
      "      \"children\": [\n",
      "        {\n",
      "          \"value\": \"+\",\n",
      "          \"type\": \"op\",\n",
      "          \"__name__\": \"+\",\n",
      "          \"children\": [\n",
      "            {\n",
      "              \"value\": \"x\",\n",
      "              \"type\": \"var\",\n",
      "              \"__name__\": \"var\"\n",
      "            },\n",
      "            {\n",
      "              \"value\": 1,\n",
      "              \"type\": \"const\",\n",
      "              \"__name__\": \"const\"\n",
      "            }\n",
      "          ]\n",
      "        }\n",
      "      ]\n",
      "    },\n",
      "    {\n",
      "      \"value\": \"+\",\n",
      "      \"type\": \"op\",\n",
      "      \"__name__\": \"+\",\n",
      "      \"children\": [\n",
      "        {\n",
      "          \"value\": \"max\",\n",
      "          \"type\": \"op\",\n",
      "          \"__name__\": \"max\",\n",
      "          \"children\": [\n",
      "            {\n",
      "              \"value\": \"x\",\n",
      "              \"type\": \"var\",\n",
      "              \"__name__\": \"var\"\n",
      "            },\n",
      "            {\n",
      "              \"value\": \"y\",\n",
      "              \"type\": \"var\",\n",
      "              \"__name__\": \"var\"\n",
      "            }\n",
      "          ]\n",
      "        },\n",
      "        {\n",
      "          \"value\": 3,\n",
      "          \"type\": \"const\",\n",
      "          \"__name__\": \"const\"\n",
      "        },\n",
      "        {\n",
      "          \"value\": \"y\",\n",
      "          \"type\": \"var\",\n",
      "          \"__name__\": \"var\"\n",
      "        }\n",
      "      ]\n",
      "    }\n",
      "  ]\n",
      "}\n"
     ]
    }
   ],
   "source": [
    "# Print the expression tree in JSON format\n",
    "print(json.dumps(root, indent=2))"
   ]
  },
  {
   "cell_type": "markdown",
   "metadata": {},
   "source": [
    "### Visualizing the Tree Structure\n",
    "\n",
    "We can use the `TreeViz` class to visualize the tree structure."
   ]
  },
  {
   "cell_type": "code",
   "execution_count": 3,
   "metadata": {},
   "outputs": [],
   "source": [
    "from AlgoTree.tree_converter import TreeConverter\n",
    "from AlgoTree.tree_viz import TreeViz"
   ]
  },
  {
   "cell_type": "code",
   "execution_count": 7,
   "metadata": {},
   "outputs": [
    {
     "ename": "AttributeError",
     "evalue": "node must have a 'children' property",
     "output_type": "error",
     "traceback": [
      "\u001b[0;31m---------------------------------------------------------------------------\u001b[0m",
      "\u001b[0;31mAttributeError\u001b[0m                            Traceback (most recent call last)",
      "Cell \u001b[0;32mIn[7], line 2\u001b[0m\n\u001b[1;32m      1\u001b[0m \u001b[38;5;66;03m# Visualize the tree using TreeViz\u001b[39;00m\n\u001b[0;32m----> 2\u001b[0m \u001b[38;5;28mprint\u001b[39m(TreeViz\u001b[38;5;241m.\u001b[39mtext(\u001b[43mroot\u001b[49m\u001b[38;5;241;43m.\u001b[39;49m\u001b[43mnode\u001b[49m\u001b[43m(\u001b[49m\u001b[38;5;124;43m\"\u001b[39;49m\u001b[38;5;124;43mmax\u001b[39;49m\u001b[38;5;124;43m\"\u001b[39;49m\u001b[43m)\u001b[49m, node_name\u001b[38;5;241m=\u001b[39m\u001b[38;5;28;01mlambda\u001b[39;00m x: x\u001b[38;5;241m.\u001b[39mvalue))\n",
      "File \u001b[0;32m~/github/AlgoTree/AlgoTree/treenode.py:187\u001b[0m, in \u001b[0;36mTreeNode.node\u001b[0;34m(self, name)\u001b[0m\n\u001b[1;32m    178\u001b[0m \u001b[38;5;250m\u001b[39m\u001b[38;5;124;03m\"\"\"\u001b[39;00m\n\u001b[1;32m    179\u001b[0m \u001b[38;5;124;03mGet the node with the given name in the current sub-tree. The sub-tree\u001b[39;00m\n\u001b[1;32m    180\u001b[0m \u001b[38;5;124;03mremains the same, we just change the current node position. If the name\u001b[39;00m\n\u001b[0;32m   (...)\u001b[0m\n\u001b[1;32m    184\u001b[0m \u001b[38;5;124;03m:return: The node with the given name.\u001b[39;00m\n\u001b[1;32m    185\u001b[0m \u001b[38;5;124;03m\"\"\"\u001b[39;00m\n\u001b[1;32m    186\u001b[0m par \u001b[38;5;241m=\u001b[39m \u001b[38;5;28mself\u001b[39m\u001b[38;5;241m.\u001b[39mroot\n\u001b[0;32m--> 187\u001b[0m new_node \u001b[38;5;241m=\u001b[39m \u001b[43mfind_node\u001b[49m\u001b[43m(\u001b[49m\u001b[43mpar\u001b[49m\u001b[43m,\u001b[49m\u001b[43m \u001b[49m\u001b[38;5;28;43;01mlambda\u001b[39;49;00m\u001b[43m \u001b[49m\u001b[43mn\u001b[49m\u001b[43m,\u001b[49m\u001b[43m \u001b[49m\u001b[38;5;241;43m*\u001b[39;49m\u001b[38;5;241;43m*\u001b[39;49m\u001b[43m_\u001b[49m\u001b[43m:\u001b[49m\u001b[43m \u001b[49m\u001b[43mn\u001b[49m\u001b[38;5;241;43m.\u001b[39;49m\u001b[43mname\u001b[49m\u001b[43m \u001b[49m\u001b[38;5;241;43m==\u001b[39;49m\u001b[43m \u001b[49m\u001b[43mname\u001b[49m\u001b[43m)\u001b[49m\n\u001b[1;32m    188\u001b[0m \u001b[38;5;28;01mif\u001b[39;00m new_node \u001b[38;5;129;01mis\u001b[39;00m \u001b[38;5;28;01mNone\u001b[39;00m:\n\u001b[1;32m    189\u001b[0m     \u001b[38;5;28;01mraise\u001b[39;00m \u001b[38;5;167;01mKeyError\u001b[39;00m(\u001b[38;5;124mf\u001b[39m\u001b[38;5;124m\"\u001b[39m\u001b[38;5;124mNode not found: \u001b[39m\u001b[38;5;132;01m{\u001b[39;00mname\u001b[38;5;132;01m}\u001b[39;00m\u001b[38;5;124m\"\u001b[39m)\n",
      "File \u001b[0;32m~/github/AlgoTree/AlgoTree/utils.py:349\u001b[0m, in \u001b[0;36mfind_node\u001b[0;34m(node, pred, **kwargs)\u001b[0m\n\u001b[1;32m    346\u001b[0m     \u001b[38;5;28;01melse\u001b[39;00m:\n\u001b[1;32m    347\u001b[0m         \u001b[38;5;28;01mreturn\u001b[39;00m \u001b[38;5;28;01mFalse\u001b[39;00m\n\u001b[0;32m--> 349\u001b[0m \u001b[43mbreadth_first\u001b[49m\u001b[43m(\u001b[49m\u001b[43mnode\u001b[49m\u001b[43m,\u001b[49m\u001b[43m \u001b[49m\u001b[43m_pred\u001b[49m\u001b[43m,\u001b[49m\u001b[43m \u001b[49m\u001b[38;5;241;43m*\u001b[39;49m\u001b[38;5;241;43m*\u001b[39;49m\u001b[43mkwargs\u001b[49m\u001b[43m)\u001b[49m\n\u001b[1;32m    350\u001b[0m \u001b[38;5;28;01mreturn\u001b[39;00m result\n",
      "File \u001b[0;32m~/github/AlgoTree/AlgoTree/utils.py:294\u001b[0m, in \u001b[0;36mbreadth_first\u001b[0;34m(node, func, **kwargs)\u001b[0m\n\u001b[1;32m    291\u001b[0m     \u001b[38;5;28;01mraise\u001b[39;00m \u001b[38;5;167;01mTypeError\u001b[39;00m(\u001b[38;5;124m\"\u001b[39m\u001b[38;5;124mfunc must be callable\u001b[39m\u001b[38;5;124m\"\u001b[39m)\n\u001b[1;32m    293\u001b[0m \u001b[38;5;28;01mif\u001b[39;00m \u001b[38;5;129;01mnot\u001b[39;00m \u001b[38;5;28mhasattr\u001b[39m(node, \u001b[38;5;124m\"\u001b[39m\u001b[38;5;124mchildren\u001b[39m\u001b[38;5;124m\"\u001b[39m):\n\u001b[0;32m--> 294\u001b[0m     \u001b[38;5;28;01mraise\u001b[39;00m \u001b[38;5;167;01mAttributeError\u001b[39;00m(\u001b[38;5;124m\"\u001b[39m\u001b[38;5;124mnode must have a \u001b[39m\u001b[38;5;124m'\u001b[39m\u001b[38;5;124mchildren\u001b[39m\u001b[38;5;124m'\u001b[39m\u001b[38;5;124m property\u001b[39m\u001b[38;5;124m\"\u001b[39m)\n\u001b[1;32m    296\u001b[0m q: Deque[Tuple[Any, \u001b[38;5;28mint\u001b[39m]] \u001b[38;5;241m=\u001b[39m deque([(node, \u001b[38;5;241m0\u001b[39m)])\n\u001b[1;32m    297\u001b[0m \u001b[38;5;28;01mwhile\u001b[39;00m q:\n",
      "\u001b[0;31mAttributeError\u001b[0m: node must have a 'children' property"
     ]
    }
   ],
   "source": [
    "# Visualize the tree using TreeViz\n",
    "print(TreeViz.text(root.node(\"max\"), node_name=lambda x: x.value))"
   ]
  },
  {
   "cell_type": "code",
   "execution_count": 8,
   "metadata": {},
   "outputs": [
    {
     "ename": "AttributeError",
     "evalue": "node must have a 'children' property",
     "output_type": "error",
     "traceback": [
      "\u001b[0;31m---------------------------------------------------------------------------\u001b[0m",
      "\u001b[0;31mAttributeError\u001b[0m                            Traceback (most recent call last)",
      "Cell \u001b[0;32mIn[8], line 1\u001b[0m\n\u001b[0;32m----> 1\u001b[0m \u001b[38;5;28mprint\u001b[39m(TreeViz\u001b[38;5;241m.\u001b[39mtext2(\u001b[43mroot\u001b[49m\u001b[38;5;241;43m.\u001b[39;49m\u001b[43mnode\u001b[49m\u001b[43m(\u001b[49m\u001b[38;5;124;43m\"\u001b[39;49m\u001b[38;5;124;43mvar\u001b[39;49m\u001b[38;5;124;43m\"\u001b[39;49m\u001b[43m)\u001b[49m, node_name\u001b[38;5;241m=\u001b[39m\u001b[38;5;28;01mlambda\u001b[39;00m x: x\u001b[38;5;241m.\u001b[39mvalue))\n\u001b[1;32m      2\u001b[0m \u001b[38;5;28mprint\u001b[39m(TreeViz\u001b[38;5;241m.\u001b[39mtext2(root\u001b[38;5;241m.\u001b[39mnode(\u001b[38;5;124m\"\u001b[39m\u001b[38;5;124mmax\u001b[39m\u001b[38;5;124m\"\u001b[39m)\u001b[38;5;241m.\u001b[39mnode(\u001b[38;5;124m\"\u001b[39m\u001b[38;5;124mvar\u001b[39m\u001b[38;5;124m\"\u001b[39m), node_name\u001b[38;5;241m=\u001b[39m\u001b[38;5;28;01mlambda\u001b[39;00m x: x\u001b[38;5;241m.\u001b[39mvalue))\n\u001b[1;32m      3\u001b[0m \u001b[38;5;66;03m#print(root.subtree(\"var\"))\u001b[39;00m\n",
      "File \u001b[0;32m~/github/AlgoTree/AlgoTree/treenode.py:187\u001b[0m, in \u001b[0;36mTreeNode.node\u001b[0;34m(self, name)\u001b[0m\n\u001b[1;32m    178\u001b[0m \u001b[38;5;250m\u001b[39m\u001b[38;5;124;03m\"\"\"\u001b[39;00m\n\u001b[1;32m    179\u001b[0m \u001b[38;5;124;03mGet the node with the given name in the current sub-tree. The sub-tree\u001b[39;00m\n\u001b[1;32m    180\u001b[0m \u001b[38;5;124;03mremains the same, we just change the current node position. If the name\u001b[39;00m\n\u001b[0;32m   (...)\u001b[0m\n\u001b[1;32m    184\u001b[0m \u001b[38;5;124;03m:return: The node with the given name.\u001b[39;00m\n\u001b[1;32m    185\u001b[0m \u001b[38;5;124;03m\"\"\"\u001b[39;00m\n\u001b[1;32m    186\u001b[0m par \u001b[38;5;241m=\u001b[39m \u001b[38;5;28mself\u001b[39m\u001b[38;5;241m.\u001b[39mroot\n\u001b[0;32m--> 187\u001b[0m new_node \u001b[38;5;241m=\u001b[39m \u001b[43mfind_node\u001b[49m\u001b[43m(\u001b[49m\u001b[43mpar\u001b[49m\u001b[43m,\u001b[49m\u001b[43m \u001b[49m\u001b[38;5;28;43;01mlambda\u001b[39;49;00m\u001b[43m \u001b[49m\u001b[43mn\u001b[49m\u001b[43m,\u001b[49m\u001b[43m \u001b[49m\u001b[38;5;241;43m*\u001b[39;49m\u001b[38;5;241;43m*\u001b[39;49m\u001b[43m_\u001b[49m\u001b[43m:\u001b[49m\u001b[43m \u001b[49m\u001b[43mn\u001b[49m\u001b[38;5;241;43m.\u001b[39;49m\u001b[43mname\u001b[49m\u001b[43m \u001b[49m\u001b[38;5;241;43m==\u001b[39;49m\u001b[43m \u001b[49m\u001b[43mname\u001b[49m\u001b[43m)\u001b[49m\n\u001b[1;32m    188\u001b[0m \u001b[38;5;28;01mif\u001b[39;00m new_node \u001b[38;5;129;01mis\u001b[39;00m \u001b[38;5;28;01mNone\u001b[39;00m:\n\u001b[1;32m    189\u001b[0m     \u001b[38;5;28;01mraise\u001b[39;00m \u001b[38;5;167;01mKeyError\u001b[39;00m(\u001b[38;5;124mf\u001b[39m\u001b[38;5;124m\"\u001b[39m\u001b[38;5;124mNode not found: \u001b[39m\u001b[38;5;132;01m{\u001b[39;00mname\u001b[38;5;132;01m}\u001b[39;00m\u001b[38;5;124m\"\u001b[39m)\n",
      "File \u001b[0;32m~/github/AlgoTree/AlgoTree/utils.py:349\u001b[0m, in \u001b[0;36mfind_node\u001b[0;34m(node, pred, **kwargs)\u001b[0m\n\u001b[1;32m    346\u001b[0m     \u001b[38;5;28;01melse\u001b[39;00m:\n\u001b[1;32m    347\u001b[0m         \u001b[38;5;28;01mreturn\u001b[39;00m \u001b[38;5;28;01mFalse\u001b[39;00m\n\u001b[0;32m--> 349\u001b[0m \u001b[43mbreadth_first\u001b[49m\u001b[43m(\u001b[49m\u001b[43mnode\u001b[49m\u001b[43m,\u001b[49m\u001b[43m \u001b[49m\u001b[43m_pred\u001b[49m\u001b[43m,\u001b[49m\u001b[43m \u001b[49m\u001b[38;5;241;43m*\u001b[39;49m\u001b[38;5;241;43m*\u001b[39;49m\u001b[43mkwargs\u001b[49m\u001b[43m)\u001b[49m\n\u001b[1;32m    350\u001b[0m \u001b[38;5;28;01mreturn\u001b[39;00m result\n",
      "File \u001b[0;32m~/github/AlgoTree/AlgoTree/utils.py:294\u001b[0m, in \u001b[0;36mbreadth_first\u001b[0;34m(node, func, **kwargs)\u001b[0m\n\u001b[1;32m    291\u001b[0m     \u001b[38;5;28;01mraise\u001b[39;00m \u001b[38;5;167;01mTypeError\u001b[39;00m(\u001b[38;5;124m\"\u001b[39m\u001b[38;5;124mfunc must be callable\u001b[39m\u001b[38;5;124m\"\u001b[39m)\n\u001b[1;32m    293\u001b[0m \u001b[38;5;28;01mif\u001b[39;00m \u001b[38;5;129;01mnot\u001b[39;00m \u001b[38;5;28mhasattr\u001b[39m(node, \u001b[38;5;124m\"\u001b[39m\u001b[38;5;124mchildren\u001b[39m\u001b[38;5;124m\"\u001b[39m):\n\u001b[0;32m--> 294\u001b[0m     \u001b[38;5;28;01mraise\u001b[39;00m \u001b[38;5;167;01mAttributeError\u001b[39;00m(\u001b[38;5;124m\"\u001b[39m\u001b[38;5;124mnode must have a \u001b[39m\u001b[38;5;124m'\u001b[39m\u001b[38;5;124mchildren\u001b[39m\u001b[38;5;124m'\u001b[39m\u001b[38;5;124m property\u001b[39m\u001b[38;5;124m\"\u001b[39m)\n\u001b[1;32m    296\u001b[0m q: Deque[Tuple[Any, \u001b[38;5;28mint\u001b[39m]] \u001b[38;5;241m=\u001b[39m deque([(node, \u001b[38;5;241m0\u001b[39m)])\n\u001b[1;32m    297\u001b[0m \u001b[38;5;28;01mwhile\u001b[39;00m q:\n",
      "\u001b[0;31mAttributeError\u001b[0m: node must have a 'children' property"
     ]
    }
   ],
   "source": [
    "print(TreeViz.text2(root.node(\"var\"), node_name=lambda x: x.value))\n",
    "print(TreeViz.text2(root.node(\"max\").node(\"var\"), node_name=lambda x: x.value))\n",
    "#print(root.subtree(\"var\"))"
   ]
  },
  {
   "cell_type": "markdown",
   "metadata": {},
   "source": [
    "Here is what that looks like in a more convenient form."
   ]
  },
  {
   "cell_type": "code",
   "execution_count": null,
   "metadata": {},
   "outputs": [],
   "source": [
    "# Generate and save a visual representation of the tree\n",
    "TreeViz.image(root, node_name=lambda n: n.type + \": \" + str(n.value),\n",
    "              filename=\"./images/eval/tree-expr.png\")"
   ]
  },
  {
   "cell_type": "markdown",
   "metadata": {},
   "source": [
    "Here is an image of the local `tree-expr.png` file just generated:\n",
    "\n",
    "![](./images/eval/tree-expr.png)\n"
   ]
  },
  {
   "cell_type": "markdown",
   "metadata": {},
   "source": [
    "### Post-order Traversal\n",
    "\n",
    "As a tree structure, `TreeNode` implements an interface that permits\n",
    "tree traversal algorithms like depth-first pre-order and post-order traversals.\n",
    "\n",
    "We are going to implement a simple post-order traversal algorithm to permit\n",
    "computation of the expression tree we defined earlier, `expr`. We see that\n",
    "it contains three operator types, `+`, `*`, and `max`, as well as numbers and variables.\n",
    "\n",
    "We will provide a **closure** over all of these types so that when we evaluate\n",
    "the expression in post-order, all of the types are defined for the operations."
   ]
  },
  {
   "cell_type": "code",
   "execution_count": null,
   "metadata": {},
   "outputs": [],
   "source": [
    "def postorder(node, fn, ctx):\n",
    "    \"\"\"\n",
    "    Applies function `fn` to the nodes in the tree using post-order traversal.\n",
    "    :param fn: Function to apply to each node. Should accept one argument: the node.\n",
    "    :param ctx: Context passed to the function.\n",
    "    :return: The tree with the function `fn` applied to its nodes.\n",
    "    \"\"\"\n",
    "    results = []\n",
    "    for child in node.children:\n",
    "        result = postorder(child, fn, ctx)\n",
    "        if result is not None:\n",
    "            results.append(result)\n",
    "\n",
    "    node.children = results\n",
    "    return fn(node, ctx)"
   ]
  },
  {
   "cell_type": "markdown",
   "metadata": {},
   "source": [
    "The function `postorder` takes a tree node `node`, a function `fn`, and a context `ctx`, and returns a rewritten tree.\n",
    "\n",
    "At each node, `postorder` recursively calls `fn` on its children before applying `fn` to the node itself. This is the essence of post-order traversal.\n",
    "\n",
    "Post-order is useful for problems where the children need to be processed before the node itself. For example, evaluating an expression tree, where typically the value of a node can only be computed after the values of its children are known.\n",
    "\n",
    "In contrast, pre-order traversal applies `fn` to the node before applying it to the children. Pre-order may be useful for tasks such as rewriting the tree in a different form, like algebraic simplification."
   ]
  },
  {
   "cell_type": "markdown",
   "metadata": {},
   "source": [
    "### Expression Tree Evaluator\n",
    "\n",
    "We will now design a simple expression tree evaluator, `Eval`."
   ]
  },
  {
   "cell_type": "code",
   "execution_count": null,
   "metadata": {},
   "outputs": [],
   "source": [
    "from copy import deepcopy\n",
    "import uuid\n",
    "from AlgoTree.flattree_node import FlatTreeNode\n",
    "\n",
    "class Eval:\n",
    "    \"\"\"\n",
    "    An evaluator for expressions defined by operations on types, respectively\n",
    "    defined by `Eval.Op` and `Eval.Type`. The operations are a\n",
    "    dictionary where the keys are the operation names and the values are\n",
    "    functions that take a node and a context and return the value of the\n",
    "    operation in that context.\n",
    "    \"\"\"\n",
    "\n",
    "    Op = {\n",
    "        \"+\": lambda x: sum(x),\n",
    "        \"max\": lambda x: max(x),\n",
    "    }\n",
    "\n",
    "    Type = {\n",
    "        \"const\": lambda node, _: node[\"value\"],\n",
    "        \"var\": lambda node, ctx: ctx[node[\"value\"]],\n",
    "        \"op\": lambda node, _: Eval.Op[node[\"value\"]](\n",
    "            [c[\"value\"] for c in node.children]\n",
    "        ),\n",
    "    }\n",
    "\n",
    "    def __init__(self, debug=True):\n",
    "        \"\"\"\n",
    "        :param debug: If True, print debug information\n",
    "        \"\"\"\n",
    "        self.debug = debug\n",
    "\n",
    "    def __call__(self, expr, ctx):\n",
    "        NodeType = type(expr)\n",
    "        def _eval(node, ctx):\n",
    "            expr_type = node[\"type\"]\n",
    "            value = Eval.Type[expr_type](node, ctx)\n",
    "            result = NodeType(type=\"const\", value=value)\n",
    "            if self.debug:\n",
    "                print(f\"Eval({node.payload}) -> {result.payload}\")\n",
    "            return result\n",
    "\n",
    "        return postorder(deepcopy(expr), _eval, ctx)"
   ]
  },
  {
   "cell_type": "markdown",
   "metadata": {},
   "source": [
    "To evaluate an expression tree, we need the operations to be defined for all\n",
    "of the types during post-order (bottom-up) traversal. We can define a\n",
    "closure over all of the types, and then use that closure to evaluate the\n",
    "expression tree.\n",
    "\n",
    "We call this closure a context. Normally, the operations and other things\n",
    "are also defined in the closure, but for simplicity we will just define the\n",
    "operations and provide closures over the variables."
   ]
  },
  {
   "cell_type": "code",
   "execution_count": null,
   "metadata": {},
   "outputs": [
    {
     "name": "stdout",
     "output_type": "stream",
     "text": [
      "Eval({'value': 'x', 'type': 'var'}) -> {'type': 'const', 'value': 1}\n",
      "Eval({'value': 1, 'type': 'const'}) -> {'type': 'const', 'value': 1}\n",
      "Eval({'value': '+', 'type': 'op'}) -> {'type': 'const', 'value': 2}\n",
      "Eval({'value': 'max', 'type': 'op'}) -> {'type': 'const', 'value': 2}\n",
      "Eval({'value': 'x', 'type': 'var'}) -> {'type': 'const', 'value': 1}\n",
      "Eval({'value': 'y', 'type': 'var'}) -> {'type': 'const', 'value': 2}\n",
      "Eval({'value': 'max', 'type': 'op'}) -> {'type': 'const', 'value': 2}\n",
      "Eval({'value': 3, 'type': 'const'}) -> {'type': 'const', 'value': 3}\n",
      "Eval({'value': 'y', 'type': 'var'}) -> {'type': 'const', 'value': 2}\n",
      "Eval({'value': '+', 'type': 'op'}) -> {'type': 'const', 'value': 7}\n",
      "Eval({'value': '+', 'type': 'op'}) -> {'type': 'const', 'value': 9}\n"
     ]
    }
   ],
   "source": [
    "# Define the context with variable values\n",
    "ctx = {\"x\": 1, \"y\": 2, \"z\": 3}\n",
    "\n",
    "# Evaluate the expression tree with the context\n",
    "result = Eval(debug=True)(root, ctx)"
   ]
  },
  {
   "cell_type": "code",
   "execution_count": null,
   "metadata": {},
   "outputs": [
    {
     "name": "stdout",
     "output_type": "stream",
     "text": [
      "TreeNode(, payload={'type': 'const', 'value': 9})\n"
     ]
    }
   ],
   "source": [
    "# Print the result of the evaluation\n",
    "print(result)"
   ]
  },
  {
   "cell_type": "markdown",
   "metadata": {},
   "source": [
    "We see that we get the expected result, `9`. Note that it is still a tree, but\n",
    "it has been transformed into a so-called self-evaluating tree expression,\n",
    "which in this case is a single node with no children.\n",
    "\n",
    "We can evaluate it again, and we see that it cannot be rewritten further. We\n",
    "call this state a **normal form**. Essentially, we can think of the\n",
    "tree as a program that computes a value, and the normal form is the result of\n",
    "running the program."
   ]
  },
  {
   "cell_type": "code",
   "execution_count": null,
   "metadata": {},
   "outputs": [],
   "source": [
    "# Ensure the evaluated result is in its normal form\n",
    "assert Eval(debug=False)(result, ctx).value == result.value"
   ]
  },
  {
   "cell_type": "markdown",
   "metadata": {},
   "source": [
    "### Converting to FlatTree\n",
    "\n",
    "Let's convert the tree to a `FlatTree` and perform the same evaluation."
   ]
  },
  {
   "cell_type": "code",
   "execution_count": null,
   "metadata": {},
   "outputs": [
    {
     "name": "stdout",
     "output_type": "stream",
     "text": [
      "{\n",
      "    \"6edfd289-267c-4195-9763-3ba5c1a63518\": {\n",
      "        \"value\": \"+\",\n",
      "        \"type\": \"op\"\n",
      "    },\n",
      "    \"e860c7f8-ec77-4a98-ba95-03240da1351e\": {\n",
      "        \"value\": \"max\",\n",
      "        \"type\": \"op\",\n",
      "        \"parent\": \"6edfd289-267c-4195-9763-3ba5c1a63518\"\n",
      "    },\n",
      "    \"9ac4a6cf-673a-4c1c-b3b7-901ac101da20\": {\n",
      "        \"value\": \"+\",\n",
      "        \"type\": \"op\",\n",
      "        \"parent\": \"e860c7f8-ec77-4a98-ba95-03240da1351e\"\n",
      "    },\n",
      "    \"32d94df6-3400-4281-9c27-8868fea7048c\": {\n",
      "        \"value\": \"x\",\n",
      "        \"type\": \"var\",\n",
      "        \"parent\": \"9ac4a6cf-673a-4c1c-b3b7-901ac101da20\"\n",
      "    },\n",
      "    \"622c6ef2-dba8-4c1d-9df4-712b2c8c2067\": {\n",
      "        \"value\": 1,\n",
      "        \"type\": \"const\",\n",
      "        \"parent\": \"9ac4a6cf-673a-4c1c-b3b7-901ac101da20\"\n",
      "    },\n",
      "    \"941de746-df29-4243-99b2-ac3ae311422a\": {\n",
      "        \"value\": \"+\",\n",
      "        \"type\": \"op\",\n",
      "        \"parent\": \"6edfd289-267c-4195-9763-3ba5c1a63518\"\n",
      "    },\n",
      "    \"8023a736-d9d8-4f60-ac0d-07d2fecfbcf1\": {\n",
      "        \"value\": \"max\",\n",
      "        \"type\": \"op\",\n",
      "        \"parent\": \"941de746-df29-4243-99b2-ac3ae311422a\"\n",
      "    },\n",
      "    \"8735a4c2-013e-4226-ac50-c8a582f79eb8\": {\n",
      "        \"value\": \"x\",\n",
      "        \"type\": \"var\",\n",
      "        \"parent\": \"8023a736-d9d8-4f60-ac0d-07d2fecfbcf1\"\n",
      "    },\n",
      "    \"d923af10-f6cd-4a55-8a1e-44f21269f01c\": {\n",
      "        \"value\": \"y\",\n",
      "        \"type\": \"var\",\n",
      "        \"parent\": \"8023a736-d9d8-4f60-ac0d-07d2fecfbcf1\"\n",
      "    },\n",
      "    \"967158f5-0680-4145-8f3f-5f5e6bc0e908\": {\n",
      "        \"value\": 3,\n",
      "        \"type\": \"const\",\n",
      "        \"parent\": \"941de746-df29-4243-99b2-ac3ae311422a\"\n",
      "    },\n",
      "    \"0e4e0d6c-76f0-4a10-a954-208a62cf0b7e\": {\n",
      "        \"value\": \"y\",\n",
      "        \"type\": \"var\",\n",
      "        \"parent\": \"941de746-df29-4243-99b2-ac3ae311422a\"\n",
      "    }\n",
      "}\n"
     ]
    }
   ],
   "source": [
    "# Convert TreeNode to FlatTreeNode\n",
    "flat_expr = TreeConverter.convert(source_node=root,\n",
    "                                  target_type=FlatTreeNode,\n",
    "                                  node_name=lambda _: str(uuid.uuid4()),\n",
    "                                  extract=lambda n: n.payload)\n",
    "print(json.dumps(flat_expr.tree, indent=4))"
   ]
  },
  {
   "cell_type": "code",
   "execution_count": null,
   "metadata": {},
   "outputs": [
    {
     "name": "stdout",
     "output_type": "stream",
     "text": [
      "Eval({'value': 'x', 'type': 'var'}) -> {'type': 'const', 'value': 1}\n",
      "Eval({'value': 1, 'type': 'const'}) -> {'type': 'const', 'value': 1}\n",
      "Eval({'value': '+', 'type': 'op'}) -> {'type': 'const', 'value': 2}\n",
      "Eval({'value': 'max', 'type': 'op'}) -> {'type': 'const', 'value': 2}\n",
      "Eval({'value': 'x', 'type': 'var'}) -> {'type': 'const', 'value': 1}\n",
      "Eval({'value': 'y', 'type': 'var'}) -> {'type': 'const', 'value': 2}\n",
      "Eval({'value': 'max', 'type': 'op'}) -> {'type': 'const', 'value': 2}\n",
      "Eval({'value': 3, 'type': 'const'}) -> {'type': 'const', 'value': 3}\n",
      "Eval({'value': 'y', 'type': 'var'}) -> {'type': 'const', 'value': 2}\n",
      "Eval({'value': '+', 'type': 'op'}) -> {'type': 'const', 'value': 7}\n",
      "Eval({'value': '+', 'type': 'op'}) -> {'type': 'const', 'value': 9}\n",
      "FlatTreeNode(name=f6a37f95-ba1f-4e00-a6cf-32d83785deb9, parent=None, payload={'type': 'const', 'value': 9})\n",
      "{\n",
      "    \"f6a37f95-ba1f-4e00-a6cf-32d83785deb9\": {\n",
      "        \"type\": \"const\",\n",
      "        \"value\": 9\n",
      "    }\n",
      "}\n"
     ]
    }
   ],
   "source": [
    "# Evaluate the flat tree expression\n",
    "result = Eval(debug=True)(flat_expr, ctx)\n",
    "# Print the result of the evaluation\n",
    "print(result)\n",
    "# Print the underlying flat tree structure\n",
    "print(json.dumps(result.tree, indent=4))"
   ]
  },
  {
   "cell_type": "markdown",
   "metadata": {},
   "source": [
    "The `FlatTree` structure is a different kind of tree structure that is more\n",
    "convenient for relatively flatter data, like conversation logs. It is a tree\n",
    "structure that is flattened into a dictionary of key-value pairs, where the\n",
    "value is also a dictionary. This value dictionary optionally contains the parent\n",
    "key, and if not then it is a child of a so-called logical root."
   ]
  }
 ],
 "metadata": {
  "kernelspec": {
   "display_name": "env",
   "language": "python",
   "name": "python3"
  },
  "language_info": {
   "codemirror_mode": {
    "name": "ipython",
    "version": 3
   },
   "file_extension": ".py",
   "mimetype": "text/x-python",
   "name": "python",
   "nbconvert_exporter": "python",
   "pygments_lexer": "ipython3",
   "version": "3.12.3"
  }
 },
 "nbformat": 4,
 "nbformat_minor": 2
}
