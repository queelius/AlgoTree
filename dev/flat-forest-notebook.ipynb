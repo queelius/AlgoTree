{
 "cells": [
  {
   "cell_type": "markdown",
   "metadata": {},
   "source": [
    "# `FlatForest Notebook`\n",
    "\n",
    "In this notebook, we explore the `FlatTree` data structure, which is a tree with a flat memory layout. This data structure is useful when we want to store a tree in a contiguous memory block. We will implement the `FlatTree` data structure and demonstrate how to perform various operations on it.\n",
    "\n",
    "We also demonstrate the `FlatTreeNode` proxy class, which allows us to access the nodes of the `FlatTree` using a tree-like interface."
   ]
  },
  {
   "cell_type": "markdown",
   "metadata": {},
   "source": [
    "Let's load the required libraries and create a `FlatTree` data structure\n",
    "using the node interface."
   ]
  },
  {
   "cell_type": "code",
   "execution_count": 22,
   "metadata": {},
   "outputs": [
    {
     "name": "stdout",
     "output_type": "stream",
     "text": [
      "1 {'data': 1} None\n",
      "\n",
      "2 {'data': 2} 1\n",
      "\n",
      "3 {'data': 3} 1\n",
      "\n",
      "4 {'data': 4} 3\n",
      "\n",
      "5 {'data': 5} 3\n",
      "\n",
      "A {'data': 'Data for A'} None\n",
      "\n",
      "B {'data': 'Data for B'} A\n",
      "\n",
      "C {'data': 'Data for C'} A\n",
      "\n",
      "D {'data': 'Data for D'} C\n",
      "\n",
      "E {'data': 'Data for E'} C\n",
      "\n",
      "F {'data': 'Data for F'} E\n",
      "\n",
      "G {'data': 'Data for G'} E\n",
      "\n",
      "H {'data': 'Data for H'} B\n",
      "\n",
      "I {'data': 'Data for I'} A\n",
      "\n",
      "J {'data': 'Data for J'} I\n",
      "\n",
      "K {'data': 'Data for K'} G\n",
      "\n",
      "L {'data': 'Data for L'} G\n",
      "\n",
      "M {'data': 'Data for M'} C\n",
      "\n"
     ]
    }
   ],
   "source": [
    "from AlgoTree.flat_forest_node import FlatForestNode\n",
    "from AlgoTree.flat_forest import FlatForest\n",
    "from AlgoTree.tree_converter import TreeConverter\n",
    "from IPython.display import display, Markdown\n",
    "from AlgoTree.pretty_tree import pretty_tree\n",
    "import json\n",
    "#from AlgoTree.treenode import TreeNode\n",
    "from copy import deepcopy\n",
    "\n",
    "\n",
    "def monotext(txt):\n",
    "    display(Markdown(f\"<pre>{txt}</pre>\"))\n",
    "\n",
    "data = {\n",
    "    \"1\": { \"data\": 1, \"parent\": None},\n",
    "    \"2\": { \"parent\": \"1\", \"data\": 2},\n",
    "    \"3\": { \"parent\": \"1\", \"data\": 3},\n",
    "    \"4\": { \"parent\": \"3\", \"data\": 4},\n",
    "    \"5\": { \"parent\": \"3\", \"data\": 5},\n",
    "    \"A\": { \"data\": \"Data for A\", \"parent\": None },\n",
    "    \"B\": { \"parent\": \"A\", \"data\": \"Data for B\" },\n",
    "    \"C\": { \"parent\": \"A\", \"data\": \"Data for C\" },\n",
    "    \"D\": { \"parent\": \"C\", \"data\": \"Data for D\" },\n",
    "    \"E\": { \"parent\": \"C\", \"data\": \"Data for E\" },\n",
    "    \"F\": { \"parent\": \"E\", \"data\": \"Data for F\" },\n",
    "    \"G\": { \"parent\": \"E\", \"data\": \"Data for G\" },\n",
    "    \"H\": { \"parent\": \"B\", \"data\": \"Data for H\" },\n",
    "    \"I\": { \"parent\": \"A\", \"data\": \"Data for I\" },\n",
    "    \"J\": { \"parent\": \"I\", \"data\": \"Data for J\" },\n",
    "    \"K\": { \"parent\": \"G\", \"data\": \"Data for K\" },\n",
    "    \"L\": { \"parent\": \"G\", \"data\": \"Data for L\" },\n",
    "    \"M\": { \"parent\": \"C\", \"data\": \"Data for M\" },\n",
    "}\n",
    "#print(json.dumps(data, indent=2))\n",
    "forest2 = FlatForest(deepcopy(data))\n",
    "forest = FlatForest()\n",
    "nodes = []\n",
    "for key, value in data.items():\n",
    "    par_key = value.pop(\"parent\", None)\n",
    "    #print(f\"{key=}, {value=}, {par_key=}\")\n",
    "    nodes.append(FlatForestNode(name=key, parent=par_key, forest=forest, data=value[\"data\"]))\n",
    "\n",
    "for node in nodes:\n",
    "    try:\n",
    "        print(node.name, node.payload, node.parent.name if node.parent is not None else None)\n",
    "    except ValueError as e:\n",
    "        print(f\"ValueError: {e}\")\n",
    "    except KeyError as e:\n",
    "        print(f\"KeyError: {e}\")\n",
    "    print()"
   ]
  },
  {
   "cell_type": "markdown",
   "metadata": {},
   "source": [
    "Let's do something similar, but using the `FlatForest`'s `dict` or `json`\n",
    "constructor. This is more direct and makes it explicit what data the tree\n",
    "is providing a *view* of. After all, the `FlatForest` is itself just a `dict`\n",
    "of a particular shape."
   ]
  },
  {
   "cell_type": "code",
   "execution_count": 23,
   "metadata": {},
   "outputs": [
    {
     "name": "stdout",
     "output_type": "stream",
     "text": [
      "{\n",
      "  \"1\": {\n",
      "    \"data\": 1,\n",
      "    \"parent\": null\n",
      "  },\n",
      "  \"2\": {\n",
      "    \"data\": 2,\n",
      "    \"parent\": \"1\"\n",
      "  },\n",
      "  \"3\": {\n",
      "    \"data\": 3,\n",
      "    \"parent\": \"1\"\n",
      "  },\n",
      "  \"4\": {\n",
      "    \"data\": 4,\n",
      "    \"parent\": \"3\"\n",
      "  },\n",
      "  \"5\": {\n",
      "    \"data\": 5,\n",
      "    \"parent\": \"3\"\n",
      "  },\n",
      "  \"A\": {\n",
      "    \"data\": \"Data for A\",\n",
      "    \"parent\": null\n",
      "  },\n",
      "  \"B\": {\n",
      "    \"data\": \"Data for B\",\n",
      "    \"parent\": \"A\"\n",
      "  },\n",
      "  \"C\": {\n",
      "    \"data\": \"Data for C\",\n",
      "    \"parent\": \"A\"\n",
      "  },\n",
      "  \"D\": {\n",
      "    \"data\": \"Data for D\",\n",
      "    \"parent\": \"C\"\n",
      "  },\n",
      "  \"E\": {\n",
      "    \"data\": \"Data for E\",\n",
      "    \"parent\": \"C\"\n",
      "  },\n",
      "  \"F\": {\n",
      "    \"data\": \"Data for F\",\n",
      "    \"parent\": \"E\"\n",
      "  },\n",
      "  \"G\": {\n",
      "    \"data\": \"Data for G\",\n",
      "    \"parent\": \"E\"\n",
      "  },\n",
      "  \"H\": {\n",
      "    \"data\": \"Data for H\",\n",
      "    \"parent\": \"B\"\n",
      "  },\n",
      "  \"I\": {\n",
      "    \"data\": \"Data for I\",\n",
      "    \"parent\": \"A\"\n",
      "  },\n",
      "  \"J\": {\n",
      "    \"data\": \"Data for J\",\n",
      "    \"parent\": \"I\"\n",
      "  },\n",
      "  \"K\": {\n",
      "    \"data\": \"Data for K\",\n",
      "    \"parent\": \"G\"\n",
      "  },\n",
      "  \"L\": {\n",
      "    \"data\": \"Data for L\",\n",
      "    \"parent\": \"G\"\n",
      "  },\n",
      "  \"M\": {\n",
      "    \"data\": \"Data for M\",\n",
      "    \"parent\": \"C\"\n",
      "  }\n",
      "}\n",
      "--------------------------------------------------------------------------------\n",
      "{\n",
      "  \"1\": {\n",
      "    \"data\": 1,\n",
      "    \"parent\": null\n",
      "  },\n",
      "  \"2\": {\n",
      "    \"data\": 2,\n",
      "    \"parent\": \"1\"\n",
      "  },\n",
      "  \"3\": {\n",
      "    \"data\": 3,\n",
      "    \"parent\": \"1\"\n",
      "  },\n",
      "  \"4\": {\n",
      "    \"data\": 4,\n",
      "    \"parent\": \"3\"\n",
      "  },\n",
      "  \"5\": {\n",
      "    \"data\": 5,\n",
      "    \"parent\": \"3\"\n",
      "  },\n",
      "  \"A\": {\n",
      "    \"data\": \"Data for A\",\n",
      "    \"parent\": null\n",
      "  },\n",
      "  \"B\": {\n",
      "    \"data\": \"Data for B\",\n",
      "    \"parent\": \"A\"\n",
      "  },\n",
      "  \"C\": {\n",
      "    \"data\": \"Data for C\",\n",
      "    \"parent\": \"A\"\n",
      "  },\n",
      "  \"D\": {\n",
      "    \"data\": \"Data for D\",\n",
      "    \"parent\": \"C\"\n",
      "  },\n",
      "  \"E\": {\n",
      "    \"data\": \"Data for E\",\n",
      "    \"parent\": \"C\"\n",
      "  },\n",
      "  \"F\": {\n",
      "    \"data\": \"Data for F\",\n",
      "    \"parent\": \"E\"\n",
      "  },\n",
      "  \"G\": {\n",
      "    \"data\": \"Data for G\",\n",
      "    \"parent\": \"E\"\n",
      "  },\n",
      "  \"H\": {\n",
      "    \"data\": \"Data for H\",\n",
      "    \"parent\": \"B\"\n",
      "  },\n",
      "  \"I\": {\n",
      "    \"data\": \"Data for I\",\n",
      "    \"parent\": \"A\"\n",
      "  },\n",
      "  \"J\": {\n",
      "    \"data\": \"Data for J\",\n",
      "    \"parent\": \"I\"\n",
      "  },\n",
      "  \"K\": {\n",
      "    \"data\": \"Data for K\",\n",
      "    \"parent\": \"G\"\n",
      "  },\n",
      "  \"L\": {\n",
      "    \"data\": \"Data for L\",\n",
      "    \"parent\": \"G\"\n",
      "  },\n",
      "  \"M\": {\n",
      "    \"data\": \"Data for M\",\n",
      "    \"parent\": \"C\"\n",
      "  }\n",
      "}\n",
      "--------------------------------------------------------------------------------\n",
      "{\n",
      "  \"1\": {\n",
      "    \"data\": 1,\n",
      "    \"parent\": null\n",
      "  },\n",
      "  \"2\": {\n",
      "    \"data\": 2,\n",
      "    \"parent\": \"1\"\n",
      "  },\n",
      "  \"3\": {\n",
      "    \"data\": 3,\n",
      "    \"parent\": \"1\"\n",
      "  },\n",
      "  \"4\": {\n",
      "    \"data\": 4,\n",
      "    \"parent\": \"3\"\n",
      "  },\n",
      "  \"5\": {\n",
      "    \"data\": 5,\n",
      "    \"parent\": \"3\"\n",
      "  },\n",
      "  \"A\": {\n",
      "    \"data\": \"Data for A\",\n",
      "    \"parent\": null\n",
      "  },\n",
      "  \"B\": {\n",
      "    \"data\": \"Data for B\",\n",
      "    \"parent\": \"A\"\n",
      "  },\n",
      "  \"C\": {\n",
      "    \"data\": \"Data for C\",\n",
      "    \"parent\": \"A\"\n",
      "  },\n",
      "  \"D\": {\n",
      "    \"data\": \"Data for D\",\n",
      "    \"parent\": \"C\"\n",
      "  },\n",
      "  \"E\": {\n",
      "    \"data\": \"Data for E\",\n",
      "    \"parent\": \"C\"\n",
      "  },\n",
      "  \"F\": {\n",
      "    \"data\": \"Data for F\",\n",
      "    \"parent\": \"E\"\n",
      "  },\n",
      "  \"G\": {\n",
      "    \"data\": \"Data for G\",\n",
      "    \"parent\": \"E\"\n",
      "  },\n",
      "  \"H\": {\n",
      "    \"data\": \"Data for H\",\n",
      "    \"parent\": \"B\"\n",
      "  },\n",
      "  \"I\": {\n",
      "    \"data\": \"Data for I\",\n",
      "    \"parent\": \"A\"\n",
      "  },\n",
      "  \"J\": {\n",
      "    \"data\": \"Data for J\",\n",
      "    \"parent\": \"I\"\n",
      "  },\n",
      "  \"K\": {\n",
      "    \"data\": \"Data for K\",\n",
      "    \"parent\": \"G\"\n",
      "  },\n",
      "  \"L\": {\n",
      "    \"data\": \"Data for L\",\n",
      "    \"parent\": \"G\"\n",
      "  },\n",
      "  \"M\": {\n",
      "    \"data\": \"Data for M\",\n",
      "    \"parent\": \"C\"\n",
      "  }\n",
      "}\n",
      "--------------------------------------------------------------------------------\n"
     ]
    }
   ],
   "source": [
    "# load a forest from data\n",
    "print(json.dumps(dict(forest2), indent=2, sort_keys=True))\n",
    "print(\"-\" * 80)\n",
    "print(json.dumps(dict(forest), indent=2, sort_keys=True))\n",
    "\n",
    "forest3 = FlatForest(forest)\n",
    "print(\"-\" * 80)\n",
    "print(json.dumps(dict(forest3), indent=2, sort_keys=True))\n",
    "print(\"-\" * 80)"
   ]
  },
  {
   "cell_type": "code",
   "execution_count": 24,
   "metadata": {},
   "outputs": [
    {
     "name": "stdout",
     "output_type": "stream",
     "text": [
      "True\n",
      "True\n",
      "True\n"
     ]
    }
   ],
   "source": [
    "print(json.dumps(dict(forest), indent=2, sort_keys=True) == json.dumps(dict(forest2), indent=2, sort_keys=True))\n",
    "print(json.dumps(dict(forest), indent=2, sort_keys=True) == json.dumps(dict(forest3), indent=2, sort_keys=True))\n",
    "print(json.dumps(dict(forest2), indent=2, sort_keys=True) == json.dumps(dict(forest3), indent=2, sort_keys=True))"
   ]
  },
  {
   "cell_type": "code",
   "execution_count": 25,
   "metadata": {},
   "outputs": [
    {
     "data": {
      "text/plain": [
       "FlatForestNode(name=__ROOT__, parent=None, payload={}, root=__ROOT__, children=['1', 'A'])"
      ]
     },
     "execution_count": 25,
     "metadata": {},
     "output_type": "execute_result"
    }
   ],
   "source": [
    "forest.as_tree()"
   ]
  },
  {
   "cell_type": "code",
   "execution_count": 26,
   "metadata": {},
   "outputs": [
    {
     "name": "stdout",
     "output_type": "stream",
     "text": [
      "1\n",
      "├───── 2\n",
      "└───── 3\n",
      "       ├───── 4\n",
      "       └───── 5\n",
      "\n",
      "A\n",
      "├───── B\n",
      "│      └───── H\n",
      "├───── C\n",
      "│      ├───── D\n",
      "│      ├───── E\n",
      "│      │      ├───── F\n",
      "│      │      └───── G\n",
      "│      │             ├───── K\n",
      "│      │             └───── L\n",
      "│      └───── M\n",
      "└───── I\n",
      "       └───── J\n",
      "\n",
      "1\n",
      "├───── 2\n",
      "└───── 3\n",
      "       ├───── 4\n",
      "       └───── 5\n",
      "\n",
      "C\n",
      "├───── D\n",
      "├───── E\n",
      "│      ├───── F\n",
      "│      └───── G\n",
      "│             ├───── K\n",
      "│             └───── L\n",
      "└───── M\n",
      "\n"
     ]
    }
   ],
   "source": [
    "forest.preferred_root = \"1\"\n",
    "print(pretty_tree(forest.subtree()))\n",
    "forest.preferred_root = \"A\"\n",
    "print(pretty_tree(forest.subtree()))\n",
    "print(pretty_tree(forest.subtree(\"1\")))\n",
    "print(pretty_tree(forest.subtree(\"C\")))"
   ]
  },
  {
   "cell_type": "markdown",
   "metadata": {},
   "source": [
    "For visualizing trees, we can use the `PrettyTree` class and the `pretty_tree`\n",
    "function. The `PrettyTree` class is a simple tree data structure that can be\n",
    "used to visualize trees in pretty text format, optionally with the ability\n",
    "to mark nodes for highlighting."
   ]
  },
  {
   "cell_type": "code",
   "execution_count": 27,
   "metadata": {},
   "outputs": [
    {
     "data": {
      "text/markdown": [
       "<pre>A ◄ Data for A 🔴\n",
       "├───── B ◄ Data for B\n",
       "│      └───── H ◄ Data for H\n",
       "├───── C ◄ Data for C\n",
       "│      ├───── D ◄ Data for D\n",
       "│      ├───── E ◄ Data for E\n",
       "│      │      ├───── F ◄ Data for F\n",
       "│      │      └───── G ◄ Data for G 🔴\n",
       "│      │             ├───── K ◄ Data for K\n",
       "│      │             └───── L ◄ Data for L\n",
       "│      └───── M ◄ Data for M\n",
       "└───── I ◄ Data for I\n",
       "       └───── J ◄ Data for J\n",
       "</pre>"
      ],
      "text/plain": [
       "<IPython.core.display.Markdown object>"
      ]
     },
     "metadata": {},
     "output_type": "display_data"
    }
   ],
   "source": [
    "monotext(pretty_tree(forest.subtree(\"A\"), mark=[\"A\", \"G\"], node_details=lambda node: node.payload['data']))"
   ]
  },
  {
   "cell_type": "code",
   "execution_count": 28,
   "metadata": {},
   "outputs": [
    {
     "data": {
      "text/markdown": [
       "<pre>A\n",
       "├───── B\n",
       "│      └───── H 🔵\n",
       "├───── C\n",
       "│      ├───── D 🔘\n",
       "│      ├───── E\n",
       "│      │      ├───── F\n",
       "│      │      └───── G\n",
       "│      │             ├───── K\n",
       "│      │             └───── L\n",
       "│      └───── M\n",
       "└───── I\n",
       "       └───── J\n",
       "</pre>"
      ],
      "text/plain": [
       "<IPython.core.display.Markdown object>"
      ]
     },
     "metadata": {},
     "output_type": "display_data"
    }
   ],
   "source": [
    "monotext(pretty_tree(forest.subtree(\"A\"), mark=[\"H\", \"D\"]))"
   ]
  },
  {
   "cell_type": "code",
   "execution_count": 29,
   "metadata": {},
   "outputs": [
    {
     "name": "stdout",
     "output_type": "stream",
     "text": [
      "{'node_info': {'ancestors': [],\n",
      "               'children': ['D', 'E', 'M'],\n",
      "               'depth': 0,\n",
      "               'descendants': ['D', 'E', 'F', 'G', 'K', 'L', 'M'],\n",
      "               'is_internal': True,\n",
      "               'is_leaf': False,\n",
      "               'is_root': True,\n",
      "               'leaves_under': ['D', 'F', 'K', 'L', 'M'],\n",
      "               'name': 'C',\n",
      "               'parent': None,\n",
      "               'path': ['C'],\n",
      "               'payload': {'data': 'Data for C'},\n",
      "               'root_distance': 0,\n",
      "               'siblings': [],\n",
      "               'type': \"<class 'AlgoTree.flat_forest_node.FlatForestNode'>\"},\n",
      " 'subtree_info': {'height': 3,\n",
      "                  'leaves': ['D', 'F', 'K', 'L', 'M'],\n",
      "                  'root': 'C',\n",
      "                  'size': 8}}\n"
     ]
    }
   ],
   "source": [
    "from pprint import pprint\n",
    "from AlgoTree import utils\n",
    "pprint(utils.node_stats(forest.subtree(\"C\")))"
   ]
  },
  {
   "cell_type": "markdown",
   "metadata": {},
   "source": [
    "The `FlatForest` class provides a **view** of a `dict` object as a forest. We do not modify\n",
    "the `dict` passed into it (and you can create a dict through the `FlatForest` API).\n",
    "Since it's just a view of a `dict` we have all the normal operations on it that\n",
    "we would have on a `dict` object.\n",
    "\n",
    "`FlatForest` also implements the concept of a node, which is a view of a particular node\n",
    "in our node-centric API. In order to do this, we specify a preferred root node,\n",
    "which by default is the first root node in the forest. This is the node that\n",
    "will be used as the root node in the `FlatForestNode` API. If you want to change\n",
    "the root node, you can do so by calling `FlatForest.preferred_root` with\n",
    "the name of the node you want to be the preferred root.\n",
    "\n",
    "We also provide as `as_tree` method that unifies any `dict` object representing\n",
    "a flat forest structure into a flat forest structure with just a single root node,\n",
    "where all the root nodes are children of this root node. This is no longer a\n",
    "view, however, as we return a new `dict` object.\n"
   ]
  },
  {
   "cell_type": "code",
   "execution_count": 30,
   "metadata": {},
   "outputs": [
    {
     "name": "stdout",
     "output_type": "stream",
     "text": [
      "{'data': 'Data for C', 'parent': 'A'}\n",
      "FlatForestNode(name=C, parent=None, payload={'data': 'Data for C'}, root=C, children=['D', 'E', 'M'])\n",
      "A\n",
      "[FlatForestNode(name=D, parent=C, payload={'data': 'Data for D'}, root=C, children=[]), FlatForestNode(name=E, parent=C, payload={'data': 'Data for E'}, root=C, children=['F', 'G']), FlatForestNode(name=M, parent=C, payload={'data': 'Data for M'}, root=C, children=[])]\n"
     ]
    }
   ],
   "source": [
    "print(forest[\"C\"])\n",
    "C = forest.subtree(\"C\")\n",
    "print(C)\n",
    "print(C[\"parent\"])\n",
    "print(C.children)"
   ]
  },
  {
   "cell_type": "markdown",
   "metadata": {},
   "source": [
    "We show that it's easy to regenerate any JSON files that may have been used\n",
    "to generate the FlatTree 'tree'. So, JSON is a good format for storing and\n",
    "transmitting trees. And, of course, `FlatTree` *is* a dictionary. Of course,\n",
    "if we store an object that has no serializable representation, it cannot be\n",
    "stored in JSON."
   ]
  },
  {
   "cell_type": "code",
   "execution_count": 31,
   "metadata": {},
   "outputs": [
    {
     "name": "stdout",
     "output_type": "stream",
     "text": [
      "FlatForestNode(name=N, parent=A, payload={'data': 'Data for M'}, root=A, children=[])\n"
     ]
    },
    {
     "data": {
      "text/markdown": [
       "<pre>A\n",
       "├───── B\n",
       "│      └───── H\n",
       "├───── C\n",
       "│      ├───── D\n",
       "│      ├───── E\n",
       "│      │      ├───── F\n",
       "│      │      └───── G\n",
       "│      │             ├───── K\n",
       "│      │             └───── L\n",
       "│      └───── M\n",
       "├───── I\n",
       "│      └───── J\n",
       "├───── N\n",
       "└───── O 🔘\n",
       "</pre>"
      ],
      "text/plain": [
       "<IPython.core.display.Markdown object>"
      ]
     },
     "metadata": {},
     "output_type": "display_data"
    }
   ],
   "source": [
    "N = forest.root.add_child(name=\"N\", data=\"Data for M\")\n",
    "print(N)\n",
    "forest.subtree(\"A\").add_child(name=\"O\", data=\"Data for O\")\n",
    "monotext(pretty_tree(forest.root.node(\"A\"), mark=[\"O\"]))"
   ]
  },
  {
   "cell_type": "markdown",
   "metadata": {},
   "source": [
    "If we try too add a non-unique node key to the tree, we will get a `KeyError`."
   ]
  },
  {
   "cell_type": "code",
   "execution_count": 32,
   "metadata": {},
   "outputs": [
    {
     "name": "stdout",
     "output_type": "stream",
     "text": [
      "'key already exists in the tree: B'\n"
     ]
    }
   ],
   "source": [
    "try:\n",
    "    forest.subtree(\"A\").add_child(name=\"B\")\n",
    "except KeyError as e:\n",
    "    print(e)"
   ]
  },
  {
   "cell_type": "markdown",
   "metadata": {},
   "source": [
    "Let's add some more nodes."
   ]
  },
  {
   "cell_type": "code",
   "execution_count": 33,
   "metadata": {},
   "outputs": [
    {
     "data": {
      "text/markdown": [
       "<pre>A\n",
       "├───── B\n",
       "│      └───── H\n",
       "├───── C\n",
       "│      ├───── D\n",
       "│      ├───── E\n",
       "│      │      ├───── F\n",
       "│      │      └───── G\n",
       "│      │             ├───── K\n",
       "│      │             └───── L\n",
       "│      └───── M\n",
       "├───── I\n",
       "│      └───── J\n",
       "├───── N 🟡\n",
       "│      ├───── P 🔴\n",
       "│      │      └───── R 🟤\n",
       "│      │             └───── S 🔘\n",
       "│      └───── Q 🟠\n",
       "└───── O\n",
       "</pre>"
      ],
      "text/plain": [
       "<IPython.core.display.Markdown object>"
      ]
     },
     "metadata": {},
     "output_type": "display_data"
    },
    {
     "name": "stdout",
     "output_type": "stream",
     "text": [
      "FlatForestNode(name=A, parent=None, payload={'data': 'Data for A'}, root=A, children=['B', 'C', 'I', 'N', 'O'])\n",
      "None\n"
     ]
    }
   ],
   "source": [
    "P = N.add_child(name=\"P\", data=\"Data for P\")\n",
    "N.add_child(name=\"Q\", data=\"Data for Q\")\n",
    "P.add_child(name=\"R\", data=\"Data for R\").add_child(\n",
    "    name=\"S\", data=\"Data for S\"\n",
    ")\n",
    "monotext(pretty_tree(forest.root, mark=[\"N\", \"P\", \"Q\", \"R\", \"S\"]))\n",
    "\n",
    "print(forest.root.node(\"A\"))\n",
    "print(forest.root.node(\"A\").parent)"
   ]
  },
  {
   "cell_type": "code",
   "execution_count": 34,
   "metadata": {},
   "outputs": [
    {
     "name": "stdout",
     "output_type": "stream",
     "text": [
      "['D']\n"
     ]
    }
   ],
   "source": [
    "f_nodes = utils.breadth_first_undirected(forest.subtree(\"D\"), 10)\n",
    "print([n.name for n in f_nodes])"
   ]
  },
  {
   "cell_type": "code",
   "execution_count": 35,
   "metadata": {},
   "outputs": [],
   "source": [
    "root_A = utils.subtree_rooted_at(forest.subtree(\"A\"), 2)"
   ]
  },
  {
   "cell_type": "code",
   "execution_count": 36,
   "metadata": {},
   "outputs": [],
   "source": [
    "center_D = utils.subtree_centered_at(forest.subtree(\"D\"), 2)\n"
   ]
  },
  {
   "cell_type": "code",
   "execution_count": 37,
   "metadata": {},
   "outputs": [
    {
     "data": {
      "text/markdown": [
       "<pre>D ◄ Data for D 🔘\n",
       "</pre>"
      ],
      "text/plain": [
       "<IPython.core.display.Markdown object>"
      ]
     },
     "metadata": {},
     "output_type": "display_data"
    }
   ],
   "source": [
    "monotext(pretty_tree(center_D, mark=[\"A\", \"D\"], node_details=lambda node: node.payload['data']))"
   ]
  },
  {
   "cell_type": "code",
   "execution_count": 38,
   "metadata": {},
   "outputs": [
    {
     "data": {
      "text/markdown": [
       "<pre>A ◄ Data for A 🔴\n",
       "├───── B ◄ Data for B\n",
       "│      └───── H ◄ Data for H\n",
       "├───── C ◄ Data for C\n",
       "│      ├───── D ◄ Data for D 🔘\n",
       "│      ├───── E ◄ Data for E\n",
       "│      └───── M ◄ Data for M\n",
       "├───── I ◄ Data for I\n",
       "│      └───── J ◄ Data for J\n",
       "├───── N ◄ Data for M\n",
       "│      ├───── P ◄ Data for P\n",
       "│      └───── Q ◄ Data for Q\n",
       "└───── O ◄ Data for O\n",
       "</pre>"
      ],
      "text/plain": [
       "<IPython.core.display.Markdown object>"
      ]
     },
     "metadata": {},
     "output_type": "display_data"
    }
   ],
   "source": [
    "monotext(pretty_tree(root_A, mark=[\"A\", \"D\"], node_details=lambda node: node.payload['data']))"
   ]
  },
  {
   "cell_type": "markdown",
   "metadata": {},
   "source": [
    "We also support conversions to and from `FlatTree`, `TreeNode`, and `anytree.Node` objects, or any other object which has an `__init__` method that takes arguments, or keyword arguments, and also has arguments for `parent` and `name`.\n",
    "\n",
    "The function is called `TreeConverter.copy_under` which accepts a `source` and `target` object, and copies the `source` object under the `target` object. The source is normally\n",
    "a node of some kind, and the target is another node, and the result is the tree\n",
    "structure under the source node is copied under the target node. The source node\n",
    "is not modified in any way."
   ]
  },
  {
   "cell_type": "code",
   "execution_count": 40,
   "metadata": {},
   "outputs": [
    {
     "ename": "ValueError",
     "evalue": "Max tries exceeded",
     "output_type": "error",
     "traceback": [
      "\u001b[0;31m---------------------------------------------------------------------------\u001b[0m",
      "\u001b[0;31mValueError\u001b[0m                                Traceback (most recent call last)",
      "Cell \u001b[0;32mIn[40], line 2\u001b[0m\n\u001b[1;32m      1\u001b[0m \u001b[38;5;28;01mfrom\u001b[39;00m \u001b[38;5;21;01mAlgoTree\u001b[39;00m\u001b[38;5;21;01m.\u001b[39;00m\u001b[38;5;21;01mtreenode\u001b[39;00m \u001b[38;5;28;01mimport\u001b[39;00m TreeNode\n\u001b[0;32m----> 2\u001b[0m tree1 \u001b[38;5;241m=\u001b[39m \u001b[43mTreeConverter\u001b[49m\u001b[38;5;241;43m.\u001b[39;49m\u001b[43mcopy_under\u001b[49m\u001b[43m(\u001b[49m\u001b[43mforest\u001b[49m\u001b[38;5;241;43m.\u001b[39;49m\u001b[43mroot\u001b[49m\u001b[43m,\u001b[49m\u001b[43m \u001b[49m\u001b[43mTreeNode\u001b[49m\u001b[43m(\u001b[49m\u001b[43mname\u001b[49m\u001b[38;5;241;43m=\u001b[39;49m\u001b[38;5;124;43m\"\u001b[39;49m\u001b[38;5;124;43mtreenode\u001b[39;49m\u001b[38;5;124;43m\"\u001b[39;49m\u001b[43m)\u001b[49m\u001b[43m)\u001b[49m\n\u001b[1;32m      3\u001b[0m tree2 \u001b[38;5;241m=\u001b[39m TreeConverter\u001b[38;5;241m.\u001b[39mcopy_under(forest\u001b[38;5;241m.\u001b[39mroot, FlatForestNode(name\u001b[38;5;241m=\u001b[39m\u001b[38;5;124m\"\u001b[39m\u001b[38;5;124mflatforestnode\u001b[39m\u001b[38;5;124m\"\u001b[39m))\n\u001b[1;32m      4\u001b[0m tree3 \u001b[38;5;241m=\u001b[39m TreeConverter\u001b[38;5;241m.\u001b[39mcopy_under(deepcopy(forest\u001b[38;5;241m.\u001b[39msubtree(\u001b[38;5;124m\"\u001b[39m\u001b[38;5;124mE\u001b[39m\u001b[38;5;124m\"\u001b[39m)), deepcopy(forest\u001b[38;5;241m.\u001b[39msubtree(\u001b[38;5;124m\"\u001b[39m\u001b[38;5;124mD\u001b[39m\u001b[38;5;124m\"\u001b[39m)), node_name\u001b[38;5;241m=\u001b[39m\u001b[38;5;28;01mlambda\u001b[39;00m node: \u001b[38;5;124mf\u001b[39m\u001b[38;5;124m\"\u001b[39m\u001b[38;5;132;01m{\u001b[39;00mnode\u001b[38;5;241m.\u001b[39mname\u001b[38;5;132;01m}\u001b[39;00m\u001b[38;5;124m'\u001b[39m\u001b[38;5;124m\"\u001b[39m)\n",
      "File \u001b[0;32m~/github/public/AlgoTree/AlgoTree/tree_converter.py:78\u001b[0m, in \u001b[0;36mTreeConverter.copy_under\u001b[0;34m(node, under, node_name, extract, max_tries)\u001b[0m\n\u001b[1;32m     75\u001b[0m         _build(child, node)\n\u001b[1;32m     76\u001b[0m     \u001b[38;5;28;01mreturn\u001b[39;00m node\n\u001b[0;32m---> 78\u001b[0m \u001b[38;5;28;01mreturn\u001b[39;00m \u001b[43m_build\u001b[49m\u001b[43m(\u001b[49m\u001b[43mnode\u001b[49m\u001b[43m,\u001b[49m\u001b[43m \u001b[49m\u001b[43munder\u001b[49m\u001b[43m)\u001b[49m\n",
      "File \u001b[0;32m~/github/public/AlgoTree/AlgoTree/tree_converter.py:72\u001b[0m, in \u001b[0;36mTreeConverter.copy_under.<locals>._build\u001b[0;34m(cur, und)\u001b[0m\n\u001b[1;32m     70\u001b[0m     tries \u001b[38;5;241m+\u001b[39m\u001b[38;5;241m=\u001b[39m \u001b[38;5;241m1\u001b[39m\n\u001b[1;32m     71\u001b[0m     \u001b[38;5;28;01mif\u001b[39;00m tries \u001b[38;5;241m>\u001b[39m\u001b[38;5;241m=\u001b[39m max_tries:\n\u001b[0;32m---> 72\u001b[0m         \u001b[38;5;28;01mraise\u001b[39;00m \u001b[38;5;167;01mValueError\u001b[39;00m(\u001b[38;5;124m\"\u001b[39m\u001b[38;5;124mMax tries exceeded\u001b[39m\u001b[38;5;124m\"\u001b[39m)\n\u001b[1;32m     74\u001b[0m \u001b[38;5;28;01mfor\u001b[39;00m child \u001b[38;5;129;01min\u001b[39;00m cur\u001b[38;5;241m.\u001b[39mchildren:\n\u001b[1;32m     75\u001b[0m     _build(child, node)\n",
      "\u001b[0;31mValueError\u001b[0m: Max tries exceeded"
     ]
    }
   ],
   "source": [
    "from AlgoTree.treenode import TreeNode\n",
    "tree1 = TreeConverter.copy_under(forest.root, TreeNode(name=\"treenode\"))\n",
    "tree2 = TreeConverter.copy_under(forest.root, FlatForestNode(name=\"flatforestnode\"))\n",
    "tree3 = TreeConverter.copy_under(deepcopy(forest.subtree(\"E\")), deepcopy(forest.subtree(\"D\")), node_name=lambda node: f\"{node.name}'\")\n",
    "monotext(pretty_tree(forest.root))\n",
    "monotext(pretty_tree(tree1))\n",
    "monotext(pretty_tree(tree2))\n",
    "monotext(pretty_tree(tree3.root, node_details=lambda node: node.payload['data']))\n"
   ]
  },
  {
   "cell_type": "markdown",
   "metadata": {},
   "source": [
    "We can iterate over the items of the child and we can modify/delete its data."
   ]
  },
  {
   "cell_type": "code",
   "execution_count": null,
   "metadata": {},
   "outputs": [],
   "source": [
    "for k, v in N.items():\n",
    "    print(k, \"<--\", v)\n",
    "\n",
    "N[\"new_data\"] = \"Some new data for G\"\n",
    "print(N)\n",
    "\n",
    "del N[\"new_data\"]\n",
    "N[\"other_new_data\"] = \"Some other data for G\"\n",
    "print(N)"
   ]
  },
  {
   "cell_type": "markdown",
   "metadata": {},
   "source": [
    "Let's create a tree from a dictionary that refers to a non-existent parent."
   ]
  },
  {
   "cell_type": "code",
   "execution_count": null,
   "metadata": {},
   "outputs": [],
   "source": [
    "try:\n",
    "    non_existent_parent_tree = FlatTree(\n",
    "        {\n",
    "            \"A\": {\n",
    "                \"parent\": \"non_existent_parent\",\n",
    "                \"data\": \"Data for A\",\n",
    "            }\n",
    "        }\n",
    "    )\n",
    "    FlatTree.check_valid(non_existent_parent_tree)\n",
    "except KeyError as e:\n",
    "    print(e)"
   ]
  },
  {
   "cell_type": "markdown",
   "metadata": {},
   "source": [
    "We see that the node is disconnected from the logical root, since it refers\n",
    "to a non-existent parent."
   ]
  },
  {
   "cell_type": "code",
   "execution_count": null,
   "metadata": {},
   "outputs": [],
   "source": [
    "try:\n",
    "    cycle_tree = FlatTree(\n",
    "        {\n",
    "            \"x\": {\"parent\": None, \"data\": \"Data for x\"},\n",
    "            \"A\": {\"parent\": \"C\", \"data\": \"Data for A\"},\n",
    "            \"B\": {\"parent\": \"A\", \"data\": \"Data for B\"},\n",
    "            \"C\": {\"parent\": \"B\", \"data\": \"Data for C\"},\n",
    "            \"D\": {\"parent\": \"x\", \"data\": \"Data for D\"},\n",
    "        }\n",
    "    )\n",
    "\n",
    "    monotext(pretty_tree(cycle_tree.root))\n",
    "    FlatTree.check_valid(cycle_tree)\n",
    "except ValueError as e:\n",
    "    print(e)"
   ]
  },
  {
   "cell_type": "markdown",
   "metadata": {},
   "source": [
    "We see that the tree was in an invalid state. In particular, nodes 1, 2, and 3\n",
    "are disconnected from the logical root and in a cycle. We can fix this by\n",
    "breaking the cycle and setting the parent of node 3 to, for instance, the\n",
    "logical root (by setting it to `None`)."
   ]
  },
  {
   "cell_type": "code",
   "execution_count": null,
   "metadata": {},
   "outputs": [],
   "source": [
    "cycle_tree[\"C\"][\"parent\"] = \"x\"\n",
    "FlatTree.check_valid(cycle_tree)\n",
    "monotext(pretty_tree(cycle_tree.root, mark=[\"C\"]))"
   ]
  },
  {
   "cell_type": "markdown",
   "metadata": {},
   "source": [
    "Let's look at the tree again, and see about creating a cycle."
   ]
  },
  {
   "cell_type": "markdown",
   "metadata": {},
   "source": [
    "We will make node 1 the parent of node 5, to create a cycle:"
   ]
  },
  {
   "cell_type": "code",
   "execution_count": null,
   "metadata": {},
   "outputs": [],
   "source": [
    "try:\n",
    "    new_tree = deepcopy(tree.root)\n",
    "    new_tree.node(\"A\")[\"parent\"] = \"E\"\n",
    "    FlatTree.check_valid(new_tree)\n",
    "except ValueError as e:\n",
    "    print(e)"
   ]
  },
  {
   "cell_type": "markdown",
   "metadata": {},
   "source": [
    "Notice that we use `deepcopy` to avoid modifying the original tree with these\n",
    "invalid operations. We chose to do it this way so as to not incur the overhead\n",
    "of reverting the tree to a valid state after an invalid operation. This way,\n",
    "we can keep the tree in an invalid state for as long as we want, and only\n",
    "revert it to a valid state when we want to."
   ]
  },
  {
   "cell_type": "markdown",
   "metadata": {},
   "source": [
    "Each node is a key-value pair in the `FlatTree`. We have the  `FlatTree.ProxyNode`\n",
    "so that we can have an API focused on the nodes and not the underlying dictionary.\n",
    "However, we stiill permit access to the underlying dictionary. When you modify\n",
    "the tree in this way, we still maintain the integrity of the tree.\n",
    "\n",
    "Since the `FlatTree` represents nodes as key-value pairs, and the value may\n",
    "have a parent key, along with any other arbitrary data, each value for a node\n",
    "must be a dictionary.\n",
    "\n",
    "Below, we see that trying to add a `test` node with a non-dictionary value\n",
    "generates an error."
   ]
  },
  {
   "cell_type": "code",
   "execution_count": null,
   "metadata": {},
   "outputs": [],
   "source": [
    "try:\n",
    "    error_tree = deepcopy(tree)\n",
    "    # this will raise a ValueError because the node with key `test` maps to\n",
    "    # string instead of a dict.\n",
    "    error_tree[\"test\"] = \"Some test data\"\n",
    "    FlatTree.check_valid(error_tree)\n",
    "except ValueError as e:\n",
    "    print(e)"
   ]
  },
  {
   "cell_type": "markdown",
   "metadata": {},
   "source": [
    "Let's manipulate the tree a bit more using the `dict` API. We're just going to\n",
    "add a `new_node` with some data."
   ]
  },
  {
   "cell_type": "code",
   "execution_count": null,
   "metadata": {},
   "outputs": [],
   "source": [
    "tree[\"T\"] = {\n",
    "    \"parent\": \"A\",\n",
    "    \"data\": \"Data for T\"\n",
    "}\n",
    "\n",
    "print(tree.node(\"T\"))\n",
    "print(tree.root)\n",
    "\n",
    "node0 = FlatTreeNode(name=\"0\", data=0)\n",
    "node1 = FlatTreeNode(name=\"1\", data=1, parent=node0)\n",
    "node2 = FlatTreeNode(name=\"2\", data=2, parent=node0)\n",
    "node3 = FlatTreeNode(name=\"3\", data=3, parent=node2)\n",
    "\n",
    "result = TreeConverter.copy_under(node0, tree.node(\"B\"))\n",
    "\n",
    "result2 = TreeConverter.convert(node0.tree.root, FlatTreeNode)\n",
    "\n",
    "monotext(pretty_tree(result2))\n"
   ]
  },
  {
   "cell_type": "code",
   "execution_count": null,
   "metadata": {},
   "outputs": [],
   "source": [
    "monotext(pretty_tree(tree.node(\"A\")))"
   ]
  },
  {
   "cell_type": "code",
   "execution_count": null,
   "metadata": {},
   "outputs": [],
   "source": [
    "pprint(tree)"
   ]
  },
  {
   "cell_type": "markdown",
   "metadata": {},
   "source": [
    "The logical root node is not a part of the underlying dictionary, so we can't\n",
    "access it through the `dict` API. It's non-children data are also immutable\n",
    "through the `FlatTreeNode` API."
   ]
  },
  {
   "cell_type": "code",
   "execution_count": null,
   "metadata": {},
   "outputs": [],
   "source": [
    "try:\n",
    "    tree.root[\"data\"] = \"Some new data for root node\"\n",
    "except TypeError as e:\n",
    "    print(e)\n",
    "\n",
    "try:\n",
    "    tree.root[\"parent\"] = None\n",
    "except TypeError as e:\n",
    "    print(e)"
   ]
  },
  {
   "cell_type": "markdown",
   "metadata": {},
   "source": [
    "We can *detach* nodes. Let's first view the full tree, pre-detachment."
   ]
  },
  {
   "cell_type": "code",
   "execution_count": null,
   "metadata": {},
   "outputs": [],
   "source": [
    "monotext(pretty_tree(tree.root))"
   ]
  },
  {
   "cell_type": "code",
   "execution_count": null,
   "metadata": {},
   "outputs": [],
   "source": [
    "tree.node(\"C\").detach()\n",
    "tree.detach(\"B\")\n",
    "monotext(pretty_tree(tree.root))\n"
   ]
  },
  {
   "cell_type": "markdown",
   "metadata": {},
   "source": [
    "Let's view the detached tree."
   ]
  },
  {
   "cell_type": "code",
   "execution_count": null,
   "metadata": {},
   "outputs": [],
   "source": [
    "monotext(pretty_tree(tree.detached, mark=[\"B\", \"C\"]))\n"
   ]
  },
  {
   "cell_type": "markdown",
   "metadata": {},
   "source": [
    "We can prune (delete) nodes (and their descendants) from the tree with the\n",
    "`prune` method. The prune method takes either a node key or a `FlatTreeNode`\n",
    "object. Let's prune the detached nodes:"
   ]
  },
  {
   "cell_type": "code",
   "execution_count": null,
   "metadata": {},
   "outputs": [],
   "source": [
    "# tree.prune(\"__DETACHED__\")\n",
    "pruned_keys = tree.prune(tree.detached)\n",
    "print(f\"Pruned keys: {pruned_keys}\")\n",
    "for key in pruned_keys:\n",
    "    try:\n",
    "        print(tree.node(key))\n",
    "    except KeyError as e:\n",
    "        print(e)\n",
    "\n",
    "pprint(tree)"
   ]
  },
  {
   "cell_type": "markdown",
   "metadata": {},
   "source": [
    "We can prune any subtree from the tree. Let's prune the subtree rooted at\n",
    "node 3."
   ]
  },
  {
   "cell_type": "code",
   "execution_count": null,
   "metadata": {},
   "outputs": [],
   "source": [
    "pruned_keys = tree.prune(\"P\")\n",
    "print(f\"{pruned_keys=}\")\n",
    "for key in pruned_keys:\n",
    "    try:\n",
    "        print(tree.node(key))\n",
    "    except KeyError as e:\n",
    "        print(e)\n",
    "\n",
    "monotext(pretty_tree(tree.root))"
   ]
  },
  {
   "cell_type": "markdown",
   "metadata": {},
   "source": [
    "\n",
    "We have a fairly complete API for manipulating the tree. Let's explore some\n",
    "additional methods."
   ]
  },
  {
   "cell_type": "code",
   "execution_count": null,
   "metadata": {},
   "outputs": [],
   "source": [
    "tree.node(\"A\").clear()\n",
    "tree.node(\"A\")[\"new_data\"] = \"Some new data for A\"\n",
    "tree.node(\"A\")[\"other_new_data\"] = \"Some other data for A\"\n",
    "print(tree[\"A\"])"
   ]
  },
  {
   "cell_type": "markdown",
   "metadata": {},
   "source": [
    "This is fairly self-expalanatory. Let's add some more nodes without specifying\n",
    "a key name for them, since often we don't care about the key name and it's\n",
    "only for bookkeeping purposes."
   ]
  },
  {
   "cell_type": "code",
   "execution_count": null,
   "metadata": {},
   "outputs": [],
   "source": [
    "tree.root.add_child(whatever=3).add_child(\n",
    "    name=\"U\", whatever=4).add_child(whatever=5)\n",
    "FlatTreeNode(whatever=1000, parent=tree.root.children[0])\n",
    "FlatTreeNode(name=\"V\", whatever=2000, parent=tree.root.children[0].children[1])\n",
    "FlatTreeNode(whatever=3000, more_data=\"yes\", parent=tree.node(\"V\"))\n",
    "FlatTreeNode(name=\"W\", parent=tree.root, whatever=200)\n",
    "\n",
    "\n",
    "tree.node(\"V\").parent = tree.node(\"W\")\n",
    "\n",
    "monotext(pretty_tree(tree.root, mark=[\"U\", \"V\", \"W\"], node_details=lambda n: n.payload))\n",
    "\n"
   ]
  },
  {
   "cell_type": "markdown",
   "metadata": {},
   "source": [
    "Let's look at some tree conversions. We can convert between different tree\n",
    "representations and data structures."
   ]
  },
  {
   "cell_type": "code",
   "execution_count": null,
   "metadata": {},
   "outputs": [],
   "source": [
    "new_tree = TreeConverter.convert(tree.root, TreeNode)\n",
    "print(type(new_tree))"
   ]
  },
  {
   "cell_type": "markdown",
   "metadata": {},
   "source": [
    "We see that it's a different type of tree, a `TreeNode`, which is a recursive\n",
    "data structure. Nowever, it's also a `dict`. Let's look at its representation."
   ]
  },
  {
   "cell_type": "code",
   "execution_count": null,
   "metadata": {},
   "outputs": [],
   "source": [
    "pprint(new_tree)"
   ]
  },
  {
   "cell_type": "markdown",
   "metadata": {},
   "source": [
    "We see that it has a very different structure. However, when we pretty-print\n",
    "it using `TreeViz`, we see that it's the same tree."
   ]
  },
  {
   "cell_type": "code",
   "execution_count": null,
   "metadata": {},
   "outputs": [],
   "source": [
    "monotext(pretty_tree(tree.root))\n",
    "monotext(pretty_tree(new_tree))"
   ]
  },
  {
   "cell_type": "code",
   "execution_count": null,
   "metadata": {},
   "outputs": [],
   "source": [
    "result = TreeConverter.copy_under(new_tree, FlatTreeNode(name=\"new_root\"))\n",
    "monotext(pretty_tree(result))\n",
    "result2 = TreeConverter.copy_under(result, new_tree)\n",
    "monotext(pretty_tree(result2))"
   ]
  },
  {
   "cell_type": "markdown",
   "metadata": {},
   "source": [
    "The `TreeNode` is a bit more useful for operations that require recursion, but\n",
    "any tree can support the sae operations. The `TreeNode` is a bit more specialized\n",
    "for this purpose, and the `FlatTree` is a bit more specialized for more general\n",
    "storage and manipulation of data that is tree-like, such as configuration data\n",
    "or log data. See `TreeNode.md` for more information on the `TreeNode` class."
   ]
  },
  {
   "cell_type": "code",
   "execution_count": null,
   "metadata": {},
   "outputs": [],
   "source": [
    "root = TreeNode(name=\"root\", payload= {\"value\":0}, parent=None)\n",
    "A = TreeNode(name=\"A\", payload={\"value\":1}, parent=root)\n",
    "print(root.children)\n"
   ]
  },
  {
   "cell_type": "code",
   "execution_count": null,
   "metadata": {},
   "outputs": [],
   "source": [
    "\n",
    "A = TreeNode(name=\"A\", parent=root, value=1)\n",
    "B = TreeNode(name=\"B\", parent=root, value=2)\n",
    "C = TreeNode(name=\"C\", parent=root, value=3)\n",
    "D = TreeNode(name=\"D\", parent=C, value=4)\n",
    "E = TreeNode(name=\"E\", parent=C, value=5)\n",
    "F = TreeNode(name=\"F\", parent=C, value=6)\n",
    "G = TreeNode(name=\"G\", parent=C, value=7)\n",
    "H = TreeNode(name=\"H\", parent=C, value=8)\n",
    "I = TreeNode(name=\"I\", parent=F, value=9)\n",
    "monotext(pretty_tree(root))\n",
    "\n",
    "#I[\"what\"] = \"Some data\"\n",
    "#I.add_child(name=\"AAAA\", value=10)\n",
    "#I.add_child(name=\"Y\", value=11)\n",
    "#I.add_child(value=12)\n",
    "#print(json.dumps(root.to_dict(), indent=2))\n",
    "\n",
    "#I[\"children\"] = [\n",
    "#    {\"value\": 10},\n",
    "#    {\"name\": \"Y\", \"value\": 11},\n",
    "#    {\"value\": 12},\n",
    "#]\n",
    "#monotext(pretty_tree(root))\n",
    "#monotext(pretty_tree(root, node_name=lambda n: n))\n"
   ]
  },
  {
   "cell_type": "code",
   "execution_count": null,
   "metadata": {},
   "outputs": [],
   "source": [
    ")\n",
    "A = TreeNode(name=\"A\", parent=root, value=1)\n",
    "B = TreeNode(name=\"B\", parent=root, value=2)\n",
    "C = TreeNode(name=\"C\", parent=root, value=3)\n",
    "D = TreeNode(name=\"D\", parent=C, value=4)\n",
    "E = TreeNode(name=\"E\", parent=C, value=5)\n",
    "F = TreeNode(name=\"F\", parent=C, value=6)\n",
    "G = TreeNode(name=\"G\", parent=C, value=7)\n",
    "H = TreeNode(name=\"H\", parent=C, value=8)\n",
    "I = TreeNode(name=\"I\", parent=F, value=9)\n",
    "monotext(pretty_tree(root))\n",
    "\n",
    "#I[\"what\"] = \"Some data\"\n",
    "#I.add_child(name=\"AAAA\", value=10)\n",
    "#I.add_child(name=\"Y\", value=11)\n",
    "#I.add_child(value=12)\n",
    "#print(json.dumps(root.to_dict(), indent=2))\n",
    "\n",
    "#I[\"children\"] = [\n",
    "#    {\"value\": 10},\n",
    "#    {\"name\": \"Y\", \"value\": 11},\n",
    "#    {\"value\": 12},\n",
    "#]\n",
    "#monotext(pretty_tree(root))\n",
    "#monotext(pretty_tree(root, node_name=lambda n: n))\n"
   ]
  },
  {
   "cell_type": "code",
   "execution_count": null,
   "metadata": {},
   "outputs": [],
   "source": [
    "\n",
    "\n",
    "H.children = [\n",
    "    TreeNode(name=\"X\", value=13),\n",
    "    TreeNode(name=\"Z\", value=14),\n",
    "]\n"
   ]
  },
  {
   "cell_type": "code",
   "execution_count": null,
   "metadata": {},
   "outputs": [],
   "source": [
    "\n",
    "root.node(\"Y\").children = [TreeNode(name=\"Z\", value=15),\n",
    "                           TreeNode(name=\"XYZ\", value=16)]\n",
    "monotext(pretty_tree(root.node(\"A\").root))\n",
    "monotext(pretty_tree(root.node(\"Y\").root))\n",
    "monotext(pretty_tree(root.node(\"Y\")))"
   ]
  },
  {
   "cell_type": "markdown",
   "metadata": {},
   "source": [
    "Algorithm Examples\n",
    "------------------\n",
    "\n",
    "Using utility algorithms with `FlatTree` and `FlatTreeNode`:\n",
    "\n",
    "Finding descendants of a node:\n"
   ]
  },
  {
   "cell_type": "code",
   "execution_count": null,
   "metadata": {},
   "outputs": [],
   "source": [
    "from AlgoTree.utils import *\n",
    "from pprint import pprint\n",
    "pprint(descendants(C))"
   ]
  },
  {
   "cell_type": "markdown",
   "metadata": {},
   "source": [
    "Finding ancestors of a node:"
   ]
  },
  {
   "cell_type": "code",
   "execution_count": null,
   "metadata": {},
   "outputs": [],
   "source": [
    "pprint(ancestors(I))"
   ]
  },
  {
   "cell_type": "markdown",
   "metadata": {},
   "source": [
    "Finding siblings of a node:"
   ]
  },
  {
   "cell_type": "code",
   "execution_count": null,
   "metadata": {},
   "outputs": [],
   "source": [
    "pprint(siblings(E))"
   ]
  },
  {
   "cell_type": "markdown",
   "metadata": {},
   "source": [
    "Finding leaves of a node:"
   ]
  },
  {
   "cell_type": "code",
   "execution_count": null,
   "metadata": {},
   "outputs": [],
   "source": [
    "pprint(leaves(root))"
   ]
  },
  {
   "cell_type": "markdown",
   "metadata": {},
   "source": [
    "Finding the height of a tree:"
   ]
  },
  {
   "cell_type": "code",
   "execution_count": null,
   "metadata": {},
   "outputs": [],
   "source": [
    "pprint(height(root))"
   ]
  },
  {
   "cell_type": "markdown",
   "metadata": {},
   "source": [
    "Finding the depth of a node:"
   ]
  },
  {
   "cell_type": "code",
   "execution_count": null,
   "metadata": {},
   "outputs": [],
   "source": [
    "pprint(depth(I))"
   ]
  },
  {
   "cell_type": "markdown",
   "metadata": {},
   "source": [
    "Breadth-first traversal:"
   ]
  },
  {
   "cell_type": "code",
   "execution_count": null,
   "metadata": {},
   "outputs": [],
   "source": [
    "def print_node(node, level):\n",
    "    print(f\"Level {level}: {node.name}\")\n",
    "    return False\n",
    "\n",
    "breadth_first(root, print_node)"
   ]
  },
  {
   "cell_type": "code",
   "execution_count": null,
   "metadata": {},
   "outputs": [],
   "source": [
    "myflatroot = FlatTreeNode(name=\"A\", value=1)\n",
    "FlatTreeNode(name=\"B\", parent=myflatroot, value=2)\n",
    "myflatc = FlatTreeNode(name=\"C\", parent=myflatroot, value=3)\n",
    "FlatTreeNode(name=\"D\", parent=myflatc, value=4)\n",
    "copy_myflatroot = deepcopy(myflatroot)\n"
   ]
  },
  {
   "cell_type": "code",
   "execution_count": null,
   "metadata": {},
   "outputs": [],
   "source": [
    "pprint(myflatroot.tree)"
   ]
  },
  {
   "cell_type": "code",
   "execution_count": null,
   "metadata": {},
   "outputs": [],
   "source": [
    "\n",
    "\n",
    "print(copy_myflatroot == myflatroot)\n",
    "copy_myflatroot._tree[\"E\"] = {\"value\": 5, \"parent\": \"C\"}\n",
    "monotext(pretty_tree(copy_myflatroot))\n"
   ]
  },
  {
   "cell_type": "code",
   "execution_count": null,
   "metadata": {},
   "outputs": [],
   "source": [
    "\n",
    "myroot = TreeNode(name=\"A\", value=1)\n",
    "TreeNode(name=\"B\", parent=myroot, value=2)\n",
    "myc = TreeNode(name=\"C\", parent=myroot, value=3)\n",
    "TreeNode(name=\"D\", parent=myc, value=4)\n",
    "monotext(pretty_tree(myroot))\n",
    "monotext(pretty_tree(myc))\n",
    "mytsroot = utils.node_stats(myroot)\n",
    "mytsc = utils.node_stats(myc)\n",
    "myflattsroot = utils.node_stats(myflatroot)\n",
    "myflattsc = utils.node_stats(myflatc)\n",
    "pprint(mytsroot)\n",
    "pprint(mytsc)\n",
    "print(myflattsroot == mytsroot)\n",
    "print(myflattsc == mytsc)\n",
    "print(pretty_tree(myroot) == pretty_tree(myflatroot))\n",
    "print(pretty_tree(myc) == pretty_tree(myflatc))\n"
   ]
  },
  {
   "cell_type": "markdown",
   "metadata": {},
   "source": [
    "Mapping a function over the nodes:"
   ]
  },
  {
   "cell_type": "code",
   "execution_count": null,
   "metadata": {},
   "outputs": [],
   "source": [
    "def add_prefix(node):\n",
    "    if node is None:\n",
    "        return None\n",
    "    elif node.name == \"root\":\n",
    "        node.name = \"X\"\n",
    "    elif node.name == \"B\":\n",
    "        node.children = [TreeNode(name=\"Y\", value=21),\n",
    "                         TreeNode(name=\"Z\", value=22)]\n",
    "    elif node.name == \"H\":\n",
    "        node.children = []\n",
    "    elif node.name == \"D\":\n",
    "        # add Q and R as children of D\n",
    "        node.add_child(name=\"Q\", value=41)\n",
    "        node.add_child(name=\"R\", value=42)\n",
    "    elif node.name == \"I\":\n",
    "        # delete I by returning None (i.e. don't add it to the new tree)\n",
    "        return None\n",
    "    return node\n",
    "\n",
    "root_mapped = map(deepcopy(root), add_prefix)\n",
    "\n",
    "monotext(pretty_tree(root_mapped))\n",
    "\n",
    "monotext(pretty_tree(root))"
   ]
  },
  {
   "cell_type": "markdown",
   "metadata": {},
   "source": [
    "Pruning nodes based on a predicate:"
   ]
  },
  {
   "cell_type": "code",
   "execution_count": null,
   "metadata": {},
   "outputs": [],
   "source": [
    "\n",
    "def should_prune(node):\n",
    "    # if digits in the node name, prune it\n",
    "    return any(c.isdigit() for c in str(node.name))\n",
    "\n",
    "pruned_tree = prune(root, should_prune)\n",
    "monotext(pretty_tree(pruned_tree))"
   ]
  },
  {
   "cell_type": "markdown",
   "metadata": {},
   "source": [
    "Finding root-to-leaf paths:"
   ]
  },
  {
   "cell_type": "code",
   "execution_count": null,
   "metadata": {},
   "outputs": [],
   "source": [
    "from pprint import pprint\n",
    "paths = node_to_leaf_paths(root)\n",
    "# print max path length from root to leaf\n",
    "pprint(max(paths, key=len))\n",
    "print(utils.height(root) == len(max(paths, key=len)) - 1)\n"
   ]
  },
  {
   "cell_type": "markdown",
   "metadata": {},
   "source": [
    "Converting paths to a tree:"
   ]
  },
  {
   "cell_type": "code",
   "execution_count": null,
   "metadata": {},
   "outputs": [],
   "source": [
    "\n",
    "rooter = paths_to_tree([[\"a\", \"b\", \"c\"], [\"a\", \"b\", \"d\"], [\"a\", \"e\", \"d\"],\n",
    "                        [\"a\", \"f\", \"d\"], [\"a\", \"e\", \"g\" ], [\"a\", \"e\", \"h\"],\n",
    "                        [\"a\", \"i\", \"j\", \"b\"], [\"a\", \"i\", \"j\", \"b\", \"m\"],\n",
    "                        [\"a\", \"i\", \"j\", \"l\", \"b\", \"b\", \"b\", \"b\", \"b\", \"b\", \"t\", \"u\", \"v\", \"w\", \"x\", \"y\", \"b\"]],\n",
    "                        TreeNode)\n",
    "monotext(pretty_tree(rooter))"
   ]
  },
  {
   "cell_type": "code",
   "execution_count": null,
   "metadata": {},
   "outputs": [],
   "source": [
    "rooter2 = paths_to_tree([[\"a\", \"b\", \"c\"], [\"a\", \"b\", \"d\"], [\"a\", \"e\", \"d\"],\n",
    "                        [\"a\", \"f\", \"d\"], [\"a\", \"e\", \"g\" ], [\"a\", \"e\", \"h\"],\n",
    "                        [\"a\", \"i\", \"j\", \"b\"], [\"a\", \"i\", \"j\", \"b\", \"m\"],\n",
    "                        [\"a\", \"i\", \"j\", \"l\", \"b\", \"b\", \"b\", \"b\", \"b\", \"b\", \"t\", \"u\", \"v\", \"w\", \"x\", \"y\", \"b\"]],\n",
    "                        FlatTreeNode)\n",
    "monotext(pretty_tree(rooter2))"
   ]
  },
  {
   "cell_type": "code",
   "execution_count": null,
   "metadata": {},
   "outputs": [],
   "source": [
    "from AlgoTree.utils import depth, path, ancestors, siblings, is_root\n",
    "A = tree.node(\"A\")\n",
    "pretty_tree(A)\n",
    "print(depth(A.children[0]))\n",
    "print([n.name for n in path(A.children[0].children[0])])\n",
    "print([n.name for n in ancestors(A.children[0].children[0])])\n",
    "print(siblings(A.children[0]))\n",
    "print(is_root(A))"
   ]
  },
  {
   "cell_type": "code",
   "execution_count": null,
   "metadata": {},
   "outputs": [],
   "source": [
    "treenode = TreeNode(name=\"A\", value=1)\n",
    "TreeNode(name=\"B\", parent=treenode, value=2)\n",
    "C = TreeNode(name=\"C\", parent=treenode, value=3)\n",
    "TreeNode(name=\"D\", parent=C, value=4)\n",
    "TreeNode(name=\"E\", parent=C, value=5)\n",
    "\n",
    "monotext(pretty_tree(treenode))"
   ]
  },
  {
   "cell_type": "code",
   "execution_count": null,
   "metadata": {},
   "outputs": [],
   "source": [
    "treenode_dict = {\n",
    "    \"__name__\": \"A\",\n",
    "    \"value\": 1,\n",
    "    \"children\": [\n",
    "        {\"__name__\": \"B\", \"value\": 2},\n",
    "        {\"__name__\": \"C\", \"value\": 3, \"children\": [\n",
    "            {\"__name__\": \"D\", \"value\": 4},\n",
    "            {\"__name__\": \"E\", \"value\": 5}\n",
    "        ]}\n",
    "    ]}\n",
    "\n",
    "print(treenode_dict == treenode)"
   ]
  },
  {
   "cell_type": "code",
   "execution_count": null,
   "metadata": {},
   "outputs": [],
   "source": [
    "treenode_from_dict = TreeNode(treenode_dict)\n",
    "monotext(pretty_tree(treenode_from_dict))\n",
    "print(treenode_from_dict == treenode)\n",
    "\n",
    "treenode_from_dict.add_child(name=\"F\", value=6)\n",
    "TreeNode(name=\"G\", parent=treenode_from_dict.node(\"C\"), value=7)\n",
    "monotext(pretty_tree(treenode_from_dict))\n"
   ]
  },
  {
   "cell_type": "markdown",
   "metadata": {},
   "source": [
    "\n",
    "Conclusion\n",
    "----------\n",
    "\n",
    "The `FlatTree` class provides a powerful and flexible way to work with tree-like data structures using a flat memory layout. It supports a wide range of operations, including node manipulation, tree traversal, detachment, pruning, and conversion between different tree representations.\n",
    "\n",
    "Explore the `AlgoTree` package further to discover more features and utilities for working with trees in Python.\n",
    "\n",
    "Happy coding!"
   ]
  }
 ],
 "metadata": {
  "kernelspec": {
   "display_name": "env",
   "language": "python",
   "name": "python3"
  },
  "language_info": {
   "codemirror_mode": {
    "name": "ipython",
    "version": 3
   },
   "file_extension": ".py",
   "mimetype": "text/x-python",
   "name": "python",
   "nbconvert_exporter": "python",
   "pygments_lexer": "ipython3",
   "version": "3.12.3"
  }
 },
 "nbformat": 4,
 "nbformat_minor": 2
}
