{
 "cells": [
  {
   "cell_type": "code",
   "execution_count": 1,
   "metadata": {},
   "outputs": [
    {
     "name": "stdout",
     "output_type": "stream",
     "text": [
      "__ROOT__ {} None\n",
      "\n",
      "root {'data': 0} None\n",
      "\n",
      "node1 {'data': 1} FlatTreeNode(name=root, parent=None, payload={'data': 0})\n",
      "\n",
      "node2 {'data': 2} FlatTreeNode(name=root, parent=None, payload={'data': 0})\n",
      "\n",
      "node3 {'data': 3} FlatTreeNode(name=root, parent=None, payload={'data': 0})\n",
      "\n",
      "node4 {'data': 4} FlatTreeNode(name=node3, parent=root, payload={'data': 3})\n",
      "\n",
      "node5 {'data': 5} FlatTreeNode(name=node3, parent=root, payload={'data': 3})\n",
      "\n",
      "node6 {'data': 6} FlatTreeNode(name=node3, parent=root, payload={'data': 3})\n",
      "\n",
      "node7 {'data': 7} FlatTreeNode(name=node3, parent=root, payload={'data': 3})\n",
      "\n",
      "node8 {'data': 8} FlatTreeNode(name=node3, parent=root, payload={'data': 3})\n",
      "\n",
      "node9 {'data': 9} FlatTreeNode(name=node6, parent=node3, payload={'data': 6})\n",
      "\n"
     ]
    }
   ],
   "source": [
    "from treekit.flattree_node import FlatTreeNode\n",
    "from treekit.tree_viz import TreeViz\n",
    "from treekit.tree_converter import TreeConverter\n",
    "from treekit.flattree import FlatTree\n",
    "import json\n",
    "root = FlatTreeNode(name=\"root\", data=0)\n",
    "node1 = FlatTreeNode(name=\"node1\", parent=root, data=1)\n",
    "node2 = FlatTreeNode(name=\"node2\", parent=root, data=2)\n",
    "node3 = FlatTreeNode(name=\"node3\", parent=root, data=3)\n",
    "node4 = FlatTreeNode(name=\"node4\", parent=node3, data=4)\n",
    "node5 = FlatTreeNode(name=\"node5\", parent=node3, data=5)\n",
    "node6 = FlatTreeNode(name=\"node6\", parent=node3, data=6)\n",
    "node7 = FlatTreeNode(name=\"node7\", parent=node3, data=7)\n",
    "node8 = FlatTreeNode(name=\"node8\", parent=node3, data=8)\n",
    "node9 = FlatTreeNode(name=\"node9\", parent=node6, data=9)\n",
    "tree = root._tree\n",
    "nodes = [tree.root, root, node1, node2, node3, node4, node5, node6, node7, node8, node9]\n",
    "\n",
    "for node in nodes:\n",
    "    try:\n",
    "        print(node.name, node.payload, node.parent)\n",
    "    except ValueError as e:\n",
    "        print(f\"ValueError: {e}\")\n",
    "    except KeyError as e:\n",
    "        print(f\"KeyError: {e}\")\n",
    "    print()\n"
   ]
  },
  {
   "cell_type": "code",
   "execution_count": 2,
   "metadata": {},
   "outputs": [
    {
     "name": "stdout",
     "output_type": "stream",
     "text": [
      "{\n",
      "  \"node1\": {\n",
      "    \"data\": \"Some data for node1\",\n",
      "    \"more\": \"Some more data for node1\"\n",
      "  },\n",
      "  \"node2\": {\n",
      "    \"data\": \"Some data for node2\"\n",
      "  },\n",
      "  \"node3\": {\n",
      "    \"parent\": \"node1\",\n",
      "    \"data\": \"Some data for node3\",\n",
      "    \"test\": \"Some test data for node3\"\n",
      "  },\n",
      "  \"node4\": {\n",
      "    \"parent\": \"node3\",\n",
      "    \"data\": \"Some data for node4\"\n",
      "  },\n",
      "  \"node5\": {\n",
      "    \"parent\": \"node3\",\n",
      "    \"data\": \"Some data for node5\"\n",
      "  }\n",
      "}\n"
     ]
    }
   ],
   "source": [
    "tree_data = {\n",
    "    \"node1\": {\n",
    "        #\"parent\": None,\n",
    "        \"data\": \"Some data for node1\",\n",
    "        \"more\": \"Some more data for node1\"\n",
    "    },\n",
    "    \"node2\": {\n",
    "        #\"parent\": \"node1\",\n",
    "        \"data\": \"Some data for node2\"\n",
    "    },\n",
    "    \"node3\": {\n",
    "        \"parent\": \"node1\",\n",
    "        \"data\": \"Some data for node3\",\n",
    "        \"test\": \"Some test data for node3\"\n",
    "    },\n",
    "    \"node4\": {\n",
    "        \"parent\": \"node3\",\n",
    "        \"data\": \"Some data for node4\"\n",
    "    },\n",
    "    \"node5\": {\n",
    "        \"parent\": \"node3\",\n",
    "        \"data\": \"Some data for node5\"\n",
    "    }\n",
    "}\n",
    "print(json.dumps(tree_data, indent=2))"
   ]
  },
  {
   "cell_type": "code",
   "execution_count": 3,
   "metadata": {},
   "outputs": [
    {
     "name": "stdout",
     "output_type": "stream",
     "text": [
      "{\n",
      "  \"node1\": {\n",
      "    \"data\": \"Some data for node1\",\n",
      "    \"more\": \"Some more data for node1\"\n",
      "  },\n",
      "  \"node2\": {\n",
      "    \"data\": \"Some data for node2\"\n",
      "  },\n",
      "  \"node3\": {\n",
      "    \"parent\": \"node1\",\n",
      "    \"data\": \"Some data for node3\",\n",
      "    \"test\": \"Some test data for node3\"\n",
      "  },\n",
      "  \"node4\": {\n",
      "    \"parent\": \"node3\",\n",
      "    \"data\": \"Some data for node4\"\n",
      "  },\n",
      "  \"node5\": {\n",
      "    \"parent\": \"node3\",\n",
      "    \"data\": \"Some data for node5\"\n",
      "  }\n",
      "}\n"
     ]
    }
   ],
   "source": [
    "# load a tree from tree_data\n",
    "tree = FlatTree(tree_data)\n",
    "print(json.dumps(tree, indent=2))\n"
   ]
  },
  {
   "cell_type": "code",
   "execution_count": 4,
   "metadata": {},
   "outputs": [
    {
     "name": "stdout",
     "output_type": "stream",
     "text": [
      "{\n",
      "  \"real_root\": {\n",
      "    \"value\": \"test\"\n",
      "  }\n",
      "}\n",
      "real_root\n",
      "\n"
     ]
    }
   ],
   "source": [
    "\n",
    "test = FlatTreeNode(name=\"real_root\", value=\"test\")\n",
    "print(json.dumps(test.tree, indent=2))\n",
    "print(TreeViz.text(test))"
   ]
  },
  {
   "cell_type": "code",
   "execution_count": 5,
   "metadata": {},
   "outputs": [
    {
     "data": {
      "text/plain": [
       "[]"
      ]
     },
     "execution_count": 5,
     "metadata": {},
     "output_type": "execute_result"
    }
   ],
   "source": [
    "test.children"
   ]
  },
  {
   "cell_type": "code",
   "execution_count": 6,
   "metadata": {},
   "outputs": [
    {
     "name": "stdout",
     "output_type": "stream",
     "text": [
      "{\n",
      "  \"real_root\": {\n",
      "    \"value\": \"test\"\n",
      "  },\n",
      "  \"test_child\": {\n",
      "    \"value\": \"test_child_value\",\n",
      "    \"parent\": \"real_root\"\n",
      "  },\n",
      "  \"test_child2\": {\n",
      "    \"value\": \"test_child_value2\",\n",
      "    \"parent\": \"real_root\"\n",
      "  },\n",
      "  \"test_child3\": {\n",
      "    \"value\": \"test_child_value3\",\n",
      "    \"parent\": \"test_child2\"\n",
      "  }\n",
      "}\n"
     ]
    }
   ],
   "source": [
    "test.add_child(name=\"test_child\", value=\"test_child_value\")\n",
    "child2 = test.add_child(name=\"test_child2\", value=\"test_child_value2\")\n",
    "child2.add_child(name=\"test_child3\", value=\"test_child_value3\")\n",
    "\n",
    "print(json.dumps(test.tree, indent=2))"
   ]
  },
  {
   "cell_type": "code",
   "execution_count": 7,
   "metadata": {},
   "outputs": [
    {
     "data": {
      "text/plain": [
       "{}"
      ]
     },
     "execution_count": 7,
     "metadata": {},
     "output_type": "execute_result"
    }
   ],
   "source": [
    "test.tree.root.payload"
   ]
  },
  {
   "cell_type": "code",
   "execution_count": 8,
   "metadata": {},
   "outputs": [
    {
     "name": "stdout",
     "output_type": "stream",
     "text": [
      "FlatTreeNode(name=test_child2, parent=real_root, payload={'value': 'test_child_value2'}) \n",
      " FlatTreeNode(name=test_child2, parent=real_root, payload={'value': 'test_child_value2'})\n",
      "FlatTreeNode(name=test_child3, parent=test_child2, payload={'value': 'test_child_value3'}) \n",
      " FlatTreeNode(name=test_child2, parent=real_root, payload={'value': 'test_child_value2'})\n"
     ]
    }
   ],
   "source": [
    "child2_test = test.tree.node(\"test_child2\")\n",
    "print(child2_test, \"\\n\", child2)\n",
    "assert child2_test == child2\n",
    "child3_test = test.tree.node(\"test_child3\")\n",
    "assert child3_test != child2\n",
    "print(child3_test, \"\\n\", child2)\n"
   ]
  },
  {
   "cell_type": "code",
   "execution_count": 9,
   "metadata": {},
   "outputs": [
    {
     "name": "stdout",
     "output_type": "stream",
     "text": [
      "__ROOT__\n",
      "     |\n",
      "     + - node1\n",
      "         |\n",
      "         + -- node3\n",
      "             |\n",
      "             + --- node4\n",
      "             |\n",
      "             + --- node5\n",
      "     |\n",
      "     + - node2\n",
      "__ROOT__\n",
      "     |\n",
      "     + - real_root\n",
      "         |\n",
      "         + -- test_child\n",
      "         |\n",
      "         + -- test_child2\n",
      "             |\n",
      "             + --- test_child3\n"
     ]
    }
   ],
   "source": [
    "def pretty_print(node, depth=0):\n",
    "    if depth != 0:\n",
    "        print(\"    \"*depth, \"|\")\n",
    "        print(\"    \"*depth, \"+\", \"-\"*depth, end=\" \")\n",
    "    print(node.name)\n",
    "    for child in node.children:\n",
    "        pretty_print(child, depth+1)\n",
    "pretty_print(tree.root)\n",
    "pretty_print(test.tree.root)"
   ]
  },
  {
   "cell_type": "code",
   "execution_count": 10,
   "metadata": {},
   "outputs": [],
   "source": [
    "FlatTree.check_valid(tree)"
   ]
  },
  {
   "cell_type": "markdown",
   "metadata": {},
   "source": [
    "For now on, when viewing trees, we use the `TreeViz` class to visualize the trees.\n",
    "It has a `text` and `image` method to display the tree in text and image format respectively."
   ]
  },
  {
   "cell_type": "code",
   "execution_count": 11,
   "metadata": {},
   "outputs": [],
   "source": [
    "from anytree import Node\n",
    "anytree = TreeConverter.convert(tree.node(\"node1\"), target_type=Node)"
   ]
  },
  {
   "cell_type": "code",
   "execution_count": 12,
   "metadata": {},
   "outputs": [
    {
     "name": "stdout",
     "output_type": "stream",
     "text": [
      "node1\n",
      "└── node3\n",
      "    ├── node4\n",
      "    └── node5\n",
      "\n"
     ]
    }
   ],
   "source": [
    "print(TreeViz.text(anytree))"
   ]
  },
  {
   "cell_type": "code",
   "execution_count": 13,
   "metadata": {},
   "outputs": [
    {
     "name": "stdout",
     "output_type": "stream",
     "text": [
      "1\n",
      "(Node('/node1', data='Some data for node1', more='Some more data for node1'), Node('/node1/node3', data='Some data for node3', test='Some test data for node3'))\n",
      "(Node('/node1', data='Some data for node1', more='Some more data for node1'),)\n",
      "()\n",
      "True\n"
     ]
    }
   ],
   "source": [
    "print(anytree.children[0].depth)\n",
    "print(anytree.children[0].path)\n",
    "print(anytree.children[0].ancestors)\n",
    "print(anytree.children[0].siblings)\n",
    "print(anytree.is_root)"
   ]
  },
  {
   "cell_type": "code",
   "execution_count": 14,
   "metadata": {},
   "outputs": [],
   "source": [
    "TreeViz.image(anytree, \"anytree.png\")"
   ]
  },
  {
   "cell_type": "markdown",
   "metadata": {},
   "source": [
    "Here is the image (`anytree.png` from above) of the tree:\n",
    "\n",
    "![tree](anytree.png)"
   ]
  },
  {
   "cell_type": "markdown",
   "metadata": {},
   "source": [
    "We may want to show different or more information in the image.\n",
    "In order to do so, firs we shold convert `tree` to any `anytree.Node` that\n",
    "carries more information."
   ]
  },
  {
   "cell_type": "code",
   "execution_count": 15,
   "metadata": {},
   "outputs": [],
   "source": [
    "def detailed_node_info(node):\n",
    "    return { 'data': node.payload['data'] if 'data' in node.payload else \"None\" }\n",
    "\n",
    "anytree2 = TreeConverter.convert(tree.root, Node,\n",
    "                                 node_name=lambda node: node.name,\n",
    "                                 extract=detailed_node_info)\n",
    "\n",
    "TreeViz.image(anytree2, \"anytree-more.png\", node_name=lambda node: node.name + \": \" + node.data + \"\\nchildren: \" + str(len(node.children)))"
   ]
  },
  {
   "cell_type": "markdown",
   "metadata": {},
   "source": [
    "Here is the image:\n",
    "\n",
    "![tree](./anytree-more.png)\n"
   ]
  },
  {
   "cell_type": "markdown",
   "metadata": {},
   "source": [
    "The `FlatTree` class provides a **view** of a `dict` object as a tree. We do not modify\n",
    "the `dict` passed into it (and you can create a dict through the `FlatTree` API).\n",
    "\n",
    "The `FlatTree` class has a number of methods and properties to help you navigate the tree.\n",
    "A particular aspect of the `FlatTree` class is that it unifies any `dict` object into a tree\n",
    "structure. The keys are the node names and the values are the node values. If\n",
    "the value has no parent, it is a child of a `LOGICAL_ROOT` node that is computed\n",
    "lazily on demand (and is not a part of the actual underlying `dict` object).\n",
    "In this way, every dict is a tree, and every tree is a dict, with the exception\n",
    "that undefined behavior may result if the `dict` has keys that map to values\n",
    "in which a `parent` key is defined but results in a cycle or a node that is not\n",
    "in the `dict`. In this case, it will still try to work with it, but the behavior\n",
    "is undefined. You can call `FlatTree.check_valid` to check if the tree is in a\n",
    "valid state.\n",
    "\n",
    "Since it's just a view of a `dict` we have all the normal operations on it that\n",
    "we would have on a `dict` object."
   ]
  },
  {
   "cell_type": "markdown",
   "metadata": {},
   "source": [
    "We can also use the `FlatTree` class to visualize sub-trees rooted at some node.\n",
    "\n",
    "By default, the `FlatTree` conceptually represents as a whole the logical root\n",
    "of the tree. However, we have `FlatTree.ProxyNode` objects that can be used to\n",
    "represent any node in the tree, and supports the same API as the `FlatTree` class\n",
    "itself."
   ]
  },
  {
   "cell_type": "code",
   "execution_count": 16,
   "metadata": {},
   "outputs": [
    {
     "name": "stdout",
     "output_type": "stream",
     "text": [
      "node3\n",
      "├── node4\n",
      "└── node5\n",
      "\n"
     ]
    }
   ],
   "source": [
    "print(TreeViz.text(tree.node(\"node3\")))"
   ]
  },
  {
   "cell_type": "code",
   "execution_count": 17,
   "metadata": {},
   "outputs": [
    {
     "name": "stdout",
     "output_type": "stream",
     "text": [
      "{'data': 'Some data for node2'}\n",
      "FlatTreeNode(name=node3, parent=node1, payload={'data': 'Some data for node3', 'test': 'Some test data for node3'})\n",
      "node1\n",
      "[FlatTreeNode(name=node4, parent=node3, payload={'data': 'Some data for node4'}), FlatTreeNode(name=node5, parent=node3, payload={'data': 'Some data for node5'})]\n"
     ]
    }
   ],
   "source": [
    "print(tree[\"node2\"])\n",
    "node3 = tree.node(\"node3\")\n",
    "print(node3)\n",
    "print(node3['parent'])\n",
    "print(node3.children)"
   ]
  },
  {
   "cell_type": "markdown",
   "metadata": {},
   "source": [
    "We show that it's easy to regenerate any JSON files that may have been used\n",
    "to generate the FlatTree 'tree'. So, JSON is a good format for storing and\n",
    "transmitting trees. And, of course, `FlatTree` *is* a dictionary. Of course,\n",
    "if we store an object that has no serializable representation, it cannot be\n",
    "stored in JSON."
   ]
  },
  {
   "cell_type": "code",
   "execution_count": 18,
   "metadata": {},
   "outputs": [
    {
     "name": "stdout",
     "output_type": "stream",
     "text": [
      "True\n"
     ]
    }
   ],
   "source": [
    "print(json.dumps(tree,  indent=2) == json.dumps(tree_data, indent=2))"
   ]
  },
  {
   "cell_type": "code",
   "execution_count": 19,
   "metadata": {},
   "outputs": [
    {
     "name": "stdout",
     "output_type": "stream",
     "text": [
      "{'node1': {'data': <function <lambda> at 0x7dbcdd7ffe20>}}\n",
      "Object of type function is not JSON serializable\n"
     ]
    }
   ],
   "source": [
    "\n",
    "# let's create a tree from a dict that cannot be serialized to json\n",
    "non_serializable_tree_data = {\n",
    "    \"node1\": {\n",
    "        #\"parent\": None,\n",
    "        # data is a function that cannot be serialized to json\n",
    "        \"data\": lambda x: 2*x**3 + 3*x**2 + 4*x + 5\n",
    "    }\n",
    "}\n",
    "\n",
    "non_serializable_tree = FlatTree(non_serializable_tree_data)\n",
    "print(non_serializable_tree)\n",
    "\n",
    "try:\n",
    "    json.dumps(non_serializable_tree, indent=2)\n",
    "except TypeError as e:\n",
    "    print(e)"
   ]
  },
  {
   "cell_type": "code",
   "execution_count": 20,
   "metadata": {},
   "outputs": [
    {
     "name": "stdout",
     "output_type": "stream",
     "text": [
      "FlatTreeNode(name=node36, parent=None, payload={'data': 'Some data for node36'})\n"
     ]
    }
   ],
   "source": [
    "child = tree.root.add_child(name=\"node36\", data=\"Some data for node36\")\n",
    "print(child)\n"
   ]
  },
  {
   "cell_type": "code",
   "execution_count": 21,
   "metadata": {},
   "outputs": [
    {
     "name": "stdout",
     "output_type": "stream",
     "text": [
      "__ROOT__\n",
      "├── node1\n",
      "│   ├── node3\n",
      "│   │   ├── node4\n",
      "│   │   └── node5\n",
      "│   └── node15\n",
      "├── node2\n",
      "└── node36\n",
      "\n"
     ]
    }
   ],
   "source": [
    "tree.node(\"node1\").add_child(name=\"node15\", data=\"Some data for node15\")\n",
    "print(TreeViz.text(tree.root))"
   ]
  },
  {
   "cell_type": "markdown",
   "metadata": {},
   "source": [
    "If we try too add a non-unique node key to the tree, we will get a `KeyError`."
   ]
  },
  {
   "cell_type": "code",
   "execution_count": 22,
   "metadata": {},
   "outputs": [
    {
     "name": "stdout",
     "output_type": "stream",
     "text": [
      "'key already exists in the tree: node2'\n"
     ]
    }
   ],
   "source": [
    "try:\n",
    "    child2 = tree.node(\"node1\").add_child(name=\"node2\", data=\"Some data for node2!!!\")\n",
    "except KeyError as e:\n",
    "    print(e)"
   ]
  },
  {
   "cell_type": "markdown",
   "metadata": {},
   "source": [
    "Let's add some more nodes."
   ]
  },
  {
   "cell_type": "code",
   "execution_count": 23,
   "metadata": {},
   "outputs": [
    {
     "name": "stdout",
     "output_type": "stream",
     "text": [
      "Node('/node7', data='Some data for node7')\n",
      "├── Node('/node7/node17', data='Some data for node17')\n",
      "└── Node('/node7/node27', data='Some data for node27')\n",
      "    └── Node('/node7/node27/node37', data='Some data for node37')\n",
      "\n"
     ]
    }
   ],
   "source": [
    "child7 = child.add_child(name=\"node7\", data=\"Some data for node7\")\n",
    "child7.add_child(name=\"node17\", data=\"Some data for node17\")\n",
    "child7.add_child(name=\"node27\", data=\"Some data for node27\").add_child(name=\"node37\", data=\"Some data for node37\")\n",
    "print(TreeViz.text(TreeConverter.convert(child7, Node), node_name=lambda n: n))"
   ]
  },
  {
   "cell_type": "code",
   "execution_count": 24,
   "metadata": {},
   "outputs": [],
   "source": [
    "FlatTree.check_valid(tree)"
   ]
  },
  {
   "cell_type": "markdown",
   "metadata": {},
   "source": [
    "Let's view the full tree with the `TreeViz.image` method."
   ]
  },
  {
   "cell_type": "code",
   "execution_count": 25,
   "metadata": {},
   "outputs": [],
   "source": [
    "TreeViz.image(tree.root, \"big_tree.png\")"
   ]
  },
  {
   "cell_type": "markdown",
   "metadata": {},
   "source": [
    "Here's the tree:\n",
    "\n",
    "![big_tree](./big_tree.png)\n",
    "\n",
    "We can see that the underlying tree that the child is a member of has been\n",
    "appropriately modified:"
   ]
  },
  {
   "cell_type": "markdown",
   "metadata": {},
   "source": [
    "We also support conversions to and from `FlatTree`, `TreeNode`, and `anytree.Node` objects, or any other object which has an `__init__` method that takes arguments, or keyword arguments, and also has arguments for `parent` and `name`.\n",
    "\n",
    "The function is called `TreeConverter.copy_under` which accepts a `source` and `target` object, and copies the `source` object under the `target` object. The source is normally\n",
    "a node of some kind, and the target is another node, and the result is the tree\n",
    "structure under the source node is copied under the target node. The source node\n",
    "is not modified in any way."
   ]
  },
  {
   "cell_type": "code",
   "execution_count": 26,
   "metadata": {},
   "outputs": [
    {
     "name": "stdout",
     "output_type": "stream",
     "text": [
      "__ROOT__\n",
      "├── node1\n",
      "│   ├── node3\n",
      "│   │   ├── node4\n",
      "│   │   └── node5\n",
      "│   └── node15\n",
      "├── node2\n",
      "└── node36\n",
      "    └── node7\n",
      "        ├── node17\n",
      "        └── node27\n",
      "            └── node37\n",
      "\n",
      "anytree\n",
      "├── node1\n",
      "│   ├── node3\n",
      "│   │   ├── node4\n",
      "│   │   └── node5\n",
      "│   └── node15\n",
      "├── node2\n",
      "└── node36\n",
      "    └── node7\n",
      "        ├── node17\n",
      "        └── node27\n",
      "            └── node37\n",
      "\n",
      "flattreenode\n",
      "├── node1\n",
      "│   ├── node3\n",
      "│   │   ├── node4\n",
      "│   │   └── node5\n",
      "│   └── node15\n",
      "├── node2\n",
      "└── node36\n",
      "    └── node7\n",
      "        ├── node17\n",
      "        └── node27\n",
      "            └── node37\n",
      "\n",
      "__ROOT__\n",
      "└── flattreenode\n",
      "    ├── node1\n",
      "    │   ├── node3\n",
      "    │   │   ├── node4\n",
      "    │   │   └── node5\n",
      "    │   └── node15\n",
      "    ├── node2\n",
      "    └── node36\n",
      "        └── node7\n",
      "            ├── node17\n",
      "            └── node27\n",
      "                └── node37\n",
      "\n",
      "flattreenode2\n",
      "└── flattreenode\n",
      "    ├── node1\n",
      "    │   ├── node3\n",
      "    │   │   ├── node4\n",
      "    │   │   └── node5\n",
      "    │   └── node15\n",
      "    ├── node2\n",
      "    └── node36\n",
      "        └── node7\n",
      "            ├── node17\n",
      "            └── node27\n",
      "                └── node37\n",
      "\n"
     ]
    }
   ],
   "source": [
    "from anytree import Node\n",
    "from treekit.treenode import TreeNode\n",
    "tree1 = TreeConverter.copy_under(tree.root, Node(name=\"anytree\"))\n",
    "#tree2 = TreeConverter.copy_under(tree.root, TreeNode(name=\"treenode\"))\n",
    "tree3 = TreeConverter.copy_under(tree.root, FlatTreeNode(name=\"flattreenode\"))\n",
    "print(TreeViz.text(tree.root))\n",
    "print(TreeViz.text(tree1))\n",
    "#print(TreeViz.text(tree2))\n",
    "print(TreeViz.text(tree3))\n",
    "print(TreeViz.text(tree3.tree.root))\n",
    "tree4 = TreeConverter.copy_under(tree3, FlatTreeNode(name=\"flattreenode2\"))\n",
    "print(TreeViz.text(tree4))\n",
    "#print(json.dumps(tree3._tree, indent=2))\n",
    "#print(TreeViz.text(tree3.tree.root))\n",
    "#print(json.dumps(tree2, indent=2))  \n",
    "#print(json.dumps(tree3.tree, indent=2))  "
   ]
  },
  {
   "cell_type": "markdown",
   "metadata": {},
   "source": [
    "We can iterate over the items of the child and we can modify/delete its data."
   ]
  },
  {
   "cell_type": "code",
   "execution_count": 27,
   "metadata": {},
   "outputs": [
    {
     "name": "stdout",
     "output_type": "stream",
     "text": [
      "data\n",
      "parent\n",
      "FlatTreeNode(name=node7, parent=node36, payload={'data': 'Some data for node7', 'new_data': 'Some new data for node7'})\n",
      "FlatTreeNode(name=node7, parent=node36, payload={'data': 'Some data for node7', 'other_new_data': 'Some other data for node7'})\n"
     ]
    }
   ],
   "source": [
    "for k, v in child7.items():\n",
    "    print(k)\n",
    "\n",
    "child7[\"new_data\"] = \"Some new data for node7\"    \n",
    "print(child7)\n",
    "\n",
    "del child7[\"new_data\"]\n",
    "child7[\"other_new_data\"] = \"Some other data for node7\"\n",
    "print(child7)"
   ]
  },
  {
   "cell_type": "markdown",
   "metadata": {},
   "source": [
    "Let's create a tree from a dictionary that refers to a non-existent parent."
   ]
  },
  {
   "cell_type": "code",
   "execution_count": 28,
   "metadata": {},
   "outputs": [
    {
     "name": "stdout",
     "output_type": "stream",
     "text": [
      "__ROOT__\n",
      "\n",
      "\"Parent 'non_existent_parent' not in tree for node 'node1'\"\n"
     ]
    }
   ],
   "source": [
    "try:\n",
    "    non_existent_parent_tree = FlatTree({\n",
    "        \"node1\": {\n",
    "            \"parent\": \"non_existent_parent\",\n",
    "            \"data\": \"Some data for node1\"\n",
    "        }})\n",
    "    print(TreeViz.text(non_existent_parent_tree.root))\n",
    "    FlatTree.check_valid(non_existent_parent_tree)\n",
    "except KeyError as e:\n",
    "    print(e)\n",
    "\n"
   ]
  },
  {
   "cell_type": "markdown",
   "metadata": {},
   "source": [
    "We see that the node is disconnected from the logical root, since it refers\n",
    "to a non-existent parent."
   ]
  },
  {
   "cell_type": "code",
   "execution_count": 29,
   "metadata": {},
   "outputs": [
    {
     "name": "stdout",
     "output_type": "stream",
     "text": [
      "__ROOT__\n",
      "└── node0\n",
      "    └── node4\n",
      "\n",
      "Cycle detected: {'node1', 'node2', 'node3'}\n"
     ]
    }
   ],
   "source": [
    "try:\n",
    "    cycle_tree = FlatTree({\n",
    "        \"node0\": {\n",
    "            \"parent\": None,\n",
    "            \"data\": \"Some data for node0\"\n",
    "        },\n",
    "        \"node1\": {\n",
    "            \"parent\": \"node2\",\n",
    "            \"data\": \"Some data for node1\"\n",
    "        },\n",
    "        \"node2\": {\n",
    "            \"parent\": \"node3\",\n",
    "            \"data\": \"Some data for node2\"\n",
    "        },\n",
    "        \"node3\": {\n",
    "            \"parent\": \"node1\",\n",
    "            \"data\": \"Some data for node3\"\n",
    "        },\n",
    "        \"node4\": {\n",
    "            \"parent\": \"node0\",\n",
    "            \"data\": \"Some data for node4\"\n",
    "        }\n",
    "    })\n",
    "\n",
    "    print(TreeViz.text(cycle_tree.root))\n",
    "    FlatTree.check_valid(cycle_tree)\n",
    "except ValueError as e:\n",
    "    print(e)"
   ]
  },
  {
   "cell_type": "markdown",
   "metadata": {},
   "source": [
    "We see that the tree was in an invalid state. In particular, nodes 1, 2, and 3\n",
    "are disconnected from the logical root and in a cycle. We can fix this by\n",
    "breaking the cycle and setting the parent of node 3 to, for instance, the\n",
    "logical root (by setting it to `None`)."
   ]
  },
  {
   "cell_type": "code",
   "execution_count": 30,
   "metadata": {},
   "outputs": [
    {
     "name": "stdout",
     "output_type": "stream",
     "text": [
      "__ROOT__\n",
      "├── node0\n",
      "│   └── node4\n",
      "└── node3\n",
      "    └── node2\n",
      "        └── node1\n",
      "\n"
     ]
    }
   ],
   "source": [
    "cycle_tree['node3']['parent'] = None\n",
    "FlatTree.check_valid(cycle_tree)\n",
    "print(TreeViz.text(cycle_tree.root))"
   ]
  },
  {
   "cell_type": "markdown",
   "metadata": {},
   "source": [
    "Let's look at the tree again, and see about creating a cycle."
   ]
  },
  {
   "cell_type": "markdown",
   "metadata": {},
   "source": [
    "We will make node 1 the parent of node 5, to create a cycle:"
   ]
  },
  {
   "cell_type": "code",
   "execution_count": 31,
   "metadata": {},
   "outputs": [
    {
     "name": "stdout",
     "output_type": "stream",
     "text": [
      "Cycle detected: {'node1', 'node5', 'node3'}\n"
     ]
    }
   ],
   "source": [
    "from copy import deepcopy\n",
    "try:\n",
    "    new_tree = deepcopy(tree)\n",
    "    new_tree.node(\"node1\")['parent'] = 'node5'\n",
    "    FlatTree.check_valid(new_tree)\n",
    "except ValueError as e:\n",
    "    print(e)"
   ]
  },
  {
   "cell_type": "markdown",
   "metadata": {},
   "source": [
    "Notice that we use `deepcopy` to avoid modifying the original tree with these\n",
    "invalid operations. We chose to do it this way so as to not incur the overhead\n",
    "of reverting the tree to a valid state after an invalid operation. This way,\n",
    "we can keep the tree in an invalid state for as long as we want, and only\n",
    "revert it to a valid state when we want to."
   ]
  },
  {
   "cell_type": "markdown",
   "metadata": {},
   "source": [
    "Each node is a key-value pair in the `FlatTree`. We have the  `FlatTree.ProxyNode`\n",
    "so that we can have an API focused on the nodes and not the underlying dictionary.\n",
    "However, we stiill permit access to the underlying dictionary. When you modify\n",
    "the tree in this way, we still maintain the integrity of the tree.\n",
    "\n",
    "Since the `FlatTree` represents nodes as key-value pairs, and the value may\n",
    "have a parent key, along with any other arbitrary data, each value for a node\n",
    "must be a dictionary.\n",
    "\n",
    "Below, we see that trying to add a `test` node with a non-dictionary value\n",
    "generates an error."
   ]
  },
  {
   "cell_type": "code",
   "execution_count": 32,
   "metadata": {},
   "outputs": [
    {
     "name": "stdout",
     "output_type": "stream",
     "text": [
      "Node 'test' does not have dictionary: value='Some test data'\n"
     ]
    }
   ],
   "source": [
    "try:\n",
    "    error_tree = deepcopy(tree)\n",
    "    # this will raise a ValueError because the node with key `test` maps to\n",
    "    # string instead of a dict.\n",
    "    error_tree['test'] = \"Some test data\"\n",
    "    FlatTree.check_valid(error_tree)\n",
    "except ValueError as e:\n",
    "    print(e)\n"
   ]
  },
  {
   "cell_type": "markdown",
   "metadata": {},
   "source": [
    "Let's manipulate the tree a bit more using the `dict` API. We're just going to\n",
    "add a `new_node` with some data."
   ]
  },
  {
   "cell_type": "code",
   "execution_count": 33,
   "metadata": {},
   "outputs": [
    {
     "name": "stdout",
     "output_type": "stream",
     "text": [
      "new_node: Some other data: Some other data\n",
      "\n"
     ]
    }
   ],
   "source": [
    "tree['new_node'] = {'parent': 'node1', 'data': 'Some new data', 'ABCDEFG': 'Some other data'}\n",
    "print(TreeViz.text(tree.node(\"new_node\"), node_name=lambda n: n.name + \": \" + n.ABCDEFG, extract=lambda n: n.payload))"
   ]
  },
  {
   "cell_type": "code",
   "execution_count": 34,
   "metadata": {},
   "outputs": [
    {
     "name": "stdout",
     "output_type": "stream",
     "text": [
      "node1\n",
      "├── node3\n",
      "│   ├── node4\n",
      "│   └── node5\n",
      "├── node15\n",
      "└── new_node\n",
      "\n"
     ]
    }
   ],
   "source": [
    "print(TreeViz.text(tree.node(\"node1\")))"
   ]
  },
  {
   "cell_type": "code",
   "execution_count": 35,
   "metadata": {},
   "outputs": [
    {
     "name": "stdout",
     "output_type": "stream",
     "text": [
      "{\n",
      "  \"node1\": {\n",
      "    \"data\": \"Some data for node1\",\n",
      "    \"more\": \"Some more data for node1\"\n",
      "  },\n",
      "  \"node2\": {\n",
      "    \"data\": \"Some data for node2\"\n",
      "  },\n",
      "  \"node3\": {\n",
      "    \"parent\": \"node1\",\n",
      "    \"data\": \"Some data for node3\",\n",
      "    \"test\": \"Some test data for node3\"\n",
      "  },\n",
      "  \"node4\": {\n",
      "    \"parent\": \"node3\",\n",
      "    \"data\": \"Some data for node4\"\n",
      "  },\n",
      "  \"node5\": {\n",
      "    \"parent\": \"node3\",\n",
      "    \"data\": \"Some data for node5\"\n",
      "  },\n",
      "  \"node36\": {\n",
      "    \"data\": \"Some data for node36\"\n",
      "  },\n",
      "  \"node15\": {\n",
      "    \"data\": \"Some data for node15\",\n",
      "    \"parent\": \"node1\"\n",
      "  },\n",
      "  \"node7\": {\n",
      "    \"data\": \"Some data for node7\",\n",
      "    \"parent\": \"node36\",\n",
      "    \"other_new_data\": \"Some other data for node7\"\n",
      "  },\n",
      "  \"node17\": {\n",
      "    \"data\": \"Some data for node17\",\n",
      "    \"parent\": \"node7\"\n",
      "  },\n",
      "  \"node27\": {\n",
      "    \"data\": \"Some data for node27\",\n",
      "    \"parent\": \"node7\"\n",
      "  },\n",
      "  \"node37\": {\n",
      "    \"data\": \"Some data for node37\",\n",
      "    \"parent\": \"node27\"\n",
      "  },\n",
      "  \"new_node\": {\n",
      "    \"parent\": \"node1\",\n",
      "    \"data\": \"Some new data\",\n",
      "    \"ABCDEFG\": \"Some other data\"\n",
      "  }\n",
      "}\n"
     ]
    }
   ],
   "source": [
    "print(json.dumps(tree, indent=2))\n"
   ]
  },
  {
   "cell_type": "markdown",
   "metadata": {},
   "source": [
    "The logical root node is not a part of the underlying dictionary, so we can't\n",
    "access it through the `dict` API. It's non-children data are also immutable\n",
    "through the `FlatTreeNode` API."
   ]
  },
  {
   "cell_type": "code",
   "execution_count": 36,
   "metadata": {},
   "outputs": [
    {
     "name": "stdout",
     "output_type": "stream",
     "text": [
      "FlatTreeNode(name=__ROOT__, payload={})\n",
      "__ROOT__ is an immutable logical root\n",
      "__ROOT__ is an immutable logical root\n"
     ]
    }
   ],
   "source": [
    "root_node = tree.root\n",
    "print(root_node)\n",
    "\n",
    "try:\n",
    "    root_node['data'] = \"Some new data for root node\"\n",
    "except TypeError as e:\n",
    "    print(e)\n",
    "\n",
    "try:\n",
    "    root_node['parent'] = None\n",
    "except TypeError as e:\n",
    "    print(e)\n",
    "\n",
    "try:\n",
    "    root_node.clear()\n",
    "except TypeError as e:\n",
    "    print(e)\n"
   ]
  },
  {
   "cell_type": "markdown",
   "metadata": {},
   "source": [
    "We can *detach* nodes. Let's first view the full tree, pre-detachment."
   ]
  },
  {
   "cell_type": "code",
   "execution_count": 37,
   "metadata": {},
   "outputs": [],
   "source": [
    "TreeViz.image(tree.root, \"full-tree-pre-detach-or-prune.png\")"
   ]
  },
  {
   "cell_type": "markdown",
   "metadata": {},
   "source": [
    "Here's the full tree prior to any detachment or pruning:\n",
    "\n",
    "![full-tree-pre-detach-or-prune](./full-tree-pre-detach-or-prune.png)\n",
    "\n",
    "Let's detach nodes 36 and 2 and view the tree, which should now be missing\n",
    "those nodes."
   ]
  },
  {
   "cell_type": "code",
   "execution_count": 38,
   "metadata": {},
   "outputs": [],
   "source": [
    "tree.node(\"node36\").detach()\n",
    "tree.detach(\"node2\")\n",
    "TreeViz.image(tree.root, \"full-tree-post-detach.png\")"
   ]
  },
  {
   "cell_type": "markdown",
   "metadata": {},
   "source": [
    "Let's view the tree with the detached nodes.\n",
    "\n",
    "![full-tree-post-detach](./full-tree-post-detach.png)\n",
    "\n",
    "We see that node 36 (and any of its children) and node 2 are no longer attached to the logical root, which represents the root of the tree.\n",
    "However, they're not gone -- just detached. We can view the detached nodes with:"
   ]
  },
  {
   "cell_type": "code",
   "execution_count": 39,
   "metadata": {},
   "outputs": [
    {
     "name": "stdout",
     "output_type": "stream",
     "text": [
      "__DETACHED__\n",
      "├── node2\n",
      "└── node36\n",
      "    └── node7\n",
      "        ├── node17\n",
      "        └── node27\n",
      "            └── node37\n",
      "\n"
     ]
    }
   ],
   "source": [
    "print(TreeViz.text(tree.detached))"
   ]
  },
  {
   "cell_type": "markdown",
   "metadata": {},
   "source": [
    "We can prune (delete) nodes (and their descendants) from the tree with the\n",
    "`prune` method. The prune method takes either a node key or a `FlatTreeNode`\n",
    "object. Let's prune the detached nodes:"
   ]
  },
  {
   "cell_type": "code",
   "execution_count": 40,
   "metadata": {},
   "outputs": [
    {
     "name": "stdout",
     "output_type": "stream",
     "text": [
      "['node2', 'node36', 'node7', 'node17', 'node27', 'node37']\n",
      "{\n",
      "  \"node1\": {\n",
      "    \"data\": \"Some data for node1\",\n",
      "    \"more\": \"Some more data for node1\"\n",
      "  },\n",
      "  \"node3\": {\n",
      "    \"parent\": \"node1\",\n",
      "    \"data\": \"Some data for node3\",\n",
      "    \"test\": \"Some test data for node3\"\n",
      "  },\n",
      "  \"node4\": {\n",
      "    \"parent\": \"node3\",\n",
      "    \"data\": \"Some data for node4\"\n",
      "  },\n",
      "  \"node5\": {\n",
      "    \"parent\": \"node3\",\n",
      "    \"data\": \"Some data for node5\"\n",
      "  },\n",
      "  \"node15\": {\n",
      "    \"data\": \"Some data for node15\",\n",
      "    \"parent\": \"node1\"\n",
      "  },\n",
      "  \"new_node\": {\n",
      "    \"parent\": \"node1\",\n",
      "    \"data\": \"Some new data\",\n",
      "    \"ABCDEFG\": \"Some other data\"\n",
      "  }\n",
      "}\n"
     ]
    }
   ],
   "source": [
    "# tree.prune(\"__DETACHED__\")\n",
    "pruned_keys = tree.prune(tree.detached)\n",
    "print(pruned_keys)\n",
    "print(json.dumps(tree, indent=2))"
   ]
  },
  {
   "cell_type": "markdown",
   "metadata": {},
   "source": [
    "We can prune any subtree from the tree. Let's prune the subtree rooted at\n",
    "node 3."
   ]
  },
  {
   "cell_type": "code",
   "execution_count": 41,
   "metadata": {},
   "outputs": [
    {
     "name": "stdout",
     "output_type": "stream",
     "text": [
      "pruned_keys=['node3', 'node4', 'node5']\n",
      "\"Key not found: 'node3'\"\n"
     ]
    }
   ],
   "source": [
    "pruned_keys = tree.prune(\"node3\")\n",
    "print(f\"{pruned_keys=}\")\n",
    "try:\n",
    "    tree.node(\"node3\")\n",
    "except KeyError as e:\n",
    "    print(e)\n",
    "\n",
    "TreeViz.image(tree.root, \"post-prune-node-3.png\")"
   ]
  },
  {
   "cell_type": "markdown",
   "metadata": {},
   "source": [
    "\n",
    "Let's view the tree after pruning node 3.\n",
    "\n",
    "\n",
    "![post-prune-node-3](post-prune-node-3.png)\n",
    "\n",
    "We have a fairly complete API for manipulating the tree. Let's explore some\n",
    "additional methods."
   ]
  },
  {
   "cell_type": "code",
   "execution_count": 42,
   "metadata": {},
   "outputs": [
    {
     "name": "stdout",
     "output_type": "stream",
     "text": [
      "{'new_data': 'Some new data for node1', 'other_new_data': 'Some other data for node1'}\n"
     ]
    }
   ],
   "source": [
    "tree.node(\"node1\").clear()\n",
    "tree.node(\"node1\")['new_data'] = \"Some new data for node1\"\n",
    "tree.node(\"node1\")['other_new_data'] = \"Some other data for node1\"\n",
    "print(tree['node1'])"
   ]
  },
  {
   "cell_type": "markdown",
   "metadata": {},
   "source": [
    "This is fairly self-expalanatory. Let's add some more nodes without specifying\n",
    "a key name for them, since often we don't care about the key name and it's\n",
    "only for bookkeeping purposes."
   ]
  },
  {
   "cell_type": "code",
   "execution_count": 43,
   "metadata": {},
   "outputs": [
    {
     "name": "stdout",
     "output_type": "stream",
     "text": [
      "__ROOT__\n",
      "├── node1\n",
      "│   ├── node15\n",
      "│   │   └── a77b1f0f-4008-4d4d-94ea-c285fb89e5a4\n",
      "│   └── 3ccbd29e-811e-40a5-81a1-d14237fbcc88\n",
      "├── d3e8be8b-eaf3-4d77-81b5-8d518b8fd158\n",
      "│   └── node4what\n",
      "│       └── de452053-3b6d-4349-9a6b-e9db7c52be8f\n",
      "└── node200\n",
      "    └── new_node\n",
      "        └── node2000\n",
      "\n"
     ]
    }
   ],
   "source": [
    "tree.root.add_child(whatever=3).add_child(name=\"node4what\", whatever=4).add_child(whatever=5)\n",
    "FlatTreeNode(whatever=1000, parent=tree.root.children[0])\n",
    "FlatTreeNode(name=\"node2000\", whatever=2000, parent=tree.root.children[0].children[1])\n",
    "FlatTreeNode(whatever=3000, parent=tree.node(\"node15\"))\n",
    "FlatTreeNode(name=\"node200\", parent=tree.root, whatever=200)\n",
    "\n",
    "\n",
    "tree.node(\"new_node\").parent = tree.node(\"node200\")\n",
    "print(TreeViz.text(tree.root))\n",
    "\n"
   ]
  },
  {
   "cell_type": "code",
   "execution_count": 44,
   "metadata": {},
   "outputs": [
    {
     "name": "stdout",
     "output_type": "stream",
     "text": [
      "__ROOT__\n",
      "├── node1\n",
      "│   ├── node15\n",
      "│   │   ├── new_node\n",
      "│   │   │   └── node2000\n",
      "│   │   ├── node4000\n",
      "│   │   └── node5000\n",
      "│   └── 3ccbd29e-811e-40a5-81a1-d14237fbcc88\n",
      "├── d3e8be8b-eaf3-4d77-81b5-8d518b8fd158\n",
      "│   └── node4what\n",
      "│       └── de452053-3b6d-4349-9a6b-e9db7c52be8f\n",
      "└── node200\n",
      "\n",
      "{\n",
      "  \"node1\": {\n",
      "    \"new_data\": \"Some new data for node1\",\n",
      "    \"other_new_data\": \"Some other data for node1\"\n",
      "  },\n",
      "  \"node15\": {\n",
      "    \"data\": \"Some data for node15\",\n",
      "    \"parent\": \"node1\"\n",
      "  },\n",
      "  \"new_node\": {\n",
      "    \"parent\": \"node15\",\n",
      "    \"data\": \"Some new data\",\n",
      "    \"ABCDEFG\": \"Some other data\"\n",
      "  },\n",
      "  \"d3e8be8b-eaf3-4d77-81b5-8d518b8fd158\": {\n",
      "    \"whatever\": 3\n",
      "  },\n",
      "  \"node4what\": {\n",
      "    \"whatever\": 4,\n",
      "    \"parent\": \"d3e8be8b-eaf3-4d77-81b5-8d518b8fd158\"\n",
      "  },\n",
      "  \"de452053-3b6d-4349-9a6b-e9db7c52be8f\": {\n",
      "    \"whatever\": 5,\n",
      "    \"parent\": \"node4what\"\n",
      "  },\n",
      "  \"3ccbd29e-811e-40a5-81a1-d14237fbcc88\": {\n",
      "    \"whatever\": 1000,\n",
      "    \"parent\": \"node1\"\n",
      "  },\n",
      "  \"node2000\": {\n",
      "    \"whatever\": 2000,\n",
      "    \"parent\": \"new_node\"\n",
      "  },\n",
      "  \"a77b1f0f-4008-4d4d-94ea-c285fb89e5a4\": {\n",
      "    \"whatever\": 3000,\n",
      "    \"parent\": \"__DETACHED__\"\n",
      "  },\n",
      "  \"node200\": {\n",
      "    \"whatever\": 200\n",
      "  },\n",
      "  \"node350\": {\n",
      "    \"whatever\": 350,\n",
      "    \"parent\": \"__DETACHED__\"\n",
      "  },\n",
      "  \"node4000\": {\n",
      "    \"whatever\": 4000,\n",
      "    \"parent\": \"node15\"\n",
      "  },\n",
      "  \"node5000\": {\n",
      "    \"whatever\": 5000,\n",
      "    \"parent\": \"node15\"\n",
      "  }\n",
      "}\n"
     ]
    }
   ],
   "source": [
    "node15 = tree.node(\"node15\")\n",
    "\n",
    "\n",
    "node15.children = [FlatTreeNode(name=\"node350\", whatever=350)]\n",
    "\n",
    "node15.children = [FlatTreeNode(name=\"node4000\", whatever=4000),\n",
    "                   FlatTreeNode(name=\"node5000\", whatever=5000),\n",
    "                   tree.node(\"new_node\")]\n",
    "\n",
    "print(TreeViz.text(tree.root))\n",
    "print(json.dumps(tree, indent=2))"
   ]
  },
  {
   "cell_type": "markdown",
   "metadata": {},
   "source": [
    "Let's look at some tree conversions. We can convert between different tree\n",
    "representations and data structures."
   ]
  },
  {
   "cell_type": "code",
   "execution_count": 45,
   "metadata": {},
   "outputs": [
    {
     "name": "stdout",
     "output_type": "stream",
     "text": [
      "<class 'treekit.treenode.TreeNode'>\n"
     ]
    }
   ],
   "source": [
    "new_tree = TreeConverter.convert(tree.root, TreeNode)\n",
    "print(type(new_tree))"
   ]
  },
  {
   "cell_type": "markdown",
   "metadata": {},
   "source": [
    "We see that it's a different type of tree, a `TreeNode`, which is a recursive\n",
    "data structure. Nowever, it's also a `dict`. Let's look at its representation."
   ]
  },
  {
   "cell_type": "code",
   "execution_count": 46,
   "metadata": {},
   "outputs": [
    {
     "name": "stdout",
     "output_type": "stream",
     "text": [
      "{\n",
      "  \"__name__\": \"__ROOT__\",\n",
      "  \"children\": [\n",
      "    {\n",
      "      \"new_data\": \"Some new data for node1\",\n",
      "      \"other_new_data\": \"Some other data for node1\",\n",
      "      \"__name__\": \"node1\",\n",
      "      \"children\": [\n",
      "        {\n",
      "          \"data\": \"Some data for node15\",\n",
      "          \"__name__\": \"node15\",\n",
      "          \"children\": [\n",
      "            {\n",
      "              \"data\": \"Some new data\",\n",
      "              \"ABCDEFG\": \"Some other data\",\n",
      "              \"__name__\": \"new_node\",\n",
      "              \"children\": [\n",
      "                {\n",
      "                  \"whatever\": 2000,\n",
      "                  \"__name__\": \"node2000\"\n",
      "                }\n",
      "              ]\n",
      "            },\n",
      "            {\n",
      "              \"whatever\": 4000,\n",
      "              \"__name__\": \"node4000\"\n",
      "            },\n",
      "            {\n",
      "              \"whatever\": 5000,\n",
      "              \"__name__\": \"node5000\"\n",
      "            }\n",
      "          ]\n",
      "        },\n",
      "        {\n",
      "          \"whatever\": 1000,\n",
      "          \"__name__\": \"3ccbd29e-811e-40a5-81a1-d14237fbcc88\"\n",
      "        }\n",
      "      ]\n",
      "    },\n",
      "    {\n",
      "      \"whatever\": 3,\n",
      "      \"__name__\": \"d3e8be8b-eaf3-4d77-81b5-8d518b8fd158\",\n",
      "      \"children\": [\n",
      "        {\n",
      "          \"whatever\": 4,\n",
      "          \"__name__\": \"node4what\",\n",
      "          \"children\": [\n",
      "            {\n",
      "              \"whatever\": 5,\n",
      "              \"__name__\": \"de452053-3b6d-4349-9a6b-e9db7c52be8f\"\n",
      "            }\n",
      "          ]\n",
      "        }\n",
      "      ]\n",
      "    },\n",
      "    {\n",
      "      \"whatever\": 200,\n",
      "      \"__name__\": \"node200\"\n",
      "    }\n",
      "  ]\n",
      "}\n"
     ]
    }
   ],
   "source": [
    "print(json.dumps(new_tree, indent=2))"
   ]
  },
  {
   "cell_type": "markdown",
   "metadata": {},
   "source": [
    "We see that it has a very different structure. However, when we pretty-print\n",
    "it using `TreeViz`, we see that it's the same tree."
   ]
  },
  {
   "cell_type": "code",
   "execution_count": 47,
   "metadata": {},
   "outputs": [
    {
     "name": "stdout",
     "output_type": "stream",
     "text": [
      "__ROOT__\n",
      "├── node1\n",
      "│   ├── node15\n",
      "│   │   ├── new_node\n",
      "│   │   │   └── node2000\n",
      "│   │   ├── node4000\n",
      "│   │   └── node5000\n",
      "│   └── 3ccbd29e-811e-40a5-81a1-d14237fbcc88\n",
      "├── d3e8be8b-eaf3-4d77-81b5-8d518b8fd158\n",
      "│   └── node4what\n",
      "│       └── de452053-3b6d-4349-9a6b-e9db7c52be8f\n",
      "└── node200\n",
      "\n",
      "__ROOT__\n",
      "├── node1\n",
      "│   ├── node15\n",
      "│   │   ├── new_node\n",
      "│   │   │   └── node2000\n",
      "│   │   ├── node4000\n",
      "│   │   └── node5000\n",
      "│   └── 3ccbd29e-811e-40a5-81a1-d14237fbcc88\n",
      "├── d3e8be8b-eaf3-4d77-81b5-8d518b8fd158\n",
      "│   └── node4what\n",
      "│       └── de452053-3b6d-4349-9a6b-e9db7c52be8f\n",
      "└── node200\n",
      "\n"
     ]
    }
   ],
   "source": [
    "print(TreeViz.text(tree.root))\n",
    "print(TreeViz.text(new_tree))"
   ]
  },
  {
   "cell_type": "code",
   "execution_count": 48,
   "metadata": {},
   "outputs": [
    {
     "name": "stdout",
     "output_type": "stream",
     "text": [
      "new_root\n",
      "├── node1\n",
      "│   ├── node15\n",
      "│   │   ├── new_node\n",
      "│   │   │   └── node2000\n",
      "│   │   ├── node4000\n",
      "│   │   └── node5000\n",
      "│   └── 3ccbd29e-811e-40a5-81a1-d14237fbcc88\n",
      "├── d3e8be8b-eaf3-4d77-81b5-8d518b8fd158\n",
      "│   └── node4what\n",
      "│       └── de452053-3b6d-4349-9a6b-e9db7c52be8f\n",
      "└── node200\n",
      "\n",
      "<class 'treekit.treenode.TreeNode'>\n",
      "<class 'treekit.treenode.TreeNode'>\n",
      "<class 'treekit.flattree_node.FlatTreeNode'>\n",
      "__ROOT__\n",
      "├── node1\n",
      "│   ├── node15\n",
      "│   │   ├── new_node\n",
      "│   │   │   └── node2000\n",
      "│   │   ├── node4000\n",
      "│   │   └── node5000\n",
      "│   └── 3ccbd29e-811e-40a5-81a1-d14237fbcc88\n",
      "├── d3e8be8b-eaf3-4d77-81b5-8d518b8fd158\n",
      "│   └── node4what\n",
      "│       └── de452053-3b6d-4349-9a6b-e9db7c52be8f\n",
      "├── node200\n",
      "└── new_root\n",
      "    ├── node1\n",
      "    │   ├── node15\n",
      "    │   │   ├── new_node\n",
      "    │   │   │   └── node2000\n",
      "    │   │   ├── node4000\n",
      "    │   │   └── node5000\n",
      "    │   └── 3ccbd29e-811e-40a5-81a1-d14237fbcc88\n",
      "    ├── d3e8be8b-eaf3-4d77-81b5-8d518b8fd158\n",
      "    │   └── node4what\n",
      "    │       └── de452053-3b6d-4349-9a6b-e9db7c52be8f\n",
      "    └── node200\n",
      "\n"
     ]
    },
    {
     "data": {
      "text/plain": [
       "FlatTreeNode(name=node3, parent=node2, payload={})"
      ]
     },
     "execution_count": 48,
     "metadata": {},
     "output_type": "execute_result"
    }
   ],
   "source": [
    "result = TreeConverter.copy_under(new_tree, FlatTreeNode(name=\"new_root\"))\n",
    "print(TreeViz.text(result))\n",
    "result2 = TreeConverter.copy_under(result, new_tree)\n",
    "print(type(new_tree))\n",
    "print(type(result2))\n",
    "print(type(result))\n",
    "print(TreeViz.text(result2))\n",
    "\n",
    "copyundernode = FlatTreeNode(name=\"copy_under\")\n",
    "FlatTreeNode(name=\"node1\", parent=copyundernode)\n",
    "node2 = FlatTreeNode(name=\"node2\", parent=copyundernode)\n",
    "FlatTreeNode(name=\"node3\", parent=node2)\n"
   ]
  },
  {
   "cell_type": "markdown",
   "metadata": {},
   "source": [
    "The `TreeNode` is a bit more useful for operations that require recursion, but\n",
    "any tree can support the sae operations. The `TreeNode` is a bit more specialized\n",
    "for this purpose, and the `FlatTree` is a bit more specialized for more general\n",
    "storage and manipulation of data that is tree-like, such as configuration data\n",
    "or log data. See `TreeNode.md` for more information on the `TreeNode` class."
   ]
  },
  {
   "cell_type": "code",
   "execution_count": 49,
   "metadata": {},
   "outputs": [
    {
     "name": "stdout",
     "output_type": "stream",
     "text": [
      "root\n",
      "├── node1\n",
      "├── node2\n",
      "└── node3\n",
      "    ├── node4\n",
      "    ├── node5\n",
      "    ├── node6\n",
      "    │   └── node9\n",
      "    │       ├── 7102540928661210090\n",
      "    │       ├── YEAH\n",
      "    │       └── -1794662947604473355\n",
      "    ├── node7\n",
      "    └── node8\n",
      "        ├── node13\n",
      "        └── node14\n",
      "            └── node15\n",
      "\n",
      "TreeNode(name=YEAH, payload={'value': 11})\n",
      "TreeNode(name=node15, payload={'value': 15})\n"
     ]
    }
   ],
   "source": [
    "root = TreeNode(name=\"root\", value=0)\n",
    "node1 = TreeNode(name=\"node1\", parent=root, value=1)\n",
    "node2 = TreeNode(name=\"node2\", parent=root, value=2)\n",
    "node3 = TreeNode(name=\"node3\", parent=root, value=3)\n",
    "node4 = TreeNode(name=\"node4\", parent=node3, value=4)\n",
    "node5 = TreeNode(name=\"node5\", parent=node3, value=5)\n",
    "node6 = TreeNode(name=\"node6\", parent=node3, value=6)\n",
    "node7 = TreeNode(name=\"node7\", parent=node3, value=7)\n",
    "node8 = TreeNode(name=\"node8\", parent=node3, value=8)\n",
    "node9 = TreeNode(name=\"node9\", parent=node6, value=9)\n",
    "node9['what'] = \"Some data\"\n",
    "node9['children'] = [\n",
    "    { 'value': 10 },\n",
    "    { '__name__': 'YEAH', 'value': 11 },\n",
    "    { 'value': 12 }\n",
    "    ]\n",
    "\n",
    "node8.children = [TreeNode(name=\"node13\", value=13), TreeNode(name=\"node14\", value=14)]\n",
    "root.node(\"node14\").children = [TreeNode(name=\"node15\", value=15)]\n",
    "\n",
    "#print(json.dumps(root, indent=2))\n",
    "print(TreeViz.text(root))\n",
    "\n",
    "print(root.node(\"YEAH\"))\n",
    "print(root.node(\"node15\"))\n"
   ]
  },
  {
   "cell_type": "code",
   "execution_count": 50,
   "metadata": {},
   "outputs": [
    {
     "name": "stdout",
     "output_type": "stream",
     "text": [
      "root\n",
      "├── node1\n",
      "├── node2\n",
      "└── node3\n",
      "    ├── node4\n",
      "    ├── node5\n",
      "    ├── node6\n",
      "    │   └── node9\n",
      "    │       ├── 7102540928661210090\n",
      "    │       ├── YEAH\n",
      "    │       └── -1794662947604473355\n",
      "    ├── node7\n",
      "    └── node8\n",
      "        ├── node13\n",
      "        └── node14\n",
      "            └── node15\n",
      "\n"
     ]
    }
   ],
   "source": [
    "\n",
    "print(TreeViz.text(root))"
   ]
  }
 ],
 "metadata": {
  "kernelspec": {
   "display_name": "env",
   "language": "python",
   "name": "python3"
  },
  "language_info": {
   "codemirror_mode": {
    "name": "ipython",
    "version": 3
   },
   "file_extension": ".py",
   "mimetype": "text/x-python",
   "name": "python",
   "nbconvert_exporter": "python",
   "pygments_lexer": "ipython3",
   "version": "3.11.2"
  }
 },
 "nbformat": 4,
 "nbformat_minor": 2
}
