{
 "cells": [
  {
   "cell_type": "code",
   "execution_count": 1,
   "metadata": {},
   "outputs": [
    {
     "name": "stdout",
     "output_type": "stream",
     "text": [
      "{\n",
      "  \"node1\": {\n",
      "    \"data\": \"Some data for node1\",\n",
      "    \"more\": \"Some more data for node1\"\n",
      "  },\n",
      "  \"node2\": {\n",
      "    \"data\": \"Some data for node2\"\n",
      "  },\n",
      "  \"node3\": {\n",
      "    \"parent\": \"node1\",\n",
      "    \"data\": \"Some data for node3\",\n",
      "    \"test\": \"Some test data for node3\"\n",
      "  },\n",
      "  \"node4\": {\n",
      "    \"parent\": \"node3\",\n",
      "    \"data\": \"Some data for node4\"\n",
      "  },\n",
      "  \"node5\": {\n",
      "    \"parent\": \"node3\",\n",
      "    \"data\": \"Some data for node5\"\n",
      "  }\n",
      "}\n"
     ]
    }
   ],
   "source": [
    "import json\n",
    "tree_data = {\n",
    "    \"node1\": {\n",
    "        #\"parent\": None,\n",
    "        \"data\": \"Some data for node1\",\n",
    "        \"more\": \"Some more data for node1\"\n",
    "    },\n",
    "    \"node2\": {\n",
    "        #\"parent\": \"node1\",\n",
    "        \"data\": \"Some data for node2\"\n",
    "    },\n",
    "    \"node3\": {\n",
    "        \"parent\": \"node1\",\n",
    "        \"data\": \"Some data for node3\",\n",
    "        \"test\": \"Some test data for node3\"\n",
    "    },\n",
    "    \"node4\": {\n",
    "        \"parent\": \"node3\",\n",
    "        \"data\": \"Some data for node4\"\n",
    "    },\n",
    "    \"node5\": {\n",
    "        \"parent\": \"node3\",\n",
    "        \"data\": \"Some data for node5\"\n",
    "    }\n",
    "}\n",
    "print(json.dumps(tree_data, indent=2))"
   ]
  },
  {
   "cell_type": "code",
   "execution_count": null,
   "metadata": {},
   "outputs": [],
   "source": []
  },
  {
   "cell_type": "code",
   "execution_count": 2,
   "metadata": {},
   "outputs": [
    {
     "name": "stdout",
     "output_type": "stream",
     "text": [
      "{\n",
      "  \"node1\": {\n",
      "    \"data\": \"Some data for node1\",\n",
      "    \"more\": \"Some more data for node1\"\n",
      "  },\n",
      "  \"node2\": {\n",
      "    \"data\": \"Some data for node2\"\n",
      "  },\n",
      "  \"node3\": {\n",
      "    \"parent\": \"node1\",\n",
      "    \"data\": \"Some data for node3\",\n",
      "    \"test\": \"Some test data for node3\"\n",
      "  },\n",
      "  \"node4\": {\n",
      "    \"parent\": \"node3\",\n",
      "    \"data\": \"Some data for node4\"\n",
      "  },\n",
      "  \"node5\": {\n",
      "    \"parent\": \"node3\",\n",
      "    \"data\": \"Some data for node5\"\n",
      "  }\n",
      "}\n"
     ]
    }
   ],
   "source": [
    "import treekit as tk\n",
    "\n",
    "# load a tree from tree_data\n",
    "tree = tk.FlatTree(tree_data)#, metadata={ \"name\": \"My Tree\" })\n",
    "print(json.dumps(tree, indent=2))\n"
   ]
  },
  {
   "cell_type": "code",
   "execution_count": 3,
   "metadata": {},
   "outputs": [
    {
     "data": {
      "text/plain": [
       "{}"
      ]
     },
     "execution_count": 3,
     "metadata": {},
     "output_type": "execute_result"
    }
   ],
   "source": [
    "tree.root.payload"
   ]
  },
  {
   "cell_type": "code",
   "execution_count": 4,
   "metadata": {},
   "outputs": [
    {
     "name": "stdout",
     "output_type": "stream",
     "text": [
      "__ROOT__\n",
      "     |\n",
      "     + - node1\n",
      "         |\n",
      "         + -- node3\n",
      "             |\n",
      "             + --- node4\n",
      "             |\n",
      "             + --- node5\n",
      "     |\n",
      "     + - node2\n"
     ]
    }
   ],
   "source": [
    "node = tree.root\n",
    "def pretty_print(node, depth=0):\n",
    "    if depth != 0:\n",
    "        print(\"    \"*depth, \"|\")\n",
    "        print(\"    \"*depth, \"+\", \"-\"*depth, end=\" \")\n",
    "    print(node.name)\n",
    "    for child in node.children:\n",
    "        pretty_print(child, depth+1)\n",
    "pretty_print(node)"
   ]
  },
  {
   "cell_type": "markdown",
   "metadata": {},
   "source": [
    "For now on, when viewing trees, we use the `TreeViz` class to visualize the trees.\n",
    "It has a `text` and `image` method to display the tree in text and image format respectively."
   ]
  },
  {
   "cell_type": "code",
   "execution_count": 5,
   "metadata": {},
   "outputs": [],
   "source": [
    "from treekit.tree_viz import TreeViz\n",
    "from treekit.tree_converter import TreeConverter\n",
    "anytree = TreeConverter.to_anytree(tree.get_node(\"node1\"),\n",
    "                                   node_name=lambda node: node.name,\n",
    "                                   data_extractor=None)"
   ]
  },
  {
   "cell_type": "code",
   "execution_count": 6,
   "metadata": {},
   "outputs": [
    {
     "name": "stdout",
     "output_type": "stream",
     "text": [
      "node1\n",
      "└── node3\n",
      "    ├── node4\n",
      "    └── node5\n",
      "\n"
     ]
    }
   ],
   "source": [
    "print(TreeViz.text(anytree))"
   ]
  },
  {
   "cell_type": "code",
   "execution_count": 7,
   "metadata": {},
   "outputs": [
    {
     "name": "stdout",
     "output_type": "stream",
     "text": [
      "node1\n",
      "└── node3\n",
      "    ├── node4\n",
      "    └── node5\n",
      "\n"
     ]
    }
   ],
   "source": [
    "print(TreeViz.text(anytree, node_name=lambda node: node.name))"
   ]
  },
  {
   "cell_type": "code",
   "execution_count": 8,
   "metadata": {},
   "outputs": [],
   "source": [
    "#TreeConverter.to_treenode(anytree)"
   ]
  },
  {
   "cell_type": "code",
   "execution_count": 9,
   "metadata": {},
   "outputs": [
    {
     "name": "stdout",
     "output_type": "stream",
     "text": [
      "1\n",
      "(Node('/node1'), Node('/node1/node3'))\n",
      "(Node('/node1'),)\n",
      "()\n",
      "True\n"
     ]
    }
   ],
   "source": [
    "\n",
    "print(anytree.children[0].depth)\n",
    "print(anytree.children[0].path)\n",
    "print(anytree.children[0].ancestors)\n",
    "print(anytree.children[0].siblings)\n",
    "print(anytree.is_root)"
   ]
  },
  {
   "cell_type": "code",
   "execution_count": 10,
   "metadata": {},
   "outputs": [],
   "source": [
    "TreeViz.image(anytree, \"anytree.png\")"
   ]
  },
  {
   "cell_type": "markdown",
   "metadata": {},
   "source": [
    "Here is the image (`tree.png` from above) of the tree:\n",
    "\n",
    "![tree](./tree.png)"
   ]
  },
  {
   "cell_type": "markdown",
   "metadata": {},
   "source": [
    "We may want to show different or more information in the image.\n",
    "In order to do so, firs we shold convert `tree` to any `anytree.Node` that\n",
    "carries more information."
   ]
  },
  {
   "cell_type": "code",
   "execution_count": 11,
   "metadata": {},
   "outputs": [],
   "source": [
    "def detailed_node_info(node):\n",
    "    return { 'data': node.payload['data'] if 'data' in node.payload else \"None\" }\n",
    "\n",
    "anytree2 = TreeConverter.to_anytree(tree,\n",
    "                                   node_name=lambda node: node.name,\n",
    "                                   data_extractor=detailed_node_info)\n",
    "\n",
    "\n",
    "TreeViz.image(anytree2, \"anytree-more.png\", node_name=lambda node: node.name + \": \" + node.data + \"\\nchildren: \" + str(len(node.children)))"
   ]
  },
  {
   "cell_type": "markdown",
   "metadata": {},
   "source": [
    "Here is the image:\n",
    "\n",
    "![tree](./anytree-more.png)\n"
   ]
  },
  {
   "cell_type": "markdown",
   "metadata": {},
   "source": [
    "The `FlatTree` class provides a **view** of a `dict` object as a tree. We do not modify\n",
    "the `dict` passed into it (and you can create a dict through the `FlatTree` API).\n",
    "\n",
    "The `FlatTree` class has a number of methods and properties to help you navigate the tree.\n",
    "A particular aspect of the `FlatTree` class is that it unifies any `dict` object into a tree\n",
    "structure. The keys are the node names and the values are the node values. If\n",
    "the value has no parent, it is a child of a `LOGICAL_ROOT` node that is computed\n",
    "lazily on demand (and is not a part of the actual underlying `dict` object).\n",
    "In this way, every dict is a tree, and every tree is a dict, with the exception\n",
    "that undefined behavior may result if the `dict` has keys that map to values\n",
    "in which a `parent` key is defined but results in a cycle or a node that is not\n",
    "in the `dict`. In this case, it will still try to work with it, but the behavior\n",
    "is undefined. You can call `FlatTree.check_valid` to check if the tree is in a\n",
    "valid state.\n",
    "\n",
    "Since it's just a view of a `dict` we have all the normal operations on it that\n",
    "we would have on a `dict` object."
   ]
  },
  {
   "cell_type": "markdown",
   "metadata": {},
   "source": [
    "We can also use the `FlatTree` class to visualize sub-trees rooted at some node.\n",
    "\n",
    "By default, the `FlatTree` conceptually represents as a whole the logical root\n",
    "of the tree. However, we have `FlatTree.ProxyNode` objects that can be used to\n",
    "represent any node in the tree, and supports the same API as the `FlatTree` class\n",
    "itself."
   ]
  },
  {
   "cell_type": "code",
   "execution_count": 12,
   "metadata": {},
   "outputs": [
    {
     "name": "stdout",
     "output_type": "stream",
     "text": [
      "node3\n",
      "├── node4\n",
      "└── node5\n",
      "\n"
     ]
    }
   ],
   "source": [
    "print(TreeViz.text(TreeConverter.to_anytree(tree.get_node(\"node3\"))))"
   ]
  },
  {
   "cell_type": "code",
   "execution_count": 13,
   "metadata": {},
   "outputs": [
    {
     "name": "stdout",
     "output_type": "stream",
     "text": [
      "{'data': 'Some data for node2'}\n",
      "ProxyNode({'parent': 'node1', 'data': 'Some data for node3', 'test': 'Some test data for node3'})\n",
      "node1\n",
      "[ProxyNode({'parent': 'node3', 'data': 'Some data for node4'}), ProxyNode({'parent': 'node3', 'data': 'Some data for node5'})]\n"
     ]
    }
   ],
   "source": [
    "print(tree[\"node2\"])\n",
    "node3 = tree.get_node(\"node3\")\n",
    "print(node3)\n",
    "print(node3['parent'])\n",
    "print(node3.children)"
   ]
  },
  {
   "cell_type": "markdown",
   "metadata": {},
   "source": [
    "We show that it's easy to regenerate any JSON files that may have been used\n",
    "to generate the FlatTree 'tree'. So, JSON is a good format for storing and\n",
    "transmitting trees. And, of course, `FlatTree` *is* a dictionary. Of course,\n",
    "if we store an object that has no serializable representation, it cannot be\n",
    "stored in JSON."
   ]
  },
  {
   "cell_type": "code",
   "execution_count": 14,
   "metadata": {},
   "outputs": [
    {
     "name": "stdout",
     "output_type": "stream",
     "text": [
      "True\n"
     ]
    }
   ],
   "source": [
    "print(json.dumps(tree,  indent=2) == json.dumps(tree_data, indent=2))"
   ]
  },
  {
   "cell_type": "code",
   "execution_count": 15,
   "metadata": {},
   "outputs": [
    {
     "name": "stdout",
     "output_type": "stream",
     "text": [
      "{'node1': {'data': <function <lambda> at 0x7087d521a8e0>}}\n",
      "ProxyNode({})\n",
      "Object of type function is not JSON serializable\n"
     ]
    }
   ],
   "source": [
    "\n",
    "# let's create a tree from a dict that cannot be serialized to json\n",
    "non_serializable_tree_data = {\n",
    "    \"node1\": {\n",
    "        #\"parent\": None,\n",
    "        # data is a function that cannot be serialized to json\n",
    "        \"data\": lambda x: 2*x**3 + 3*x**2 + 4*x + 5\n",
    "    }\n",
    "}\n",
    "\n",
    "non_serializable_tree = tk.FlatTree(non_serializable_tree_data)\n",
    "print(non_serializable_tree)\n",
    "print(non_serializable_tree.root)\n",
    "\n",
    "try:\n",
    "    json.dumps(non_serializable_tree, indent=2)\n",
    "except TypeError as e:\n",
    "    print(e)"
   ]
  },
  {
   "cell_type": "code",
   "execution_count": 16,
   "metadata": {},
   "outputs": [
    {
     "name": "stdout",
     "output_type": "stream",
     "text": [
      "ProxyNode({'data': 'Some data for node36'})\n",
      "__ROOT__\n",
      "├── node1\n",
      "│   ├── node3\n",
      "│   │   ├── node4\n",
      "│   │   └── node5\n",
      "│   └── node15\n",
      "├── node2\n",
      "└── node36\n",
      "\n"
     ]
    }
   ],
   "source": [
    "child = tree.root.add_child(key=\"node36\", data=\"Some data for node36\")\n",
    "print(child)\n",
    "tree.get_node(\"node1\").add_child(key=\"node15\", data=\"Some data for node15\")\n",
    "print(TreeViz.text(TreeConverter.to_anytree(tree)))"
   ]
  },
  {
   "cell_type": "markdown",
   "metadata": {},
   "source": [
    "If we try too add a non-unique node key to the tree, we will get a `KeyError`."
   ]
  },
  {
   "cell_type": "code",
   "execution_count": 17,
   "metadata": {},
   "outputs": [
    {
     "name": "stdout",
     "output_type": "stream",
     "text": [
      "'Node key already exists in the tree'\n"
     ]
    }
   ],
   "source": [
    "try:\n",
    "    child2 = tree.get_node(\"node1\").add_child(key=\"node2\", data=\"Some data for node2!!!\")\n",
    "except KeyError as e:\n",
    "    print(e)"
   ]
  },
  {
   "cell_type": "markdown",
   "metadata": {},
   "source": [
    "Let's add some more nodes."
   ]
  },
  {
   "cell_type": "code",
   "execution_count": 18,
   "metadata": {},
   "outputs": [
    {
     "name": "stdout",
     "output_type": "stream",
     "text": [
      "Node('/node7', data='Some data for node7')\n",
      "├── Node('/node7/node17', data='Some data for node17')\n",
      "└── Node('/node7/node27', data='Some data for node27')\n",
      "    └── Node('/node7/node27/node37', data='Some data for node37')\n",
      "\n"
     ]
    }
   ],
   "source": [
    "child7 = child.add_child(key=\"node7\", data=\"Some data for node7\")\n",
    "child7.add_child(key=\"node17\", data=\"Some data for node17\")\n",
    "child7.add_child(key=\"node27\", data=\"Some data for node27\").add_child(key=\"node37\", data=\"Some data for node37\")\n",
    "print(TreeViz.text(TreeConverter.to_anytree(child7), node_name=lambda n: n))"
   ]
  },
  {
   "cell_type": "markdown",
   "metadata": {},
   "source": [
    "Let's view the full tree with the `TreeViz.image` method."
   ]
  },
  {
   "cell_type": "code",
   "execution_count": 19,
   "metadata": {},
   "outputs": [],
   "source": [
    "TreeViz.image(TreeConverter.to_anytree(tree), \"big_tree.png\")"
   ]
  },
  {
   "cell_type": "markdown",
   "metadata": {},
   "source": [
    "Here's the tree:\n",
    "\n",
    "![big_tree](./big_tree.png)\n",
    "\n",
    "We can see that the underlying tree that the child is a member of has been\n",
    "appropriately modified:"
   ]
  },
  {
   "cell_type": "markdown",
   "metadata": {},
   "source": [
    "We can iterate over the items of the child and we can modify/delete its data."
   ]
  },
  {
   "cell_type": "code",
   "execution_count": 20,
   "metadata": {},
   "outputs": [
    {
     "name": "stdout",
     "output_type": "stream",
     "text": [
      "data\n",
      "parent\n",
      "ProxyNode({'data': 'Some data for node7', 'parent': 'node36', 'new_data': 'Some new data for node7'})\n",
      "ProxyNode({'data': 'Some data for node7', 'parent': 'node36'})\n"
     ]
    }
   ],
   "source": [
    "for k, v in child7.items():\n",
    "    print(k)\n",
    "\n",
    "child7[\"new_data\"] = \"Some new data for node7\"    \n",
    "print(child7)\n",
    "\n",
    "del child7[\"new_data\"]\n",
    "print(child7)\n",
    "\n",
    "child7[\"other_new_data\"] = \"Some other data for node7\"\n"
   ]
  },
  {
   "cell_type": "markdown",
   "metadata": {},
   "source": [
    "Let's create a tree from a dictionary that refers to a non-existent parent."
   ]
  },
  {
   "cell_type": "code",
   "execution_count": 21,
   "metadata": {},
   "outputs": [
    {
     "name": "stdout",
     "output_type": "stream",
     "text": [
      "__ROOT__\n",
      "\n",
      "\"Parent node non-existent: 'non_existent_parent'\"\n"
     ]
    }
   ],
   "source": [
    "try:\n",
    "    non_existent_parent_tree = tk.FlatTree({\n",
    "        \"node1\": {\n",
    "            \"parent\": \"non_existent_parent\",\n",
    "            \"data\": \"Some data for node1\"\n",
    "        }})\n",
    "    print(TreeViz.text(TreeConverter.to_anytree(non_existent_parent_tree)))\n",
    "    non_existent_parent_tree.check_valid()\n",
    "except KeyError as e:\n",
    "    print(e)\n",
    "\n"
   ]
  },
  {
   "cell_type": "markdown",
   "metadata": {},
   "source": [
    "We see that the node is disconnected from the logical root, since it refers\n",
    "to a non-existent parent."
   ]
  },
  {
   "cell_type": "code",
   "execution_count": 22,
   "metadata": {},
   "outputs": [
    {
     "name": "stdout",
     "output_type": "stream",
     "text": [
      "Cycle detected: {'node2', 'node3', 'node1'}\n"
     ]
    }
   ],
   "source": [
    "\n",
    "try:\n",
    "    cycle_tree = tk.FlatTree({\n",
    "        \"node0\": {\n",
    "            \"parent\": None,\n",
    "            \"data\": \"Some data for node0\"\n",
    "        },\n",
    "        \"node1\": {\n",
    "            \"parent\": \"node2\",\n",
    "            \"data\": \"Some data for node1\"\n",
    "        },\n",
    "        \"node2\": {\n",
    "            \"parent\": \"node3\",\n",
    "            \"data\": \"Some data for node2\"\n",
    "        },\n",
    "        \"node3\": {\n",
    "            \"parent\": \"node1\",\n",
    "            \"data\": \"Some data for node3\"\n",
    "        },\n",
    "        \"node4\": {\n",
    "            \"parent\": \"node0\",\n",
    "            \"data\": \"Some data for node4\"\n",
    "        }\n",
    "    })\n",
    "\n",
    "    print(TreeViz.text(TreeConverter.to_anytree(cycle_tree)))\n",
    "    cycle_tree.check_valid()\n",
    "except ValueError as e:\n",
    "    print(e)"
   ]
  },
  {
   "cell_type": "markdown",
   "metadata": {},
   "source": [
    "We see that the tree was in an invalid state. In particular, nodes 1, 2, and 3\n",
    "are disconnected from the logical root and in a cycle. We can fix this by\n",
    "breaking the cycle and setting the parent of node 3 to, for instance, the\n",
    "logical root (by setting it to `None`)."
   ]
  },
  {
   "cell_type": "code",
   "execution_count": 23,
   "metadata": {},
   "outputs": [
    {
     "name": "stdout",
     "output_type": "stream",
     "text": [
      "__ROOT__\n",
      "├── node0\n",
      "│   └── node4\n",
      "└── node3\n",
      "    └── node2\n",
      "        └── node1\n",
      "\n"
     ]
    }
   ],
   "source": [
    "cycle_tree['node3']['parent'] = None\n",
    "print(TreeViz.text(TreeConverter.to_anytree(cycle_tree)))"
   ]
  },
  {
   "cell_type": "markdown",
   "metadata": {},
   "source": [
    "If you modify the tree structure using the `FlatTree` API, not the `dict` API,\n",
    "we actually do enforce the tree structure. For example, if we try to set the\n",
    "parent of a node to a non-existent node, we will get a `KeyError`."
   ]
  },
  {
   "cell_type": "code",
   "execution_count": 24,
   "metadata": {},
   "outputs": [
    {
     "name": "stdout",
     "output_type": "stream",
     "text": [
      "\"Parent node non-existent: 'node14994'\"\n"
     ]
    }
   ],
   "source": [
    "from copy import deepcopy\n",
    "try:\n",
    "    deepcopy(tree).get_node(\"node2\")['parent'] = 'node14994'\n",
    "except KeyError as e:\n",
    "    print(e)\n"
   ]
  },
  {
   "cell_type": "markdown",
   "metadata": {},
   "source": [
    "Let's look at the tree again, and see about creating a cycle."
   ]
  },
  {
   "cell_type": "code",
   "execution_count": 25,
   "metadata": {},
   "outputs": [
    {
     "name": "stdout",
     "output_type": "stream",
     "text": [
      "__ROOT__\n",
      "├── node1\n",
      "│   ├── node3\n",
      "│   │   ├── node4\n",
      "│   │   └── node5\n",
      "│   └── node15\n",
      "├── node2\n",
      "└── node36\n",
      "    └── node7\n",
      "        ├── node17\n",
      "        └── node27\n",
      "            └── node37\n",
      "\n"
     ]
    }
   ],
   "source": [
    "print(TreeViz.text(TreeConverter.to_anytree(tree)))"
   ]
  },
  {
   "cell_type": "markdown",
   "metadata": {},
   "source": [
    "We will make node 1 the parent of node 5, to create a cycle:"
   ]
  },
  {
   "cell_type": "code",
   "execution_count": 26,
   "metadata": {},
   "outputs": [
    {
     "name": "stdout",
     "output_type": "stream",
     "text": [
      "Cycle detected: {'node5', 'node3', 'node1'}\n"
     ]
    }
   ],
   "source": [
    "try:\n",
    "    deepcopy(tree).get_node(\"node1\")['parent'] = 'node5'\n",
    "except ValueError as e:\n",
    "    print(e)"
   ]
  },
  {
   "cell_type": "markdown",
   "metadata": {},
   "source": [
    "Notice that we use `deepcopy` to avoid modifying the original tree with these\n",
    "invalid operations. We chose to do it this way so as to not incur the overhead\n",
    "of reverting the tree to a valid state after an invalid operation. This way,\n",
    "we can keep the tree in an invalid state for as long as we want, and only\n",
    "revert it to a valid state when we want to."
   ]
  },
  {
   "cell_type": "markdown",
   "metadata": {},
   "source": [
    "Each node is a key-value pair in the `FlatTree`. We have the  `FlatTree.ProxyNode`\n",
    "so that we can have an API focused on the nodes and not the underlying dictionary.\n",
    "However, we stiill permit access to the underlying dictionary. When you modify\n",
    "the tree in this way, we still maintain the integrity of the tree.\n",
    "\n",
    "Since the `FlatTree` represents nodes as key-value pairs, and the value may\n",
    "have a parent key, along with any other arbitrary data, each value for a node\n",
    "must be a dictionary.\n",
    "\n",
    "Below, we see that trying to add a `test` node with a non-dictionary value\n",
    "generates an error."
   ]
  },
  {
   "cell_type": "code",
   "execution_count": 27,
   "metadata": {},
   "outputs": [
    {
     "name": "stdout",
     "output_type": "stream",
     "text": [
      "Node test's value must be a dictionary: value='Some test data'\n"
     ]
    }
   ],
   "source": [
    "try:\n",
    "    error_tree = deepcopy(tree)\n",
    "    error_tree['test'] = \"Some test data\"\n",
    "    error_tree.check_valid()\n",
    "except ValueError as e:\n",
    "    print(e)\n"
   ]
  },
  {
   "cell_type": "markdown",
   "metadata": {},
   "source": [
    "Let's manipulate the tree a bit more using the `dict` API. We're just going to\n",
    "add a `new_node` with some data."
   ]
  },
  {
   "cell_type": "code",
   "execution_count": 28,
   "metadata": {},
   "outputs": [
    {
     "name": "stdout",
     "output_type": "stream",
     "text": [
      "__ROOT__\n",
      "├── node1\n",
      "│   ├── node3\n",
      "│   │   ├── node4\n",
      "│   │   └── node5\n",
      "│   ├── node15\n",
      "│   └── new_node\n",
      "├── node2\n",
      "└── node36\n",
      "    └── node7\n",
      "        ├── node17\n",
      "        └── node27\n",
      "            └── node37\n",
      "\n"
     ]
    }
   ],
   "source": [
    "\n",
    "tree['new_node'] = {'parent': 'node1', 'data': 'Some new data'}\n",
    "print(TreeViz.text(TreeConverter.to_anytree(tree)))"
   ]
  },
  {
   "cell_type": "code",
   "execution_count": 29,
   "metadata": {},
   "outputs": [
    {
     "name": "stdout",
     "output_type": "stream",
     "text": [
      "{\n",
      "  \"node1\": {\n",
      "    \"data\": \"Some data for node1\",\n",
      "    \"more\": \"Some more data for node1\"\n",
      "  },\n",
      "  \"node2\": {\n",
      "    \"data\": \"Some data for node2\"\n",
      "  },\n",
      "  \"node3\": {\n",
      "    \"parent\": \"node1\",\n",
      "    \"data\": \"Some data for node3\",\n",
      "    \"test\": \"Some test data for node3\"\n",
      "  },\n",
      "  \"node4\": {\n",
      "    \"parent\": \"node3\",\n",
      "    \"data\": \"Some data for node4\"\n",
      "  },\n",
      "  \"node5\": {\n",
      "    \"parent\": \"node3\",\n",
      "    \"data\": \"Some data for node5\"\n",
      "  },\n",
      "  \"node36\": {\n",
      "    \"data\": \"Some data for node36\"\n",
      "  },\n",
      "  \"node15\": {\n",
      "    \"data\": \"Some data for node15\",\n",
      "    \"parent\": \"node1\"\n",
      "  },\n",
      "  \"node7\": {\n",
      "    \"data\": \"Some data for node7\",\n",
      "    \"parent\": \"node36\",\n",
      "    \"other_new_data\": \"Some other data for node7\"\n",
      "  },\n",
      "  \"node17\": {\n",
      "    \"data\": \"Some data for node17\",\n",
      "    \"parent\": \"node7\"\n",
      "  },\n",
      "  \"node27\": {\n",
      "    \"data\": \"Some data for node27\",\n",
      "    \"parent\": \"node7\"\n",
      "  },\n",
      "  \"node37\": {\n",
      "    \"data\": \"Some data for node37\",\n",
      "    \"parent\": \"node27\"\n",
      "  },\n",
      "  \"new_node\": {\n",
      "    \"parent\": \"node1\",\n",
      "    \"data\": \"Some new data\"\n",
      "  }\n",
      "}\n"
     ]
    }
   ],
   "source": [
    "print(json.dumps(tree, indent=2))\n"
   ]
  },
  {
   "cell_type": "markdown",
   "metadata": {},
   "source": [
    "The logical root node is not a part of the underlying dictionary, so we can't\n",
    "access it through the `dict` API. It's non-children data are also immutable\n",
    "through the `FlatTree` API."
   ]
  },
  {
   "cell_type": "code",
   "execution_count": 30,
   "metadata": {},
   "outputs": [
    {
     "name": "stdout",
     "output_type": "stream",
     "text": [
      "ProxyNode({})\n",
      "ProxyNode({}) is immutable\n",
      "ProxyNode({}) is immutable\n"
     ]
    }
   ],
   "source": [
    "root_node = tree.root\n",
    "print(root_node)\n",
    "\n",
    "try:\n",
    "    root_node['data'] = \"Some new data for root node\"\n",
    "except TypeError as e:\n",
    "    print(e)\n",
    "\n",
    "try:\n",
    "    root_node['parent'] = None\n",
    "except TypeError as e:\n",
    "    print(e)\n",
    "\n",
    "try:\n",
    "    root_node.clear()\n",
    "except TypeError as e:\n",
    "    print(e)\n"
   ]
  },
  {
   "cell_type": "markdown",
   "metadata": {},
   "source": [
    "We can *detach* nodes. Let's first view the full tree, pre-detachment."
   ]
  },
  {
   "cell_type": "code",
   "execution_count": 31,
   "metadata": {},
   "outputs": [],
   "source": [
    "TreeViz.image(TreeConverter.to_anytree(tree), \"full-tree-pre-detach-or-prune.png\")"
   ]
  },
  {
   "cell_type": "markdown",
   "metadata": {},
   "source": [
    "Here's the full tree prior to any detachment or pruning:\n",
    "\n",
    "![full-tree-pre-detach-or-prune](./full-tree-pre-detach-or-prune.png)\n",
    "\n",
    "Let's detach node 36 and see the tree."
   ]
  },
  {
   "cell_type": "code",
   "execution_count": 33,
   "metadata": {},
   "outputs": [
    {
     "name": "stdout",
     "output_type": "stream",
     "text": [
      "{\n",
      "  \"node1\": {\n",
      "    \"data\": \"Some data for node1\",\n",
      "    \"more\": \"Some more data for node1\"\n",
      "  },\n",
      "  \"node2\": {\n",
      "    \"data\": \"Some data for node2\"\n",
      "  },\n",
      "  \"node3\": {\n",
      "    \"parent\": \"node1\",\n",
      "    \"data\": \"Some data for node3\",\n",
      "    \"test\": \"Some test data for node3\"\n",
      "  },\n",
      "  \"node4\": {\n",
      "    \"parent\": \"node3\",\n",
      "    \"data\": \"Some data for node4\"\n",
      "  },\n",
      "  \"node5\": {\n",
      "    \"parent\": \"node3\",\n",
      "    \"data\": \"Some data for node5\"\n",
      "  },\n",
      "  \"node36\": {\n",
      "    \"data\": \"Some data for node36\",\n",
      "    \"parent\": \"__DETACHED__\"\n",
      "  },\n",
      "  \"node15\": {\n",
      "    \"data\": \"Some data for node15\",\n",
      "    \"parent\": \"node1\"\n",
      "  },\n",
      "  \"node7\": {\n",
      "    \"data\": \"Some data for node7\",\n",
      "    \"parent\": \"node36\",\n",
      "    \"other_new_data\": \"Some other data for node7\"\n",
      "  },\n",
      "  \"node17\": {\n",
      "    \"data\": \"Some data for node17\",\n",
      "    \"parent\": \"node7\"\n",
      "  },\n",
      "  \"node27\": {\n",
      "    \"data\": \"Some data for node27\",\n",
      "    \"parent\": \"node7\"\n",
      "  },\n",
      "  \"node37\": {\n",
      "    \"data\": \"Some data for node37\",\n",
      "    \"parent\": \"node27\"\n",
      "  },\n",
      "  \"new_node\": {\n",
      "    \"parent\": \"node1\",\n",
      "    \"data\": \"Some new data\"\n",
      "  }\n",
      "}\n"
     ]
    }
   ],
   "source": [
    "tree.get_node(\"node36\").detach()\n",
    "print(json.dumps(tree, indent=2))"
   ]
  },
  {
   "cell_type": "code",
   "execution_count": null,
   "metadata": {},
   "outputs": [],
   "source": [
    "detached_node_36_tree = TreeConverter.to_anytree(tree)\n",
    "TreeViz.image(detached_node_36_tree, \"full-tree-post-detach-node-36.png\")"
   ]
  },
  {
   "cell_type": "markdown",
   "metadata": {},
   "source": [
    "Let's view the tree with the detached node 36.\n",
    "\n",
    "![full-tree-post-detach-node-36](./full-tree-post-detach-node-36.png)\n",
    "\n",
    "We see that node 36 (and any of its children) are no longer attached to the logical root, which represents the root of the tree.\n",
    "However, it's not gone -- it's detached. We can view it with:"
   ]
  },
  {
   "cell_type": "code",
   "execution_count": null,
   "metadata": {},
   "outputs": [],
   "source": [
    "node36 = tree.get_node(\"node36\")\n",
    "TreeViz.image(TreeConverter.to_anytree(node36), \"node-36-pre-prune.png\")"
   ]
  },
  {
   "cell_type": "markdown",
   "metadata": {},
   "source": [
    "Here's the tree prior to the pruning.\n",
    "\n",
    "![node-36-pre-prune.png](./node-36-pre-prune.png)\n",
    "\n",
    "We can *prune* any detached nodes. Let's prune the detached nodes."
   ]
  },
  {
   "cell_type": "code",
   "execution_count": null,
   "metadata": {},
   "outputs": [
    {
     "name": "stdout",
     "output_type": "stream",
     "text": [
      "\"Node not found: 'node36'\"\n"
     ]
    }
   ],
   "source": [
    "tree.prune_detached()\n",
    "try:\n",
    "    tree.get_node(\"node36\")\n",
    "except KeyError as e:\n",
    "    print(e)\n"
   ]
  },
  {
   "cell_type": "code",
   "execution_count": null,
   "metadata": {},
   "outputs": [
    {
     "name": "stdout",
     "output_type": "stream",
     "text": [
      "\"Node not found: 'node17'\"\n"
     ]
    }
   ],
   "source": [
    "try:\n",
    "    tree.get_node(\"node17\")\n",
    "except KeyError as e:\n",
    "    print(e)"
   ]
  },
  {
   "cell_type": "markdown",
   "metadata": {},
   "source": [
    "So, after detaching node 36 and then pruning detached nodes, we only have the\n",
    "nodes in the attached tree. It'll still show the same as before, but we can\n",
    "look at the underlying `dict` to verify the detached nodes are gone."
   ]
  },
  {
   "cell_type": "code",
   "execution_count": null,
   "metadata": {},
   "outputs": [
    {
     "name": "stdout",
     "output_type": "stream",
     "text": [
      "{\n",
      "  \"node1\": {\n",
      "    \"data\": \"Some data for node1\",\n",
      "    \"more\": \"Some more data for node1\"\n",
      "  },\n",
      "  \"node2\": {\n",
      "    \"data\": \"Some data for node2\"\n",
      "  },\n",
      "  \"node3\": {\n",
      "    \"parent\": \"node1\",\n",
      "    \"data\": \"Some data for node3\",\n",
      "    \"test\": \"Some test data for node3\"\n",
      "  },\n",
      "  \"node4\": {\n",
      "    \"parent\": \"node3\",\n",
      "    \"data\": \"Some data for node4\"\n",
      "  },\n",
      "  \"node5\": {\n",
      "    \"parent\": \"node3\",\n",
      "    \"data\": \"Some data for node5\"\n",
      "  },\n",
      "  \"node15\": {\n",
      "    \"data\": \"Some data for node15\",\n",
      "    \"parent\": \"node1\"\n",
      "  },\n",
      "  \"new_node\": {\n",
      "    \"parent\": \"node1\",\n",
      "    \"data\": \"Some new data\"\n",
      "  }\n",
      "}\n"
     ]
    }
   ],
   "source": [
    "print(json.dumps(tree, indent=2))"
   ]
  },
  {
   "cell_type": "markdown",
   "metadata": {},
   "source": [
    "We can also directly prune nodes from the tree. Let's prune node 3."
   ]
  },
  {
   "cell_type": "code",
   "execution_count": null,
   "metadata": {},
   "outputs": [
    {
     "name": "stdout",
     "output_type": "stream",
     "text": [
      "\"Node not found: 'node3'\"\n"
     ]
    }
   ],
   "source": [
    "tree.prune(\"node3\")\n",
    "try:\n",
    "    tree.get_node(\"node3\")\n",
    "except KeyError as e:\n",
    "    print(e)\n",
    "\n",
    "TreeViz.image(TreeConverter.to_anytree(tree), \"post-prune-node-3.png\")"
   ]
  },
  {
   "cell_type": "markdown",
   "metadata": {},
   "source": [
    "\n",
    "Let's view the tree after pruning node 3.\n",
    "\n",
    "\n",
    "![post-prune-node-3](./post-prune-node-3.png)\n",
    "\n",
    "We have a fairly complete API for manipulating the tree. Let's explore some\n",
    "additional methods."
   ]
  },
  {
   "cell_type": "code",
   "execution_count": null,
   "metadata": {},
   "outputs": [
    {
     "name": "stdout",
     "output_type": "stream",
     "text": [
      "{}\n",
      "├── {'new_data': 'Some new data for node1', 'other_new_data': 'Some other data for node1'}\n",
      "│   ├── {'data': 'Some data for node15', 'parent': 'node1'}\n",
      "│   ├── {'parent': 'node1', 'data': 'Some new data'}\n",
      "│   └── {'data': 'Some data for node77', 'parent': 'node1'}\n",
      "└── {'data': 'Some data for node2'}\n",
      "\n"
     ]
    }
   ],
   "source": [
    "tree.get_node(\"node1\").clear()\n",
    "#print(tree.get_node(\"node1\"))\n",
    "tree.get_node(\"node1\")['new_data'] = \"Some new data for node1\"\n",
    "tree.get_node(\"node1\")['other_new_data'] = \"Some other data for node1\"\n",
    "tree.get_node(\"node1\").add_child(key=\"node77\", data=\"Some data for node77\")\n",
    "\n",
    "print(TreeViz.text(TreeConverter.to_anytree(tree, node_name=lambda n: n.payload)))"
   ]
  },
  {
   "cell_type": "markdown",
   "metadata": {},
   "source": [
    "This is fairly self-expalanatory. Let's add some more nodes without specifying\n",
    "a key name for them, since often we don't care about the key name and it's\n",
    "only for bookkeeping purposes."
   ]
  },
  {
   "cell_type": "code",
   "execution_count": null,
   "metadata": {},
   "outputs": [
    {
     "name": "stdout",
     "output_type": "stream",
     "text": [
      "__ROOT__\n",
      "├── node1\n",
      "│   ├── node15\n",
      "│   ├── new_node\n",
      "│   └── node77\n",
      "├── node2\n",
      "└── 43f24f40-fd3c-446b-af98-ba79bfa9b228\n",
      "    └── 8b35ade0-f744-4f43-b634-cca76cfa0f8d\n",
      "        └── bf367759-37d0-4595-bbe5-7c2b25ca6156\n",
      "\n"
     ]
    }
   ],
   "source": [
    "tree.add_child(whatever=3).add_child(whatever=4).add_child(whatever=5)\n",
    "print(TreeViz.text(TreeConverter.to_anytree(tree)))"
   ]
  },
  {
   "cell_type": "markdown",
   "metadata": {},
   "source": [
    "Let's look at some tree conversions. We can convert between different tree\n",
    "representations and data structures."
   ]
  },
  {
   "cell_type": "code",
   "execution_count": null,
   "metadata": {},
   "outputs": [
    {
     "name": "stdout",
     "output_type": "stream",
     "text": [
      "<class 'treekit.treenode.TreeNode'>\n"
     ]
    }
   ],
   "source": [
    "import treekit.tree_converter as tc\n",
    "new_tree = tc.TreeConverter.to_treenode(deepcopy(tree), node_name = lambda node: node.name, data_extractor = lambda node: node.payload)\n",
    "print(type(new_tree))"
   ]
  },
  {
   "cell_type": "markdown",
   "metadata": {},
   "source": [
    "We see that it's a different type of tree, a `TreeNode`, which is a recursive\n",
    "data structure. Nowever, it's also a `dict`. Let's look at its representation."
   ]
  },
  {
   "cell_type": "code",
   "execution_count": null,
   "metadata": {},
   "outputs": [
    {
     "name": "stdout",
     "output_type": "stream",
     "text": [
      "{\n",
      "  \"__name__\": \"__ROOT__\",\n",
      "  \"children\": [\n",
      "    {\n",
      "      \"__name__\": \"node1\",\n",
      "      \"new_data\": \"Some new data for node1\",\n",
      "      \"other_new_data\": \"Some other data for node1\",\n",
      "      \"children\": [\n",
      "        {\n",
      "          \"__name__\": \"node15\",\n",
      "          \"data\": \"Some data for node15\",\n",
      "          \"parent\": \"node1\",\n",
      "          \"children\": []\n",
      "        },\n",
      "        {\n",
      "          \"__name__\": \"new_node\",\n",
      "          \"parent\": \"node1\",\n",
      "          \"data\": \"Some new data\",\n",
      "          \"children\": []\n",
      "        },\n",
      "        {\n",
      "          \"__name__\": \"node77\",\n",
      "          \"data\": \"Some data for node77\",\n",
      "          \"parent\": \"node1\",\n",
      "          \"children\": []\n",
      "        }\n",
      "      ]\n",
      "    },\n",
      "    {\n",
      "      \"__name__\": \"node2\",\n",
      "      \"data\": \"Some data for node2\",\n",
      "      \"children\": []\n",
      "    },\n",
      "    {\n",
      "      \"__name__\": \"43f24f40-fd3c-446b-af98-ba79bfa9b228\",\n",
      "      \"whatever\": 3,\n",
      "      \"children\": [\n",
      "        {\n",
      "          \"__name__\": \"8b35ade0-f744-4f43-b634-cca76cfa0f8d\",\n",
      "          \"whatever\": 4,\n",
      "          \"parent\": \"43f24f40-fd3c-446b-af98-ba79bfa9b228\",\n",
      "          \"children\": [\n",
      "            {\n",
      "              \"__name__\": \"bf367759-37d0-4595-bbe5-7c2b25ca6156\",\n",
      "              \"whatever\": 5,\n",
      "              \"parent\": \"8b35ade0-f744-4f43-b634-cca76cfa0f8d\",\n",
      "              \"children\": []\n",
      "            }\n",
      "          ]\n",
      "        }\n",
      "      ]\n",
      "    }\n",
      "  ]\n",
      "}\n"
     ]
    }
   ],
   "source": [
    "print(json.dumps(new_tree, indent=2))"
   ]
  },
  {
   "cell_type": "markdown",
   "metadata": {},
   "source": [
    "We see that it has a very different structure. However, when we pretty-print\n",
    "it using `TreeViz`, we see that it's the same tree."
   ]
  },
  {
   "cell_type": "code",
   "execution_count": null,
   "metadata": {},
   "outputs": [
    {
     "name": "stdout",
     "output_type": "stream",
     "text": [
      "__ROOT__\n",
      "├── node1\n",
      "│   ├── node15\n",
      "│   ├── new_node\n",
      "│   └── node77\n",
      "├── node2\n",
      "└── 43f24f40-fd3c-446b-af98-ba79bfa9b228\n",
      "    └── 8b35ade0-f744-4f43-b634-cca76cfa0f8d\n",
      "        └── bf367759-37d0-4595-bbe5-7c2b25ca6156\n",
      "\n"
     ]
    }
   ],
   "source": [
    "print(TreeViz.text(TreeConverter.to_anytree(new_tree)))"
   ]
  },
  {
   "cell_type": "markdown",
   "metadata": {},
   "source": [
    "We also support conversions to and from `FlatTree`, `TreeNode`, and `anytree.Node` objects."
   ]
  },
  {
   "cell_type": "markdown",
   "metadata": {},
   "source": [
    "The `TreeNode` is a bit more useful for operations that require recursion, but\n",
    "any tree can support the sae operations. The `TreeNode` is a bit more specialized\n",
    "for this purpose, and the `FlatTree` is a bit more specialized for more general\n",
    "storage and manipulation of data that is tree-like, such as configuration data\n",
    "or log data. See `TreeNode.md` for more information on the `TreeNode` class."
   ]
  }
 ],
 "metadata": {
  "kernelspec": {
   "display_name": "env",
   "language": "python",
   "name": "python3"
  },
  "language_info": {
   "codemirror_mode": {
    "name": "ipython",
    "version": 3
   },
   "file_extension": ".py",
   "mimetype": "text/x-python",
   "name": "python",
   "nbconvert_exporter": "python",
   "pygments_lexer": "ipython3",
   "version": "3.11.2"
  }
 },
 "nbformat": 4,
 "nbformat_minor": 2
}
