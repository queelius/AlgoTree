{
 "cells": [
  {
   "cell_type": "code",
   "execution_count": 54,
   "metadata": {},
   "outputs": [],
   "source": [
    "import json\n",
    "tree_data = {\n",
    "    \"author\": \"John Doe\",\n",
    "    \"version\": \"1.0\",\n",
    "    \"mapping\": {\n",
    "        \"node1\": {\n",
    "            \"parent\": None,\n",
    "            \"data\": \"Some data for node1\"\n",
    "        },\n",
    "        \"node2\": {\n",
    "            \"parent\": \"node1\",\n",
    "            \"data\": \"Some data for node2\"\n",
    "        },\n",
    "        \"node3\": {\n",
    "            \"parent\": \"node1\",\n",
    "            \"data\": \"Some data for node3\"\n",
    "        },\n",
    "        \"node4\": {\n",
    "            \"parent\": \"node3\",\n",
    "            \"data\": \"Some data for node4\"\n",
    "        },\n",
    "        \"node5\": {\n",
    "            \"parent\": \"node3\",\n",
    "            \"data\": \"Some data for node5\"\n",
    "        }\n",
    "    }\n",
    "}\n",
    "#print(json.dumps(tree_data, indent=2))"
   ]
  },
  {
   "cell_type": "code",
   "execution_count": 55,
   "metadata": {},
   "outputs": [
    {
     "name": "stdout",
     "output_type": "stream",
     "text": [
      "node1\n",
      "|-- node2\n",
      "+-- node3\n",
      "    |-- node4\n",
      "    +-- node5\n"
     ]
    }
   ],
   "source": [
    "import treekit as tk\n",
    "\n",
    "# load a tree from tree_data\n",
    "tree = tk.DictTree.from_dict(data=tree_data, mapping_key=\"mapping\")\n",
    "print(tree)"
   ]
  },
  {
   "cell_type": "markdown",
   "metadata": {},
   "source": [
    "We show that it's easy to regenerate any JSON files that may have been used\n",
    "to generate the DictTree 'tree'. So, JSON is a good format for storing and\n",
    "transmitting the DictTree 'tree'."
   ]
  },
  {
   "cell_type": "code",
   "execution_count": 56,
   "metadata": {},
   "outputs": [
    {
     "data": {
      "text/plain": [
       "True"
      ]
     },
     "execution_count": 56,
     "metadata": {},
     "output_type": "execute_result"
    }
   ],
   "source": [
    "json.dumps(tree.to_dict(),  indent=2) == json.dumps(tree_data, indent=2)"
   ]
  },
  {
   "cell_type": "code",
   "execution_count": 57,
   "metadata": {},
   "outputs": [
    {
     "data": {
      "text/plain": [
       "[Node('/node1/node2', payload={'parent': 'node1', 'data': 'Some data for node2'}),\n",
       " Node('/node1/node3/node4', payload={'parent': 'node3', 'data': 'Some data for node4'}),\n",
       " Node('/node1/node3/node5', payload={'parent': 'node3', 'data': 'Some data for node5'})]"
      ]
     },
     "execution_count": 57,
     "metadata": {},
     "output_type": "execute_result"
    }
   ],
   "source": [
    "tree.leaves()"
   ]
  },
  {
   "cell_type": "code",
   "execution_count": 58,
   "metadata": {},
   "outputs": [
    {
     "name": "stdout",
     "output_type": "stream",
     "text": [
      "(Node('/node1/node3/node4', payload={'parent': 'node3', 'data': 'Some data for node4'}), Node('/node1/node3/node5', payload={'parent': 'node3', 'data': 'Some data for node5'}))\n",
      "node4\n",
      "node3\n",
      "(Node('/node1', payload={'parent': None, 'data': 'Some data for node1'}), Node('/node1/node3', payload={'parent': 'node1', 'data': 'Some data for node3'}))\n",
      "()\n",
      "0\n",
      "(Node('/node1', payload={'parent': None, 'data': 'Some data for node1'}), Node('/node1/node3', payload={'parent': 'node1', 'data': 'Some data for node3'}), Node('/node1/node3/node4', payload={'parent': 'node3', 'data': 'Some data for node4'}))\n",
      "(Node('/node1/node3/node5', payload={'parent': 'node3', 'data': 'Some data for node5'}),)\n",
      "2\n"
     ]
    }
   ],
   "source": [
    "child = tree.get_node('node3').children\n",
    "print(child)\n",
    "print(child[0].name)\n",
    "print(child[0].parent.name)\n",
    "print(child[0].ancestors)\n",
    "print(child[0].descendants)\n",
    "print(child[0].height)\n",
    "print(child[0].path)\n",
    "print(child[0].siblings)\n",
    "print(child[0].depth)\n"
   ]
  },
  {
   "cell_type": "code",
   "execution_count": 59,
   "metadata": {},
   "outputs": [],
   "source": [
    "tree.save(\"tree-test.png\")"
   ]
  },
  {
   "cell_type": "markdown",
   "metadata": {},
   "source": [
    "Here is the `tree-test.png` PNG.\n",
    "\n",
    "![tree-test.png](tree-test.png)"
   ]
  },
  {
   "cell_type": "markdown",
   "metadata": {},
   "source": [
    "We can show the different paths in the tree with:"
   ]
  },
  {
   "cell_type": "code",
   "execution_count": 60,
   "metadata": {},
   "outputs": [
    {
     "name": "stdout",
     "output_type": "stream",
     "text": [
      "[['node1', 'node2'], ['node1', 'node3', 'node4'], ['node1', 'node3', 'node5']]\n"
     ]
    }
   ],
   "source": [
    "print(tree.flatten(node_name=lambda n: n.name))"
   ]
  },
  {
   "cell_type": "code",
   "execution_count": 61,
   "metadata": {},
   "outputs": [
    {
     "data": {
      "text/plain": [
       "True"
      ]
     },
     "execution_count": 61,
     "metadata": {},
     "output_type": "execute_result"
    }
   ],
   "source": [
    "\"node1\" in tree"
   ]
  },
  {
   "cell_type": "code",
   "execution_count": 62,
   "metadata": {},
   "outputs": [
    {
     "name": "stdout",
     "output_type": "stream",
     "text": [
      "(Node('/node1', payload={'parent': None, 'data': 'Some data for node1'}), Node('/node1/node3', payload={'parent': 'node1', 'data': 'Some data for node3'}))\n",
      "(Node('/node1/node2', payload={'parent': 'node1', 'data': 'Some data for node2'}), Node('/node1/node3', payload={'parent': 'node1', 'data': 'Some data for node3'}), Node('/node1/node3/node4', payload={'parent': 'node3', 'data': 'Some data for node4'}), Node('/node1/node3/node5', payload={'parent': 'node3', 'data': 'Some data for node5'}))\n",
      "2\n"
     ]
    }
   ],
   "source": [
    "print(tree.get_node(\"node4\").ancestors)\n",
    "print(tree.root_node.descendants)\n",
    "print(tree.height())"
   ]
  },
  {
   "cell_type": "code",
   "execution_count": 63,
   "metadata": {},
   "outputs": [
    {
     "name": "stdout",
     "output_type": "stream",
     "text": [
      "False\n",
      "False\n",
      "(Node('/node1/node3/node4', payload={'parent': 'node3', 'data': 'Some data for node4'}), Node('/node1/node3/node5', payload={'parent': 'node3', 'data': 'Some data for node5'}))\n",
      "2\n",
      "Node('/node1/node3', payload={'parent': 'node1', 'data': 'Some data for node3'})\n",
      "(Node('/node1/node3', payload={'parent': 'node1', 'data': 'Some data for node3'}),)\n"
     ]
    }
   ],
   "source": [
    "print(tree.get_node(\"node1\").is_leaf)\n",
    "print(tree.get_node(\"node2\").is_root)\n",
    "print(tree.get_node(\"node3\").children)\n",
    "print(tree.get_node(\"node4\").depth)\n",
    "print(tree.get_node(\"node4\").parent)\n",
    "print(tree.get_node(\"node2\").siblings)"
   ]
  },
  {
   "cell_type": "code",
   "execution_count": 64,
   "metadata": {},
   "outputs": [
    {
     "name": "stdout",
     "output_type": "stream",
     "text": [
      "# DictTree Specification\n",
      "\n",
      "The dict (or JSON) data should have the following structure:\n",
      "\n",
      "```json\n",
      "{\n",
      "    // Meta-data (optional key-value pairs)\n",
      "    \"<key>\": \"<value>\", ...\n",
      "\n",
      "    \"<mapping_key>\": {\n",
      "        \"<node_key>\": {\n",
      "            // Parent node key (optional)\n",
      "            \"parent\": \"<parent_node_key>\",\n",
      "\n",
      "            // Children node keys (optional)\n",
      "            \"children\": [\n",
      "                \"<child_node_key>\", ...\n",
      "            ],\n",
      "                \n",
      "            // Node data (optional key-value pairs)\n",
      "            \"<key>\": \"<value>\", ...\n",
      "        },\n",
      "\n",
      "        // More node key-value pairs\n",
      "        ...\n",
      "    }\n",
      "}\n",
      "```\n",
      "\n",
      "where:\n",
      "\n",
      "- <mapping_key> is the key in the JSON that maps to the structure of the tree. Default is \"mapping\".\n",
      "- <node_key> is the key of the node.\n",
      "- <parent_node_key> is the key of the parent node.\n",
      "- <child_node_key> is the key of a child node.\n",
      "- Additional key-value pairs can be added to each node to store arbitrary data.\n",
      "- The JSON data can have additional key-value pairs for meta-data, such as the name of the tree.\n",
      "- You can also create the tree structure using the `DictTree` class directly, e.g.,\n",
      "  `tree.add_node(\"node1\", parent=\"root\", data=\"Some data for node1\")`.\n",
      "  `tree.get_node(\"node2\").parent = tree.get_node(\"node1\")`.\n"
     ]
    }
   ],
   "source": [
    "print(tk.DictTree.spec())"
   ]
  },
  {
   "cell_type": "code",
   "execution_count": 65,
   "metadata": {},
   "outputs": [
    {
     "name": "stdout",
     "output_type": "stream",
     "text": [
      "[Node('/node1/node3/node4', payload={'parent': 'node3', 'data': 'Some data for node4'})]\n"
     ]
    }
   ],
   "source": [
    "nodes = tk.find_nodes(\n",
    "    tree=tree,\n",
    "    query=\"data=='Some data for node4' || node_key=='node1'\",\n",
    "    matcher=tk.matchers('bool'))\n",
    "print(nodes)\n"
   ]
  },
  {
   "cell_type": "code",
   "execution_count": 66,
   "metadata": {},
   "outputs": [
    {
     "name": "stdout",
     "output_type": "stream",
     "text": [
      "{'parent': None, 'data': 'Some data for node1', 'node_depth': '0', 'siblings': [], 'num_children': '2', 'node_key': 'node1'}\n",
      "├── {'parent': 'node1', 'data': 'Some data for node2', 'node_depth': '1', 'siblings': ['node3'], 'num_children': '0', 'node_key': 'node2'}\n",
      "└── {'parent': 'node1', 'data': 'Some data for node3', 'node_depth': '1', 'siblings': ['node2'], 'num_children': '2', 'node_key': 'node3'}\n",
      "    ├── {'parent': 'node3', 'data': 'Some data for node4', 'node_depth': '2', 'siblings': ['node5'], 'num_children': '0', 'node_key': 'node4'}\n",
      "    └── {'parent': 'node3', 'data': 'Some data for node5', 'node_depth': '2', 'siblings': ['node4'], 'num_children': '0', 'node_key': 'node5'}\n"
     ]
    }
   ],
   "source": [
    "tk.decorate_nodes(\n",
    "    tree=tree,\n",
    "    decs=tk.decorators(['depth', 'siblings', 'num_children', 'node_key']))\n",
    "print(tree.to_string(node_name=lambda n: n.payload))"
   ]
  },
  {
   "cell_type": "code",
   "execution_count": 89,
   "metadata": {},
   "outputs": [
    {
     "name": "stdout",
     "output_type": "stream",
     "text": [
      "node1\n",
      "node4\n",
      "node5\n"
     ]
    }
   ],
   "source": [
    "nodes = tk.find_nodes(\n",
    "    tree=tree,\n",
    "    query=\"node_depth=='2' || node_key=='node1'\",\n",
    "    matcher=tk.matchers('bool'))\n",
    "for n in nodes:\n",
    "    print(n.name)"
   ]
  },
  {
   "cell_type": "code",
   "execution_count": 68,
   "metadata": {},
   "outputs": [
    {
     "name": "stdout",
     "output_type": "stream",
     "text": [
      "[Node('/node1/node3/node4', payload={'parent': 'node3', 'data': 'Some data for node4', 'node_depth': '2', 'siblings': ['node5'], 'num_children': '0', 'node_key': 'node4'})]\n"
     ]
    }
   ],
   "source": [
    "nodes = tk.find_nodes(\n",
    "    tree=tree,\n",
    "    query=\"for node4\",                  \n",
    "    matcher=tk.matchers(\"regex\"))\n",
    "print(nodes)"
   ]
  },
  {
   "cell_type": "code",
   "execution_count": 69,
   "metadata": {},
   "outputs": [
    {
     "name": "stdout",
     "output_type": "stream",
     "text": [
      "[Node('/node1/node3/node4', payload={'parent': 'node3', 'data': 'Some data for node4', 'node_depth': '2', 'siblings': ['node5'], 'num_children': '0', 'node_key': 'node4'})]\n"
     ]
    }
   ],
   "source": [
    "nodes = tk.find_nodes(\n",
    "    tree=tree,\n",
    "    query=lambda n: n['data'] == 'Some data for node4',\n",
    "    matcher=tk.matchers(\"pred\"))\n",
    "print(nodes)"
   ]
  },
  {
   "cell_type": "code",
   "execution_count": 70,
   "metadata": {},
   "outputs": [
    {
     "name": "stdout",
     "output_type": "stream",
     "text": [
      "node1b\n",
      "|-- node2b\n",
      "+-- node3b\n",
      "node1b\n",
      "|-- node2b\n",
      "+-- node3b\n",
      "    +-- node4b\n"
     ]
    }
   ],
   "source": [
    "import treekit as tk\n",
    "tree_data_alt = {\n",
    "    \"author\": \"John Doe\",\n",
    "    \"version\": \"2.0\",\n",
    "    \"mapping\": {\n",
    "        \"node1b\": {\n",
    "            \"children\": [\"node2b\", \"node3b\"],\n",
    "            \"data\": \"Some data for node1b\"\n",
    "        },\n",
    "        \"node2b\": {\n",
    "            \"data\": \"Some data for node2b\"\n",
    "        },\n",
    "        \"node3b\": {\n",
    "            \"data\": \"Some data for node3b\"\n",
    "        },\n",
    "        \"node4b\": {\n",
    "            \"data\": \"Some data for node4b\"\n",
    "        },\n",
    "    }\n",
    "}\n",
    "tree_alt = tk.DictTree.from_dict(tree_data_alt)\n",
    "print(tree_alt) \n",
    "\n",
    "tree_alt.get_node(\"node4b\").parent = tree_alt.get_node(\"node3b\")\n",
    "\n",
    "print(tree_alt)"
   ]
  },
  {
   "cell_type": "code",
   "execution_count": 71,
   "metadata": {},
   "outputs": [],
   "source": [
    "new_node = tree_alt.add_node(\"node5b\", parent_key=\"node3b\", payload=\"Some data for node5b\")\n"
   ]
  },
  {
   "cell_type": "code",
   "execution_count": 72,
   "metadata": {},
   "outputs": [
    {
     "name": "stdout",
     "output_type": "stream",
     "text": [
      "node1b\n",
      "|-- node2b\n",
      "+-- node3b\n",
      "    |-- node4b\n",
      "    +-- node5b\n"
     ]
    }
   ],
   "source": [
    "print(tree_alt)"
   ]
  },
  {
   "cell_type": "code",
   "execution_count": 73,
   "metadata": {},
   "outputs": [
    {
     "name": "stdout",
     "output_type": "stream",
     "text": [
      "Some data for node5b edited\n",
      "└── Some data for A\n",
      "{'children': ['node2b', 'node3b'], 'data': 'Some data for node1b'}\n",
      "├── {'data': 'Some data for node2b'}\n",
      "└── {'data': 'Some data for node3b'}\n",
      "    ├── {'data': 'Some data for node4b'}\n",
      "    └── Some data for node5b\n"
     ]
    }
   ],
   "source": [
    "new_tree = tk.DictTree.from_anytree(new_node)\n",
    "new_tree.add_node(\"A\", parent_key=\"node5b\", payload=\"Some data for A\")\n",
    "new_tree.edit_node(\"node5b\", payload=\"Some data for node5b edited\")\n",
    "print(new_tree.to_string(node_name=lambda n: n.payload))\n",
    "print(tree_alt.to_string(node_name=lambda n: n.payload))\n"
   ]
  },
  {
   "cell_type": "code",
   "execution_count": 74,
   "metadata": {},
   "outputs": [
    {
     "name": "stdout",
     "output_type": "stream",
     "text": [
      "node1b\n",
      "+-- node2b\n"
     ]
    }
   ],
   "source": [
    "tree_alt.remove_node(\"node3b\")\n",
    "print(tree_alt)\n"
   ]
  },
  {
   "cell_type": "code",
   "execution_count": 75,
   "metadata": {},
   "outputs": [
    {
     "name": "stdout",
     "output_type": "stream",
     "text": [
      "Parent node node3 not found\n"
     ]
    }
   ],
   "source": [
    "try:\n",
    "    tree_alt.add_node(\"node15b\", parent_key=\"node3\", payload=\"Some data for node15b\")\n",
    "except Exception as e:\n",
    "    print(e)\n",
    "    tree_alt.add_node(\"node15b\", payload=\"Some data for node15b\")"
   ]
  },
  {
   "cell_type": "code",
   "execution_count": 76,
   "metadata": {},
   "outputs": [
    {
     "name": "stdout",
     "output_type": "stream",
     "text": [
      "Node('/node15b', payload='Some data for node15b')\n",
      "node1b\n",
      "+-- node2b\n"
     ]
    }
   ],
   "source": [
    "print(tree_alt.get_node(\"node15b\"))\n",
    "print(tree_alt)"
   ]
  },
  {
   "cell_type": "code",
   "execution_count": 77,
   "metadata": {},
   "outputs": [
    {
     "name": "stdout",
     "output_type": "stream",
     "text": [
      "False\n",
      "True\n"
     ]
    }
   ],
   "source": [
    "print(tree_alt.is_connected())\n",
    "tree_alt.remove_node(\"node15b\")\n",
    "print(tree_alt.is_connected())"
   ]
  },
  {
   "cell_type": "code",
   "execution_count": 78,
   "metadata": {},
   "outputs": [
    {
     "name": "stdout",
     "output_type": "stream",
     "text": [
      "node1b => {'data': 'Some different data for node1b'}\n",
      "└── node2b => {'data': 'Some data for node2b'}\n"
     ]
    }
   ],
   "source": [
    "tree_alt.edit_node(\"node1b\", payload={\"data\": \"Some different data for node1b\"})\n",
    "print(tree_alt.to_string(node_name = lambda n: f\"{n.name} => {n.payload}\"))\n"
   ]
  },
  {
   "cell_type": "code",
   "execution_count": 79,
   "metadata": {},
   "outputs": [
    {
     "name": "stdout",
     "output_type": "stream",
     "text": [
      "node1\n",
      "|-- node2\n",
      "|   +-- node1b\n",
      "|       +-- node2b\n",
      "+-- node3\n",
      "    |-- node4\n",
      "    +-- node5\n",
      "node5b\n",
      "+-- A\n",
      "    +-- node1\n",
      "        |-- node2\n",
      "        |   +-- node1b\n",
      "        |       +-- node2b\n",
      "        +-- node3\n",
      "            |-- node4\n",
      "            +-- node5\n"
     ]
    }
   ],
   "source": [
    "tree.merge_under(\"node2\", tree_alt)\n",
    "new_tree.merge_under(\"A\", tree)\n",
    "print(tree)\n",
    "print(new_tree)"
   ]
  },
  {
   "cell_type": "code",
   "execution_count": 80,
   "metadata": {},
   "outputs": [],
   "source": [
    "import logging\n",
    "logging.basicConfig(level=logging.DEBUG)\n",
    "tree.verify_integrity()"
   ]
  },
  {
   "cell_type": "code",
   "execution_count": 81,
   "metadata": {},
   "outputs": [],
   "source": [
    "node2 = tree.remove_node(\"node2\")"
   ]
  },
  {
   "cell_type": "code",
   "execution_count": 82,
   "metadata": {},
   "outputs": [],
   "source": [
    "subtree = tk.DictTree.from_anytree(node2)"
   ]
  },
  {
   "cell_type": "code",
   "execution_count": 83,
   "metadata": {},
   "outputs": [
    {
     "name": "stdout",
     "output_type": "stream",
     "text": [
      "node2\n",
      "|-- node1b\n",
      "|   +-- node2b\n",
      "+-- B\n"
     ]
    }
   ],
   "source": [
    "subtree.add_node(\"B\", parent_key=\"node2\", payload=\"Some data for B\")\n",
    "print(subtree)"
   ]
  },
  {
   "cell_type": "code",
   "execution_count": 84,
   "metadata": {},
   "outputs": [
    {
     "name": "stdout",
     "output_type": "stream",
     "text": [
      "node1\n",
      "+-- node3\n",
      "    |-- node4\n",
      "    +-- node5\n"
     ]
    }
   ],
   "source": [
    "print(tree)"
   ]
  },
  {
   "cell_type": "code",
   "execution_count": 86,
   "metadata": {},
   "outputs": [
    {
     "name": "stdout",
     "output_type": "stream",
     "text": [
      "C\n",
      "|-- node1b\n",
      "|   +-- node2b\n",
      "+-- B\n"
     ]
    }
   ],
   "source": [
    "subtree.edit_node(\"node2\", new_key=\"C\")\n",
    "print(subtree)"
   ]
  },
  {
   "cell_type": "code",
   "execution_count": 92,
   "metadata": {},
   "outputs": [
    {
     "name": "stdout",
     "output_type": "stream",
     "text": [
      "node5b\n",
      "+-- A\n",
      "    +-- node1\n",
      "        |-- node2\n",
      "        |   +-- node1b\n",
      "        |       +-- node2b\n",
      "        +-- node3\n",
      "            |-- node4\n",
      "            +-- node5\n"
     ]
    },
    {
     "ename": "AttributeError",
     "evalue": "'list' object has no attribute 'name'",
     "output_type": "error",
     "traceback": [
      "\u001b[0;31m---------------------------------------------------------------------------\u001b[0m",
      "\u001b[0;31mAttributeError\u001b[0m                            Traceback (most recent call last)",
      "Cell \u001b[0;32mIn[92], line 7\u001b[0m\n\u001b[1;32m      1\u001b[0m \u001b[38;5;28mprint\u001b[39m(new_tree)\n\u001b[1;32m      3\u001b[0m nodes \u001b[38;5;241m=\u001b[39m tk\u001b[38;5;241m.\u001b[39mfind_nodes(\n\u001b[1;32m      4\u001b[0m     tree\u001b[38;5;241m=\u001b[39mnew_tree,\n\u001b[1;32m      5\u001b[0m     query\u001b[38;5;241m=\u001b[39m\u001b[38;5;124m\"\u001b[39m\u001b[38;5;124mnode_key==\u001b[39m\u001b[38;5;124m'\u001b[39m\u001b[38;5;124mnode2\u001b[39m\u001b[38;5;124m'\u001b[39m\u001b[38;5;124m\"\u001b[39m,\n\u001b[1;32m      6\u001b[0m     matcher\u001b[38;5;241m=\u001b[39mtk\u001b[38;5;241m.\u001b[39mmatchers(\u001b[38;5;124m\"\u001b[39m\u001b[38;5;124mbool\u001b[39m\u001b[38;5;124m\"\u001b[39m))\n\u001b[0;32m----> 7\u001b[0m \u001b[38;5;28mprint\u001b[39m(\u001b[43mtk\u001b[49m\u001b[38;5;241;43m.\u001b[39;49m\u001b[43mDictTree\u001b[49m\u001b[38;5;241;43m.\u001b[39;49m\u001b[43mfrom_anytree\u001b[49m\u001b[43m(\u001b[49m\u001b[43mnodes\u001b[49m\u001b[43m)\u001b[49m)\n",
      "File \u001b[0;32m~/github/treekit/treekit/dicttree.py:45\u001b[0m, in \u001b[0;36mDictTree.from_anytree\u001b[0;34m(cls, node)\u001b[0m\n\u001b[1;32m     43\u001b[0m tree \u001b[38;5;241m=\u001b[39m DictTree()\n\u001b[1;32m     44\u001b[0m \u001b[38;5;28;01mfor\u001b[39;00m n \u001b[38;5;129;01min\u001b[39;00m PreOrderIter(node):\n\u001b[0;32m---> 45\u001b[0m     tree\u001b[38;5;241m.\u001b[39mnodes[n\u001b[38;5;241m.\u001b[39mname] \u001b[38;5;241m=\u001b[39m Node(\u001b[43mn\u001b[49m\u001b[38;5;241;43m.\u001b[39;49m\u001b[43mname\u001b[49m, parent\u001b[38;5;241m=\u001b[39m\u001b[38;5;28;01mNone\u001b[39;00m, children\u001b[38;5;241m=\u001b[39m[],\n\u001b[1;32m     46\u001b[0m                               payload\u001b[38;5;241m=\u001b[39mcopy\u001b[38;5;241m.\u001b[39mdeepcopy(n\u001b[38;5;241m.\u001b[39mpayload)) \n\u001b[1;32m     48\u001b[0m \u001b[38;5;28;01mfor\u001b[39;00m n \u001b[38;5;129;01min\u001b[39;00m PreOrderIter(node):\n\u001b[1;32m     49\u001b[0m     tree\u001b[38;5;241m.\u001b[39mnodes[n\u001b[38;5;241m.\u001b[39mname]\u001b[38;5;241m.\u001b[39mchildren \u001b[38;5;241m=\u001b[39m [tree\u001b[38;5;241m.\u001b[39mnodes[child\u001b[38;5;241m.\u001b[39mname] \u001b[38;5;28;01mfor\u001b[39;00m child \u001b[38;5;129;01min\u001b[39;00m n\u001b[38;5;241m.\u001b[39mchildren]\n",
      "\u001b[0;31mAttributeError\u001b[0m: 'list' object has no attribute 'name'"
     ]
    }
   ],
   "source": [
    "print(new_tree)\n",
    "\n",
    "nodes = tk.find_nodes(\n",
    "    tree=new_tree,\n",
    "    query=\"node_key=='node2'\",\n",
    "    matcher=tk.matchers(\"bool\"))\n",
    "print(tk.DictTree.from_anytree(nodes[0]))"
   ]
  }
 ],
 "metadata": {
  "kernelspec": {
   "display_name": "env",
   "language": "python",
   "name": "python3"
  },
  "language_info": {
   "codemirror_mode": {
    "name": "ipython",
    "version": 3
   },
   "file_extension": ".py",
   "mimetype": "text/x-python",
   "name": "python",
   "nbconvert_exporter": "python",
   "pygments_lexer": "ipython3",
   "version": "3.11.2"
  }
 },
 "nbformat": 4,
 "nbformat_minor": 2
}
