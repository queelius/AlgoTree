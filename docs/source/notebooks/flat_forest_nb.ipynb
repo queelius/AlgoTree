{
 "cells": [
  {
   "cell_type": "markdown",
   "metadata": {},
   "source": [
    "# `FlatForest Notebook`\n",
    "\n",
    "In this notebook, we explore the `FlatForest` data structure, which is a forest\n",
    "structure with a flat (non-nested) data structure. It is a `dict` with special\n",
    "methods to access the root nodes and other tree-like operations.\n",
    "\n",
    "The main implementation detail is the proxy class `FlatForestNode`, which allows\n",
    "us to access the `dict` with a node-centric abstraction. This allows us to\n",
    "implement tree-like operations in a flat data structure. As a proxy, it also\n",
    "modifies the `dict` in place, so it is a mutable data structure."
   ]
  },
  {
   "cell_type": "markdown",
   "metadata": {},
   "source": [
    "Let's load the required libraries and create a `FlatForest` data structure\n",
    "using the node interface."
   ]
  },
  {
   "cell_type": "code",
   "execution_count": 118,
   "metadata": {},
   "outputs": [
    {
     "name": "stdout",
     "output_type": "stream",
     "text": [
      "1 {'data': 1} None\n",
      "\n",
      "2 {'data': 2} 1\n",
      "\n",
      "3 {'data': 3} 1\n",
      "\n",
      "4 {'data': 4} 3\n",
      "\n",
      "5 {'data': 5} 3\n",
      "\n",
      "A {'data': 'Data for A'} None\n",
      "\n",
      "B {'data': 'Data for B'} A\n",
      "\n",
      "C {'data': 'Data for C'} A\n",
      "\n",
      "D {'data': 'Data for D'} C\n",
      "\n",
      "E {'data': 'Data for E'} C\n",
      "\n",
      "F {'data': 'Data for F'} E\n",
      "\n",
      "G {'data': 'Data for G'} E\n",
      "\n",
      "H {'data': 'Data for H'} B\n",
      "\n",
      "I {'data': 'Data for I'} A\n",
      "\n",
      "J {'data': 'Data for J'} I\n",
      "\n",
      "K {'data': 'Data for K'} G\n",
      "\n",
      "L {'data': 'Data for L'} G\n",
      "\n",
      "M {'data': 'Data for M'} C\n",
      "\n"
     ]
    }
   ],
   "source": [
    "from AlgoTree.flat_forest_node import FlatForestNode\n",
    "from AlgoTree.flat_forest import FlatForest\n",
    "from AlgoTree.tree_converter import TreeConverter\n",
    "from IPython.display import display, Markdown\n",
    "from AlgoTree.pretty_tree import pretty_tree\n",
    "import json\n",
    "#from AlgoTree.treenode import TreeNode\n",
    "from copy import deepcopy\n",
    "\n",
    "\n",
    "def monotext(txt):\n",
    "    display(Markdown(f\"<pre>{txt}</pre>\"))\n",
    "\n",
    "data = {\n",
    "    \"1\": { \"data\": 1, \"parent\": None},\n",
    "    \"2\": { \"parent\": \"1\", \"data\": 2},\n",
    "    \"3\": { \"parent\": \"1\", \"data\": 3},\n",
    "    \"4\": { \"parent\": \"3\", \"data\": 4},\n",
    "    \"5\": { \"parent\": \"3\", \"data\": 5},\n",
    "    \"A\": { \"data\": \"Data for A\", \"parent\": None },\n",
    "    \"B\": { \"parent\": \"A\", \"data\": \"Data for B\" },\n",
    "    \"C\": { \"parent\": \"A\", \"data\": \"Data for C\" },\n",
    "    \"D\": { \"parent\": \"C\", \"data\": \"Data for D\" },\n",
    "    \"E\": { \"parent\": \"C\", \"data\": \"Data for E\" },\n",
    "    \"F\": { \"parent\": \"E\", \"data\": \"Data for F\" },\n",
    "    \"G\": { \"parent\": \"E\", \"data\": \"Data for G\" },\n",
    "    \"H\": { \"parent\": \"B\", \"data\": \"Data for H\" },\n",
    "    \"I\": { \"parent\": \"A\", \"data\": \"Data for I\" },\n",
    "    \"J\": { \"parent\": \"I\", \"data\": \"Data for J\" },\n",
    "    \"K\": { \"parent\": \"G\", \"data\": \"Data for K\" },\n",
    "    \"L\": { \"parent\": \"G\", \"data\": \"Data for L\" },\n",
    "    \"M\": { \"parent\": \"C\", \"data\": \"Data for M\" },\n",
    "}\n",
    "\n",
    "forest = FlatForest()\n",
    "nodes = []\n",
    "for key, value in data.items():\n",
    "    par_key = value.pop(\"parent\", None)\n",
    "    nodes.append(FlatForestNode(name=key, parent=par_key, forest=forest, data=value[\"data\"]))\n",
    "\n",
    "for node in nodes:\n",
    "    try:\n",
    "        print(node.name, node.payload, node.parent.name if node.parent is not None else None)\n",
    "    except ValueError as e:\n",
    "        print(f\"ValueError: {e}\")\n",
    "    except KeyError as e:\n",
    "        print(f\"KeyError: {e}\")\n",
    "    print()"
   ]
  },
  {
   "cell_type": "markdown",
   "metadata": {},
   "source": [
    "It's easy to regenerate any JSON files that may have been used\n",
    "to generate the `FlatForest` object. So, JSON is a good format for storing and\n",
    "transmitting trees. And, of course, `FlatForest` *is* a dictionary. Of course,\n",
    "if we store an object that has no serializable representation, it cannot be\n",
    "stored in JSON."
   ]
  },
  {
   "cell_type": "markdown",
   "metadata": {},
   "source": [
    "Let's do something similar, but using the `FlatForest`'s `dict` or `json`\n",
    "constructor. This is more direct and makes it explicit what data the tree\n",
    "is providing a *view* of. After all, the `FlatForest` is itself just a `dict`\n",
    "of a particular shape."
   ]
  },
  {
   "cell_type": "code",
   "execution_count": 119,
   "metadata": {},
   "outputs": [
    {
     "name": "stdout",
     "output_type": "stream",
     "text": [
      "False\n",
      "False\n",
      "True\n",
      "False\n"
     ]
    }
   ],
   "source": [
    "# load a forest from data\n",
    "forest2 = FlatForest(deepcopy(data))\n",
    "# load a forest from a forest\n",
    "forest3 = FlatForest(forest)\n",
    "\n",
    "print(forest == forest2)\n",
    "\n",
    "print(json.dumps(dict(forest), indent=2, sort_keys=True) == json.dumps(dict(forest2), indent=2, sort_keys=True))\n",
    "print(json.dumps(dict(forest), indent=2, sort_keys=True) == json.dumps(dict(forest3), indent=2, sort_keys=True))\n",
    "print(json.dumps(dict(forest2), indent=2, sort_keys=True) == json.dumps(dict(forest3), indent=2, sort_keys=True))"
   ]
  },
  {
   "cell_type": "code",
   "execution_count": 120,
   "metadata": {},
   "outputs": [
    {
     "data": {
      "text/plain": [
       "[None, None, '__DETACHED__']"
      ]
     },
     "execution_count": 120,
     "metadata": {},
     "output_type": "execute_result"
    }
   ],
   "source": [
    "forest.logical_root_names()"
   ]
  },
  {
   "cell_type": "code",
   "execution_count": 121,
   "metadata": {},
   "outputs": [
    {
     "name": "stdout",
     "output_type": "stream",
     "text": [
      "FlatForestNode(name=__DETACHED__, parent=None, payload={}, root=__DETACHED__, children=[])\n"
     ]
    }
   ],
   "source": [
    "print(forest.detached)"
   ]
  },
  {
   "cell_type": "code",
   "execution_count": 122,
   "metadata": {},
   "outputs": [
    {
     "data": {
      "text/plain": [
       "FlatForestNode(name=1, parent=None, payload={'data': 1}, root=1, children=['2', '3'])"
      ]
     },
     "execution_count": 122,
     "metadata": {},
     "output_type": "execute_result"
    }
   ],
   "source": [
    "from copy import deepcopy\n",
    "new_forest = deepcopy(forest)\n",
    "new_forest.detach(\"1\")"
   ]
  },
  {
   "cell_type": "markdown",
   "metadata": {},
   "source": [
    "If we try to detach a node that was already detached, we get a `KeyError`. Note\n",
    "that this can happen in two ways:\n",
    "\n",
    "1. The node was detached and then we try to detach it again.\n",
    "2. The node was detached and then we try to detach a child of it.\n",
    "\n",
    "Any child of a detached node is also detached, so we can't detach a child of a\n",
    "detached node."
   ]
  },
  {
   "cell_type": "code",
   "execution_count": 123,
   "metadata": {},
   "outputs": [],
   "source": [
    "try:\n",
    "    new_forest.detach(\"2\")\n",
    "except KeyError as e:\n",
    "    print(f\"KeyError: {e}\")"
   ]
  },
  {
   "cell_type": "code",
   "execution_count": 124,
   "metadata": {},
   "outputs": [
    {
     "data": {
      "text/plain": [
       "FlatForestNode(name=__ROOT__, parent=None, payload={}, root=__ROOT__, children=['1', 'A'])"
      ]
     },
     "execution_count": 124,
     "metadata": {},
     "output_type": "execute_result"
    }
   ],
   "source": [
    "forest.as_tree()"
   ]
  },
  {
   "cell_type": "code",
   "execution_count": 125,
   "metadata": {},
   "outputs": [
    {
     "name": "stdout",
     "output_type": "stream",
     "text": [
      "1\n",
      "├───── 2\n",
      "└───── 3\n",
      "       ├───── 4\n",
      "       └───── 5\n",
      "\n",
      "A\n",
      "├───── B\n",
      "│      └───── H\n",
      "├───── C\n",
      "│      ├───── D\n",
      "│      ├───── E\n",
      "│      │      ├───── F\n",
      "│      │      └───── G\n",
      "│      │             ├───── K\n",
      "│      │             └───── L\n",
      "│      └───── M\n",
      "└───── I\n",
      "       └───── J\n",
      "\n",
      "C\n",
      "├───── D\n",
      "├───── E\n",
      "│      ├───── F\n",
      "│      └───── G\n",
      "│             ├───── K\n",
      "│             └───── L\n",
      "└───── M\n",
      "\n"
     ]
    }
   ],
   "source": [
    "forest.preferred_root = \"1\"\n",
    "print(pretty_tree(forest.subtree()))\n",
    "forest.preferred_root = \"A\"\n",
    "print(pretty_tree(forest.subtree()))\n",
    "print(pretty_tree(forest.subtree(\"C\")))"
   ]
  },
  {
   "cell_type": "markdown",
   "metadata": {},
   "source": [
    "For visualizing trees, we can use the `PrettyTree` class and the `pretty_tree`\n",
    "function. The `PrettyTree` class is a simple tree data structure that can be\n",
    "used to visualize trees in pretty text format, optionally with the ability\n",
    "to mark nodes for highlighting."
   ]
  },
  {
   "cell_type": "code",
   "execution_count": 126,
   "metadata": {},
   "outputs": [
    {
     "data": {
      "text/markdown": [
       "<pre>A ◄ Data for A 🔵\n",
       "├───── B ◄ Data for B\n",
       "│      └───── H ◄ Data for H\n",
       "├───── C ◄ Data for C\n",
       "│      ├───── D ◄ Data for D\n",
       "│      ├───── E ◄ Data for E\n",
       "│      │      ├───── F ◄ Data for F\n",
       "│      │      └───── G ◄ Data for G 🟣\n",
       "│      │             ├───── K ◄ Data for K\n",
       "│      │             └───── L ◄ Data for L\n",
       "│      └───── M ◄ Data for M\n",
       "└───── I ◄ Data for I\n",
       "       └───── J ◄ Data for J\n",
       "</pre>"
      ],
      "text/plain": [
       "<IPython.core.display.Markdown object>"
      ]
     },
     "metadata": {},
     "output_type": "display_data"
    }
   ],
   "source": [
    "monotext(pretty_tree(forest.subtree(\"A\"), mark=[\"A\", \"G\"], node_details=lambda node: node.payload['data']))"
   ]
  },
  {
   "cell_type": "code",
   "execution_count": 127,
   "metadata": {},
   "outputs": [
    {
     "data": {
      "text/markdown": [
       "<pre>A\n",
       "├───── B\n",
       "│      └───── H 🟡\n",
       "├───── C\n",
       "│      ├───── D ⭕\n",
       "│      ├───── E\n",
       "│      │      ├───── F\n",
       "│      │      └───── G\n",
       "│      │             ├───── K\n",
       "│      │             └───── L\n",
       "│      └───── M\n",
       "└───── I\n",
       "       └───── J\n",
       "</pre>"
      ],
      "text/plain": [
       "<IPython.core.display.Markdown object>"
      ]
     },
     "metadata": {},
     "output_type": "display_data"
    }
   ],
   "source": [
    "monotext(pretty_tree(forest.subtree(\"A\"), mark=[\"H\", \"D\"]))"
   ]
  },
  {
   "cell_type": "code",
   "execution_count": 128,
   "metadata": {},
   "outputs": [
    {
     "name": "stdout",
     "output_type": "stream",
     "text": [
      "{'node_info': {'ancestors': [],\n",
      "               'children': ['D', 'E', 'M'],\n",
      "               'depth': 0,\n",
      "               'descendants': ['D', 'E', 'F', 'G', 'K', 'L', 'M'],\n",
      "               'is_internal': True,\n",
      "               'is_leaf': False,\n",
      "               'is_root': True,\n",
      "               'leaves_under': ['D', 'F', 'K', 'L', 'M'],\n",
      "               'name': 'C',\n",
      "               'parent': None,\n",
      "               'path': ['C'],\n",
      "               'payload': {'data': 'Data for C'},\n",
      "               'root_distance': 0,\n",
      "               'siblings': [],\n",
      "               'type': \"<class 'AlgoTree.flat_forest_node.FlatForestNode'>\"},\n",
      " 'subtree_info': {'height': 3,\n",
      "                  'leaves': ['D', 'F', 'K', 'L', 'M'],\n",
      "                  'root': 'C',\n",
      "                  'size': 8}}\n"
     ]
    }
   ],
   "source": [
    "from pprint import pprint\n",
    "from AlgoTree import utils\n",
    "pprint(utils.node_stats(forest.subtree(\"C\")))"
   ]
  },
  {
   "cell_type": "markdown",
   "metadata": {},
   "source": [
    "The `FlatForest` class provides a **view** of a `dict` object as a forest. We do not modify\n",
    "the `dict` passed into it (and you can create a dict through the `FlatForest` API).\n",
    "Since it's just a view of a `dict` we have all the normal operations on it that\n",
    "we would have on a `dict` object.\n",
    "\n",
    "`FlatForest` also implements the concept of a node, which is a view of a particular node\n",
    "in our node-centric API. In order to do this, we specify a preferred root node,\n",
    "which by default is the first root node in the forest. This is the node that\n",
    "will be used as the root node in the `FlatForestNode` API. If you want to change\n",
    "the root node, you can do so by calling `FlatForest.preferred_root` with\n",
    "the name of the node you want to be the preferred root.\n",
    "\n",
    "We also provide as `as_tree` method that unifies any `dict` object representing\n",
    "a flat forest structure into a flat forest structure with just a single root node,\n",
    "where all the root nodes are children of this root node. This is no longer a\n",
    "view, however, as we return a new `dict` object.\n"
   ]
  },
  {
   "cell_type": "code",
   "execution_count": 129,
   "metadata": {},
   "outputs": [
    {
     "name": "stdout",
     "output_type": "stream",
     "text": [
      "{'data': 'Data for C', 'parent': 'A'}\n",
      "FlatForestNode(name=C, parent=None, payload={'data': 'Data for C'}, root=C, children=['D', 'E', 'M'])\n",
      "A\n",
      "[FlatForestNode(name=D, parent=C, payload={'data': 'Data for D'}, root=C, children=[]), FlatForestNode(name=E, parent=C, payload={'data': 'Data for E'}, root=C, children=['F', 'G']), FlatForestNode(name=M, parent=C, payload={'data': 'Data for M'}, root=C, children=[])]\n"
     ]
    }
   ],
   "source": [
    "print(forest[\"C\"])\n",
    "C = forest.subtree(\"C\")\n",
    "print(C)\n",
    "print(C[\"parent\"])\n",
    "print(C.children)"
   ]
  },
  {
   "cell_type": "code",
   "execution_count": 130,
   "metadata": {},
   "outputs": [
    {
     "name": "stdout",
     "output_type": "stream",
     "text": [
      "FlatForestNode(name=N, parent=A, payload={'data': 'Data for N'}, root=A, children=[])\n"
     ]
    },
    {
     "data": {
      "text/markdown": [
       "<pre>A\n",
       "├───── B\n",
       "│      └───── H\n",
       "├───── C\n",
       "│      ├───── D\n",
       "│      ├───── E\n",
       "│      │      ├───── F\n",
       "│      │      └───── G\n",
       "│      │             ├───── K\n",
       "│      │             └───── L\n",
       "│      └───── M\n",
       "├───── I\n",
       "│      └───── J\n",
       "├───── N\n",
       "└───── O 🟡\n",
       "</pre>"
      ],
      "text/plain": [
       "<IPython.core.display.Markdown object>"
      ]
     },
     "metadata": {},
     "output_type": "display_data"
    }
   ],
   "source": [
    "N = forest.root.add_child(name=\"N\", data=\"Data for N\")\n",
    "print(N)\n",
    "forest.subtree(\"A\").add_child(name=\"O\", data=\"Data for O\")\n",
    "monotext(pretty_tree(forest.root.node(\"A\"), mark=[\"O\"]))"
   ]
  },
  {
   "cell_type": "markdown",
   "metadata": {},
   "source": [
    "If we try too add a non-unique node key to the tree, we will get a `KeyError`."
   ]
  },
  {
   "cell_type": "code",
   "execution_count": 131,
   "metadata": {},
   "outputs": [
    {
     "name": "stdout",
     "output_type": "stream",
     "text": [
      "'key already exists in the tree: B'\n"
     ]
    }
   ],
   "source": [
    "try:\n",
    "    forest.subtree(\"A\").add_child(name=\"B\")\n",
    "except KeyError as e:\n",
    "    print(e)"
   ]
  },
  {
   "cell_type": "markdown",
   "metadata": {},
   "source": [
    "Let's add some more nodes."
   ]
  },
  {
   "cell_type": "code",
   "execution_count": 132,
   "metadata": {},
   "outputs": [
    {
     "data": {
      "text/markdown": [
       "<pre>A\n",
       "├───── B\n",
       "│      └───── H\n",
       "├───── C\n",
       "│      ├───── D\n",
       "│      ├───── E\n",
       "│      │      ├───── F\n",
       "│      │      └───── G\n",
       "│      │             ├───── K\n",
       "│      │             └───── L\n",
       "│      └───── M\n",
       "├───── I\n",
       "│      └───── J\n",
       "├───── N ⭕\n",
       "│      ├───── P 🟤\n",
       "│      │      └───── R 🔵\n",
       "│      │             └───── S 🟤\n",
       "│      └───── Q 🔘\n",
       "└───── O\n",
       "</pre>"
      ],
      "text/plain": [
       "<IPython.core.display.Markdown object>"
      ]
     },
     "metadata": {},
     "output_type": "display_data"
    },
    {
     "name": "stdout",
     "output_type": "stream",
     "text": [
      "FlatForestNode(name=A, parent=None, payload={'data': 'Data for A'}, root=A, children=['B', 'C', 'I', 'N', 'O'])\n",
      "None\n"
     ]
    }
   ],
   "source": [
    "P = N.add_child(name=\"P\", data=\"Data for P\")\n",
    "N.add_child(name=\"Q\", data=\"Data for Q\")\n",
    "P.add_child(name=\"R\", data=\"Data for R\").add_child(\n",
    "    name=\"S\", data=\"Data for S\"\n",
    ")\n",
    "monotext(pretty_tree(forest.root, mark=[\"N\", \"P\", \"Q\", \"R\", \"S\"]))\n",
    "\n",
    "print(forest.root.node(\"A\"))\n",
    "print(forest.root.node(\"A\").parent)"
   ]
  },
  {
   "cell_type": "code",
   "execution_count": 133,
   "metadata": {},
   "outputs": [
    {
     "name": "stdout",
     "output_type": "stream",
     "text": [
      "['F', 'E', 'G', 'C']\n"
     ]
    }
   ],
   "source": [
    "f_nodes = utils.breadth_first_undirected(forest.node(\"F\"), 2)\n",
    "print([n.name for n in f_nodes])\n"
   ]
  },
  {
   "cell_type": "code",
   "execution_count": 134,
   "metadata": {},
   "outputs": [
    {
     "data": {
      "text/markdown": [
       "<pre>C ⭕\n",
       "├───── D\n",
       "├───── E\n",
       "│      ├───── F\n",
       "│      └───── G\n",
       "└───── M\n",
       "</pre>"
      ],
      "text/plain": [
       "<IPython.core.display.Markdown object>"
      ]
     },
     "metadata": {},
     "output_type": "display_data"
    }
   ],
   "source": [
    "\n",
    "monotext(pretty_tree(utils.subtree_rooted_at(forest.node(\"C\"), 2), mark=[\"C\"]))"
   ]
  },
  {
   "cell_type": "code",
   "execution_count": 135,
   "metadata": {},
   "outputs": [
    {
     "data": {
      "text/markdown": [
       "<pre>A\n",
       "├───── B\n",
       "├───── C ⭕\n",
       "│      ├───── D\n",
       "│      ├───── E\n",
       "│      │      ├───── F\n",
       "│      │      └───── G\n",
       "│      └───── M\n",
       "├───── I\n",
       "├───── N\n",
       "└───── O\n",
       "</pre>"
      ],
      "text/plain": [
       "<IPython.core.display.Markdown object>"
      ]
     },
     "metadata": {},
     "output_type": "display_data"
    },
    {
     "data": {
      "text/markdown": [
       "<pre>A\n",
       "├───── B\n",
       "│      └───── H\n",
       "├───── C ⭕\n",
       "│      ├───── D\n",
       "│      ├───── E\n",
       "│      │      ├───── F\n",
       "│      │      └───── G\n",
       "│      │             ├───── K\n",
       "│      │             └───── L\n",
       "│      └───── M\n",
       "├───── I\n",
       "│      └───── J\n",
       "├───── N\n",
       "│      ├───── P\n",
       "│      │      └───── R\n",
       "│      │             └───── S\n",
       "│      └───── Q\n",
       "└───── O\n",
       "</pre>"
      ],
      "text/plain": [
       "<IPython.core.display.Markdown object>"
      ]
     },
     "metadata": {},
     "output_type": "display_data"
    }
   ],
   "source": [
    "center_C = utils.subtree_centered_at(forest.node(\"C\"), 2)\n",
    "monotext(pretty_tree(center_C, mark=[\"C\"]))\n",
    "monotext(pretty_tree(forest.root, mark=[\"C\"]))"
   ]
  },
  {
   "cell_type": "markdown",
   "metadata": {},
   "source": [
    "We also support conversions to and from any tree-like structure that supports\n",
    "the node-centric API, including `FlatForest` and a simple (but far more flexible)\n",
    "`TreeNode` class that we also provide for illustrative purposes.\n",
    "\n",
    "The function is called `TreeConverter.copy_under` which accepts a `source` and `target` object, and copies the `source` object under the `target` object. The source is normally\n",
    "a node of some kind, and the target is another node, and the result is the tree\n",
    "structure under the source node is copied under the target node. The source node\n",
    "is not modified in any way."
   ]
  },
  {
   "cell_type": "code",
   "execution_count": 136,
   "metadata": {},
   "outputs": [
    {
     "name": "stdout",
     "output_type": "stream",
     "text": [
      "treenode\n",
      "├───── child1 🟡\n",
      "│      └───── C\n",
      "│             ├───── D\n",
      "│             ├───── E\n",
      "│             │      ├───── F\n",
      "│             │      └───── G\n",
      "│             │             ├───── K\n",
      "│             │             └───── L\n",
      "│             └───── M\n",
      "└───── child2\n",
      "\n"
     ]
    }
   ],
   "source": [
    "from AlgoTree.treenode import TreeNode\n",
    "treeNodeMe = TreeNode(name=\"treenode\", payload={\"data\": \"Data for treenode\"})\n",
    "treeNodeMe.add_child(name=\"child1\", payload={\"data\": \"Data for child1\"})\n",
    "treeNodeMe.add_child(name=\"child2\", payload={\"data\": \"Data for child2\"})\n",
    "tree1 = TreeConverter.copy_under(forest.subtree(\"C\"), treeNodeMe.children[0])\n",
    "print(pretty_tree(tree1.root, mark=[\"child1\"]))\n"
   ]
  },
  {
   "cell_type": "code",
   "execution_count": 137,
   "metadata": {},
   "outputs": [
    {
     "data": {
      "text/markdown": [
       "<pre>A\n",
       "├───── B\n",
       "│      └───── H\n",
       "├───── C\n",
       "│      ├───── D\n",
       "│      │      └───── treenode_2\n",
       "│      │             ├───── child1_2\n",
       "│      │             │      └───── C_2\n",
       "│      │             │             ├───── D_2\n",
       "│      │             │             ├───── E_2\n",
       "│      │             │             │      ├───── F_2\n",
       "│      │             │             │      └───── G_2\n",
       "│      │             │             │             ├───── K_2\n",
       "│      │             │             │             └───── L_2\n",
       "│      │             │             └───── M_2\n",
       "│      │             └───── child2_2\n",
       "│      ├───── E\n",
       "│      │      ├───── F\n",
       "│      │      └───── G\n",
       "│      │             ├───── K\n",
       "│      │             └───── L\n",
       "│      └───── M\n",
       "├───── I\n",
       "│      └───── J\n",
       "├───── N\n",
       "│      ├───── P\n",
       "│      │      └───── R\n",
       "│      │             └───── S\n",
       "│      └───── Q\n",
       "└───── O\n",
       "</pre>"
      ],
      "text/plain": [
       "<IPython.core.display.Markdown object>"
      ]
     },
     "metadata": {},
     "output_type": "display_data"
    }
   ],
   "source": [
    "tree2 = TreeConverter.copy_under(tree1.root, forest.subtree(\"D\"), node_name=lambda n: n.name + \"_2\")\n",
    "monotext(pretty_tree(tree2.forest.root))\n"
   ]
  },
  {
   "cell_type": "markdown",
   "metadata": {},
   "source": [
    "We can iterate over the items of the child and we can modify/delete its data."
   ]
  },
  {
   "cell_type": "code",
   "execution_count": 138,
   "metadata": {},
   "outputs": [
    {
     "name": "stdout",
     "output_type": "stream",
     "text": [
      "data <-- Data for N\n",
      "parent <-- A\n",
      "FlatForestNode(name=N, parent=A, payload={'data': 'Data for N', 'new_data': 'Some new data for G'}, root=A, children=['P', 'Q'])\n",
      "FlatForestNode(name=N, parent=A, payload={'data': 'Data for N', 'other_new_data': 'Some other data for G'}, root=A, children=['P', 'Q'])\n"
     ]
    }
   ],
   "source": [
    "for k, v in forest.subtree(\"N\").items():\n",
    "    print(k, \"<--\", v)\n",
    "\n",
    "N[\"new_data\"] = \"Some new data for G\"\n",
    "print(N)\n",
    "\n",
    "del N[\"new_data\"]\n",
    "N[\"other_new_data\"] = \"Some other data for G\"\n",
    "print(N)"
   ]
  },
  {
   "cell_type": "markdown",
   "metadata": {},
   "source": [
    "Let's create a tree from a dictionary that refers to a non-existent parent."
   ]
  },
  {
   "cell_type": "code",
   "execution_count": 139,
   "metadata": {},
   "outputs": [
    {
     "name": "stdout",
     "output_type": "stream",
     "text": [
      "\"Parent 'non_existent_parent' not in forest for node 'A'\"\n"
     ]
    }
   ],
   "source": [
    "try:\n",
    "    non_existent_parent_tree = FlatForest(\n",
    "        {\n",
    "            \"A\": {\n",
    "                \"parent\": \"non_existent_parent\",\n",
    "                \"data\": \"Data for A\",\n",
    "            }\n",
    "        }\n",
    "    )\n",
    "    FlatForest.check_valid(non_existent_parent_tree)\n",
    "except KeyError as e:\n",
    "    print(e)"
   ]
  },
  {
   "cell_type": "markdown",
   "metadata": {},
   "source": [
    "We see that the node is disconnected from the logical root, since it refers\n",
    "to a non-existent parent."
   ]
  },
  {
   "cell_type": "code",
   "execution_count": 140,
   "metadata": {},
   "outputs": [
    {
     "data": {
      "text/markdown": [
       "<pre>x\n",
       "└───── D\n",
       "</pre>"
      ],
      "text/plain": [
       "<IPython.core.display.Markdown object>"
      ]
     },
     "metadata": {},
     "output_type": "display_data"
    },
    {
     "name": "stdout",
     "output_type": "stream",
     "text": [
      "Cycle detected: {'C', 'A', 'B'}\n"
     ]
    }
   ],
   "source": [
    "try:\n",
    "    cycle_tree = FlatForest(\n",
    "        {\n",
    "            \"x\": {\"parent\": None, \"data\": \"Data for x\"},\n",
    "            \"A\": {\"parent\": \"C\", \"data\": \"Data for A\"},\n",
    "            \"B\": {\"parent\": \"A\", \"data\": \"Data for B\"},\n",
    "            \"C\": {\"parent\": \"B\", \"data\": \"Data for C\"},\n",
    "            \"D\": {\"parent\": \"x\", \"data\": \"Data for D\"},\n",
    "        }\n",
    "    )\n",
    "\n",
    "    monotext(pretty_tree(cycle_tree.root))\n",
    "    FlatForest.check_valid(cycle_tree)\n",
    "except ValueError as e:\n",
    "    print(e)"
   ]
  },
  {
   "cell_type": "markdown",
   "metadata": {},
   "source": [
    "We see that the tree was in an invalid state. In particular, nodes 1, 2, and 3\n",
    "are from any root and in a cycle. We can fix this by\n",
    "breaking the cycle and setting the parent of node 3 to, for instance, to `x`.\n",
    "However, we can also fix it by setting the parent to `None`, so that it is a\n",
    "seperate tree in the forest."
   ]
  },
  {
   "cell_type": "code",
   "execution_count": 141,
   "metadata": {},
   "outputs": [
    {
     "data": {
      "text/markdown": [
       "<pre>C ⭕\n",
       "└───── A\n",
       "       └───── B\n",
       "</pre>"
      ],
      "text/plain": [
       "<IPython.core.display.Markdown object>"
      ]
     },
     "metadata": {},
     "output_type": "display_data"
    },
    {
     "name": "stdout",
     "output_type": "stream",
     "text": [
      "['x', 'C', None, None, '__DETACHED__']\n"
     ]
    }
   ],
   "source": [
    "cycle_tree[\"C\"][\"parent\"] = None\n",
    "FlatForest.check_valid(cycle_tree)\n",
    "monotext(pretty_tree(cycle_tree.subtree(\"C\"), mark=[\"C\"]))\n",
    "print(cycle_tree.root_names)"
   ]
  },
  {
   "cell_type": "markdown",
   "metadata": {},
   "source": [
    "Let's look at the tree again, and see about creating a cycle."
   ]
  },
  {
   "cell_type": "markdown",
   "metadata": {},
   "source": [
    "We will make node 1 the parent of node 5, to create a cycle:"
   ]
  },
  {
   "cell_type": "code",
   "execution_count": 142,
   "metadata": {},
   "outputs": [
    {
     "name": "stdout",
     "output_type": "stream",
     "text": [
      "Data is not a dictionary: data=FlatForestNode(name=A, parent=None, payload={'data': 'Data for A'}, root=A, children=['B', 'C', 'I', 'N', 'O'])\n"
     ]
    }
   ],
   "source": [
    "try:\n",
    "    new_tree = deepcopy(forest.root)\n",
    "    new_tree.node(\"A\")[\"parent\"] = \"E\"\n",
    "    FlatForest.check_valid(new_tree)\n",
    "except ValueError as e:\n",
    "    print(e)"
   ]
  },
  {
   "cell_type": "markdown",
   "metadata": {},
   "source": [
    "Notice that we use `deepcopy` to avoid modifying the original tree with these\n",
    "invalid operations. We chose to do it this way so as to not incur the overhead\n",
    "of reverting the tree to a valid state after an invalid operation. This way,\n",
    "we can keep the tree in an invalid state for as long as we want, and only\n",
    "revert it to a valid state when we want to."
   ]
  },
  {
   "cell_type": "markdown",
   "metadata": {},
   "source": [
    "Each node is a key-value pair in the `FlatForest`. We have the `FlatForestNode`\n",
    "so that we can have an API focused on the nodes and not the underlying dictionary.\n",
    "However, we stiill permit access to the underlying dictionary. When you modify\n",
    "the tree in this way, we still maintain the integrity of the tree.\n",
    "\n",
    "Since the `FlatForest` represents nodes as key-value pairs, and the value may\n",
    "have a parent key, along with any other arbitrary data, each value for a node\n",
    "must be a dictionary.\n",
    "\n",
    "Below, we see that trying to add a `test` node with a non-dictionary value\n",
    "generates an error."
   ]
  },
  {
   "cell_type": "code",
   "execution_count": 143,
   "metadata": {},
   "outputs": [
    {
     "name": "stdout",
     "output_type": "stream",
     "text": [
      "Node 'test' does not have a payload dictionary: 'Some test data'\n"
     ]
    }
   ],
   "source": [
    "try:\n",
    "    error_tree = deepcopy(forest)\n",
    "    # this will raise a ValueError because the node with key `test` maps to\n",
    "    # string instead of a dict.\n",
    "    error_tree[\"test\"] = \"Some test data\"\n",
    "    FlatForest.check_valid(error_tree)\n",
    "except ValueError as e:\n",
    "    print(e)"
   ]
  },
  {
   "cell_type": "markdown",
   "metadata": {},
   "source": [
    "Let's manipulate the tree a bit more using the `dict` API. We're just going to\n",
    "add a `new_node` with some data."
   ]
  },
  {
   "cell_type": "code",
   "execution_count": 144,
   "metadata": {},
   "outputs": [
    {
     "name": "stdout",
     "output_type": "stream",
     "text": [
      "FlatForestNode(name=T, parent=B, payload={'data': 'Data for T'}, root=A, children=[])\n",
      "B\n",
      "├───── H\n",
      "└───── T 🔵\n",
      "\n"
     ]
    }
   ],
   "source": [
    "forest[\"T\"] = {\n",
    "    \"parent\": \"B\",\n",
    "    \"data\": \"Data for T\"\n",
    "}\n",
    "\n",
    "print(forest.node(\"T\"))\n",
    "print(pretty_tree(forest.subtree(\"B\"), mark=[\"T\"]))\n"
   ]
  },
  {
   "cell_type": "markdown",
   "metadata": {},
   "source": [
    "Logical roots are not a part of the underlying dictionary, so we can't\n",
    "access it through the `dict` API. It's non-children data are also immutable\n",
    "through the `FlatForestNode` API. Right now, we use `FlatForest.DETACHED_KEY`\n",
    "as a logical root for detached nodes."
   ]
  },
  {
   "cell_type": "code",
   "execution_count": 145,
   "metadata": {},
   "outputs": [
    {
     "name": "stdout",
     "output_type": "stream",
     "text": [
      "FlatForestNode(name=__DETACHED__, parent=None, payload={}, root=__DETACHED__, children=[])\n"
     ]
    }
   ],
   "source": [
    "print(forest.detached)"
   ]
  },
  {
   "cell_type": "markdown",
   "metadata": {},
   "source": [
    "We see that there are no detached nodes in the forest right now."
   ]
  },
  {
   "cell_type": "code",
   "execution_count": 146,
   "metadata": {},
   "outputs": [
    {
     "name": "stdout",
     "output_type": "stream",
     "text": [
      "__DETACHED__ is an immutable logical root\n",
      "__DETACHED__ is an immutable logical root\n"
     ]
    }
   ],
   "source": [
    "try:\n",
    "    forest.detached[\"data\"] = \"Some new data for root node\"\n",
    "except TypeError as e:\n",
    "    print(e)\n",
    "\n",
    "try:\n",
    "    forest.detached[\"parent\"] = None\n",
    "except TypeError as e:\n",
    "    print(e)"
   ]
  },
  {
   "cell_type": "markdown",
   "metadata": {},
   "source": [
    "We can *detach* nodes. Let's first view the full tree, pre-detachment."
   ]
  },
  {
   "cell_type": "code",
   "execution_count": 147,
   "metadata": {},
   "outputs": [
    {
     "data": {
      "text/markdown": [
       "<pre>A\n",
       "├───── B\n",
       "│      ├───── H\n",
       "│      └───── T\n",
       "├───── C\n",
       "│      ├───── D\n",
       "│      │      └───── treenode_2\n",
       "│      │             ├───── child1_2\n",
       "│      │             │      └───── C_2\n",
       "│      │             │             ├───── D_2\n",
       "│      │             │             ├───── E_2\n",
       "│      │             │             │      ├───── F_2\n",
       "│      │             │             │      └───── G_2\n",
       "│      │             │             │             ├───── K_2\n",
       "│      │             │             │             └───── L_2\n",
       "│      │             │             └───── M_2\n",
       "│      │             └───── child2_2\n",
       "│      ├───── E\n",
       "│      │      ├───── F\n",
       "│      │      └───── G\n",
       "│      │             ├───── K\n",
       "│      │             └───── L\n",
       "│      └───── M\n",
       "├───── I\n",
       "│      └───── J\n",
       "├───── N\n",
       "│      ├───── P\n",
       "│      │      └───── R\n",
       "│      │             └───── S\n",
       "│      └───── Q\n",
       "└───── O\n",
       "</pre>"
      ],
      "text/plain": [
       "<IPython.core.display.Markdown object>"
      ]
     },
     "metadata": {},
     "output_type": "display_data"
    }
   ],
   "source": [
    "monotext(pretty_tree(forest.root))"
   ]
  },
  {
   "cell_type": "code",
   "execution_count": 148,
   "metadata": {},
   "outputs": [
    {
     "data": {
      "text/markdown": [
       "<pre>A\n",
       "├───── B\n",
       "│      ├───── H\n",
       "│      └───── T\n",
       "├───── C\n",
       "│      ├───── E\n",
       "│      │      └───── F\n",
       "│      └───── M\n",
       "├───── I\n",
       "│      └───── J\n",
       "├───── N\n",
       "│      ├───── P\n",
       "│      │      └───── R\n",
       "│      │             └───── S\n",
       "│      └───── Q\n",
       "└───── O\n",
       "</pre>"
      ],
      "text/plain": [
       "<IPython.core.display.Markdown object>"
      ]
     },
     "metadata": {},
     "output_type": "display_data"
    }
   ],
   "source": [
    "forest.node(\"D\").detach()\n",
    "forest.detach(\"G\")\n",
    "monotext(pretty_tree(forest.root))\n"
   ]
  },
  {
   "cell_type": "markdown",
   "metadata": {},
   "source": [
    "Let's view the detached tree."
   ]
  },
  {
   "cell_type": "code",
   "execution_count": 149,
   "metadata": {},
   "outputs": [
    {
     "data": {
      "text/markdown": [
       "<pre>__DETACHED__\n",
       "├───── D\n",
       "│      └───── treenode_2\n",
       "│             ├───── child1_2\n",
       "│             │      └───── C_2\n",
       "│             │             ├───── D_2\n",
       "│             │             ├───── E_2\n",
       "│             │             │      ├───── F_2\n",
       "│             │             │      └───── G_2\n",
       "│             │             │             ├───── K_2\n",
       "│             │             │             └───── L_2\n",
       "│             │             └───── M_2\n",
       "│             └───── child2_2\n",
       "└───── G\n",
       "       ├───── K\n",
       "       └───── L\n",
       "</pre>"
      ],
      "text/plain": [
       "<IPython.core.display.Markdown object>"
      ]
     },
     "metadata": {},
     "output_type": "display_data"
    }
   ],
   "source": [
    "monotext(pretty_tree(forest.detached, mark=[\"B\", \"C\"]))\n"
   ]
  },
  {
   "cell_type": "markdown",
   "metadata": {},
   "source": [
    "We can purge detached nodes (and their descendants) from the tree with the\n",
    "`purge` method. Let's purge the detached nodes. Note that when we do this,\n",
    "through the node-centric API, nothing will seem different (unless we look at\n",
    "the tree rooted at the detached logical root). However, if we look at the\n",
    "underlying dictionary, we will see that the detached nodes are gone."
   ]
  },
  {
   "cell_type": "code",
   "execution_count": 150,
   "metadata": {},
   "outputs": [
    {
     "name": "stdout",
     "output_type": "stream",
     "text": [
      "{\n",
      "  \"1\": {\n",
      "    \"data\": 1,\n",
      "    \"parent\": null\n",
      "  },\n",
      "  \"2\": {\n",
      "    \"data\": 2,\n",
      "    \"parent\": \"1\"\n",
      "  },\n",
      "  \"3\": {\n",
      "    \"data\": 3,\n",
      "    \"parent\": \"1\"\n",
      "  },\n",
      "  \"4\": {\n",
      "    \"data\": 4,\n",
      "    \"parent\": \"3\"\n",
      "  },\n",
      "  \"5\": {\n",
      "    \"data\": 5,\n",
      "    \"parent\": \"3\"\n",
      "  },\n",
      "  \"A\": {\n",
      "    \"data\": \"Data for A\",\n",
      "    \"parent\": null\n",
      "  },\n",
      "  \"B\": {\n",
      "    \"data\": \"Data for B\",\n",
      "    \"parent\": \"A\"\n",
      "  },\n",
      "  \"C\": {\n",
      "    \"data\": \"Data for C\",\n",
      "    \"parent\": \"A\"\n",
      "  },\n",
      "  \"E\": {\n",
      "    \"data\": \"Data for E\",\n",
      "    \"parent\": \"C\"\n",
      "  },\n",
      "  \"F\": {\n",
      "    \"data\": \"Data for F\",\n",
      "    \"parent\": \"E\"\n",
      "  },\n",
      "  \"H\": {\n",
      "    \"data\": \"Data for H\",\n",
      "    \"parent\": \"B\"\n",
      "  },\n",
      "  \"I\": {\n",
      "    \"data\": \"Data for I\",\n",
      "    \"parent\": \"A\"\n",
      "  },\n",
      "  \"J\": {\n",
      "    \"data\": \"Data for J\",\n",
      "    \"parent\": \"I\"\n",
      "  },\n",
      "  \"M\": {\n",
      "    \"data\": \"Data for M\",\n",
      "    \"parent\": \"C\"\n",
      "  },\n",
      "  \"N\": {\n",
      "    \"data\": \"Data for N\",\n",
      "    \"parent\": \"A\",\n",
      "    \"other_new_data\": \"Some other data for G\"\n",
      "  },\n",
      "  \"O\": {\n",
      "    \"data\": \"Data for O\",\n",
      "    \"parent\": \"A\"\n",
      "  },\n",
      "  \"P\": {\n",
      "    \"data\": \"Data for P\",\n",
      "    \"parent\": \"N\"\n",
      "  },\n",
      "  \"Q\": {\n",
      "    \"data\": \"Data for Q\",\n",
      "    \"parent\": \"N\"\n",
      "  },\n",
      "  \"R\": {\n",
      "    \"data\": \"Data for R\",\n",
      "    \"parent\": \"P\"\n",
      "  },\n",
      "  \"S\": {\n",
      "    \"data\": \"Data for S\",\n",
      "    \"parent\": \"R\"\n",
      "  },\n",
      "  \"T\": {\n",
      "    \"parent\": \"B\",\n",
      "    \"data\": \"Data for T\"\n",
      "  }\n",
      "}\n"
     ]
    }
   ],
   "source": [
    "forest.purge()\n",
    "print(json.dumps(forest, indent=2))"
   ]
  },
  {
   "cell_type": "markdown",
   "metadata": {},
   "source": [
    "\n",
    "We have a fairly complete API for manipulating the forest. Let's explore some\n",
    "additional methods. Let's first create a node itrator to node A, and then access\n",
    "or modify the payload data for node A. Since payload data is mutable, and it\n",
    "must be a dictionary, we can access or modify it using the dict API."
   ]
  },
  {
   "cell_type": "code",
   "execution_count": 151,
   "metadata": {},
   "outputs": [
    {
     "name": "stdout",
     "output_type": "stream",
     "text": [
      "{'new_data': 'Some new data for A', 'other_new_data': 'Some other data for A'}\n"
     ]
    }
   ],
   "source": [
    "forest.node(\"A\").clear()\n",
    "forest.node(\"A\")[\"new_data\"] = \"Some new data for A\"\n",
    "forest.node(\"A\")[\"other_new_data\"] = \"Some other data for A\"\n",
    "print(forest[\"A\"])"
   ]
  },
  {
   "cell_type": "markdown",
   "metadata": {},
   "source": [
    "This is fairly self-expalanatory.\n",
    "\n",
    "Let's add some more nodes without specifying\n",
    "a key name for them, since often we don't care about the key name and it's\n",
    "only for bookkeeping purposes."
   ]
  },
  {
   "cell_type": "code",
   "execution_count": 152,
   "metadata": {},
   "outputs": [
    {
     "data": {
      "text/plain": [
       "FlatForestNode(name=779cc759-36a9-4dae-a1c9-e021d65aa1d4, parent=U, payload={'whatever': 5}, root=A, children=[])"
      ]
     },
     "execution_count": 152,
     "metadata": {},
     "output_type": "execute_result"
    }
   ],
   "source": [
    "forest.root.add_child(whatever=3).add_child(\n",
    "    name=\"U\", whatever=4).add_child(whatever=5)"
   ]
  },
  {
   "cell_type": "code",
   "execution_count": 153,
   "metadata": {},
   "outputs": [
    {
     "data": {
      "text/plain": [
       "FlatForestNode(name=W, parent=A, payload={'whatever': 200}, root=A, children=[])"
      ]
     },
     "execution_count": 153,
     "metadata": {},
     "output_type": "execute_result"
    }
   ],
   "source": [
    "FlatForestNode(whatever=1000, parent=forest.root.children[0])\n",
    "FlatForestNode(name=\"V\", whatever=2000, parent=forest.root.children[0].children[1])\n",
    "FlatForestNode(whatever=3000, more_data=\"yes\", parent=forest.node(\"V\"))\n",
    "FlatForestNode(name=\"W\", parent=forest.root, whatever=200)"
   ]
  },
  {
   "cell_type": "code",
   "execution_count": 154,
   "metadata": {},
   "outputs": [
    {
     "data": {
      "text/markdown": [
       "<pre>A ◄ {'new_data': 'Some new data for A', 'other_new_data': 'Some other data for A'}\n",
       "├───── B ◄ {'data': 'Data for B'}\n",
       "│      ├───── H ◄ {'data': 'Data for H'}\n",
       "│      ├───── T ◄ {'data': 'Data for T'}\n",
       "│      └───── d433395a-27bc-457d-b6d9-c7034d020978 ◄ {'whatever': 1000}\n",
       "├───── C ◄ {'data': 'Data for C'}\n",
       "│      ├───── E ◄ {'data': 'Data for E'}\n",
       "│      │      └───── F ◄ {'data': 'Data for F'}\n",
       "│      └───── M ◄ {'data': 'Data for M'}\n",
       "├───── I ◄ {'data': 'Data for I'}\n",
       "│      └───── J ◄ {'data': 'Data for J'}\n",
       "├───── N ◄ {'data': 'Data for N', 'other_new_data': 'Some other data for G'}\n",
       "│      ├───── P ◄ {'data': 'Data for P'}\n",
       "│      │      └───── R ◄ {'data': 'Data for R'}\n",
       "│      │             └───── S ◄ {'data': 'Data for S'}\n",
       "│      └───── Q ◄ {'data': 'Data for Q'}\n",
       "├───── O ◄ {'data': 'Data for O'}\n",
       "├───── 945ef525-fece-45f0-a499-b5449d28ef1e ◄ {'whatever': 3}\n",
       "│      └───── U ◄ {'whatever': 4} 🔴\n",
       "│             └───── 779cc759-36a9-4dae-a1c9-e021d65aa1d4 ◄ {'whatever': 5}\n",
       "└───── W ◄ {'whatever': 200} ⚫\n",
       "       └───── V ◄ {'whatever': 2000} 🔘\n",
       "              └───── 14e057df-8004-47c3-9415-b7c7235ea4d8 ◄ {'whatever': 3000, 'more_data': 'yes'}\n",
       "</pre>"
      ],
      "text/plain": [
       "<IPython.core.display.Markdown object>"
      ]
     },
     "metadata": {},
     "output_type": "display_data"
    }
   ],
   "source": [
    "forest.node(\"V\").parent = forest.node(\"W\")\n",
    "monotext(pretty_tree(forest.root, mark=[\"U\", \"V\", \"W\"], node_details=lambda n: n.payload))"
   ]
  },
  {
   "cell_type": "markdown",
   "metadata": {},
   "source": [
    "Let's look at some tree conversions. We can convert between different tree\n",
    "representations and data structures."
   ]
  },
  {
   "cell_type": "code",
   "execution_count": 155,
   "metadata": {},
   "outputs": [
    {
     "data": {
      "text/markdown": [
       "<pre>A ◄ {'new_data': 'Some new data for A', 'other_new_data': 'Some other data for A'}\n",
       "├───── B ◄ None\n",
       "│      ├───── H ◄ None\n",
       "│      ├───── T ◄ None\n",
       "│      └───── d433395a-27bc-457d-b6d9-c7034d020978 ◄ None\n",
       "├───── C ◄ None\n",
       "│      ├───── E ◄ None\n",
       "│      │      └───── F ◄ None\n",
       "│      └───── M ◄ None\n",
       "├───── I ◄ None\n",
       "│      └───── J ◄ None\n",
       "├───── N ◄ None\n",
       "│      ├───── P ◄ None\n",
       "│      │      └───── R ◄ None\n",
       "│      │             └───── S ◄ None\n",
       "│      └───── Q ◄ None\n",
       "├───── O ◄ None\n",
       "├───── 945ef525-fece-45f0-a499-b5449d28ef1e ◄ None\n",
       "│      └───── U ◄ None\n",
       "│             └───── 779cc759-36a9-4dae-a1c9-e021d65aa1d4 ◄ None\n",
       "└───── W ◄ None\n",
       "       └───── V ◄ None\n",
       "              └───── 14e057df-8004-47c3-9415-b7c7235ea4d8 ◄ None\n",
       "</pre>"
      ],
      "text/plain": [
       "<IPython.core.display.Markdown object>"
      ]
     },
     "metadata": {},
     "output_type": "display_data"
    }
   ],
   "source": [
    "new_tree = TreeConverter.convert(forest.root, TreeNode)\n",
    "monotext(pretty_tree(new_tree, node_details=lambda n: n.payload))"
   ]
  },
  {
   "cell_type": "markdown",
   "metadata": {},
   "source": [
    "We see that it's a different type of tree, a `TreeNode`, which is a recursive\n",
    "data structure. It models the same tree data, but in a different way. This one\n",
    "is also more flexible, so that it doesn't require unique names or the payload\n",
    "data to be a dictionary - it can be any object or value. This simplicity comes\n",
    "at the cost of not being a dictionary (or view of a dictionary), as FlatForest\n",
    "does."
   ]
  },
  {
   "cell_type": "markdown",
   "metadata": {},
   "source": [
    "We see that it has a very different structure. However, when we pretty-print\n",
    "it using `TreeViz`, we see that it's the same tree."
   ]
  },
  {
   "cell_type": "code",
   "execution_count": 156,
   "metadata": {},
   "outputs": [
    {
     "data": {
      "text/markdown": [
       "<pre>A\n",
       "├───── B\n",
       "│      ├───── H\n",
       "│      ├───── T\n",
       "│      └───── d433395a-27bc-457d-b6d9-c7034d020978\n",
       "├───── C\n",
       "│      ├───── E\n",
       "│      │      └───── F\n",
       "│      └───── M\n",
       "├───── I\n",
       "│      └───── J\n",
       "├───── N\n",
       "│      ├───── P\n",
       "│      │      └───── R\n",
       "│      │             └───── S\n",
       "│      └───── Q\n",
       "├───── O\n",
       "├───── 945ef525-fece-45f0-a499-b5449d28ef1e\n",
       "│      └───── U\n",
       "│             └───── 779cc759-36a9-4dae-a1c9-e021d65aa1d4\n",
       "└───── W\n",
       "       └───── V\n",
       "              └───── 14e057df-8004-47c3-9415-b7c7235ea4d8\n",
       "</pre>"
      ],
      "text/plain": [
       "<IPython.core.display.Markdown object>"
      ]
     },
     "metadata": {},
     "output_type": "display_data"
    },
    {
     "data": {
      "text/markdown": [
       "<pre>A\n",
       "├───── B\n",
       "│      ├───── H\n",
       "│      ├───── T\n",
       "│      └───── d433395a-27bc-457d-b6d9-c7034d020978\n",
       "├───── C\n",
       "│      ├───── E\n",
       "│      │      └───── F\n",
       "│      └───── M\n",
       "├───── I\n",
       "│      └───── J\n",
       "├───── N\n",
       "│      ├───── P\n",
       "│      │      └───── R\n",
       "│      │             └───── S\n",
       "│      └───── Q\n",
       "├───── O\n",
       "├───── 945ef525-fece-45f0-a499-b5449d28ef1e\n",
       "│      └───── U\n",
       "│             └───── 779cc759-36a9-4dae-a1c9-e021d65aa1d4\n",
       "└───── W\n",
       "       └───── V\n",
       "              └───── 14e057df-8004-47c3-9415-b7c7235ea4d8\n",
       "</pre>"
      ],
      "text/plain": [
       "<IPython.core.display.Markdown object>"
      ]
     },
     "metadata": {},
     "output_type": "display_data"
    }
   ],
   "source": [
    "monotext(pretty_tree(forest.root))\n",
    "monotext(pretty_tree(new_tree))"
   ]
  },
  {
   "cell_type": "code",
   "execution_count": 157,
   "metadata": {},
   "outputs": [
    {
     "data": {
      "text/markdown": [
       "<pre>A\n",
       "├───── B\n",
       "│      ├───── H\n",
       "│      ├───── T\n",
       "│      └───── d433395a-27bc-457d-b6d9-c7034d020978\n",
       "├───── C\n",
       "│      ├───── E\n",
       "│      │      └───── F\n",
       "│      └───── M\n",
       "├───── I\n",
       "│      └───── J\n",
       "├───── N\n",
       "│      ├───── P\n",
       "│      │      └───── R\n",
       "│      │             └───── S\n",
       "│      └───── Q\n",
       "├───── O\n",
       "├───── 945ef525-fece-45f0-a499-b5449d28ef1e\n",
       "│      └───── U\n",
       "│             └───── 779cc759-36a9-4dae-a1c9-e021d65aa1d4\n",
       "└───── W\n",
       "       └───── V\n",
       "              └───── 14e057df-8004-47c3-9415-b7c7235ea4d8\n",
       "</pre>"
      ],
      "text/plain": [
       "<IPython.core.display.Markdown object>"
      ]
     },
     "metadata": {},
     "output_type": "display_data"
    },
    {
     "data": {
      "text/markdown": [
       "<pre>A\n",
       "├───── B\n",
       "│      ├───── H\n",
       "│      ├───── T\n",
       "│      └───── d433395a-27bc-457d-b6d9-c7034d020978\n",
       "├───── C\n",
       "│      ├───── E\n",
       "│      │      └───── F\n",
       "│      └───── M\n",
       "├───── I\n",
       "│      └───── J\n",
       "├───── N\n",
       "│      ├───── P\n",
       "│      │      └───── R\n",
       "│      │             └───── S\n",
       "│      └───── Q\n",
       "├───── O\n",
       "├───── 945ef525-fece-45f0-a499-b5449d28ef1e\n",
       "│      └───── U\n",
       "│             └───── 779cc759-36a9-4dae-a1c9-e021d65aa1d4\n",
       "└───── W\n",
       "       └───── V\n",
       "              └───── 14e057df-8004-47c3-9415-b7c7235ea4d8\n",
       "</pre>"
      ],
      "text/plain": [
       "<IPython.core.display.Markdown object>"
      ]
     },
     "metadata": {},
     "output_type": "display_data"
    }
   ],
   "source": [
    "result = TreeConverter.copy_under(new_tree, FlatForestNode(name=\"new_root\"))\n",
    "monotext(pretty_tree(result))\n",
    "result2 = TreeConverter.copy_under(result, new_tree)\n",
    "monotext(pretty_tree(result2))"
   ]
  },
  {
   "cell_type": "markdown",
   "metadata": {},
   "source": [
    "The `TreeNode` is a bit more useful for operations that require recursion, but\n",
    "any tree can support the sae operations. The `TreeNode` is a bit more specialized\n",
    "for this purpose, and the `FlatTree` is a bit more specialized for more general\n",
    "storage and manipulation of data that is tree-like, such as configuration data\n",
    "or log data. See `TreeNode.md` for more information on the `TreeNode` class."
   ]
  },
  {
   "cell_type": "code",
   "execution_count": 158,
   "metadata": {},
   "outputs": [
    {
     "name": "stdout",
     "output_type": "stream",
     "text": [
      "[TreeNode(name=A, parent=root, root=root, payload={'value': 1}, len(children)=0)]\n"
     ]
    }
   ],
   "source": [
    "root = TreeNode(name=\"root\", payload= {\"value\":0}, parent=None)\n",
    "A = TreeNode(name=\"A\", payload={\"value\":1}, parent=root)\n",
    "print(root.children)\n"
   ]
  },
  {
   "cell_type": "code",
   "execution_count": 159,
   "metadata": {},
   "outputs": [
    {
     "data": {
      "text/markdown": [
       "<pre>root ◄ 0\n",
       "├───── A ◄ 1\n",
       "├───── B ◄ 2\n",
       "└───── C ◄ 3\n",
       "       ├───── D ◄ 4\n",
       "       ├───── E ◄ 5\n",
       "       ├───── F ◄ test\n",
       "       │      └───── I ◄ 9\n",
       "       ├───── G ◄ 7\n",
       "       └───── H ◄ ({1: 2}, [3, 4])\n",
       "</pre>"
      ],
      "text/plain": [
       "<IPython.core.display.Markdown object>"
      ]
     },
     "metadata": {},
     "output_type": "display_data"
    }
   ],
   "source": [
    "root2 = TreeNode(name=\"root\", payload=0)\n",
    "A2 = TreeNode(name=\"A\", parent=root2, payload=1)\n",
    "B2 = TreeNode(name=\"B\", parent=root2, payload=2)\n",
    "C2 = TreeNode(name=\"C\", parent=root2, payload=3)\n",
    "D2 = TreeNode(name=\"D\", parent=C2, payload=4)\n",
    "E2 = TreeNode(name=\"E\", parent=C2, payload=5)\n",
    "F2 = TreeNode(name=\"F\", parent=C2, payload=\"test\")\n",
    "G2 = TreeNode(name=\"G\", parent=C2, payload=7)\n",
    "H2 = TreeNode(name=\"H\", parent=C2, payload=({1: 2}, [3, 4]))\n",
    "I2 = TreeNode(name=\"I\", parent=F2, payload=9)\n",
    "monotext(pretty_tree(root2, node_details=lambda n: n.payload))"
   ]
  },
  {
   "cell_type": "markdown",
   "metadata": {},
   "source": [
    "Algorithm Examples\n",
    "------------------\n",
    "\n",
    "Using utility algorithms with `FlatTree` and `FlatTreeNode`:\n",
    "\n",
    "Finding descendants of a node:\n"
   ]
  },
  {
   "cell_type": "code",
   "execution_count": 160,
   "metadata": {},
   "outputs": [
    {
     "name": "stdout",
     "output_type": "stream",
     "text": [
      "[FlatForestNode(name=E, parent=C, payload={'data': 'Data for E'}, root=C, children=['F']),\n",
      " FlatForestNode(name=F, parent=E, payload={'data': 'Data for F'}, root=C, children=[]),\n",
      " FlatForestNode(name=M, parent=C, payload={'data': 'Data for M'}, root=C, children=[])]\n"
     ]
    }
   ],
   "source": [
    "from AlgoTree.utils import *\n",
    "from pprint import pprint\n",
    "pprint(descendants(C))"
   ]
  },
  {
   "cell_type": "markdown",
   "metadata": {},
   "source": [
    "Finding ancestors of a node:"
   ]
  },
  {
   "cell_type": "code",
   "execution_count": 161,
   "metadata": {},
   "outputs": [
    {
     "name": "stdout",
     "output_type": "stream",
     "text": [
      "[TreeNode(name=F, parent=C, root=root, payload=test, len(children)=1),\n",
      " TreeNode(name=C, parent=root, root=root, payload=3, len(children)=5),\n",
      " TreeNode(name=root, root=root, payload=0, len(children)=3)]\n"
     ]
    }
   ],
   "source": [
    "pprint(ancestors(I2))"
   ]
  },
  {
   "cell_type": "markdown",
   "metadata": {},
   "source": [
    "Finding siblings of a node:"
   ]
  },
  {
   "cell_type": "code",
   "execution_count": 162,
   "metadata": {},
   "outputs": [
    {
     "name": "stdout",
     "output_type": "stream",
     "text": [
      "[]\n"
     ]
    }
   ],
   "source": [
    "pprint(siblings(E2))"
   ]
  },
  {
   "cell_type": "markdown",
   "metadata": {},
   "source": [
    "Finding leaves of a node:"
   ]
  },
  {
   "cell_type": "code",
   "execution_count": 163,
   "metadata": {},
   "outputs": [
    {
     "name": "stdout",
     "output_type": "stream",
     "text": [
      "[TreeNode(name=A, parent=root, root=root, payload=1, len(children)=0),\n",
      " TreeNode(name=B, parent=root, root=root, payload=2, len(children)=0),\n",
      " TreeNode(name=D, parent=C, root=root, payload=4, len(children)=0),\n",
      " TreeNode(name=E, parent=C, root=root, payload=5, len(children)=0),\n",
      " TreeNode(name=I, parent=F, root=root, payload=9, len(children)=0),\n",
      " TreeNode(name=G, parent=C, root=root, payload=7, len(children)=0),\n",
      " TreeNode(name=H, parent=C, root=root, payload=({1: 2}, [3, 4]), len(children)=0)]\n"
     ]
    }
   ],
   "source": [
    "pprint(leaves(root2))"
   ]
  },
  {
   "cell_type": "markdown",
   "metadata": {},
   "source": [
    "Finding the height of a tree:"
   ]
  },
  {
   "cell_type": "code",
   "execution_count": 164,
   "metadata": {},
   "outputs": [
    {
     "name": "stdout",
     "output_type": "stream",
     "text": [
      "3\n"
     ]
    }
   ],
   "source": [
    "pprint(height(root2))"
   ]
  },
  {
   "cell_type": "markdown",
   "metadata": {},
   "source": [
    "Finding the depth of a node:"
   ]
  },
  {
   "cell_type": "code",
   "execution_count": 165,
   "metadata": {},
   "outputs": [
    {
     "name": "stdout",
     "output_type": "stream",
     "text": [
      "2\n"
     ]
    }
   ],
   "source": [
    "pprint(depth(F2))"
   ]
  },
  {
   "cell_type": "markdown",
   "metadata": {},
   "source": [
    "Breadth-first traversal:"
   ]
  },
  {
   "cell_type": "code",
   "execution_count": 166,
   "metadata": {},
   "outputs": [
    {
     "name": "stdout",
     "output_type": "stream",
     "text": [
      "Level 0: root\n",
      "Level 1: A\n",
      "Level 1: B\n",
      "Level 1: C\n",
      "Level 2: D\n",
      "Level 2: E\n",
      "Level 2: F\n",
      "Level 2: G\n",
      "Level 2: H\n",
      "Level 3: I\n"
     ]
    },
    {
     "data": {
      "text/plain": [
       "False"
      ]
     },
     "execution_count": 166,
     "metadata": {},
     "output_type": "execute_result"
    }
   ],
   "source": [
    "def print_node(node, level):\n",
    "    print(f\"Level {level}: {node.name}\")\n",
    "    return False\n",
    "\n",
    "breadth_first(root2, print_node)"
   ]
  },
  {
   "cell_type": "code",
   "execution_count": 167,
   "metadata": {},
   "outputs": [
    {
     "name": "stdout",
     "output_type": "stream",
     "text": [
      "{\n",
      "  \"node_info\": {\n",
      "    \"type\": \"<class 'AlgoTree.flat_forest_node.FlatForestNode'>\",\n",
      "    \"name\": \"N\",\n",
      "    \"payload\": {\n",
      "      \"data\": \"Data for N\",\n",
      "      \"other_new_data\": \"Some other data for G\"\n",
      "    },\n",
      "    \"children\": [\n",
      "      \"P\",\n",
      "      \"Q\"\n",
      "    ],\n",
      "    \"parent\": \"A\",\n",
      "    \"depth\": 1,\n",
      "    \"is_root\": false,\n",
      "    \"is_leaf\": false,\n",
      "    \"is_internal\": true,\n",
      "    \"ancestors\": [\n",
      "      \"A\"\n",
      "    ],\n",
      "    \"siblings\": [\n",
      "      \"B\",\n",
      "      \"C\",\n",
      "      \"I\",\n",
      "      \"O\",\n",
      "      \"945ef525-fece-45f0-a499-b5449d28ef1e\",\n",
      "      \"W\"\n",
      "    ],\n",
      "    \"descendants\": [\n",
      "      \"P\",\n",
      "      \"R\",\n",
      "      \"S\",\n",
      "      \"Q\"\n",
      "    ],\n",
      "    \"path\": [\n",
      "      \"A\",\n",
      "      \"N\"\n",
      "    ],\n",
      "    \"root_distance\": 1,\n",
      "    \"leaves_under\": [\n",
      "      \"S\",\n",
      "      \"Q\"\n",
      "    ]\n",
      "  },\n",
      "  \"subtree_info\": {\n",
      "    \"leaves\": [\n",
      "      \"H\",\n",
      "      \"T\",\n",
      "      \"d433395a-27bc-457d-b6d9-c7034d020978\",\n",
      "      \"F\",\n",
      "      \"M\",\n",
      "      \"J\",\n",
      "      \"S\",\n",
      "      \"Q\",\n",
      "      \"O\",\n",
      "      \"779cc759-36a9-4dae-a1c9-e021d65aa1d4\",\n",
      "      \"14e057df-8004-47c3-9415-b7c7235ea4d8\"\n",
      "    ],\n",
      "    \"height\": 3,\n",
      "    \"root\": \"A\",\n",
      "    \"size\": 5\n",
      "  }\n",
      "}\n"
     ]
    }
   ],
   "source": [
    "print(json.dumps(utils.node_stats(forest.node(\"N\")), indent=2))"
   ]
  },
  {
   "cell_type": "markdown",
   "metadata": {},
   "source": [
    "Mapping a function over the nodes:"
   ]
  },
  {
   "cell_type": "code",
   "execution_count": 168,
   "metadata": {},
   "outputs": [
    {
     "data": {
      "text/markdown": [
       "<pre>A\n",
       "├───── B\n",
       "│      ├───── H\n",
       "│      ├───── T\n",
       "│      └───── d433395a-27bc-457d-b6d9-c7034d020978\n",
       "├───── C\n",
       "│      ├───── E\n",
       "│      │      └───── F\n",
       "│      └───── M\n",
       "├───── N\n",
       "│      ├───── P\n",
       "│      │      └───── R\n",
       "│      │             └───── S\n",
       "│      └───── Q\n",
       "└───── O\n",
       "</pre>"
      ],
      "text/plain": [
       "<IPython.core.display.Markdown object>"
      ]
     },
     "metadata": {},
     "output_type": "display_data"
    },
    {
     "data": {
      "text/markdown": [
       "<pre>A\n",
       "├───── B\n",
       "│      ├───── H\n",
       "│      ├───── T\n",
       "│      └───── d433395a-27bc-457d-b6d9-c7034d020978\n",
       "├───── C\n",
       "│      ├───── E\n",
       "│      │      └───── F\n",
       "│      └───── M\n",
       "├───── I\n",
       "│      └───── J\n",
       "├───── N\n",
       "│      ├───── P\n",
       "│      │      └───── R\n",
       "│      │             └───── S\n",
       "│      └───── Q\n",
       "├───── O\n",
       "├───── 945ef525-fece-45f0-a499-b5449d28ef1e\n",
       "│      └───── U\n",
       "│             └───── 779cc759-36a9-4dae-a1c9-e021d65aa1d4\n",
       "└───── W\n",
       "       └───── V\n",
       "              └───── 14e057df-8004-47c3-9415-b7c7235ea4d8\n",
       "</pre>"
      ],
      "text/plain": [
       "<IPython.core.display.Markdown object>"
      ]
     },
     "metadata": {},
     "output_type": "display_data"
    }
   ],
   "source": [
    "def add_prefix(node):\n",
    "    if node is None:\n",
    "        return None\n",
    "    elif node.name == \"D\":\n",
    "        # add Q and R as children of D\n",
    "        node.add_child(name=\"Q\", value=41)\n",
    "        node.add_child(name=\"R\", value=42)\n",
    "    elif node.name == \"I\" or node.name == \"W\":\n",
    "        # delete I by returning None (i.e. don't add it to the new tree)\n",
    "        return None\n",
    "    elif \"U\" in [child.name for child in node.children]:\n",
    "        return None\n",
    "    return node\n",
    "\n",
    "root_mapped = map(deepcopy(forest.root), add_prefix)\n",
    "\n",
    "monotext(pretty_tree(root_mapped))\n",
    "\n",
    "monotext(pretty_tree(forest.root))"
   ]
  },
  {
   "cell_type": "markdown",
   "metadata": {},
   "source": [
    "Pruning nodes based on a predicate:"
   ]
  },
  {
   "cell_type": "code",
   "execution_count": 169,
   "metadata": {},
   "outputs": [
    {
     "data": {
      "text/markdown": [
       "<pre>root\n",
       "├───── A\n",
       "├───── B\n",
       "└───── C\n",
       "       ├───── D\n",
       "       ├───── E\n",
       "       ├───── F\n",
       "       │      └───── I\n",
       "       ├───── G\n",
       "       └───── H\n",
       "</pre>"
      ],
      "text/plain": [
       "<IPython.core.display.Markdown object>"
      ]
     },
     "metadata": {},
     "output_type": "display_data"
    },
    {
     "data": {
      "text/markdown": [
       "<pre>root\n",
       "├───── B\n",
       "└───── C\n",
       "       ├───── D\n",
       "       ├───── E\n",
       "       ├───── F\n",
       "       │      └───── I\n",
       "       ├───── G\n",
       "       └───── H\n",
       "</pre>"
      ],
      "text/plain": [
       "<IPython.core.display.Markdown object>"
      ]
     },
     "metadata": {},
     "output_type": "display_data"
    }
   ],
   "source": [
    "\n",
    "def should_prune(node):\n",
    "    return node.name == \"A\"\n",
    "\n",
    "monotext(pretty_tree(root2))\n",
    "pruned_tree = prune(root2, should_prune)\n",
    "monotext(pretty_tree(pruned_tree))"
   ]
  },
  {
   "cell_type": "markdown",
   "metadata": {},
   "source": [
    "Finding root-to-leaf paths:"
   ]
  },
  {
   "cell_type": "code",
   "execution_count": 170,
   "metadata": {},
   "outputs": [
    {
     "name": "stdout",
     "output_type": "stream",
     "text": [
      "[TreeNode(name=root, root=root, payload={'value': 0}, len(children)=1),\n",
      " TreeNode(name=A, parent=root, root=root, payload={'value': 1}, len(children)=0)]\n",
      "True\n"
     ]
    }
   ],
   "source": [
    "from pprint import pprint\n",
    "paths = node_to_leaf_paths(root)\n",
    "# print max path length from root to leaf\n",
    "pprint(max(paths, key=len))\n",
    "print(utils.height(root) == len(max(paths, key=len)) - 1)\n"
   ]
  },
  {
   "cell_type": "markdown",
   "metadata": {},
   "source": [
    "Converting paths to a tree:"
   ]
  },
  {
   "cell_type": "code",
   "execution_count": 171,
   "metadata": {},
   "outputs": [
    {
     "data": {
      "text/markdown": [
       "<pre>a\n",
       "├───── b\n",
       "│      ├───── c\n",
       "│      └───── d\n",
       "├───── e\n",
       "│      ├───── d_0\n",
       "│      ├───── g\n",
       "│      └───── h\n",
       "├───── f\n",
       "│      └───── d_1\n",
       "└───── i\n",
       "       └───── j\n",
       "              ├───── b_0\n",
       "              │      └───── m\n",
       "              └───── l\n",
       "                     └───── b_1\n",
       "                            └───── b_2\n",
       "                                   └───── b_3\n",
       "                                          └───── b_4\n",
       "                                                 └───── b_5\n",
       "                                                        └───── b_6\n",
       "                                                               └───── t\n",
       "                                                                      └───── u\n",
       "                                                                             └───── v\n",
       "                                                                                    └───── w\n",
       "                                                                                           └───── x\n",
       "                                                                                                  └───── y\n",
       "                                                                                                         └───── b_7\n",
       "</pre>"
      ],
      "text/plain": [
       "<IPython.core.display.Markdown object>"
      ]
     },
     "metadata": {},
     "output_type": "display_data"
    }
   ],
   "source": [
    "rooter = paths_to_tree([[\"a\", \"b\", \"c\"], [\"a\", \"b\", \"d\"], [\"a\", \"e\", \"d\"],\n",
    "                        [\"a\", \"f\", \"d\"], [\"a\", \"e\", \"g\" ], [\"a\", \"e\", \"h\"],\n",
    "                        [\"a\", \"i\", \"j\", \"b\"], [\"a\", \"i\", \"j\", \"b\", \"m\"],\n",
    "                        [\"a\", \"i\", \"j\", \"l\", \"b\", \"b\", \"b\", \"b\", \"b\", \"b\", \"t\", \"u\", \"v\", \"w\", \"x\", \"y\", \"b\"]],\n",
    "                        FlatForestNode)\n",
    "monotext(pretty_tree(rooter))"
   ]
  },
  {
   "cell_type": "code",
   "execution_count": 172,
   "metadata": {},
   "outputs": [
    {
     "name": "stdout",
     "output_type": "stream",
     "text": [
      "2\n",
      "['a', 'i', 'j', 'b_0']\n",
      "['j', 'i', 'a']\n",
      "[]\n",
      "False\n"
     ]
    }
   ],
   "source": [
    "from AlgoTree.utils import depth, path, ancestors, siblings, is_root\n",
    "A = rooter.node(\"i\")\n",
    "pretty_tree(A)\n",
    "print(depth(A.children[0]))\n",
    "print([n.name for n in path(A.children[0].children[0])])\n",
    "print([n.name for n in ancestors(A.children[0].children[0])])\n",
    "print(siblings(A.children[0]))\n",
    "print(is_root(A))"
   ]
  },
  {
   "cell_type": "code",
   "execution_count": 173,
   "metadata": {},
   "outputs": [
    {
     "data": {
      "text/markdown": [
       "<pre>A\n",
       "├───── B\n",
       "└───── C\n",
       "       ├───── D\n",
       "       └───── E\n",
       "</pre>"
      ],
      "text/plain": [
       "<IPython.core.display.Markdown object>"
      ]
     },
     "metadata": {},
     "output_type": "display_data"
    }
   ],
   "source": [
    "treenode = TreeNode(name=\"A\")\n",
    "TreeNode(name=\"B\", parent=treenode)\n",
    "C = TreeNode(name=\"C\", parent=treenode)\n",
    "TreeNode(name=\"D\", parent=C)\n",
    "TreeNode(name=\"E\", parent=C)\n",
    "\n",
    "monotext(pretty_tree(treenode))"
   ]
  },
  {
   "cell_type": "code",
   "execution_count": 174,
   "metadata": {},
   "outputs": [
    {
     "name": "stdout",
     "output_type": "stream",
     "text": [
      "{\n",
      "  \"name\": \"A\",\n",
      "  \"value\": 1,\n",
      "  \"children\": [\n",
      "    {\n",
      "      \"name\": \"B\"\n",
      "    },\n",
      "    {\n",
      "      \"name\": \"C\",\n",
      "      \"children\": [\n",
      "        {\n",
      "          \"name\": \"D\"\n",
      "        },\n",
      "        {\n",
      "          \"name\": \"E\"\n",
      "        }\n",
      "      ]\n",
      "    }\n",
      "  ]\n",
      "}\n",
      "{\n",
      "  \"name\": \"A\",\n",
      "  \"payload\": null,\n",
      "  \"children\": [\n",
      "    {\n",
      "      \"name\": \"B\",\n",
      "      \"payload\": null,\n",
      "      \"children\": []\n",
      "    },\n",
      "    {\n",
      "      \"name\": \"C\",\n",
      "      \"payload\": null,\n",
      "      \"children\": [\n",
      "        {\n",
      "          \"name\": \"D\",\n",
      "          \"payload\": null,\n",
      "          \"children\": []\n",
      "        },\n",
      "        {\n",
      "          \"name\": \"E\",\n",
      "          \"payload\": null,\n",
      "          \"children\": []\n",
      "        }\n",
      "      ]\n",
      "    }\n",
      "  ]\n",
      "}\n"
     ]
    }
   ],
   "source": [
    "treenode_dict = {\n",
    "    \"name\": \"A\",\n",
    "    \"value\": 1,\n",
    "    \"children\": [\n",
    "        {\"name\": \"B\"},\n",
    "        {\"name\": \"C\", \"children\": [\n",
    "            {\"name\": \"D\"},\n",
    "            {\"name\": \"E\"}\n",
    "        ]}\n",
    "    ]}\n",
    "\n",
    "print(json.dumps(treenode_dict, indent=2))\n",
    "print(json.dumps(treenode.to_dict(), indent=2))"
   ]
  },
  {
   "cell_type": "code",
   "execution_count": 175,
   "metadata": {},
   "outputs": [
    {
     "data": {
      "text/markdown": [
       "<pre>A\n",
       "├───── B\n",
       "└───── C\n",
       "       ├───── D\n",
       "       └───── E\n",
       "</pre>"
      ],
      "text/plain": [
       "<IPython.core.display.Markdown object>"
      ]
     },
     "metadata": {},
     "output_type": "display_data"
    },
    {
     "name": "stdout",
     "output_type": "stream",
     "text": [
      "True\n"
     ]
    }
   ],
   "source": [
    "treenode_from_dict = TreeNode.from_dict(treenode_dict)\n",
    "monotext(pretty_tree(treenode_from_dict))\n",
    "print(treenode_from_dict == treenode)"
   ]
  },
  {
   "cell_type": "markdown",
   "metadata": {},
   "source": [
    "\n",
    "Conclusion\n",
    "----------\n",
    "\n",
    "The `FlatForest` class provides a powerful and flexible way to work with tree-like\n",
    "and forest-like data structures using a flat dictionary structure. It supports a\n",
    "wide range of operations, including node manipulation, tree traversal, detachment, pruning, and conversion between different tree representations.\n",
    "\n",
    "Explore the `AlgoTree` package further to discover more features and utilities for working with trees in Python."
   ]
  }
 ],
 "metadata": {
  "kernelspec": {
   "display_name": "env",
   "language": "python",
   "name": "python3"
  },
  "language_info": {
   "codemirror_mode": {
    "name": "ipython",
    "version": 3
   },
   "file_extension": ".py",
   "mimetype": "text/x-python",
   "name": "python",
   "nbconvert_exporter": "python",
   "pygments_lexer": "ipython3",
   "version": "3.12.3"
  }
 },
 "nbformat": 4,
 "nbformat_minor": 2
}
